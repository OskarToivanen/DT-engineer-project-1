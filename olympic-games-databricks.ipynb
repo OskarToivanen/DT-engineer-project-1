{
 "cells": [
  {
   "cell_type": "code",
   "execution_count": 0,
   "metadata": {
    "application/vnd.databricks.v1+cell": {
     "cellMetadata": {
      "byteLimit": 2048000,
      "rowLimit": 10000
     },
     "inputWidgets": {},
     "nuid": "9322eda7-0e5a-4c6e-9392-66d902fa97e8",
     "showTitle": false,
     "title": ""
    }
   },
   "outputs": [
    {
     "output_type": "display_data",
     "data": {
      "text/html": [
       "<style scoped>\n",
       "  .table-result-container {\n",
       "    max-height: 300px;\n",
       "    overflow: auto;\n",
       "  }\n",
       "  table, th, td {\n",
       "    border: 1px solid black;\n",
       "    border-collapse: collapse;\n",
       "  }\n",
       "  th, td {\n",
       "    padding: 5px;\n",
       "  }\n",
       "  th {\n",
       "    text-align: left;\n",
       "  }\n",
       "</style><div class='table-result-container'><table class='table-result'><thead style='background-color: white'><tr><th>path</th><th>name</th><th>size</th><th>modificationTime</th></tr></thead><tbody><tr><td>dbfs:/mnt/olympicgames/raw-data/</td><td>raw-data/</td><td>0</td><td>1722532626000</td></tr><tr><td>dbfs:/mnt/olympicgames/transformed-data/</td><td>transformed-data/</td><td>0</td><td>1722532637000</td></tr></tbody></table></div>"
      ]
     },
     "metadata": {
      "application/vnd.databricks.v1+output": {
       "addedWidgets": {},
       "aggData": [],
       "aggError": "",
       "aggOverflow": false,
       "aggSchema": [],
       "aggSeriesLimitReached": false,
       "aggType": "",
       "arguments": {},
       "columnCustomDisplayInfos": {},
       "data": [
        [
         "dbfs:/mnt/olympicgames/raw-data/",
         "raw-data/",
         0,
         1722532626000
        ],
        [
         "dbfs:/mnt/olympicgames/transformed-data/",
         "transformed-data/",
         0,
         1722532637000
        ]
       ],
       "datasetInfos": [],
       "dbfsResultPath": null,
       "isJsonSchema": true,
       "metadata": {
        "isDbfsCommandResult": false
       },
       "overflow": false,
       "plotOptions": {
        "customPlotOptions": {},
        "displayType": "table",
        "pivotAggregation": null,
        "pivotColumns": null,
        "xColumns": null,
        "yColumns": null
       },
       "removedWidgets": [],
       "schema": [
        {
         "metadata": "{}",
         "name": "path",
         "type": "\"string\""
        },
        {
         "metadata": "{}",
         "name": "name",
         "type": "\"string\""
        },
        {
         "metadata": "{}",
         "name": "size",
         "type": "\"long\""
        },
        {
         "metadata": "{}",
         "name": "modificationTime",
         "type": "\"long\""
        }
       ],
       "type": "table"
      }
     },
     "output_type": "display_data"
    }
   ],
   "source": [
    "%fs\n",
    "ls \"/mnt/olympicgames\""
   ]
  },
  {
   "cell_type": "code",
   "execution_count": 0,
   "metadata": {
    "application/vnd.databricks.v1+cell": {
     "cellMetadata": {
      "byteLimit": 2048000,
      "rowLimit": 10000
     },
     "inputWidgets": {},
     "nuid": "a122c033-4ae5-484e-9be1-a048ca6c480f",
     "showTitle": false,
     "title": ""
    }
   },
   "outputs": [],
   "source": [
    "raw_data_path = \"/mnt/olympicgames/raw-data\"\n",
    "transformed_data_path = \"/mnt/olympicgames/transformed-data/\"\n",
    "\n",
    "athletes_df = spark.read.csv(f\"{raw_data_path}/Athletes.csv\", header=True, inferSchema=True)\n",
    "coaches_df = spark.read.csv(f\"{raw_data_path}/Coaches.csv\", header=True, inferSchema=True)\n",
    "entries_gender_df = spark.read.csv(f\"{raw_data_path}/EntriesGender.csv\", header=True, inferSchema=True)\n",
    "medals_df = spark.read.csv(f\"{raw_data_path}/Medals.csv\", header=True, inferSchema=True)\n",
    "teams_df = spark.read.csv(f\"{raw_data_path}/Teams.csv\", header=True, inferSchema=True)"
   ]
  },
  {
   "cell_type": "code",
   "execution_count": 0,
   "metadata": {
    "application/vnd.databricks.v1+cell": {
     "cellMetadata": {
      "byteLimit": 2048000,
      "rowLimit": 10000
     },
     "inputWidgets": {},
     "nuid": "1e2488d5-e04e-45e9-b68a-3119c264e506",
     "showTitle": false,
     "title": ""
    }
   },
   "outputs": [],
   "source": [
    "filtered_athletes_df = athletes_df.filter(col(\"Discipline\") == \"Athletics\")"
   ]
  },
  {
   "cell_type": "code",
   "execution_count": 0,
   "metadata": {
    "application/vnd.databricks.v1+cell": {
     "cellMetadata": {
      "byteLimit": 2048000,
      "rowLimit": 10000
     },
     "inputWidgets": {},
     "nuid": "1d4bf491-fa74-44c9-a6e1-1743e5d7ebff",
     "showTitle": false,
     "title": ""
    }
   },
   "outputs": [],
   "source": [
    "medal_counts_df = medals_df.groupBy(\"Team/NOC\").agg(\n",
    "    _sum(\"Gold\").alias(\"TotalGold\"),\n",
    "    _sum(\"Silver\").alias(\"TotalSilver\"),\n",
    "    _sum(\"Bronze\").alias(\"TotalBronze\"),\n",
    "    _sum(\"Total\").alias(\"TotalMedals\")\n",
    ")"
   ]
  },
  {
   "cell_type": "code",
   "execution_count": 0,
   "metadata": {
    "application/vnd.databricks.v1+cell": {
     "cellMetadata": {
      "byteLimit": 2048000,
      "rowLimit": 10000
     },
     "inputWidgets": {},
     "nuid": "521cb174-b927-49da-bb91-50c19247cf9c",
     "showTitle": false,
     "title": ""
    }
   },
   "outputs": [],
   "source": [
    "athletes_medals_df = filtered_athletes_df.join(medal_counts_df, filtered_athletes_df[\"NOC\"] == medal_counts_df[\"Team/NOC\"], \"inner\")"
   ]
  },
  {
   "cell_type": "code",
   "execution_count": 0,
   "metadata": {
    "application/vnd.databricks.v1+cell": {
     "cellMetadata": {
      "byteLimit": 2048000,
      "rowLimit": 10000
     },
     "inputWidgets": {},
     "nuid": "95b90607-3f16-4a84-923b-5a8bf367ea3b",
     "showTitle": false,
     "title": ""
    }
   },
   "outputs": [],
   "source": [
    "athletes_medals_df.write.csv(f\"{transformed_data_path}/AthletesMedals.csv\", header=True, mode=\"overwrite\")\n",
    "medal_counts_df.write.csv(f\"{transformed_data_path}/MedalCounts.csv\", header=True, mode=\"overwrite\")"
   ]
  },
  {
   "cell_type": "code",
   "execution_count": 0,
   "metadata": {
    "application/vnd.databricks.v1+cell": {
     "cellMetadata": {
      "byteLimit": 2048000,
      "rowLimit": 10000
     },
     "inputWidgets": {},
     "nuid": "77c83c16-4b2a-4177-bc38-d4131029fa81",
     "showTitle": false,
     "title": ""
    }
   },
   "outputs": [
    {
     "output_type": "display_data",
     "data": {
      "text/html": [
       "<style scoped>\n",
       "  .table-result-container {\n",
       "    max-height: 300px;\n",
       "    overflow: auto;\n",
       "  }\n",
       "  table, th, td {\n",
       "    border: 1px solid black;\n",
       "    border-collapse: collapse;\n",
       "  }\n",
       "  th, td {\n",
       "    padding: 5px;\n",
       "  }\n",
       "  th {\n",
       "    text-align: left;\n",
       "  }\n",
       "</style><div class='table-result-container'><table class='table-result'><thead style='background-color: white'><tr><th>Name</th><th>NOC</th><th>Discipline</th><th>Team/NOC</th><th>TotalGold</th><th>TotalSilver</th><th>TotalBronze</th><th>TotalMedals</th></tr></thead><tbody><tr><td>ABDALLA Abubaker Haydar</td><td>Qatar</td><td>Athletics</td><td>Qatar</td><td>2</td><td>0</td><td>1</td><td>3</td></tr><tr><td>ABDELRAHMAN Ihab</td><td>Egypt</td><td>Athletics</td><td>Egypt</td><td>1</td><td>1</td><td>4</td><td>6</td></tr><tr><td>ABDELWAHED Ahmed</td><td>Italy</td><td>Athletics</td><td>Italy</td><td>10</td><td>10</td><td>20</td><td>40</td></tr><tr><td>ABDI Bashir</td><td>Belgium</td><td>Athletics</td><td>Belgium</td><td>3</td><td>1</td><td>3</td><td>7</td></tr><tr><td>ABDIRAHMAN Abdi</td><td>United States of America</td><td>Athletics</td><td>United States of America</td><td>39</td><td>41</td><td>33</td><td>113</td></tr><tr><td>ABE Takatoshi</td><td>Japan</td><td>Athletics</td><td>Japan</td><td>27</td><td>14</td><td>17</td><td>58</td></tr><tr><td>ABEBE Mekides</td><td>Ethiopia</td><td>Athletics</td><td>Ethiopia</td><td>1</td><td>1</td><td>2</td><td>4</td></tr><tr><td>ABRAHAM Tadesse</td><td>Switzerland</td><td>Athletics</td><td>Switzerland</td><td>3</td><td>4</td><td>6</td><td>13</td></tr><tr><td>ABRAMYAN Benik</td><td>Georgia</td><td>Athletics</td><td>Georgia</td><td>2</td><td>5</td><td>1</td><td>8</td></tr><tr><td>ABUAKU Joshua</td><td>Germany</td><td>Athletics</td><td>Germany</td><td>10</td><td>11</td><td>16</td><td>37</td></tr><tr><td>ACETI Vladimir</td><td>Italy</td><td>Athletics</td><td>Italy</td><td>10</td><td>10</td><td>20</td><td>40</td></tr><tr><td>ADAMEK Klaudia</td><td>Poland</td><td>Athletics</td><td>Poland</td><td>4</td><td>5</td><td>5</td><td>14</td></tr><tr><td>ADAMS Liam</td><td>Australia</td><td>Athletics</td><td>Australia</td><td>17</td><td>7</td><td>22</td><td>46</td></tr><tr><td>ADAO de SA Mateus Daniel</td><td>Brazil</td><td>Athletics</td><td>Brazil</td><td>7</td><td>6</td><td>8</td><td>21</td></tr><tr><td>ADEGOKE Enoch</td><td>Nigeria</td><td>Athletics</td><td>Nigeria</td><td>0</td><td>1</td><td>1</td><td>2</td></tr><tr><td>AGARD Terrence</td><td>Netherlands</td><td>Athletics</td><td>Netherlands</td><td>10</td><td>12</td><td>14</td><td>36</td></tr><tr><td>AGHASYAN Levon</td><td>Armenia</td><td>Athletics</td><td>Armenia</td><td>0</td><td>2</td><td>2</td><td>4</td></tr><tr><td>AGRALI Yavuz</td><td>Turkey</td><td>Athletics</td><td>Turkey</td><td>2</td><td>2</td><td>9</td><td>13</td></tr><tr><td>AGRUSTI Andrea</td><td>Italy</td><td>Athletics</td><td>Italy</td><td>10</td><td>10</td><td>20</td><td>40</td></tr><tr><td>AGUILAR Evelis Jazmin</td><td>Colombia</td><td>Athletics</td><td>Colombia</td><td>0</td><td>4</td><td>1</td><td>5</td></tr><tr><td>AHMED Mohammed</td><td>Canada</td><td>Athletics</td><td>Canada</td><td>7</td><td>6</td><td>11</td><td>24</td></tr><tr><td>AHOURE Murielle</td><td>Côte d'Ivoire</td><td>Athletics</td><td>Côte d'Ivoire</td><td>0</td><td>0</td><td>1</td><td>1</td></tr><tr><td>AIZAWA Akira</td><td>Japan</td><td>Athletics</td><td>Japan</td><td>27</td><td>14</td><td>17</td><td>58</td></tr><tr><td>AJAYI Yinka</td><td>Nigeria</td><td>Athletics</td><td>Nigeria</td><td>0</td><td>1</td><td>1</td><td>2</td></tr><tr><td>AKIMENKO Mikhail</td><td>ROC</td><td>Athletics</td><td>ROC</td><td>20</td><td>28</td><td>23</td><td>71</td></tr><tr><td>AL MANWARI Bashair Obaid</td><td>Qatar</td><td>Athletics</td><td>Qatar</td><td>2</td><td>0</td><td>1</td><td>3</td></tr><tr><td>AL YASSIN Mazen Moutan</td><td>Saudi Arabia</td><td>Athletics</td><td>Saudi Arabia</td><td>0</td><td>1</td><td>0</td><td>1</td></tr><tr><td>ALDABBAGH Yasmeen</td><td>Saudi Arabia</td><td>Athletics</td><td>Saudi Arabia</td><td>0</td><td>1</td><td>0</td><td>1</td></tr><tr><td>ALEMU Habitam</td><td>Ethiopia</td><td>Athletics</td><td>Ethiopia</td><td>1</td><td>1</td><td>2</td><td>4</td></tr><tr><td>ALKANA Antonio</td><td>South Africa</td><td>Athletics</td><td>South Africa</td><td>1</td><td>2</td><td>0</td><td>3</td></tr><tr><td>ALLEN Devon</td><td>United States of America</td><td>Athletics</td><td>United States of America</td><td>39</td><td>41</td><td>33</td><td>113</td></tr><tr><td>ALLEN Nathon</td><td>Jamaica</td><td>Athletics</td><td>Jamaica</td><td>4</td><td>1</td><td>4</td><td>9</td></tr><tr><td>ALLMAN Valarie</td><td>United States of America</td><td>Athletics</td><td>United States of America</td><td>39</td><td>41</td><td>33</td><td>113</td></tr><tr><td>ALMANZA Rose Mary</td><td>Cuba</td><td>Athletics</td><td>Cuba</td><td>7</td><td>3</td><td>5</td><td>15</td></tr><tr><td>ALMAS Deniz</td><td>Germany</td><td>Athletics</td><td>Germany</td><td>10</td><td>11</td><td>16</td><td>37</td></tr><tr><td>ALMAYA Haimro</td><td>Israel</td><td>Athletics</td><td>Israel</td><td>2</td><td>0</td><td>2</td><td>4</td></tr><tr><td>ALSHAMMARI Mudhawi</td><td>Kuwait</td><td>Athletics</td><td>Kuwait</td><td>0</td><td>0</td><td>1</td><td>1</td></tr><tr><td>ALYOUHA Yaqoub</td><td>Kuwait</td><td>Athletics</td><td>Kuwait</td><td>0</td><td>0</td><td>1</td><td>1</td></tr><tr><td>AMARE Girmaw</td><td>Israel</td><td>Athletics</td><td>Israel</td><td>2</td><td>0</td><td>2</td><td>4</td></tr><tr><td>AMB Kim</td><td>Sweden</td><td>Athletics</td><td>Sweden</td><td>3</td><td>6</td><td>0</td><td>9</td></tr><tr><td>AMDOUNI Morhad</td><td>France</td><td>Athletics</td><td>France</td><td>10</td><td>12</td><td>11</td><td>33</td></tr><tr><td>AMOAH Joseph Paul</td><td>Ghana</td><td>Athletics</td><td>Ghana</td><td>0</td><td>0</td><td>1</td><td>1</td></tr><tr><td>AMORES CARUA Jhonatan Javier</td><td>Ecuador</td><td>Athletics</td><td>Ecuador</td><td>2</td><td>1</td><td>0</td><td>3</td></tr><tr><td>AMOS Nijel</td><td>Botswana</td><td>Athletics</td><td>Botswana</td><td>0</td><td>0</td><td>1</td><td>1</td></tr><tr><td>AMUSAN Tobi</td><td>Nigeria</td><td>Athletics</td><td>Nigeria</td><td>0</td><td>1</td><td>1</td><td>2</td></tr><tr><td>AN Seulki</td><td>Republic of Korea</td><td>Athletics</td><td>Republic of Korea</td><td>6</td><td>4</td><td>10</td><td>20</td></tr><tr><td>ANAGNOSTOPOULOU Chrysoula</td><td>Greece</td><td>Athletics</td><td>Greece</td><td>2</td><td>1</td><td>1</td><td>4</td></tr><tr><td>ANASTASAKIS Michail</td><td>Greece</td><td>Athletics</td><td>Greece</td><td>2</td><td>1</td><td>1</td><td>4</td></tr><tr><td>ANDERSEN Brooke</td><td>United States of America</td><td>Athletics</td><td>United States of America</td><td>39</td><td>41</td><td>33</td><td>113</td></tr><tr><td>ANDERSON Britany</td><td>Jamaica</td><td>Athletics</td><td>Jamaica</td><td>4</td><td>1</td><td>4</td><td>9</td></tr><tr><td>ANDERSON Doneisha</td><td>Bahamas</td><td>Athletics</td><td>Bahamas</td><td>2</td><td>0</td><td>0</td><td>2</td></tr><tr><td>ANDERSON Shae</td><td>United States of America</td><td>Athletics</td><td>United States of America</td><td>39</td><td>41</td><td>33</td><td>113</td></tr><tr><td>ANDO Yuka</td><td>Japan</td><td>Athletics</td><td>Japan</td><td>27</td><td>14</td><td>17</td><td>58</td></tr><tr><td>ANDRE Thiago</td><td>Brazil</td><td>Athletics</td><td>Brazil</td><td>7</td><td>6</td><td>8</td><td>21</td></tr><tr><td>ANDREEVA Iuliia</td><td>Kyrgyzstan</td><td>Athletics</td><td>Kyrgyzstan</td><td>0</td><td>2</td><td>1</td><td>3</td></tr><tr><td>ANDREJCZYK Maria</td><td>Poland</td><td>Athletics</td><td>Poland</td><td>4</td><td>5</td><td>5</td><td>14</td></tr><tr><td>ANGELA Ramsey</td><td>Netherlands</td><td>Athletics</td><td>Netherlands</td><td>10</td><td>12</td><td>14</td><td>36</td></tr><tr><td>ANGULO Yuliana</td><td>Ecuador</td><td>Athletics</td><td>Ecuador</td><td>2</td><td>1</td><td>0</td><td>3</td></tr><tr><td>ANNE Mame-Ibra</td><td>France</td><td>Athletics</td><td>France</td><td>10</td><td>12</td><td>11</td><td>33</td></tr><tr><td>ANSAH Owen</td><td>Germany</td><td>Athletics</td><td>Germany</td><td>10</td><td>11</td><td>16</td><td>37</td></tr><tr><td>ANSAH Sarfo</td><td>Ghana</td><td>Athletics</td><td>Ghana</td><td>0</td><td>0</td><td>1</td><td>1</td></tr><tr><td>ANSAH-PEPRAH Lucas</td><td>Germany</td><td>Athletics</td><td>Germany</td><td>10</td><td>11</td><td>16</td><td>37</td></tr><tr><td>ANTONY Alex</td><td>India</td><td>Athletics</td><td>India</td><td>1</td><td>2</td><td>4</td><td>7</td></tr><tr><td>AOKI Masumi</td><td>Japan</td><td>Athletics</td><td>Japan</td><td>27</td><td>14</td><td>17</td><td>58</td></tr><tr><td>AOKI Ryoma</td><td>Japan</td><td>Athletics</td><td>Japan</td><td>27</td><td>14</td><td>17</td><td>58</td></tr><tr><td>AOYAMA Hanae</td><td>Japan</td><td>Athletics</td><td>Japan</td><td>27</td><td>14</td><td>17</td><td>58</td></tr><tr><td>APAK Esref</td><td>Turkey</td><td>Athletics</td><td>Turkey</td><td>2</td><td>2</td><td>9</td><td>13</td></tr><tr><td>AQUILLA Adelaide</td><td>United States of America</td><td>Athletics</td><td>United States of America</td><td>39</td><td>41</td><td>33</td><td>113</td></tr><tr><td>ARAFI Rababe</td><td>Morocco</td><td>Athletics</td><td>Morocco</td><td>1</td><td>0</td><td>0</td><td>1</td></tr><tr><td>ARBE Joaquin</td><td>Argentina</td><td>Athletics</td><td>Argentina</td><td>0</td><td>1</td><td>2</td><td>3</td></tr><tr><td>ARCANJO Geisa</td><td>Brazil</td><td>Athletics</td><td>Brazil</td><td>7</td><td>6</td><td>8</td><td>21</td></tr><tr><td>ARCE Daniel</td><td>Spain</td><td>Athletics</td><td>Spain</td><td>3</td><td>8</td><td>6</td><td>17</td></tr><tr><td>AREGAWI Berihu</td><td>Ethiopia</td><td>Athletics</td><td>Ethiopia</td><td>1</td><td>1</td><td>2</td><td>4</td></tr><tr><td>ARENAS Julio</td><td>Spain</td><td>Athletics</td><td>Spain</td><td>3</td><td>8</td><td>6</td><td>17</td></tr><tr><td>ARENAS Sandra Lorena</td><td>Colombia</td><td>Athletics</td><td>Colombia</td><td>0</td><td>4</td><td>1</td><td>5</td></tr><tr><td>AREVALO Eider</td><td>Colombia</td><td>Athletics</td><td>Colombia</td><td>0</td><td>4</td><td>1</td><td>5</td></tr><tr><td>ARIKAN Polat Kemboi</td><td>Turkey</td><td>Athletics</td><td>Turkey</td><td>2</td><td>2</td><td>9</td><td>13</td></tr><tr><td>AROP Marco</td><td>Canada</td><td>Athletics</td><td>Canada</td><td>7</td><td>6</td><td>11</td><td>24</td></tr><tr><td>ARROYO Andres</td><td>Puerto Rico</td><td>Athletics</td><td>Puerto Rico</td><td>1</td><td>0</td><td>0</td><td>1</td></tr><tr><td>ASHER-SMITH Dina</td><td>Great Britain</td><td>Athletics</td><td>Great Britain</td><td>22</td><td>21</td><td>22</td><td>65</td></tr><tr><td>ASHLEY Whitney</td><td>United States of America</td><td>Athletics</td><td>United States of America</td><td>39</td><td>41</td><td>33</td><td>113</td></tr><tr><td>ATATOU Wided</td><td>France</td><td>Athletics</td><td>France</td><td>10</td><td>12</td><td>11</td><td>33</td></tr><tr><td>ATCHO Sarah</td><td>Switzerland</td><td>Athletics</td><td>Switzerland</td><td>3</td><td>4</td><td>6</td><td>13</td></tr><tr><td>ATKIN Sam</td><td>Great Britain</td><td>Athletics</td><td>Great Britain</td><td>22</td><td>21</td><td>22</td><td>65</td></tr><tr><td>AUGUSTYN Rafal</td><td>Poland</td><td>Athletics</td><td>Poland</td><td>4</td><td>5</td><td>5</td><td>14</td></tr><tr><td>AYOUNI Abdessalem</td><td>Tunisia</td><td>Athletics</td><td>Tunisia</td><td>1</td><td>1</td><td>0</td><td>2</td></tr><tr><td>AZAMATI-KWAKU Benjamin</td><td>Ghana</td><td>Athletics</td><td>Ghana</td><td>0</td><td>0</td><td>1</td><td>1</td></tr><tr><td>AZEVEDO Ana Carolina</td><td>Brazil</td><td>Athletics</td><td>Brazil</td><td>7</td><td>6</td><td>8</td><td>21</td></tr><tr><td>AZEVEDO Catia</td><td>Portugal</td><td>Athletics</td><td>Portugal</td><td>1</td><td>1</td><td>2</td><td>4</td></tr><tr><td>BABAYEV Nazim</td><td>Azerbaijan</td><td>Athletics</td><td>Azerbaijan</td><td>0</td><td>3</td><td>4</td><td>7</td></tr><tr><td>BACMAGA Dominika</td><td>Poland</td><td>Athletics</td><td>Poland</td><td>4</td><td>5</td><td>5</td><td>14</td></tr><tr><td>BAHTA Meraf</td><td>Sweden</td><td>Athletics</td><td>Sweden</td><td>3</td><td>6</td><td>0</td><td>9</td></tr><tr><td>BAHUTSKI Yauheni</td><td>Belarus</td><td>Athletics</td><td>Belarus</td><td>1</td><td>3</td><td>3</td><td>7</td></tr><tr><td>BAI Li</td><td>People's Republic of China</td><td>Athletics</td><td>People's Republic of China</td><td>38</td><td>32</td><td>18</td><td>88</td></tr><tr><td>BAILEY JR Aldrich</td><td>United States of America</td><td>Athletics</td><td>United States of America</td><td>39</td><td>41</td><td>33</td><td>113</td></tr><tr><td>BAILEY Sean</td><td>Jamaica</td><td>Athletics</td><td>Jamaica</td><td>4</td><td>1</td><td>4</td><td>9</td></tr><tr><td>BAKER Nicklas</td><td>Great Britain</td><td>Athletics</td><td>Great Britain</td><td>22</td><td>21</td><td>22</td><td>65</td></tr><tr><td>BAKER Ronnie</td><td>United States of America</td><td>Athletics</td><td>United States of America</td><td>39</td><td>41</td><td>33</td><td>113</td></tr><tr><td>BALEW Birhanu</td><td>Bahrain</td><td>Athletics</td><td>Bahrain</td><td>0</td><td>1</td><td>0</td><td>1</td></tr><tr><td>BALOYES Bernardo</td><td>Colombia</td><td>Athletics</td><td>Colombia</td><td>0</td><td>4</td><td>1</td><td>5</td></tr><tr><td>BALTACI Ozkan</td><td>Turkey</td><td>Athletics</td><td>Turkey</td><td>2</td><td>2</td><td>9</td><td>13</td></tr><tr><td>BANDEIRA FRAGA Samory Uiki</td><td>Brazil</td><td>Athletics</td><td>Brazil</td><td>7</td><td>6</td><td>8</td><td>21</td></tr><tr><td>BANDO Yuta</td><td>Japan</td><td>Athletics</td><td>Japan</td><td>27</td><td>14</td><td>17</td><td>58</td></tr><tr><td>BANZERUK Ivan</td><td>Ukraine</td><td>Athletics</td><td>Ukraine</td><td>1</td><td>6</td><td>12</td><td>19</td></tr><tr><td>BARABANOV Mykyta</td><td>Ukraine</td><td>Athletics</td><td>Ukraine</td><td>1</td><td>6</td><td>12</td><td>19</td></tr><tr><td>BARBER Kelsey-Lee</td><td>Australia</td><td>Athletics</td><td>Australia</td><td>17</td><td>7</td><td>22</td><td>46</td></tr><tr><td>BARDI dos SANTOS Felipe</td><td>Brazil</td><td>Athletics</td><td>Brazil</td><td>7</td><td>6</td><td>8</td><td>21</td></tr><tr><td>BAREGA Selemon</td><td>Ethiopia</td><td>Athletics</td><td>Ethiopia</td><td>1</td><td>1</td><td>2</td><td>4</td></tr><tr><td>BARNES Emre Zafer</td><td>Turkey</td><td>Athletics</td><td>Turkey</td><td>2</td><td>2</td><td>9</td><td>13</td></tr><tr><td>BARR Thomas</td><td>Ireland</td><td>Athletics</td><td>Ireland</td><td>2</td><td>0</td><td>2</td><td>4</td></tr><tr><td>BARSHIM Mutaz Essa</td><td>Qatar</td><td>Athletics</td><td>Qatar</td><td>2</td><td>0</td><td>1</td><td>3</td></tr><tr><td>BARTELSMEYER Amos</td><td>Germany</td><td>Athletics</td><td>Germany</td><td>10</td><td>11</td><td>16</td><td>37</td></tr><tr><td>BARTHA-KERI Bianka</td><td>Hungary</td><td>Athletics</td><td>Hungary</td><td>6</td><td>7</td><td>7</td><td>20</td></tr><tr><td>BARYSEVICH Darya</td><td>Belarus</td><td>Athletics</td><td>Belarus</td><td>1</td><td>3</td><td>3</td><td>7</td></tr><tr><td>BASIC Hana</td><td>Australia</td><td>Athletics</td><td>Australia</td><td>17</td><td>7</td><td>22</td><td>46</td></tr><tr><td>BASTIEN Steven</td><td>United States of America</td><td>Athletics</td><td>United States of America</td><td>39</td><td>41</td><td>33</td><td>113</td></tr><tr><td>BAT-OCHIR Ser-Od</td><td>Mongolia</td><td>Athletics</td><td>Mongolia</td><td>0</td><td>1</td><td>3</td><td>4</td></tr><tr><td>BATISTA Ketiley</td><td>Brazil</td><td>Athletics</td><td>Brazil</td><td>7</td><td>6</td><td>8</td><td>21</td></tr><tr><td>BATT-DOYLE Isobel</td><td>Australia</td><td>Athletics</td><td>Australia</td><td>17</td><td>7</td><td>22</td><td>46</td></tr><tr><td>BATTLE Anavia</td><td>United States of America</td><td>Athletics</td><td>United States of America</td><td>39</td><td>41</td><td>33</td><td>113</td></tr><tr><td>BAUMGART-WITAN Iga</td><td>Poland</td><td>Athletics</td><td>Poland</td><td>4</td><td>5</td><td>5</td><td>14</td></tr><tr><td>BAYARTSOGT Munkhzaya</td><td>Mongolia</td><td>Athletics</td><td>Mongolia</td><td>0</td><td>1</td><td>3</td><td>4</td></tr><tr><td>BAZOLO Lorene Dorcas</td><td>Portugal</td><td>Athletics</td><td>Portugal</td><td>1</td><td>1</td><td>2</td><td>4</td></tr><tr><td>BEBENDORF Karl</td><td>Germany</td><td>Athletics</td><td>Germany</td><td>10</td><td>11</td><td>16</td><td>37</td></tr><tr><td>BECCHETTI Mariavittoria</td><td>Italy</td><td>Athletics</td><td>Italy</td><td>10</td><td>10</td><td>20</td><td>40</td></tr><tr><td>BECK Alex</td><td>Australia</td><td>Athletics</td><td>Australia</td><td>17</td><td>7</td><td>22</td><td>46</td></tr><tr><td>BECKER Sophie</td><td>Ireland</td><td>Athletics</td><td>Ireland</td><td>2</td><td>0</td><td>2</td><td>4</td></tr><tr><td>BEDNAREK Kenneth</td><td>United States of America</td><td>Athletics</td><td>United States of America</td><td>39</td><td>41</td><td>33</td><td>113</td></tr><tr><td>BEDRANI Djilali</td><td>France</td><td>Athletics</td><td>France</td><td>10</td><td>12</td><td>11</td><td>33</td></tr><tr><td>BEER Ellie</td><td>Australia</td><td>Athletics</td><td>Australia</td><td>17</td><td>7</td><td>22</td><td>46</td></tr><tr><td>BEESLEY Meghan</td><td>Great Britain</td><td>Athletics</td><td>Great Britain</td><td>22</td><td>21</td><td>22</td><td>65</td></tr><tr><td>BEKELE Alemu</td><td>Bahrain</td><td>Athletics</td><td>Bahrain</td><td>0</td><td>1</td><td>0</td><td>1</td></tr><tr><td>BEKH-ROMANCHUK Maryna</td><td>Ukraine</td><td>Athletics</td><td>Ukraine</td><td>1</td><td>6</td><td>12</td><td>19</td></tr><tr><td>BEKMEZ Meryem</td><td>Turkey</td><td>Athletics</td><td>Turkey</td><td>2</td><td>2</td><td>9</td><td>13</td></tr><tr><td>BELETEW Yehualeye</td><td>Ethiopia</td><td>Athletics</td><td>Ethiopia</td><td>1</td><td>1</td><td>2</td><td>4</td></tr><tr><td>BELHADJ Mehdi</td><td>France</td><td>Athletics</td><td>France</td><td>10</td><td>12</td><td>11</td><td>33</td></tr><tr><td>BELL Alexandra</td><td>Great Britain</td><td>Athletics</td><td>Great Britain</td><td>22</td><td>21</td><td>22</td><td>65</td></tr><tr><td>BELLO Elena</td><td>Italy</td><td>Athletics</td><td>Italy</td><td>10</td><td>10</td><td>20</td><td>40</td></tr><tr><td>BELO Francisco</td><td>Portugal</td><td>Athletics</td><td>Portugal</td><td>1</td><td>1</td><td>2</td><td>4</td></tr><tr><td>BELOCIAN Wilhem</td><td>France</td><td>Athletics</td><td>France</td><td>10</td><td>12</td><td>11</td><td>33</td></tr><tr><td>BEN Adrian</td><td>Spain</td><td>Athletics</td><td>Spain</td><td>3</td><td>8</td><td>6</td><td>17</td></tr><tr><td>BEN DAOUD Hamid</td><td>Spain</td><td>Athletics</td><td>Spain</td><td>3</td><td>8</td><td>6</td><td>17</td></tr><tr><td>BEN ZAHRA Abdelkarim</td><td>Morocco</td><td>Athletics</td><td>Morocco</td><td>1</td><td>0</td><td>0</td><td>1</td></tr><tr><td>BENARD Chris</td><td>United States of America</td><td>Athletics</td><td>United States of America</td><td>39</td><td>41</td><td>33</td><td>113</td></tr><tr><td>BENATI Lorenzo</td><td>Italy</td><td>Athletics</td><td>Italy</td><td>10</td><td>10</td><td>20</td><td>40</td></tr><tr><td>BENGTSSON Angelica</td><td>Sweden</td><td>Athletics</td><td>Sweden</td><td>3</td><td>6</td><td>0</td><td>9</td></tr><tr><td>BENJAMIN Rai</td><td>United States of America</td><td>Athletics</td><td>United States of America</td><td>39</td><td>41</td><td>33</td><td>113</td></tr><tr><td>BERGER Eva</td><td>France</td><td>Athletics</td><td>France</td><td>10</td><td>12</td><td>11</td><td>33</td></tr><tr><td>BERGLUND Kalle</td><td>Sweden</td><td>Athletics</td><td>Sweden</td><td>3</td><td>6</td><td>0</td><td>9</td></tr><tr><td>BERRY Gwen</td><td>United States of America</td><td>Athletics</td><td>United States of America</td><td>39</td><td>41</td><td>33</td><td>113</td></tr><tr><td>BESTUE Jael</td><td>Spain</td><td>Athletics</td><td>Spain</td><td>3</td><td>8</td><td>6</td><td>17</td></tr><tr><td>BETHEL Brianne</td><td>Bahamas</td><td>Athletics</td><td>Bahamas</td><td>2</td><td>0</td><td>0</td><td>2</td></tr><tr><td>BETT Leonard Kipkemoi</td><td>Kenya</td><td>Athletics</td><td>Kenya</td><td>4</td><td>4</td><td>2</td><td>10</td></tr><tr><td>BEY Augustin</td><td>France</td><td>Athletics</td><td>France</td><td>10</td><td>12</td><td>11</td><td>33</td></tr><tr><td>BEZEDE Dimitriana</td><td>Republic of Moldova</td><td>Athletics</td><td>Republic of Moldova</td><td>0</td><td>0</td><td>1</td><td>1</td></tr><tr><td>BHAMBRI Sarthak</td><td>India</td><td>Athletics</td><td>India</td><td>1</td><td>2</td><td>4</td><td>7</td></tr><tr><td>BIAN Tongda</td><td>People's Republic of China</td><td>Athletics</td><td>People's Republic of China</td><td>38</td><td>32</td><td>18</td><td>88</td></tr><tr><td>BIGOT Quentin</td><td>France</td><td>Athletics</td><td>France</td><td>10</td><td>12</td><td>11</td><td>33</td></tr><tr><td>BILODEAU Mathieu</td><td>Canada</td><td>Athletics</td><td>Canada</td><td>7</td><td>6</td><td>11</td><td>24</td></tr><tr><td>BINGHAM Khamica</td><td>Canada</td><td>Athletics</td><td>Canada</td><td>7</td><td>6</td><td>11</td><td>24</td></tr><tr><td>BIRD Elizabeth</td><td>Great Britain</td><td>Athletics</td><td>Great Britain</td><td>22</td><td>21</td><td>22</td><td>65</td></tr><tr><td>BIRD-SMITH Dane</td><td>Australia</td><td>Athletics</td><td>Australia</td><td>17</td><td>7</td><td>22</td><td>46</td></tr><tr><td>BIRON Gilles</td><td>France</td><td>Athletics</td><td>France</td><td>10</td><td>12</td><td>11</td><td>33</td></tr><tr><td>BISHOP-NRIAGU Melissa</td><td>Canada</td><td>Athletics</td><td>Canada</td><td>7</td><td>6</td><td>11</td><td>24</td></tr><tr><td>BISSET Catriona</td><td>Australia</td><td>Athletics</td><td>Australia</td><td>17</td><td>7</td><td>22</td><td>46</td></tr><tr><td>BJELJAC Bojana</td><td>Croatia</td><td>Athletics</td><td>Croatia</td><td>3</td><td>3</td><td>2</td><td>8</td></tr><tr><td>BLACKBURN Angeline</td><td>Australia</td><td>Athletics</td><td>Australia</td><td>17</td><td>7</td><td>22</td><td>46</td></tr><tr><td>BLAKE Jerome</td><td>Canada</td><td>Athletics</td><td>Canada</td><td>7</td><td>6</td><td>11</td><td>24</td></tr><tr><td>BLAKE Yohan</td><td>Jamaica</td><td>Athletics</td><td>Jamaica</td><td>4</td><td>1</td><td>4</td><td>9</td></tr><tr><td>BLECH Torben</td><td>Germany</td><td>Athletics</td><td>Germany</td><td>10</td><td>11</td><td>16</td><td>37</td></tr><tr><td>BLIGNAUT Kyle</td><td>South Africa</td><td>Athletics</td><td>South Africa</td><td>1</td><td>2</td><td>0</td><td>3</td></tr><tr><td>BLIZNETS Yuliya</td><td>Belarus</td><td>Athletics</td><td>Belarus</td><td>1</td><td>3</td><td>3</td><td>7</td></tr><tr><td>BLOMBERG Emil</td><td>Sweden</td><td>Athletics</td><td>Sweden</td><td>3</td><td>6</td><td>0</td><td>9</td></tr><tr><td>BLUNDELL Jenny</td><td>Australia</td><td>Athletics</td><td>Australia</td><td>17</td><td>7</td><td>22</td><td>46</td></tr><tr><td>BOATENG Bismark</td><td>Canada</td><td>Athletics</td><td>Canada</td><td>7</td><td>6</td><td>11</td><td>24</td></tr><tr><td>BOBOCEA Claudia Mihaela</td><td>Romania</td><td>Athletics</td><td>Romania</td><td>1</td><td>3</td><td>0</td><td>4</td></tr><tr><td>BOCCHI Tobia</td><td>Italy</td><td>Athletics</td><td>Italy</td><td>10</td><td>10</td><td>20</td><td>40</td></tr><tr><td>BOCH Simon</td><td>Germany</td><td>Athletics</td><td>Germany</td><td>10</td><td>11</td><td>16</td><td>37</td></tr><tr><td>BOCKARIE Solomon</td><td>Netherlands</td><td>Athletics</td><td>Netherlands</td><td>10</td><td>12</td><td>14</td><td>36</td></tr><tr><td>BOGLIOLO Luminosa</td><td>Italy</td><td>Athletics</td><td>Italy</td><td>10</td><td>10</td><td>20</td><td>40</td></tr><tr><td>BOKESA Aauri Lorena</td><td>Spain</td><td>Athletics</td><td>Spain</td><td>3</td><td>8</td><td>6</td><td>17</td></tr><tr><td>BOL Femke</td><td>Netherlands</td><td>Athletics</td><td>Netherlands</td><td>10</td><td>12</td><td>14</td><td>36</td></tr><tr><td>BOL Peter</td><td>Australia</td><td>Athletics</td><td>Australia</td><td>17</td><td>7</td><td>22</td><td>46</td></tr><tr><td>BOLINGO Cynthia</td><td>Belgium</td><td>Athletics</td><td>Belgium</td><td>3</td><td>1</td><td>3</td><td>7</td></tr><tr><td>BOMME Emma Beiter</td><td>Denmark</td><td>Athletics</td><td>Denmark</td><td>3</td><td>4</td><td>4</td><td>11</td></tr><tr><td>BONEVACIA Liemarvin</td><td>Netherlands</td><td>Athletics</td><td>Netherlands</td><td>10</td><td>12</td><td>14</td><td>36</td></tr><tr><td>BONFIM Caio</td><td>Brazil</td><td>Athletics</td><td>Brazil</td><td>7</td><td>6</td><td>8</td><td>21</td></tr><tr><td>BONGIORNI Anna</td><td>Italy</td><td>Athletics</td><td>Italy</td><td>10</td><td>10</td><td>20</td><td>40</td></tr><tr><td>BONILLA Andrea Paola</td><td>Ecuador</td><td>Athletics</td><td>Ecuador</td><td>2</td><td>1</td><td>0</td><td>3</td></tr><tr><td>BORDIER Gabriel</td><td>France</td><td>Athletics</td><td>France</td><td>10</td><td>12</td><td>11</td><td>33</td></tr><tr><td>BORGA Rebecca</td><td>Italy</td><td>Athletics</td><td>Italy</td><td>10</td><td>10</td><td>20</td><td>40</td></tr><tr><td>BORKOWSKI Mateusz</td><td>Poland</td><td>Athletics</td><td>Poland</td><td>4</td><td>5</td><td>5</td><td>14</td></tr><tr><td>BORLEE Dylan</td><td>Belgium</td><td>Athletics</td><td>Belgium</td><td>3</td><td>1</td><td>3</td><td>7</td></tr><tr><td>BORLEE Jonathan</td><td>Belgium</td><td>Athletics</td><td>Belgium</td><td>3</td><td>1</td><td>3</td><td>7</td></tr><tr><td>BORLEE Kevin</td><td>Belgium</td><td>Athletics</td><td>Belgium</td><td>3</td><td>1</td><td>3</td><td>7</td></tr><tr><td>BORTHWICK Emily</td><td>Great Britain</td><td>Athletics</td><td>Great Britain</td><td>22</td><td>21</td><td>22</td><td>65</td></tr><tr><td>BORUTTA Samantha</td><td>Germany</td><td>Athletics</td><td>Germany</td><td>10</td><td>11</td><td>16</td><td>37</td></tr><tr><td>BOSHNAK Aliya</td><td>Jordan</td><td>Athletics</td><td>Jordan</td><td>0</td><td>1</td><td>1</td><td>2</td></tr><tr><td>BOSSE Pierre-Ambroise</td><td>France</td><td>Athletics</td><td>France</td><td>10</td><td>12</td><td>11</td><td>33</td></tr><tr><td>BOSWORTH Tom</td><td>Great Britain</td><td>Athletics</td><td>Great Britain</td><td>22</td><td>21</td><td>22</td><td>65</td></tr><tr><td>BOTLOGETSWE Christine</td><td>Botswana</td><td>Athletics</td><td>Botswana</td><td>0</td><td>0</td><td>1</td><td>1</td></tr><tr><td>BOUGARD Erica</td><td>United States of America</td><td>Athletics</td><td>United States of America</td><td>39</td><td>41</td><td>33</td><td>113</td></tr><tr><td>BOUMA Andrea</td><td>Netherlands</td><td>Athletics</td><td>Netherlands</td><td>10</td><td>12</td><td>14</td><td>36</td></tr><tr><td>BOUQANTAR Soufiyan</td><td>Morocco</td><td>Athletics</td><td>Morocco</td><td>1</td><td>0</td><td>0</td><td>1</td></tr><tr><td>BOUZAYANI Marwa</td><td>Tunisia</td><td>Athletics</td><td>Tunisia</td><td>1</td><td>1</td><td>0</td><td>2</td></tr><tr><td>BOYCE Brendan</td><td>Ireland</td><td>Athletics</td><td>Ireland</td><td>2</td><td>0</td><td>2</td><td>4</td></tr><tr><td>BRADSHAW Holly</td><td>Great Britain</td><td>Athletics</td><td>Great Britain</td><td>22</td><td>21</td><td>22</td><td>65</td></tr><tr><td>BRAZ Thiago</td><td>Brazil</td><td>Athletics</td><td>Brazil</td><td>7</td><td>6</td><td>8</td><td>21</td></tr><tr><td>BREMBACH Nils</td><td>Germany</td><td>Athletics</td><td>Germany</td><td>10</td><td>11</td><td>16</td><td>37</td></tr><tr><td>BRIER Joseph</td><td>Great Britain</td><td>Athletics</td><td>Great Britain</td><td>22</td><td>21</td><td>22</td><td>65</td></tr><tr><td>BROEDERS Ben</td><td>Belgium</td><td>Athletics</td><td>Belgium</td><td>3</td><td>1</td><td>3</td><td>7</td></tr><tr><td>BROERSEN Nadine</td><td>Netherlands</td><td>Athletics</td><td>Netherlands</td><td>10</td><td>12</td><td>14</td><td>36</td></tr><tr><td>BROMELL Trayvon</td><td>United States of America</td><td>Athletics</td><td>United States of America</td><td>39</td><td>41</td><td>33</td><td>113</td></tr><tr><td>BROMFIELD Junelle</td><td>Jamaica</td><td>Athletics</td><td>Jamaica</td><td>4</td><td>1</td><td>4</td><td>9</td></tr><tr><td>BROSSIER Amandine</td><td>France</td><td>Athletics</td><td>France</td><td>10</td><td>12</td><td>11</td><td>33</td></tr><tr><td>BROWN Alicia</td><td>Canada</td><td>Athletics</td><td>Canada</td><td>7</td><td>6</td><td>11</td><td>24</td></tr><tr><td>BROWN Javeir</td><td>Jamaica</td><td>Athletics</td><td>Jamaica</td><td>4</td><td>1</td><td>4</td><td>9</td></tr><tr><td>BROWNING Rohan</td><td>Australia</td><td>Athletics</td><td>Australia</td><td>17</td><td>7</td><td>22</td><td>46</td></tr><tr><td>BRUCE Lauren</td><td>New Zealand</td><td>Athletics</td><td>New Zealand</td><td>7</td><td>6</td><td>7</td><td>20</td></tr><tr><td>BRUME Ese</td><td>Nigeria</td><td>Athletics</td><td>Nigeria</td><td>0</td><td>1</td><td>1</td><td>2</td></tr><tr><td>BRUNI Roberta</td><td>Italy</td><td>Athletics</td><td>Italy</td><td>10</td><td>10</td><td>20</td><td>40</td></tr><tr><td>BRYZHINA Anastasiya</td><td>Ukraine</td><td>Athletics</td><td>Ukraine</td><td>1</td><td>6</td><td>12</td><td>19</td></tr><tr><td>BRZOZOWSKI Artur</td><td>Poland</td><td>Athletics</td><td>Poland</td><td>4</td><td>5</td><td>5</td><td>14</td></tr><tr><td>BUCKINGHAM Ben</td><td>Australia</td><td>Athletics</td><td>Australia</td><td>17</td><td>7</td><td>22</td><td>46</td></tr><tr><td>BUENO Laura</td><td>Spain</td><td>Athletics</td><td>Spain</td><td>3</td><td>8</td><td>6</td><td>17</td></tr><tr><td>BUKOWIECKI Konrad</td><td>Poland</td><td>Athletics</td><td>Poland</td><td>4</td><td>5</td><td>5</td><td>14</td></tr><tr><td>BURCHELL Remona</td><td>Jamaica</td><td>Athletics</td><td>Jamaica</td><td>4</td><td>1</td><td>4</td><td>9</td></tr><tr><td>BURGHARDT Alexandra</td><td>Germany</td><td>Athletics</td><td>Germany</td><td>10</td><td>11</td><td>16</td><td>37</td></tr><tr><td>BURKARD Elena</td><td>Germany</td><td>Athletics</td><td>Germany</td><td>10</td><td>11</td><td>16</td><td>37</td></tr><tr><td>BURKS Quanesha</td><td>United States of America</td><td>Athletics</td><td>United States of America</td><td>39</td><td>41</td><td>33</td><td>113</td></tr><tr><td>BURMANN de OLIVEIRA Pedro Luis</td><td>Brazil</td><td>Athletics</td><td>Brazil</td><td>7</td><td>6</td><td>8</td><td>21</td></tr><tr><td>BURNET Taymir</td><td>Netherlands</td><td>Athletics</td><td>Netherlands</td><td>10</td><td>12</td><td>14</td><td>36</td></tr><tr><td>BURRELL Keeno</td><td>Jamaica</td><td>Athletics</td><td>Jamaica</td><td>4</td><td>1</td><td>4</td><td>9</td></tr><tr><td>BUSCOMB Camille</td><td>New Zealand</td><td>Athletics</td><td>New Zealand</td><td>7</td><td>6</td><td>7</td><td>20</td></tr><tr><td>BUTCHART Andrew</td><td>Great Britain</td><td>Athletics</td><td>Great Britain</td><td>22</td><td>21</td><td>22</td><td>65</td></tr><tr><td>BUTTERWORTH Alycia</td><td>Canada</td><td>Athletics</td><td>Canada</td><td>7</td><td>6</td><td>11</td><td>24</td></tr><tr><td>BUTTERWORTH Lindsey</td><td>Canada</td><td>Athletics</td><td>Canada</td><td>7</td><td>6</td><td>11</td><td>24</td></tr><tr><td>BUTTS-TOWNSEND Tynita</td><td>United States of America</td><td>Athletics</td><td>United States of America</td><td>39</td><td>41</td><td>33</td><td>113</td></tr><tr><td>CA Liliana</td><td>Portugal</td><td>Athletics</td><td>Portugal</td><td>1</td><td>1</td><td>2</td><td>4</td></tr><tr><td>CABALLERO Denia</td><td>Cuba</td><td>Athletics</td><td>Cuba</td><td>7</td><td>3</td><td>5</td><td>15</td></tr><tr><td>CABECINHA Ana</td><td>Portugal</td><td>Athletics</td><td>Portugal</td><td>1</td><td>1</td><td>2</td><td>4</td></tr><tr><td>CACERES Eusebio</td><td>Spain</td><td>Athletics</td><td>Spain</td><td>3</td><td>8</td><td>6</td><td>17</td></tr><tr><td>CAI Zelin</td><td>People's Republic of China</td><td>Athletics</td><td>People's Republic of China</td><td>38</td><td>32</td><td>18</td><td>88</td></tr><tr><td>CAICEDO Juan</td><td>Ecuador</td><td>Athletics</td><td>Ecuador</td><td>2</td><td>1</td><td>0</td><td>3</td></tr><tr><td>CAKSS Gatis</td><td>Latvia</td><td>Athletics</td><td>Latvia</td><td>1</td><td>0</td><td>1</td><td>2</td></tr><tr><td>CALDWELL Abbey</td><td>Australia</td><td>Athletics</td><td>Australia</td><td>17</td><td>7</td><td>22</td><td>46</td></tr><tr><td>CAMACHO-QUINN Jasmine</td><td>Puerto Rico</td><td>Athletics</td><td>Puerto Rico</td><td>1</td><td>0</td><td>0</td><td>1</td></tr><tr><td>CAMERON Lloydricia</td><td>Jamaica</td><td>Athletics</td><td>Jamaica</td><td>4</td><td>1</td><td>4</td><td>9</td></tr><tr><td>CAMILO de OLIVEIRA Paulo Andre</td><td>Brazil</td><td>Athletics</td><td>Brazil</td><td>7</td><td>6</td><td>8</td><td>21</td></tr><tr><td>CAMPBELL Luke</td><td>Germany</td><td>Athletics</td><td>Germany</td><td>10</td><td>11</td><td>16</td><td>37</td></tr><tr><td>CAMPBELL Paige</td><td>Australia</td><td>Athletics</td><td>Australia</td><td>17</td><td>7</td><td>22</td><td>46</td></tr><tr><td>CAMPBELL Taylor</td><td>Great Britain</td><td>Athletics</td><td>Great Britain</td><td>22</td><td>21</td><td>22</td><td>65</td></tr><tr><td>CAMPION Kevin</td><td>France</td><td>Athletics</td><td>France</td><td>10</td><td>12</td><td>11</td><td>33</td></tr><tr><td>CAMPOS PEREIRA Rafael Henrique</td><td>Brazil</td><td>Athletics</td><td>Brazil</td><td>7</td><td>6</td><td>8</td><td>21</td></tr><tr><td>CAN Yasemin</td><td>Turkey</td><td>Athletics</td><td>Turkey</td><td>2</td><td>2</td><td>9</td><td>13</td></tr><tr><td>CAPORASO Teodorico</td><td>Italy</td><td>Athletics</td><td>Italy</td><td>10</td><td>10</td><td>20</td><td>40</td></tr><tr><td>CARD Kelsey</td><td>United States of America</td><td>Athletics</td><td>United States of America</td><td>39</td><td>41</td><td>33</td><td>113</td></tr><tr><td>CARLI Sarah</td><td>Australia</td><td>Athletics</td><td>Australia</td><td>17</td><td>7</td><td>22</td><td>46</td></tr><tr><td>CARRILLO Yeseida</td><td>Colombia</td><td>Athletics</td><td>Colombia</td><td>0</td><td>4</td><td>1</td><td>5</td></tr><tr><td>CARRO Fernando</td><td>Spain</td><td>Athletics</td><td>Spain</td><td>3</td><td>8</td><td>6</td><td>17</td></tr><tr><td>CARTER Chris</td><td>United States of America</td><td>Athletics</td><td>United States of America</td><td>39</td><td>41</td><td>33</td><td>113</td></tr><tr><td>CARVALHO Lucas</td><td>Brazil</td><td>Athletics</td><td>Brazil</td><td>7</td><td>6</td><td>8</td><td>21</td></tr><tr><td>CASETTA Belen</td><td>Argentina</td><td>Athletics</td><td>Argentina</td><td>0</td><td>1</td><td>2</td><td>3</td></tr><tr><td>CASHIN Amy</td><td>Australia</td><td>Athletics</td><td>Australia</td><td>17</td><td>7</td><td>22</td><td>46</td></tr><tr><td>CASTANEDA Jhon Alexander</td><td>Colombia</td><td>Athletics</td><td>Colombia</td><td>0</td><td>4</td><td>1</td><td>5</td></tr><tr><td>CEH Kristjan</td><td>Slovenia</td><td>Athletics</td><td>Slovenia</td><td>3</td><td>1</td><td>1</td><td>5</td></tr><tr><td>CENTROWITZ Matthew</td><td>United States of America</td><td>Athletics</td><td>United States of America</td><td>39</td><td>41</td><td>33</td><td>113</td></tr><tr><td>CERVENKOVA Marketa</td><td>Czech Republic</td><td>Athletics</td><td>Czech Republic</td><td>4</td><td>4</td><td>3</td><td>11</td></tr><tr><td>CHABOWSKI Marcin</td><td>Poland</td><td>Athletics</td><td>Poland</td><td>4</td><td>5</td><td>5</td><td>14</td></tr><tr><td>CHACHA Rosa</td><td>Ecuador</td><td>Athletics</td><td>Ecuador</td><td>2</td><td>1</td><td>0</td><td>3</td></tr><tr><td>CHAHDI Hassan</td><td>France</td><td>Athletics</td><td>France</td><td>10</td><td>12</td><td>11</td><td>33</td></tr><tr><td>CHALMERS Cameron</td><td>Great Britain</td><td>Athletics</td><td>Great Britain</td><td>22</td><td>21</td><td>22</td><td>65</td></tr><tr><td>CHAMA Noel</td><td>Mexico</td><td>Athletics</td><td>Mexico</td><td>0</td><td>0</td><td>4</td><td>4</td></tr><tr><td>CHAN Chung Wang</td><td>Hong Kong, China</td><td>Athletics</td><td>Hong Kong, China</td><td>1</td><td>2</td><td>3</td><td>6</td></tr><tr><td>CHAND Dutee</td><td>India</td><td>Athletics</td><td>India</td><td>1</td><td>2</td><td>4</td><td>7</td></tr><tr><td>CHARLTON Devynne</td><td>Bahamas</td><td>Athletics</td><td>Bahamas</td><td>2</td><td>0</td><td>0</td><td>2</td></tr><tr><td>CHEBET Esther</td><td>Uganda</td><td>Athletics</td><td>Uganda</td><td>2</td><td>1</td><td>1</td><td>4</td></tr><tr><td>CHEBET Winny</td><td>Kenya</td><td>Athletics</td><td>Kenya</td><td>4</td><td>4</td><td>2</td><td>10</td></tr><tr><td>CHEKWEL Juliet</td><td>Uganda</td><td>Athletics</td><td>Uganda</td><td>2</td><td>1</td><td>1</td><td>4</td></tr><tr><td>CHELANGAT Mercyline</td><td>Uganda</td><td>Athletics</td><td>Uganda</td><td>2</td><td>1</td><td>1</td><td>4</td></tr><tr><td>CHELANGAT Sarah</td><td>Uganda</td><td>Athletics</td><td>Uganda</td><td>2</td><td>1</td><td>1</td><td>4</td></tr><tr><td>CHELANGAT Sheila</td><td>Kenya</td><td>Athletics</td><td>Kenya</td><td>4</td><td>4</td><td>2</td><td>10</td></tr><tr><td>CHELIMO Oscar</td><td>Uganda</td><td>Athletics</td><td>Uganda</td><td>2</td><td>1</td><td>1</td><td>4</td></tr><tr><td>CHEMONGESI Filex</td><td>Uganda</td><td>Athletics</td><td>Uganda</td><td>2</td><td>1</td><td>1</td><td>4</td></tr><tr><td>CHEMUTAI Albert</td><td>Uganda</td><td>Athletics</td><td>Uganda</td><td>2</td><td>1</td><td>1</td><td>4</td></tr><tr><td>CHEMUTAI Immaculate</td><td>Uganda</td><td>Athletics</td><td>Uganda</td><td>2</td><td>1</td><td>1</td><td>4</td></tr><tr><td>CHEMUTAI Peruth</td><td>Uganda</td><td>Athletics</td><td>Uganda</td><td>2</td><td>1</td><td>1</td><td>4</td></tr><tr><td>CHEN Chieh</td><td>Chinese Taipei</td><td>Athletics</td><td>Chinese Taipei</td><td>2</td><td>4</td><td>6</td><td>12</td></tr><tr><td>CHEN Jiamin</td><td>People's Republic of China</td><td>Athletics</td><td>People's Republic of China</td><td>38</td><td>32</td><td>18</td><td>88</td></tr><tr><td>CHEN Kuei-Ru</td><td>Chinese Taipei</td><td>Athletics</td><td>Chinese Taipei</td><td>2</td><td>4</td><td>6</td><td>12</td></tr><tr><td>CHEN Yang</td><td>People's Republic of China</td><td>Athletics</td><td>People's Republic of China</td><td>38</td><td>32</td><td>18</td><td>88</td></tr><tr><td>CHENG Chao-Tsun</td><td>Chinese Taipei</td><td>Athletics</td><td>Chinese Taipei</td><td>2</td><td>4</td><td>6</td><td>12</td></tr><tr><td>CHEPKOECH Beatrice</td><td>Kenya</td><td>Athletics</td><td>Kenya</td><td>4</td><td>4</td><td>2</td><td>10</td></tr><tr><td>CHEPNGETICH Ruth</td><td>Kenya</td><td>Athletics</td><td>Kenya</td><td>4</td><td>4</td><td>2</td><td>10</td></tr><tr><td>CHEPTAI Irine</td><td>Kenya</td><td>Athletics</td><td>Kenya</td><td>4</td><td>4</td><td>2</td><td>10</td></tr><tr><td>CHEPTEGEI Joshua</td><td>Uganda</td><td>Athletics</td><td>Uganda</td><td>2</td><td>1</td><td>1</td><td>4</td></tr><tr><td>CHERONO Lawrence</td><td>Kenya</td><td>Athletics</td><td>Kenya</td><td>4</td><td>4</td><td>2</td><td>10</td></tr><tr><td>CHERRY Michael</td><td>United States of America</td><td>Athletics</td><td>United States of America</td><td>39</td><td>41</td><td>33</td><td>113</td></tr><tr><td>CHESANG Prisca</td><td>Uganda</td><td>Athletics</td><td>Uganda</td><td>2</td><td>1</td><td>1</td><td>4</td></tr><tr><td>CHIARAVIGLIO German</td><td>Argentina</td><td>Athletics</td><td>Argentina</td><td>0</td><td>1</td><td>2</td><td>3</td></tr><tr><td>CHING Siu Nga</td><td>Hong Kong, China</td><td>Athletics</td><td>Hong Kong, China</td><td>1</td><td>2</td><td>3</td><td>6</td></tr><tr><td>CHOCHO Andres</td><td>Ecuador</td><td>Athletics</td><td>Ecuador</td><td>2</td><td>1</td><td>0</td><td>3</td></tr><tr><td>CHOE Byeongkwang</td><td>Republic of Korea</td><td>Athletics</td><td>Republic of Korea</td><td>6</td><td>4</td><td>10</td><td>20</td></tr><tr><td>CHOI Kyungsun</td><td>Republic of Korea</td><td>Athletics</td><td>Republic of Korea</td><td>6</td><td>4</td><td>10</td><td>20</td></tr><tr><td>CHOPRA Neeraj</td><td>India</td><td>Athletics</td><td>India</td><td>1</td><td>2</td><td>4</td><td>7</td></tr><tr><td>CHOQUERT Benjamin</td><td>France</td><td>Athletics</td><td>France</td><td>10</td><td>12</td><td>11</td><td>33</td></tr><tr><td>CHOUKOUD Khalid</td><td>Netherlands</td><td>Athletics</td><td>Netherlands</td><td>10</td><td>12</td><td>14</td><td>36</td></tr><tr><td>CHRISTIE Nick</td><td>United States of America</td><td>Athletics</td><td>United States of America</td><td>39</td><td>41</td><td>33</td><td>113</td></tr><tr><td>CHUKWUMA Rosemary</td><td>Nigeria</td><td>Athletics</td><td>Nigeria</td><td>0</td><td>1</td><td>1</td><td>2</td></tr><tr><td>CHUMBA Eunice Chebichii</td><td>Bahrain</td><td>Athletics</td><td>Bahrain</td><td>0</td><td>1</td><td>0</td><td>1</td></tr><tr><td>CIENFUEGOS Javier</td><td>Spain</td><td>Athletics</td><td>Spain</td><td>3</td><td>8</td><td>6</td><td>17</td></tr><tr><td>CISSE Arthur</td><td>Côte d'Ivoire</td><td>Athletics</td><td>Côte d'Ivoire</td><td>0</td><td>0</td><td>1</td><td>1</td></tr><tr><td>CLAES Hanne</td><td>Belgium</td><td>Athletics</td><td>Belgium</td><td>3</td><td>1</td><td>3</td><td>7</td></tr><tr><td>CLARK Tamara</td><td>United States of America</td><td>Athletics</td><td>United States of America</td><td>39</td><td>41</td><td>33</td><td>113</td></tr><tr><td>CLARK Zoey</td><td>Great Britain</td><td>Athletics</td><td>Great Britain</td><td>22</td><td>21</td><td>22</td><td>65</td></tr><tr><td>CLARKE Matthew</td><td>Australia</td><td>Athletics</td><td>Australia</td><td>17</td><td>7</td><td>22</td><td>46</td></tr><tr><td>CLAY Liz</td><td>Australia</td><td>Athletics</td><td>Australia</td><td>17</td><td>7</td><td>22</td><td>46</td></tr><tr><td>CLEIRIGH BUTTNER Siofra</td><td>Ireland</td><td>Athletics</td><td>Ireland</td><td>2</td><td>0</td><td>2</td><td>4</td></tr><tr><td>CLEMONS Christina</td><td>United States of America</td><td>Athletics</td><td>United States of America</td><td>39</td><td>41</td><td>33</td><td>113</td></tr><tr><td>COBURN Emma</td><td>United States of America</td><td>Athletics</td><td>United States of America</td><td>39</td><td>41</td><td>33</td><td>113</td></tr><tr><td>COCIORAN Marius Iulian</td><td>Romania</td><td>Athletics</td><td>Romania</td><td>1</td><td>3</td><td>0</td><td>4</td></tr><tr><td>COCKRELL Anna</td><td>United States of America</td><td>Athletics</td><td>United States of America</td><td>39</td><td>41</td><td>33</td><td>113</td></tr><tr><td>COHEN Adva</td><td>Israel</td><td>Athletics</td><td>Israel</td><td>2</td><td>0</td><td>2</td><td>4</td></tr><tr><td>COLEBROOKE Samson</td><td>Bahamas</td><td>Athletics</td><td>Bahamas</td><td>2</td><td>0</td><td>0</td><td>2</td></tr><tr><td>COMPAORE Benjamin</td><td>France</td><td>Athletics</td><td>France</td><td>10</td><td>12</td><td>11</td><td>33</td></tr><tr><td>CONNOR Ben</td><td>Great Britain</td><td>Athletics</td><td>Great Britain</td><td>22</td><td>21</td><td>22</td><td>65</td></tr><tr><td>CONRADIE Pieter</td><td>South Africa</td><td>Athletics</td><td>South Africa</td><td>1</td><td>2</td><td>0</td><td>3</td></tr><tr><td>CONSTANTINE Kyra</td><td>Canada</td><td>Athletics</td><td>Canada</td><td>7</td><td>6</td><td>11</td><td>24</td></tr><tr><td>CONSTIEN Valerie</td><td>United States of America</td><td>Athletics</td><td>United States of America</td><td>39</td><td>41</td><td>33</td><td>113</td></tr><tr><td>COOKE Aoife</td><td>Ireland</td><td>Athletics</td><td>Ireland</td><td>2</td><td>0</td><td>2</td><td>4</td></tr><tr><td>COOPER Abbey</td><td>United States of America</td><td>Athletics</td><td>United States of America</td><td>39</td><td>41</td><td>33</td><td>113</td></tr><tr><td>COOPER Lacarthea</td><td>Bahamas</td><td>Athletics</td><td>Bahamas</td><td>2</td><td>0</td><td>0</td><td>2</td></tr><tr><td>COPELLO Yasmani</td><td>Turkey</td><td>Athletics</td><td>Turkey</td><td>2</td><td>2</td><td>9</td><td>13</td></tr><tr><td>COPPELL Harry</td><td>Great Britain</td><td>Athletics</td><td>Great Britain</td><td>22</td><td>21</td><td>22</td><td>65</td></tr><tr><td>CORCHETE Luis Manuel</td><td>Spain</td><td>Athletics</td><td>Spain</td><td>3</td><td>8</td><td>6</td><td>17</td></tr><tr><td>CORMONT Ethan</td><td>France</td><td>Athletics</td><td>France</td><td>10</td><td>12</td><td>11</td><td>33</td></tr><tr><td>CORREA Matheus</td><td>Brazil</td><td>Athletics</td><td>Brazil</td><td>7</td><td>6</td><td>8</td><td>21</td></tr><tr><td>COSCORAN Andrew</td><td>Ireland</td><td>Athletics</td><td>Ireland</td><td>2</td><td>0</td><td>2</td><td>4</td></tr><tr><td>COUCKUYT Paulien</td><td>Belgium</td><td>Athletics</td><td>Belgium</td><td>3</td><td>1</td><td>3</td><td>7</td></tr><tr><td>COUTINHO Geisa Aparecida</td><td>Brazil</td><td>Athletics</td><td>Brazil</td><td>7</td><td>6</td><td>8</td><td>21</td></tr><tr><td>CRAFT Shanice</td><td>Germany</td><td>Athletics</td><td>Germany</td><td>10</td><td>11</td><td>16</td><td>37</td></tr><tr><td>CRANNY Elise</td><td>United States of America</td><td>Athletics</td><td>United States of America</td><td>39</td><td>41</td><td>33</td><td>113</td></tr><tr><td>CRESTAN Eliott</td><td>Belgium</td><td>Athletics</td><td>Belgium</td><td>3</td><td>1</td><td>3</td><td>7</td></tr><tr><td>CRIPPA Yemaneberhan</td><td>Italy</td><td>Athletics</td><td>Italy</td><td>10</td><td>10</td><td>20</td><td>40</td></tr><tr><td>CROUSER Ryan</td><td>United States of America</td><td>Athletics</td><td>United States of America</td><td>39</td><td>41</td><td>33</td><td>113</td></tr><tr><td>CUI Lihong</td><td>People's Republic of China</td><td>Athletics</td><td>People's Republic of China</td><td>38</td><td>32</td><td>18</td><td>88</td></tr><tr><td>CULVER Trey</td><td>United States of America</td><td>Athletics</td><td>United States of America</td><td>39</td><td>41</td><td>33</td><td>113</td></tr><tr><td>CUNNINGHAM Gabriele</td><td>United States of America</td><td>Athletics</td><td>United States of America</td><td>39</td><td>41</td><td>33</td><td>113</td></tr><tr><td>CUNNINGHAM Trey</td><td>United States of America</td><td>Athletics</td><td>United States of America</td><td>39</td><td>41</td><td>33</td><td>113</td></tr><tr><td>CUNNINGHAM Vashti</td><td>United States of America</td><td>Athletics</td><td>United States of America</td><td>39</td><td>41</td><td>33</td><td>113</td></tr><tr><td>CZYKIER Damian</td><td>Poland</td><td>Athletics</td><td>Poland</td><td>4</td><td>5</td><td>5</td><td>14</td></tr><tr><td>da SILVA Chayenne</td><td>Brazil</td><td>Athletics</td><td>Brazil</td><td>7</td><td>6</td><td>8</td><td>21</td></tr><tr><td>da SILVA Daniel Chaves</td><td>Brazil</td><td>Athletics</td><td>Brazil</td><td>7</td><td>6</td><td>8</td><td>21</td></tr><tr><td>da SILVA Izabela</td><td>Brazil</td><td>Athletics</td><td>Brazil</td><td>7</td><td>6</td><td>8</td><td>21</td></tr><tr><td>da SILVA Tatiane Raquel</td><td>Brazil</td><td>Athletics</td><td>Brazil</td><td>7</td><td>6</td><td>8</td><td>21</td></tr><tr><td>DABA Tejitu</td><td>Bahrain</td><td>Athletics</td><td>Bahrain</td><td>0</td><td>1</td><td>0</td><td>1</td></tr><tr><td>DACRES Fedrick</td><td>Jamaica</td><td>Athletics</td><td>Jamaica</td><td>4</td><td>1</td><td>4</td><td>9</td></tr><tr><td>DADIC Ivona</td><td>Austria</td><td>Athletics</td><td>Austria</td><td>1</td><td>1</td><td>5</td><td>7</td></tr><tr><td>DAL MOLIN Paolo</td><td>Italy</td><td>Athletics</td><td>Italy</td><td>10</td><td>10</td><td>20</td><td>40</td></tr><tr><td>DANIELS Teahna</td><td>United States of America</td><td>Athletics</td><td>United States of America</td><td>39</td><td>41</td><td>33</td><td>113</td></tr><tr><td>DANYLENKO Danylo</td><td>Ukraine</td><td>Athletics</td><td>Ukraine</td><td>1</td><td>6</td><td>12</td><td>19</td></tr><tr><td>DAVID Yanis Esmeralda</td><td>France</td><td>Athletics</td><td>France</td><td>10</td><td>12</td><td>11</td><td>33</td></tr><tr><td>DAVIES Rose</td><td>Australia</td><td>Athletics</td><td>Australia</td><td>17</td><td>7</td><td>22</td><td>46</td></tr><tr><td>DAVIS Stephanie</td><td>Great Britain</td><td>Athletics</td><td>Great Britain</td><td>22</td><td>21</td><td>22</td><td>65</td></tr><tr><td>DAVIS Tara</td><td>United States of America</td><td>Athletics</td><td>United States of America</td><td>39</td><td>41</td><td>33</td><td>113</td></tr><tr><td>DAY Riley</td><td>Australia</td><td>Athletics</td><td>Australia</td><td>17</td><td>7</td><td>22</td><td>46</td></tr><tr><td>de ALMEIDA PAULA Paulo Roberto</td><td>Brazil</td><td>Athletics</td><td>Brazil</td><td>7</td><td>6</td><td>8</td><td>21</td></tr><tr><td>de GRASSE Andre</td><td>Canada</td><td>Athletics</td><td>Canada</td><td>7</td><td>6</td><td>11</td><td>24</td></tr><tr><td>de LIMA Jucilene Sales</td><td>Brazil</td><td>Athletics</td><td>Brazil</td><td>7</td><td>6</td><td>8</td><td>21</td></tr><tr><td>de LUCA Marco</td><td>Italy</td><td>Athletics</td><td>Italy</td><td>10</td><td>10</td><td>20</td><td>40</td></tr><tr><td>de MORAIS Andressa</td><td>Brazil</td><td>Athletics</td><td>Brazil</td><td>7</td><td>6</td><td>8</td><td>21</td></tr><tr><td>de WITTE Laura</td><td>Netherlands</td><td>Athletics</td><td>Netherlands</td><td>10</td><td>12</td><td>14</td><td>36</td></tr><tr><td>de WITTE Lisanne</td><td>Netherlands</td><td>Athletics</td><td>Netherlands</td><td>10</td><td>12</td><td>14</td><td>36</td></tr><tr><td>DEBJANI Ismael</td><td>Belgium</td><td>Athletics</td><td>Belgium</td><td>3</td><td>1</td><td>3</td><td>7</td></tr><tr><td>DEBUES-STAFFORD Gabriela</td><td>Canada</td><td>Athletics</td><td>Canada</td><td>7</td><td>6</td><td>11</td><td>24</td></tr><tr><td>DECHASA Shumi</td><td>Bahrain</td><td>Athletics</td><td>Bahrain</td><td>0</td><td>1</td><td>0</td><td>1</td></tr><tr><td>DEDE Bruno</td><td>Japan</td><td>Athletics</td><td>Japan</td><td>27</td><td>14</td><td>17</td><td>58</td></tr><tr><td>DEELTSTRA Andrea</td><td>Netherlands</td><td>Athletics</td><td>Netherlands</td><td>10</td><td>12</td><td>14</td><td>36</td></tr><tr><td>del BUONO Federica</td><td>Italy</td><td>Athletics</td><td>Italy</td><td>10</td><td>10</td><td>20</td><td>40</td></tr><tr><td>del PONTE Ajla</td><td>Switzerland</td><td>Athletics</td><td>Switzerland</td><td>3</td><td>4</td><td>6</td><td>13</td></tr><tr><td>del REAL Diego</td><td>Mexico</td><td>Athletics</td><td>Mexico</td><td>0</td><td>0</td><td>4</td><td>4</td></tr><tr><td>DEMIDIK Karyna</td><td>Belarus</td><td>Athletics</td><td>Belarus</td><td>1</td><td>3</td><td>3</td><td>7</td></tr><tr><td>DEMIR Evin</td><td>Turkey</td><td>Athletics</td><td>Turkey</td><td>2</td><td>2</td><td>9</td><td>13</td></tr><tr><td>DEMIREVA Mirela</td><td>Bulgaria</td><td>Athletics</td><td>Bulgaria</td><td>3</td><td>1</td><td>2</td><td>6</td></tr><tr><td>DENDY Marquis</td><td>United States of America</td><td>Athletics</td><td>United States of America</td><td>39</td><td>41</td><td>33</td><td>113</td></tr><tr><td>DENNY Matthew</td><td>Australia</td><td>Athletics</td><td>Australia</td><td>17</td><td>7</td><td>22</td><td>46</td></tr><tr><td>DEREJE Roza</td><td>Ethiopia</td><td>Athletics</td><td>Ethiopia</td><td>1</td><td>1</td><td>2</td><td>4</td></tr><tr><td>DERELI Emel</td><td>Turkey</td><td>Athletics</td><td>Turkey</td><td>2</td><td>2</td><td>9</td><td>13</td></tr><tr><td>DERKACH Dariya</td><td>Italy</td><td>Athletics</td><td>Italy</td><td>10</td><td>10</td><td>20</td><td>40</td></tr><tr><td>DESALU Eseosa Fostine</td><td>Italy</td><td>Athletics</td><td>Italy</td><td>10</td><td>10</td><td>20</td><td>40</td></tr><tr><td>DESENSKY Michal</td><td>Czech Republic</td><td>Athletics</td><td>Czech Republic</td><td>4</td><td>4</td><td>3</td><td>11</td></tr><tr><td>DESISA Lelisa</td><td>Ethiopia</td><td>Athletics</td><td>Ethiopia</td><td>1</td><td>1</td><td>2</td><td>4</td></tr><tr><td>DESTA Netsanet</td><td>Ethiopia</td><td>Athletics</td><td>Ethiopia</td><td>1</td><td>1</td><td>2</td><td>4</td></tr><tr><td>di LAZZARO Elisa Maria</td><td>Italy</td><td>Athletics</td><td>Italy</td><td>10</td><td>10</td><td>20</td><td>40</td></tr><tr><td>DIAGO MESA Sahily</td><td>Cuba</td><td>Athletics</td><td>Cuba</td><td>7</td><td>3</td><td>5</td><td>15</td></tr><tr><td>DIALLO Rouguy</td><td>France</td><td>Athletics</td><td>France</td><td>10</td><td>12</td><td>11</td><td>33</td></tr><tr><td>DIAMOND Emily</td><td>Great Britain</td><td>Athletics</td><td>Great Britain</td><td>22</td><td>21</td><td>22</td><td>65</td></tr><tr><td>DIAZ Andy</td><td>Cuba</td><td>Athletics</td><td>Cuba</td><td>7</td><td>3</td><td>5</td><td>15</td></tr><tr><td>DIBABA Birhane</td><td>Ethiopia</td><td>Athletics</td><td>Ethiopia</td><td>1</td><td>1</td><td>2</td><td>4</td></tr><tr><td>DIETSCHE Riccarda</td><td>Switzerland</td><td>Athletics</td><td>Switzerland</td><td>3</td><td>4</td><td>6</td><td>13</td></tr><tr><td>DIKGALE Ranti Marvin</td><td>South Africa</td><td>Athletics</td><td>South Africa</td><td>1</td><td>2</td><td>0</td><td>3</td></tr><tr><td>DINCOFF Rachel</td><td>United States of America</td><td>Athletics</td><td>United States of America</td><td>39</td><td>41</td><td>33</td><td>113</td></tr><tr><td>DIVER Sinead</td><td>Australia</td><td>Athletics</td><td>Australia</td><td>17</td><td>7</td><td>22</td><td>46</td></tr><tr><td>DJOUHAN Lolassonn</td><td>France</td><td>Athletics</td><td>France</td><td>10</td><td>12</td><td>11</td><td>33</td></tr><tr><td>DO NASCIMENTO Daniel</td><td>Brazil</td><td>Athletics</td><td>Brazil</td><td>7</td><td>6</td><td>8</td><td>21</td></tr><tr><td>DO NASCIMENTO Rodrigo</td><td>Brazil</td><td>Athletics</td><td>Brazil</td><td>7</td><td>6</td><td>8</td><td>21</td></tr><tr><td>DOBBER Jochem</td><td>Netherlands</td><td>Athletics</td><td>Netherlands</td><td>10</td><td>12</td><td>14</td><td>36</td></tr><tr><td>DOBBIN Beth</td><td>Great Britain</td><td>Athletics</td><td>Great Britain</td><td>22</td><td>21</td><td>22</td><td>65</td></tr><tr><td>DOBEK Patryk</td><td>Poland</td><td>Athletics</td><td>Poland</td><td>4</td><td>5</td><td>5</td><td>14</td></tr><tr><td>DOHMANN Carl</td><td>Germany</td><td>Athletics</td><td>Germany</td><td>10</td><td>11</td><td>16</td><td>37</td></tr><tr><td>DONG Guojian</td><td>People's Republic of China</td><td>Athletics</td><td>People's Republic of China</td><td>38</td><td>32</td><td>18</td><td>88</td></tr><tr><td>DONGMO Auriol</td><td>Portugal</td><td>Athletics</td><td>Portugal</td><td>1</td><td>1</td><td>2</td><td>4</td></tr><tr><td>DOOM Alexander</td><td>Belgium</td><td>Athletics</td><td>Belgium</td><td>3</td><td>1</td><td>3</td><td>7</td></tr><tr><td>dos SANTOS Alison</td><td>Brazil</td><td>Athletics</td><td>Brazil</td><td>7</td><td>6</td><td>8</td><td>21</td></tr><tr><td>dos SANTOS Almir</td><td>Brazil</td><td>Athletics</td><td>Brazil</td><td>7</td><td>6</td><td>8</td><td>21</td></tr><tr><td>dos SANTOS Felipe</td><td>Brazil</td><td>Athletics</td><td>Brazil</td><td>7</td><td>6</td><td>8</td><td>21</td></tr><tr><td>dos SANTOS Ricardo</td><td>Portugal</td><td>Athletics</td><td>Portugal</td><td>1</td><td>1</td><td>2</td><td>4</td></tr><tr><td>DOSSO Zaynab</td><td>Italy</td><td>Athletics</td><td>Italy</td><td>10</td><td>10</td><td>20</td><td>40</td></tr><tr><td>DOUVALIDIS Konstantinos</td><td>Greece</td><td>Athletics</td><td>Greece</td><td>2</td><td>1</td><td>1</td><td>4</td></tr><tr><td>DRAHOTOVA Anezka</td><td>Czech Republic</td><td>Athletics</td><td>Czech Republic</td><td>4</td><td>4</td><td>3</td><td>11</td></tr><tr><td>DRISBIOTI Antigoni</td><td>Greece</td><td>Athletics</td><td>Greece</td><td>2</td><td>1</td><td>1</td><td>4</td></tr><tr><td>DUBITSKAYA Aliona</td><td>Belarus</td><td>Athletics</td><td>Belarus</td><td>1</td><td>3</td><td>3</td><td>7</td></tr><tr><td>DUBLER Cedric</td><td>Australia</td><td>Athletics</td><td>Australia</td><td>17</td><td>7</td><td>22</td><td>46</td></tr><tr><td>DUBOVITSKAYA Nadezhda</td><td>Kazakhstan</td><td>Athletics</td><td>Kazakhstan</td><td>0</td><td>0</td><td>8</td><td>8</td></tr><tr><td>DUDARAU Hleb</td><td>Belarus</td><td>Athletics</td><td>Belarus</td><td>1</td><td>3</td><td>3</td><td>7</td></tr><tr><td>DUNCAN Melissa</td><td>Australia</td><td>Athletics</td><td>Australia</td><td>17</td><td>7</td><td>22</td><td>46</td></tr><tr><td>DUNFEE Evan</td><td>Canada</td><td>Athletics</td><td>Canada</td><td>7</td><td>6</td><td>11</td><td>24</td></tr><tr><td>DUPLANTIS Armand</td><td>Sweden</td><td>Athletics</td><td>Sweden</td><td>3</td><td>6</td><td>0</td><td>9</td></tr><tr><td>DURDIAKOVA Tereza</td><td>Czech Republic</td><td>Athletics</td><td>Czech Republic</td><td>4</td><td>4</td><td>3</td><td>11</td></tr><tr><td>DUSTIN Oliver</td><td>Great Britain</td><td>Athletics</td><td>Great Britain</td><td>22</td><td>21</td><td>22</td><td>65</td></tr><tr><td>DUSZYNSKI Kajetan</td><td>Poland</td><td>Athletics</td><td>Poland</td><td>4</td><td>5</td><td>5</td><td>14</td></tr><tr><td>DUTRA Augusto</td><td>Brazil</td><td>Athletics</td><td>Brazil</td><td>7</td><td>6</td><td>8</td><td>21</td></tr><tr><td>DWYER Rasheed</td><td>Jamaica</td><td>Athletics</td><td>Jamaica</td><td>4</td><td>1</td><td>4</td><td>9</td></tr><tr><td>DZIUBIN Dzmitry</td><td>Belarus</td><td>Athletics</td><td>Belarus</td><td>1</td><td>3</td><td>3</td><td>7</td></tr><tr><td>EBENYO Daniel Simiu</td><td>Kenya</td><td>Athletics</td><td>Kenya</td><td>4</td><td>4</td><td>2</td><td>10</td></tr><tr><td>ECHEVARRIA Juan Miguel</td><td>Cuba</td><td>Athletics</td><td>Cuba</td><td>7</td><td>3</td><td>5</td><td>15</td></tr><tr><td>ECHIKUNWOKE Annette</td><td>Nigeria</td><td>Athletics</td><td>Nigeria</td><td>0</td><td>1</td><td>1</td><td>2</td></tr><tr><td>ECKHARDT Neele</td><td>Germany</td><td>Athletics</td><td>Germany</td><td>10</td><td>11</td><td>16</td><td>37</td></tr><tr><td>EDWARDS Jye</td><td>Australia</td><td>Athletics</td><td>Australia</td><td>17</td><td>7</td><td>22</td><td>46</td></tr><tr><td>EFOLOKO Jona</td><td>Great Britain</td><td>Athletics</td><td>Great Britain</td><td>22</td><td>21</td><td>22</td><td>65</td></tr><tr><td>EFTIMOVA Inna</td><td>Bulgaria</td><td>Athletics</td><td>Bulgaria</td><td>3</td><td>1</td><td>2</td><td>6</td></tr><tr><td>EKE Nadia</td><td>Ghana</td><td>Athletics</td><td>Ghana</td><td>0</td><td>0</td><td>1</td><td>1</td></tr><tr><td>EKTOVA Irina</td><td>Kazakhstan</td><td>Athletics</td><td>Kazakhstan</td><td>0</td><td>0</td><td>8</td><td>8</td></tr><tr><td>EL AARABY Mohamed Reda</td><td>Morocco</td><td>Athletics</td><td>Morocco</td><td>1</td><td>0</td><td>0</td><td>1</td></tr><tr><td>EL ABBASSI El Hassan</td><td>Bahrain</td><td>Athletics</td><td>Bahrain</td><td>0</td><td>1</td><td>0</td><td>1</td></tr><tr><td>EL BAKKALI Soufiane</td><td>Morocco</td><td>Athletics</td><td>Morocco</td><td>1</td><td>0</td><td>0</td><td>1</td></tr><tr><td>EL FATHAOUI Yassine</td><td>Italy</td><td>Athletics</td><td>Italy</td><td>10</td><td>10</td><td>20</td><td>40</td></tr><tr><td>EL GOUMRI Othmane</td><td>Morocco</td><td>Athletics</td><td>Morocco</td><td>1</td><td>0</td><td>0</td><td>1</td></tr><tr><td>EL GUESSE Abdelati</td><td>Morocco</td><td>Athletics</td><td>Morocco</td><td>1</td><td>0</td><td>0</td><td>1</td></tr><tr><td>EL MOUKIM Rkia</td><td>Morocco</td><td>Athletics</td><td>Morocco</td><td>1</td><td>0</td><td>0</td><td>1</td></tr><tr><td>EL SEIFY Ashraf Amgad</td><td>Qatar</td><td>Athletics</td><td>Qatar</td><td>2</td><td>0</td><td>1</td><td>3</td></tr><tr><td>ELGAMEL Mostafa</td><td>Egypt</td><td>Athletics</td><td>Egypt</td><td>1</td><td>1</td><td>4</td><td>6</td></tr><tr><td>ELLENWOOD Georgia</td><td>Canada</td><td>Athletics</td><td>Canada</td><td>7</td><td>6</td><td>11</td><td>24</td></tr><tr><td>ELLIS Kendall</td><td>United States of America</td><td>Athletics</td><td>United States of America</td><td>39</td><td>41</td><td>33</td><td>113</td></tr><tr><td>ELLIS Nigel</td><td>Jamaica</td><td>Athletics</td><td>Jamaica</td><td>4</td><td>1</td><td>4</td><td>9</td></tr><tr><td>ELMORE Malindi</td><td>Canada</td><td>Athletics</td><td>Canada</td><td>7</td><td>6</td><td>11</td><td>24</td></tr><tr><td>EMILIANOV Alexandra</td><td>Republic of Moldova</td><td>Athletics</td><td>Republic of Moldova</td><td>0</td><td>0</td><td>1</td><td>1</td></tr><tr><td>EMMANUEL Crystal</td><td>Canada</td><td>Athletics</td><td>Canada</td><td>7</td><td>6</td><td>11</td><td>24</td></tr><tr><td>ENEKWECHI Chukwuebuka</td><td>Nigeria</td><td>Athletics</td><td>Nigeria</td><td>0</td><td>1</td><td>1</td><td>2</td></tr><tr><td>ENGELS Craig</td><td>United States of America</td><td>Athletics</td><td>United States of America</td><td>39</td><td>41</td><td>33</td><td>113</td></tr><tr><td>ENGLISH Mark</td><td>Ireland</td><td>Athletics</td><td>Ireland</td><td>2</td><td>0</td><td>2</td><td>4</td></tr><tr><td>ER Necati</td><td>Turkey</td><td>Athletics</td><td>Turkey</td><td>2</td><td>2</td><td>9</td><td>13</td></tr><tr><td>ERDOGAN Meryem</td><td>Turkey</td><td>Athletics</td><td>Turkey</td><td>2</td><td>2</td><td>9</td><td>13</td></tr><tr><td>ERM Johannes</td><td>Estonia</td><td>Athletics</td><td>Estonia</td><td>1</td><td>0</td><td>1</td><td>2</td></tr><tr><td>ERTA Bernat</td><td>Spain</td><td>Athletics</td><td>Spain</td><td>3</td><td>8</td><td>6</td><td>17</td></tr><tr><td>ESPARZA Jesus Arturo</td><td>Mexico</td><td>Athletics</td><td>Mexico</td><td>0</td><td>0</td><td>4</td><td>4</td></tr><tr><td>ESPINOZA Ahymara</td><td>Venezuela</td><td>Athletics</td><td>Venezuela</td><td>1</td><td>3</td><td>0</td><td>4</td></tr><tr><td>ESSAYI Anass</td><td>Morocco</td><td>Athletics</td><td>Morocco</td><td>1</td><td>0</td><td>0</td><td>1</td></tr><tr><td>ETELATALO Lassi</td><td>Finland</td><td>Athletics</td><td>Finland</td><td>0</td><td>0</td><td>2</td><td>2</td></tr><tr><td>ETO Takashi</td><td>Japan</td><td>Athletics</td><td>Japan</td><td>27</td><td>14</td><td>17</td><td>58</td></tr><tr><td>EVORA Nelson</td><td>Portugal</td><td>Athletics</td><td>Portugal</td><td>1</td><td>1</td><td>2</td><td>4</td></tr><tr><td>EZZAYDOUNI Ibrahim</td><td>Spain</td><td>Athletics</td><td>Spain</td><td>3</td><td>8</td><td>6</td><td>17</td></tr><tr><td>FABBRI Leonardo</td><td>Italy</td><td>Athletics</td><td>Italy</td><td>10</td><td>10</td><td>20</td><td>40</td></tr><tr><td>FAHR Annina</td><td>Switzerland</td><td>Athletics</td><td>Switzerland</td><td>3</td><td>4</td><td>6</td><td>13</td></tr><tr><td>FAJDEK Pawel</td><td>Poland</td><td>Athletics</td><td>Poland</td><td>4</td><td>5</td><td>5</td><td>14</td></tr><tr><td>FALCAO CABRAL Joao Henrique</td><td>Brazil</td><td>Athletics</td><td>Brazil</td><td>7</td><td>6</td><td>8</td><td>21</td></tr><tr><td>FALL Mouhamadou</td><td>France</td><td>Athletics</td><td>France</td><td>10</td><td>12</td><td>11</td><td>33</td></tr><tr><td>FALOCI Giovanni</td><td>Italy</td><td>Athletics</td><td>Italy</td><td>10</td><td>10</td><td>20</td><td>40</td></tr><tr><td>FANG Yaoqing</td><td>People's Republic of China</td><td>Athletics</td><td>People's Republic of China</td><td>38</td><td>32</td><td>18</td><td>88</td></tr><tr><td>FANTINI Sara</td><td>Italy</td><td>Athletics</td><td>Italy</td><td>10</td><td>10</td><td>20</td><td>40</td></tr><tr><td>FARIAS Bruna Jessica</td><td>Brazil</td><td>Athletics</td><td>Brazil</td><td>7</td><td>6</td><td>8</td><td>21</td></tr><tr><td>FARKEN Robert</td><td>Germany</td><td>Athletics</td><td>Germany</td><td>10</td><td>11</td><td>16</td><td>37</td></tr><tr><td>FARZANEH Fasihi</td><td>Islamic Republic of Iran</td><td>Athletics</td><td>Islamic Republic of Iran</td><td>3</td><td>2</td><td>2</td><td>7</td></tr><tr><td>FEIGE Saskia</td><td>Germany</td><td>Athletics</td><td>Germany</td><td>10</td><td>11</td><td>16</td><td>37</td></tr><tr><td>FELIX Allyson</td><td>United States of America</td><td>Athletics</td><td>United States of America</td><td>39</td><td>41</td><td>33</td><td>113</td></tr><tr><td>FELIZ Lidio Andres</td><td>Dominican Republic</td><td>Athletics</td><td>Dominican Republic</td><td>0</td><td>3</td><td>2</td><td>5</td></tr><tr><td>FENG Bin</td><td>People's Republic of China</td><td>Athletics</td><td>People's Republic of China</td><td>38</td><td>32</td><td>18</td><td>88</td></tr><tr><td>FERGUSON Kord</td><td>United States of America</td><td>Athletics</td><td>United States of America</td><td>39</td><td>41</td><td>33</td><td>113</td></tr><tr><td>FERLIC Mason</td><td>United States of America</td><td>Athletics</td><td>United States of America</td><td>39</td><td>41</td><td>33</td><td>113</td></tr><tr><td>FERNANDEZ Sergio</td><td>Spain</td><td>Athletics</td><td>Spain</td><td>3</td><td>8</td><td>6</td><td>17</td></tr><tr><td>FERREIRA Fernando</td><td>Brazil</td><td>Athletics</td><td>Brazil</td><td>7</td><td>6</td><td>8</td><td>21</td></tr><tr><td>FERRER E SILVA Laila</td><td>Brazil</td><td>Athletics</td><td>Brazil</td><td>7</td><td>6</td><td>8</td><td>21</td></tr><tr><td>FIKADU Dawit</td><td>Bahrain</td><td>Athletics</td><td>Bahrain</td><td>0</td><td>1</td><td>0</td><td>1</td></tr><tr><td>FILIPPIDIS Konstantinos</td><td>Greece</td><td>Athletics</td><td>Greece</td><td>2</td><td>1</td><td>1</td><td>4</td></tr><tr><td>FILTISIKOU Kiriaki</td><td>Greece</td><td>Athletics</td><td>Greece</td><td>2</td><td>1</td><td>1</td><td>4</td></tr><tr><td>FINLEY Mason</td><td>United States of America</td><td>Athletics</td><td>United States of America</td><td>39</td><td>41</td><td>33</td><td>113</td></tr><tr><td>FINN Michelle</td><td>Ireland</td><td>Athletics</td><td>Ireland</td><td>2</td><td>0</td><td>2</td><td>4</td></tr><tr><td>FIODOROW Joanna</td><td>Poland</td><td>Athletics</td><td>Poland</td><td>4</td><td>5</td><td>5</td><td>14</td></tr><tr><td>FIRFIRICA Alin Alexandru</td><td>Romania</td><td>Athletics</td><td>Romania</td><td>1</td><td>3</td><td>0</td><td>4</td></tr><tr><td>FISHER Grant</td><td>United States of America</td><td>Athletics</td><td>United States of America</td><td>39</td><td>41</td><td>33</td><td>113</td></tr><tr><td>FLANAGAN Benjamin</td><td>Canada</td><td>Athletics</td><td>Canada</td><td>7</td><td>6</td><td>11</td><td>24</td></tr><tr><td>FLANAGAN Eilish</td><td>Ireland</td><td>Athletics</td><td>Ireland</td><td>2</td><td>0</td><td>2</td><td>4</td></tr><tr><td>FOFANA Hassane</td><td>Italy</td><td>Athletics</td><td>Italy</td><td>10</td><td>10</td><td>20</td><td>40</td></tr><tr><td>FOLORUNSO Ayomide</td><td>Italy</td><td>Athletics</td><td>Italy</td><td>10</td><td>10</td><td>20</td><td>40</td></tr><tr><td>FONTANA Vittoria</td><td>Italy</td><td>Athletics</td><td>Italy</td><td>10</td><td>10</td><td>20</td><td>40</td></tr><tr><td>FONTES Ignacio</td><td>Spain</td><td>Athletics</td><td>Spain</td><td>3</td><td>8</td><td>6</td><td>17</td></tr><tr><td>FOPPEN Mike</td><td>Netherlands</td><td>Athletics</td><td>Netherlands</td><td>10</td><td>12</td><td>14</td><td>36</td></tr><tr><td>FORTE Julian</td><td>Jamaica</td><td>Athletics</td><td>Jamaica</td><td>4</td><td>1</td><td>4</td><td>9</td></tr><tr><td>FORTUNATO Francesco</td><td>Italy</td><td>Athletics</td><td>Italy</td><td>10</td><td>10</td><td>20</td><td>40</td></tr><tr><td>FOSTI Roman</td><td>Estonia</td><td>Athletics</td><td>Estonia</td><td>1</td><td>0</td><td>1</td><td>2</td></tr><tr><td>FRANKLIN Tori</td><td>United States of America</td><td>Athletics</td><td>United States of America</td><td>39</td><td>41</td><td>33</td><td>113</td></tr><tr><td>FRANTZESKAKIS Christos</td><td>Greece</td><td>Athletics</td><td>Greece</td><td>2</td><td>1</td><td>1</td><td>4</td></tr><tr><td>FRASER-PRYCE Shelly-Ann</td><td>Jamaica</td><td>Athletics</td><td>Jamaica</td><td>4</td><td>1</td><td>4</td><td>9</td></tr><tr><td>FRAYNE Henry</td><td>Australia</td><td>Athletics</td><td>Australia</td><td>17</td><td>7</td><td>22</td><td>46</td></tr><tr><td>FREITAS HENRIQUES Anderson</td><td>Brazil</td><td>Athletics</td><td>Brazil</td><td>7</td><td>6</td><td>8</td><td>21</td></tr><tr><td>FRERICHS Courtney</td><td>United States of America</td><td>Athletics</td><td>United States of America</td><td>39</td><td>41</td><td>33</td><td>113</td></tr><tr><td>FUJII Nanako</td><td>Japan</td><td>Athletics</td><td>Japan</td><td>27</td><td>14</td><td>17</td><td>58</td></tr><tr><td>GACKA Kinga</td><td>Poland</td><td>Athletics</td><td>Poland</td><td>4</td><td>5</td><td>5</td><td>14</td></tr><tr><td>GAITHER Tynia</td><td>Bahamas</td><td>Athletics</td><td>Bahamas</td><td>2</td><td>0</td><td>0</td><td>2</td></tr><tr><td>GAJANOVA Gabriela</td><td>Slovakia</td><td>Athletics</td><td>Slovakia</td><td>1</td><td>2</td><td>1</td><td>4</td></tr><tr><td>GALANT Martyna</td><td>Poland</td><td>Athletics</td><td>Poland</td><td>4</td><td>5</td><td>5</td><td>14</td></tr><tr><td>GALE Lauren</td><td>Canada</td><td>Athletics</td><td>Canada</td><td>7</td><td>6</td><td>11</td><td>24</td></tr><tr><td>GALE Tom</td><td>Great Britain</td><td>Athletics</td><td>Great Britain</td><td>22</td><td>21</td><td>22</td><td>65</td></tr><tr><td>GALIMANY Marta</td><td>Spain</td><td>Athletics</td><td>Spain</td><td>3</td><td>8</td><td>6</td><td>17</td></tr><tr><td>GALLEGO Sara</td><td>Spain</td><td>Athletics</td><td>Spain</td><td>3</td><td>8</td><td>6</td><td>17</td></tr><tr><td>GALVAN Matteo</td><td>Italy</td><td>Athletics</td><td>Italy</td><td>10</td><td>10</td><td>20</td><td>40</td></tr><tr><td>GALVIS Sandra Viviana</td><td>Colombia</td><td>Athletics</td><td>Colombia</td><td>0</td><td>4</td><td>1</td><td>5</td></tr><tr><td>GAMBETTA Sara</td><td>Germany</td><td>Athletics</td><td>Germany</td><td>10</td><td>11</td><td>16</td><td>37</td></tr><tr><td>GAO Yang</td><td>People's Republic of China</td><td>Athletics</td><td>People's Republic of China</td><td>38</td><td>32</td><td>18</td><td>88</td></tr><tr><td>GARCIA Diego</td><td>Spain</td><td>Athletics</td><td>Spain</td><td>3</td><td>8</td><td>6</td><td>17</td></tr><tr><td>GARCIA Jesus Angel</td><td>Spain</td><td>Athletics</td><td>Spain</td><td>3</td><td>8</td><td>6</td><td>17</td></tr><tr><td>GARCIA Samuel</td><td>Spain</td><td>Athletics</td><td>Spain</td><td>3</td><td>8</td><td>6</td><td>17</td></tr><tr><td>GARCIA-CARO Laura</td><td>Spain</td><td>Athletics</td><td>Spain</td><td>3</td><td>8</td><td>6</td><td>17</td></tr><tr><td>GARDINER Steven</td><td>Bahamas</td><td>Athletics</td><td>Bahamas</td><td>2</td><td>0</td><td>0</td><td>2</td></tr><tr><td>GARDNER English</td><td>United States of America</td><td>Athletics</td><td>United States of America</td><td>39</td><td>41</td><td>33</td><td>113</td></tr><tr><td>GARDZIELEWSKI Arkadiusz</td><td>Poland</td><td>Athletics</td><td>Poland</td><td>4</td><td>5</td><td>5</td><td>14</td></tr><tr><td>GARIA Christopher</td><td>Netherlands</td><td>Athletics</td><td>Netherlands</td><td>10</td><td>12</td><td>14</td><td>36</td></tr><tr><td>GASCH Loic</td><td>Switzerland</td><td>Athletics</td><td>Switzerland</td><td>3</td><td>4</td><td>6</td><td>13</td></tr><tr><td>GAY John</td><td>Canada</td><td>Athletics</td><td>Canada</td><td>7</td><td>6</td><td>11</td><td>24</td></tr><tr><td>GAYE Demish</td><td>Jamaica</td><td>Athletics</td><td>Jamaica</td><td>4</td><td>1</td><td>4</td><td>9</td></tr><tr><td>GAYLE Tajay</td><td>Jamaica</td><td>Athletics</td><td>Jamaica</td><td>4</td><td>1</td><td>4</td><td>9</td></tr><tr><td>GDULA Lukas</td><td>Czech Republic</td><td>Athletics</td><td>Czech Republic</td><td>4</td><td>4</td><td>3</td><td>11</td></tr><tr><td>GE Manqi</td><td>People's Republic of China</td><td>Athletics</td><td>People's Republic of China</td><td>38</td><td>32</td><td>18</td><td>88</td></tr><tr><td>GEBREEZIBEHER Freweyni</td><td>Ethiopia</td><td>Athletics</td><td>Ethiopia</td><td>1</td><td>1</td><td>2</td><td>4</td></tr><tr><td>GEBRESELAMA Tsigie</td><td>Ethiopia</td><td>Athletics</td><td>Ethiopia</td><td>1</td><td>1</td><td>2</td><td>4</td></tr><tr><td>GEBRHIWET Hagos</td><td>Ethiopia</td><td>Athletics</td><td>Ethiopia</td><td>1</td><td>1</td><td>2</td><td>4</td></tr><tr><td>GELANT Elroy</td><td>South Africa</td><td>Athletics</td><td>South Africa</td><td>1</td><td>2</td><td>0</td><td>3</td></tr><tr><td>GEMECHU Tsehay</td><td>Ethiopia</td><td>Athletics</td><td>Ethiopia</td><td>1</td><td>1</td><td>2</td><td>4</td></tr><tr><td>GEMILI Adam</td><td>Great Britain</td><td>Athletics</td><td>Great Britain</td><td>22</td><td>21</td><td>22</td><td>65</td></tr><tr><td>GERASHCHENKO Iryna</td><td>Ukraine</td><td>Athletics</td><td>Ukraine</td><td>1</td><td>6</td><td>12</td><td>19</td></tr><tr><td>GEZAHEGNE Kalkidan</td><td>Bahrain</td><td>Athletics</td><td>Bahrain</td><td>0</td><td>1</td><td>0</td><td>1</td></tr><tr><td>GHAZAL Majd Eddin</td><td>Syrian Arab Republic</td><td>Athletics</td><td>Syrian Arab Republic</td><td>0</td><td>0</td><td>1</td><td>1</td></tr><tr><td>GHEBREHIWET FANIEL Eyob</td><td>Italy</td><td>Athletics</td><td>Italy</td><td>10</td><td>10</td><td>20</td><td>40</td></tr><tr><td>GHELBER Bianca Florentina</td><td>Romania</td><td>Athletics</td><td>Romania</td><td>1</td><td>3</td><td>0</td><td>4</td></tr><tr><td>GIDEY Letesenbet</td><td>Ethiopia</td><td>Athletics</td><td>Ethiopia</td><td>1</td><td>1</td><td>2</td><td>4</td></tr><tr><td>GIERISCH Kristin</td><td>Germany</td><td>Athletics</td><td>Germany</td><td>10</td><td>11</td><td>16</td><td>37</td></tr><tr><td>GIGER Yasmin</td><td>Switzerland</td><td>Athletics</td><td>Switzerland</td><td>3</td><td>4</td><td>6</td><td>13</td></tr><tr><td>GILAVERT Louis</td><td>France</td><td>Athletics</td><td>France</td><td>10</td><td>12</td><td>11</td><td>33</td></tr><tr><td>GILES Elliot</td><td>Great Britain</td><td>Athletics</td><td>Great Britain</td><td>22</td><td>21</td><td>22</td><td>65</td></tr><tr><td>GILL Jacko</td><td>New Zealand</td><td>Athletics</td><td>New Zealand</td><td>7</td><td>6</td><td>7</td><td>20</td></tr><tr><td>GILLAROVA Irena</td><td>Czech Republic</td><td>Athletics</td><td>Czech Republic</td><td>4</td><td>4</td><td>3</td><td>11</td></tr><tr><td>GILLESPIE Cravon</td><td>United States of America</td><td>Athletics</td><td>United States of America</td><td>39</td><td>41</td><td>33</td><td>113</td></tr><tr><td>GIORGI Eleonora Anna</td><td>Italy</td><td>Athletics</td><td>Italy</td><td>10</td><td>10</td><td>20</td><td>40</td></tr><tr><td>GIRMA Lamecha</td><td>Ethiopia</td><td>Athletics</td><td>Ethiopia</td><td>1</td><td>1</td><td>2</td><td>4</td></tr><tr><td>GIRMA Tigist</td><td>Ethiopia</td><td>Athletics</td><td>Ethiopia</td><td>1</td><td>1</td><td>2</td><td>4</td></tr><tr><td>GIUPPONI Matteo</td><td>Italy</td><td>Athletics</td><td>Italy</td><td>10</td><td>10</td><td>20</td><td>40</td></tr><tr><td>GLEADLE Elizabeth</td><td>Canada</td><td>Athletics</td><td>Canada</td><td>7</td><td>6</td><td>11</td><td>24</td></tr><tr><td>GLEBAUSKAS Adrijus</td><td>Lithuania</td><td>Athletics</td><td>Lithuania</td><td>0</td><td>1</td><td>0</td><td>1</td></tr><tr><td>GLENNER-FRANDSEN Astrid</td><td>Denmark</td><td>Athletics</td><td>Denmark</td><td>3</td><td>4</td><td>4</td><td>11</td></tr><tr><td>GODBLESS Tima</td><td>Nigeria</td><td>Athletics</td><td>Nigeria</td><td>0</td><td>1</td><td>1</td><td>2</td></tr><tr><td>GODWIN Elija</td><td>United States of America</td><td>Athletics</td><td>United States of America</td><td>39</td><td>41</td><td>33</td><td>113</td></tr><tr><td>GOLA Marlena</td><td>Poland</td><td>Athletics</td><td>Poland</td><td>4</td><td>5</td><td>5</td><td>14</td></tr><tr><td>GOLITIN Amaury</td><td>France</td><td>Athletics</td><td>France</td><td>10</td><td>12</td><td>11</td><td>33</td></tr><tr><td>GOLODNA Olha</td><td>Ukraine</td><td>Athletics</td><td>Ukraine</td><td>1</td><td>6</td><td>12</td><td>19</td></tr><tr><td>GOMES de SOUZA MAZZO Lucas</td><td>Brazil</td><td>Athletics</td><td>Brazil</td><td>7</td><td>6</td><td>8</td><td>21</td></tr><tr><td>GOMEZ Jesus</td><td>Spain</td><td>Athletics</td><td>Spain</td><td>3</td><td>8</td><td>6</td><td>17</td></tr><tr><td>GOMEZ Marcela Cristina</td><td>Argentina</td><td>Athletics</td><td>Argentina</td><td>0</td><td>1</td><td>2</td><td>3</td></tr><tr><td>GOMEZ Roxana</td><td>Cuba</td><td>Athletics</td><td>Cuba</td><td>7</td><td>3</td><td>5</td><td>15</td></tr><tr><td>GONG Lijiao</td><td>People's Republic of China</td><td>Athletics</td><td>People's Republic of China</td><td>38</td><td>32</td><td>18</td><td>88</td></tr><tr><td>GONSKA Nadine</td><td>Germany</td><td>Athletics</td><td>Germany</td><td>10</td><td>11</td><td>16</td><td>37</td></tr><tr><td>GONZALEZ Alegna</td><td>Mexico</td><td>Athletics</td><td>Mexico</td><td>0</td><td>0</td><td>4</td><td>4</td></tr><tr><td>GONZALEZ Ivan Dario</td><td>Colombia</td><td>Athletics</td><td>Colombia</td><td>0</td><td>4</td><td>1</td><td>5</td></tr><tr><td>GONZALEZ Melissa</td><td>Colombia</td><td>Athletics</td><td>Colombia</td><td>0</td><td>4</td><td>1</td><td>5</td></tr><tr><td>GONZALEZ Raquel</td><td>Spain</td><td>Athletics</td><td>Spain</td><td>3</td><td>8</td><td>6</td><td>17</td></tr><tr><td>GORISSEN Mieke</td><td>Belgium</td><td>Athletics</td><td>Belgium</td><td>3</td><td>1</td><td>3</td><td>7</td></tr><tr><td>GOULE Natoya</td><td>Jamaica</td><td>Athletics</td><td>Jamaica</td><td>4</td><td>1</td><td>4</td><td>9</td></tr><tr><td>GRANZ Caterina</td><td>Germany</td><td>Athletics</td><td>Germany</td><td>10</td><td>11</td><td>16</td><td>37</td></tr><tr><td>GRAVERSGAARD Mette</td><td>Denmark</td><td>Athletics</td><td>Denmark</td><td>3</td><td>4</td><td>4</td><td>11</td></tr><tr><td>GREENE Cillin</td><td>Ireland</td><td>Athletics</td><td>Ireland</td><td>2</td><td>0</td><td>2</td><td>4</td></tr><tr><td>GREGSON Genevieve</td><td>Australia</td><td>Athletics</td><td>Australia</td><td>17</td><td>7</td><td>22</td><td>46</td></tr><tr><td>GRESSIER Jimmy</td><td>France</td><td>Athletics</td><td>France</td><td>10</td><td>12</td><td>11</td><td>33</td></tr><tr><td>GRIFFITH Georgia</td><td>Australia</td><td>Athletics</td><td>Australia</td><td>17</td><td>7</td><td>22</td><td>46</td></tr><tr><td>GRIMES Isaac</td><td>United States of America</td><td>Athletics</td><td>United States of America</td><td>39</td><td>41</td><td>33</td><td>113</td></tr><tr><td>GRIMM Vanessa</td><td>Germany</td><td>Athletics</td><td>Germany</td><td>10</td><td>11</td><td>16</td><td>37</td></tr><tr><td>GROVDAL Karoline Bjerkeli</td><td>Norway</td><td>Athletics</td><td>Norway</td><td>4</td><td>2</td><td>2</td><td>8</td></tr><tr><td>GRUVER Olivia</td><td>United States of America</td><td>Athletics</td><td>United States of America</td><td>39</td><td>41</td><td>33</td><td>113</td></tr><tr><td>GRZEGORZEWICZ Patryk</td><td>Poland</td><td>Athletics</td><td>Poland</td><td>4</td><td>5</td><td>5</td><td>14</td></tr><tr><td>GUBA Paulina</td><td>Poland</td><td>Athletics</td><td>Poland</td><td>4</td><td>5</td><td>5</td><td>14</td></tr><tr><td>GUDZIUS Andrius</td><td>Lithuania</td><td>Athletics</td><td>Lithuania</td><td>0</td><td>1</td><td>0</td><td>1</td></tr><tr><td>GUEI Floria</td><td>France</td><td>Athletics</td><td>France</td><td>10</td><td>12</td><td>11</td><td>33</td></tr><tr><td>GUERRA Javier</td><td>Spain</td><td>Athletics</td><td>Spain</td><td>3</td><td>8</td><td>6</td><td>17</td></tr><tr><td>GUERRERO Esther</td><td>Spain</td><td>Athletics</td><td>Spain</td><td>3</td><td>8</td><td>6</td><td>17</td></tr><tr><td>GUERRERO Ilse</td><td>Mexico</td><td>Athletics</td><td>Mexico</td><td>0</td><td>0</td><td>4</td><td>4</td></tr><tr><td>GULELAURI Lasha</td><td>Georgia</td><td>Athletics</td><td>Georgia</td><td>2</td><td>5</td><td>1</td><td>8</td></tr><tr><td>GULIYEV Ramil</td><td>Turkey</td><td>Athletics</td><td>Turkey</td><td>2</td><td>2</td><td>9</td><td>13</td></tr><tr><td>GUTTORMSEN Sondre</td><td>Norway</td><td>Athletics</td><td>Norway</td><td>4</td><td>2</td><td>2</td><td>8</td></tr><tr><td>GUZOWSKA Paulina</td><td>Poland</td><td>Athletics</td><td>Poland</td><td>4</td><td>5</td><td>5</td><td>14</td></tr><tr><td>GYURATZ Reka</td><td>Hungary</td><td>Athletics</td><td>Hungary</td><td>6</td><td>7</td><td>7</td><td>20</td></tr><tr><td>HABZ Azeddine</td><td>France</td><td>Athletics</td><td>France</td><td>10</td><td>12</td><td>11</td><td>33</td></tr><tr><td>HADADI Ehsan</td><td>Islamic Republic of Iran</td><td>Athletics</td><td>Islamic Republic of Iran</td><td>3</td><td>2</td><td>2</td><td>7</td></tr><tr><td>HAGITANI Kaede</td><td>Japan</td><td>Athletics</td><td>Japan</td><td>27</td><td>14</td><td>17</td><td>58</td></tr><tr><td>HAILU Lemlem</td><td>Ethiopia</td><td>Athletics</td><td>Ethiopia</td><td>1</td><td>1</td><td>2</td><td>4</td></tr><tr><td>HAJDARI Musa</td><td>Kosovo</td><td>Athletics</td><td>Kosovo</td><td>2</td><td>0</td><td>0</td><td>2</td></tr><tr><td>HALASZ Bence</td><td>Hungary</td><td>Athletics</td><td>Hungary</td><td>6</td><td>7</td><td>7</td><td>20</td></tr><tr><td>HALL Linden</td><td>Australia</td><td>Athletics</td><td>Australia</td><td>17</td><td>7</td><td>22</td><td>46</td></tr><tr><td>HAMZA Mohamed Magdi</td><td>Egypt</td><td>Athletics</td><td>Egypt</td><td>1</td><td>1</td><td>4</td><td>6</td></tr><tr><td>HANSEN Simon</td><td>Denmark</td><td>Athletics</td><td>Denmark</td><td>3</td><td>4</td><td>4</td><td>11</td></tr><tr><td>HARATYK Michal</td><td>Poland</td><td>Athletics</td><td>Poland</td><td>4</td><td>5</td><td>5</td><td>14</td></tr><tr><td>HARI Kristoffer</td><td>Denmark</td><td>Athletics</td><td>Denmark</td><td>3</td><td>4</td><td>4</td><td>11</td></tr><tr><td>HARRIS Isaiah</td><td>United States of America</td><td>Athletics</td><td>United States of America</td><td>39</td><td>41</td><td>33</td><td>113</td></tr><tr><td>HARRISON Juvaughn</td><td>United States of America</td><td>Athletics</td><td>United States of America</td><td>39</td><td>41</td><td>33</td><td>113</td></tr><tr><td>HARRISON Kendra</td><td>United States of America</td><td>Athletics</td><td>United States of America</td><td>39</td><td>41</td><td>33</td><td>113</td></tr><tr><td>HARTING Christoph</td><td>Germany</td><td>Athletics</td><td>Germany</td><td>10</td><td>11</td><td>16</td><td>37</td></tr><tr><td>HARTMANN Joshua</td><td>Germany</td><td>Athletics</td><td>Germany</td><td>10</td><td>11</td><td>16</td><td>37</td></tr><tr><td>HASHIOKA Yuki</td><td>Japan</td><td>Athletics</td><td>Japan</td><td>27</td><td>14</td><td>17</td><td>58</td></tr><tr><td>HASSAN Abdirahman Saeed</td><td>Qatar</td><td>Athletics</td><td>Qatar</td><td>2</td><td>0</td><td>1</td><td>3</td></tr><tr><td>HASSAN Mostafa Amr</td><td>Egypt</td><td>Athletics</td><td>Egypt</td><td>1</td><td>1</td><td>4</td><td>6</td></tr><tr><td>HASSAN Sifan</td><td>Netherlands</td><td>Athletics</td><td>Netherlands</td><td>10</td><td>12</td><td>14</td><td>36</td></tr><tr><td>HATTORI Yuma</td><td>Japan</td><td>Athletics</td><td>Japan</td><td>27</td><td>14</td><td>17</td><td>58</td></tr><tr><td>HAUGH Daniel</td><td>United States of America</td><td>Athletics</td><td>United States of America</td><td>39</td><td>41</td><td>33</td><td>113</td></tr><tr><td>HAUKENES Havard</td><td>Norway</td><td>Athletics</td><td>Norway</td><td>4</td><td>2</td><td>2</td><td>8</td></tr><tr><td>HAVRYLIUK Mykhailo</td><td>Ukraine</td><td>Athletics</td><td>Ukraine</td><td>1</td><td>6</td><td>12</td><td>19</td></tr><tr><td>HAWKINS Callum</td><td>Great Britain</td><td>Athletics</td><td>Great Britain</td><td>22</td><td>21</td><td>22</td><td>65</td></tr><tr><td>HAWTHORN Natalia</td><td>Canada</td><td>Athletics</td><td>Canada</td><td>7</td><td>6</td><td>11</td><td>24</td></tr><tr><td>HAY Hugo</td><td>France</td><td>Athletics</td><td>France</td><td>10</td><td>12</td><td>11</td><td>33</td></tr><tr><td>HAYES Quanera</td><td>United States of America</td><td>Athletics</td><td>United States of America</td><td>39</td><td>41</td><td>33</td><td>113</td></tr><tr><td>HAYWARD Katie</td><td>Australia</td><td>Athletics</td><td>Australia</td><td>17</td><td>7</td><td>22</td><td>46</td></tr><tr><td>HEALY Phil</td><td>Ireland</td><td>Athletics</td><td>Ireland</td><td>2</td><td>0</td><td>2</td><td>4</td></tr><tr><td>HEALY Sarah</td><td>Ireland</td><td>Athletics</td><td>Ireland</td><td>2</td><td>0</td><td>2</td><td>4</td></tr><tr><td>HECHAVARRIA Zurian</td><td>Cuba</td><td>Athletics</td><td>Cuba</td><td>7</td><td>3</td><td>5</td><td>15</td></tr><tr><td>HEINLE Fabian</td><td>Germany</td><td>Athletics</td><td>Germany</td><td>10</td><td>11</td><td>16</td><td>37</td></tr><tr><td>HEJNOVA Zuzana</td><td>Czech Republic</td><td>Athletics</td><td>Czech Republic</td><td>4</td><td>4</td><td>3</td><td>11</td></tr><tr><td>HELCELET Adam Sebastian</td><td>Czech Republic</td><td>Athletics</td><td>Czech Republic</td><td>4</td><td>4</td><td>3</td><td>11</td></tr><tr><td>HELEBRANDT Mate</td><td>Hungary</td><td>Athletics</td><td>Hungary</td><td>6</td><td>7</td><td>7</td><td>20</td></tr><tr><td>HEMIDA Bassant</td><td>Egypt</td><td>Athletics</td><td>Egypt</td><td>1</td><td>1</td><td>4</td><td>6</td></tr><tr><td>HENDERSON Rebecca</td><td>Australia</td><td>Athletics</td><td>Australia</td><td>17</td><td>7</td><td>22</td><td>46</td></tr><tr><td>HENDRIX Robin</td><td>Belgium</td><td>Athletics</td><td>Belgium</td><td>3</td><td>1</td><td>3</td><td>7</td></tr><tr><td>HENRIKSEN Eivind</td><td>Norway</td><td>Athletics</td><td>Norway</td><td>4</td><td>2</td><td>2</td><td>8</td></tr><tr><td>HERING Christina</td><td>Germany</td><td>Athletics</td><td>Germany</td><td>10</td><td>11</td><td>16</td><td>37</td></tr><tr><td>HERMAN Elvira</td><td>Belarus</td><td>Athletics</td><td>Belarus</td><td>1</td><td>3</td><td>3</td><td>7</td></tr><tr><td>HERRERA ABREU Johanelis</td><td>Italy</td><td>Athletics</td><td>Italy</td><td>10</td><td>10</td><td>20</td><td>40</td></tr><tr><td>HERZOG Peter</td><td>Austria</td><td>Athletics</td><td>Austria</td><td>1</td><td>1</td><td>5</td><td>7</td></tr><tr><td>HESS Max</td><td>Germany</td><td>Athletics</td><td>Germany</td><td>10</td><td>11</td><td>16</td><td>37</td></tr><tr><td>HESSELBJERG Ole</td><td>Denmark</td><td>Athletics</td><td>Denmark</td><td>3</td><td>4</td><td>4</td><td>11</td></tr><tr><td>HEYWARD Jake</td><td>Great Britain</td><td>Athletics</td><td>Great Britain</td><td>22</td><td>21</td><td>22</td><td>65</td></tr><tr><td>HICKLING Tissanna</td><td>Jamaica</td><td>Athletics</td><td>Jamaica</td><td>4</td><td>1</td><td>4</td><td>9</td></tr><tr><td>HICKS Malcolm</td><td>New Zealand</td><td>Athletics</td><td>New Zealand</td><td>7</td><td>6</td><td>7</td><td>20</td></tr><tr><td>HILBERT Jonathan</td><td>Germany</td><td>Athletics</td><td>Germany</td><td>10</td><td>11</td><td>16</td><td>37</td></tr><tr><td>HILL Darrell</td><td>United States of America</td><td>Athletics</td><td>United States of America</td><td>39</td><td>41</td><td>33</td><td>113</td></tr><tr><td>HIRONAKA Ririka</td><td>Japan</td><td>Athletics</td><td>Japan</td><td>27</td><td>14</td><td>17</td><td>58</td></tr><tr><td>HLADIYCHUK Yana</td><td>Ukraine</td><td>Athletics</td><td>Ukraine</td><td>1</td><td>6</td><td>12</td><td>19</td></tr><tr><td>HLAVAC Vit</td><td>Czech Republic</td><td>Athletics</td><td>Czech Republic</td><td>4</td><td>4</td><td>3</td><td>11</td></tr><tr><td>HOARE Oliver</td><td>Australia</td><td>Athletics</td><td>Australia</td><td>17</td><td>7</td><td>22</td><td>46</td></tr><tr><td>HOBBS Aleia</td><td>United States of America</td><td>Athletics</td><td>United States of America</td><td>39</td><td>41</td><td>33</td><td>113</td></tr><tr><td>HOCKER Cole</td><td>United States of America</td><td>Athletics</td><td>United States of America</td><td>39</td><td>41</td><td>33</td><td>113</td></tr><tr><td>HODEL Andrina</td><td>Switzerland</td><td>Athletics</td><td>Switzerland</td><td>3</td><td>4</td><td>6</td><td>13</td></tr><tr><td>HODGKINSON Keely</td><td>Great Britain</td><td>Athletics</td><td>Great Britain</td><td>22</td><td>21</td><td>22</td><td>65</td></tr><tr><td>HOFBAUER Trevor</td><td>Canada</td><td>Athletics</td><td>Canada</td><td>7</td><td>6</td><td>11</td><td>24</td></tr><tr><td>HOFFMANN Lore</td><td>Switzerland</td><td>Athletics</td><td>Switzerland</td><td>3</td><td>4</td><td>6</td><td>13</td></tr><tr><td>HOFMANN Andreas</td><td>Germany</td><td>Athletics</td><td>Germany</td><td>10</td><td>11</td><td>16</td><td>37</td></tr><tr><td>HOLLOWAY Grant</td><td>United States of America</td><td>Athletics</td><td>United States of America</td><td>39</td><td>41</td><td>33</td><td>113</td></tr><tr><td>HOLTERMAN Jill</td><td>Netherlands</td><td>Athletics</td><td>Netherlands</td><td>10</td><td>12</td><td>14</td><td>36</td></tr><tr><td>HOLUB-KOWALIK Malgorzata</td><td>Poland</td><td>Athletics</td><td>Poland</td><td>4</td><td>5</td><td>5</td><td>14</td></tr><tr><td>HOOPER Gloria</td><td>Italy</td><td>Athletics</td><td>Italy</td><td>10</td><td>10</td><td>20</td><td>40</td></tr><tr><td>HOPPEL Bryce</td><td>United States of America</td><td>Athletics</td><td>United States of America</td><td>39</td><td>41</td><td>33</td><td>113</td></tr><tr><td>HORODYSKYY Bohdan-Ivan</td><td>Ukraine</td><td>Athletics</td><td>Ukraine</td><td>1</td><td>6</td><td>12</td><td>19</td></tr><tr><td>HORVAT Anita</td><td>Slovenia</td><td>Athletics</td><td>Slovenia</td><td>3</td><td>1</td><td>1</td><td>5</td></tr><tr><td>HOUGH Nicholas</td><td>Australia</td><td>Athletics</td><td>Australia</td><td>17</td><td>7</td><td>22</td><td>46</td></tr><tr><td>HRASNOVA Martina</td><td>Slovakia</td><td>Athletics</td><td>Slovakia</td><td>1</td><td>2</td><td>1</td><td>4</td></tr><tr><td>HROCHOVA Tereza</td><td>Czech Republic</td><td>Athletics</td><td>Czech Republic</td><td>4</td><td>4</td><td>3</td><td>11</td></tr><tr><td>HSIEH Hsi-En</td><td>Chinese Taipei</td><td>Athletics</td><td>Chinese Taipei</td><td>2</td><td>4</td><td>6</td><td>12</td></tr><tr><td>HUANG Bokai</td><td>People's Republic of China</td><td>Athletics</td><td>People's Republic of China</td><td>38</td><td>32</td><td>18</td><td>88</td></tr><tr><td>HUANG Changzhou</td><td>People's Republic of China</td><td>Athletics</td><td>People's Republic of China</td><td>38</td><td>32</td><td>18</td><td>88</td></tr><tr><td>HUANG Guifen</td><td>People's Republic of China</td><td>Athletics</td><td>People's Republic of China</td><td>38</td><td>32</td><td>18</td><td>88</td></tr><tr><td>HUANG Shih-Feng</td><td>Chinese Taipei</td><td>Athletics</td><td>Chinese Taipei</td><td>2</td><td>4</td><td>6</td><td>12</td></tr><tr><td>HUBBARD Kendra</td><td>Australia</td><td>Athletics</td><td>Australia</td><td>17</td><td>7</td><td>22</td><td>46</td></tr><tr><td>HUDSON Victoria</td><td>Austria</td><td>Athletics</td><td>Austria</td><td>1</td><td>1</td><td>5</td><td>7</td></tr><tr><td>HUDSON-SMITH Matthew</td><td>Great Britain</td><td>Athletics</td><td>Great Britain</td><td>22</td><td>21</td><td>22</td><td>65</td></tr><tr><td>HUGHES Matthew</td><td>Canada</td><td>Athletics</td><td>Canada</td><td>7</td><td>6</td><td>11</td><td>24</td></tr><tr><td>HUGHES Zharnel</td><td>Great Britain</td><td>Athletics</td><td>Great Britain</td><td>22</td><td>21</td><td>22</td><td>65</td></tr><tr><td>HULL Jessica</td><td>Australia</td><td>Athletics</td><td>Australia</td><td>17</td><td>7</td><td>22</td><td>46</td></tr><tr><td>HUNTER Charlie</td><td>Australia</td><td>Athletics</td><td>Australia</td><td>17</td><td>7</td><td>22</td><td>46</td></tr><tr><td>HUNTINGTON Maria</td><td>Finland</td><td>Athletics</td><td>Finland</td><td>0</td><td>0</td><td>2</td><td>2</td></tr><tr><td>HURSKE Reetta</td><td>Finland</td><td>Athletics</td><td>Finland</td><td>0</td><td>0</td><td>2</td><td>2</td></tr><tr><td>HURTADO David</td><td>Ecuador</td><td>Athletics</td><td>Ecuador</td><td>2</td><td>1</td><td>0</td><td>3</td></tr><tr><td>HUSILLOS Oscar</td><td>Spain</td><td>Athletics</td><td>Spain</td><td>3</td><td>8</td><td>6</td><td>17</td></tr><tr><td>HUSSEIN Kariem</td><td>Switzerland</td><td>Athletics</td><td>Switzerland</td><td>3</td><td>4</td><td>6</td><td>13</td></tr><tr><td>HUSSONG Christin</td><td>Germany</td><td>Athletics</td><td>Germany</td><td>10</td><td>11</td><td>16</td><td>37</td></tr><tr><td>HYNNE Hedda</td><td>Norway</td><td>Athletics</td><td>Norway</td><td>4</td><td>2</td><td>2</td><td>8</td></tr><tr><td>IBARGUEN Caterine</td><td>Colombia</td><td>Athletics</td><td>Colombia</td><td>0</td><td>4</td><td>1</td><td>5</td></tr><tr><td>ICHIYAMA Mao</td><td>Japan</td><td>Athletics</td><td>Japan</td><td>27</td><td>14</td><td>17</td><td>58</td></tr><tr><td>IGAUNE Laura</td><td>Latvia</td><td>Athletics</td><td>Latvia</td><td>1</td><td>0</td><td>1</td><td>2</td></tr><tr><td>IHEMEJE Emanuel</td><td>Italy</td><td>Athletics</td><td>Italy</td><td>10</td><td>10</td><td>20</td><td>40</td></tr><tr><td>IIZUKA Shota</td><td>Japan</td><td>Athletics</td><td>Japan</td><td>27</td><td>14</td><td>17</td><td>58</td></tr><tr><td>IKEDA Koki</td><td>Japan</td><td>Athletics</td><td>Japan</td><td>27</td><td>14</td><td>17</td><td>58</td></tr><tr><td>IKI Aiko</td><td>Japan</td><td>Athletics</td><td>Japan</td><td>27</td><td>14</td><td>17</td><td>58</td></tr><tr><td>IMUK Abdulselam</td><td>Turkey</td><td>Athletics</td><td>Turkey</td><td>2</td><td>2</td><td>9</td><td>13</td></tr><tr><td>INCE Ariana</td><td>United States of America</td><td>Athletics</td><td>United States of America</td><td>39</td><td>41</td><td>33</td><td>113</td></tr><tr><td>INFANTINO Antonio</td><td>Italy</td><td>Athletics</td><td>Italy</td><td>10</td><td>10</td><td>20</td><td>40</td></tr><tr><td>INGEBRIGTSEN Filip</td><td>Norway</td><td>Athletics</td><td>Norway</td><td>4</td><td>2</td><td>2</td><td>8</td></tr><tr><td>INGEBRIGTSEN Jakob</td><td>Norway</td><td>Athletics</td><td>Norway</td><td>4</td><td>2</td><td>2</td><td>8</td></tr><tr><td>INSAENG Subenrat</td><td>Thailand</td><td>Athletics</td><td>Thailand</td><td>1</td><td>0</td><td>1</td><td>2</td></tr><tr><td>IRBY Lynna</td><td>United States of America</td><td>Athletics</td><td>United States of America</td><td>39</td><td>41</td><td>33</td><td>113</td></tr><tr><td>ISCAYE Diana</td><td>France</td><td>Athletics</td><td>France</td><td>10</td><td>12</td><td>11</td><td>33</td></tr><tr><td>ISHIKAWA Yu</td><td>Japan</td><td>Athletics</td><td>Japan</td><td>27</td><td>14</td><td>17</td><td>58</td></tr><tr><td>ITO Rikuya</td><td>Japan</td><td>Athletics</td><td>Japan</td><td>27</td><td>14</td><td>17</td><td>58</td></tr><tr><td>ITO Tatsuhiko</td><td>Japan</td><td>Athletics</td><td>Japan</td><td>27</td><td>14</td><td>17</td><td>58</td></tr><tr><td>ITSEKIRI Usheoritse</td><td>Nigeria</td><td>Athletics</td><td>Nigeria</td><td>0</td><td>1</td><td>1</td><td>2</td></tr><tr><td>IUEL Amalie</td><td>Norway</td><td>Athletics</td><td>Norway</td><td>4</td><td>2</td><td>2</td><td>8</td></tr><tr><td>IUSCO Florentina Costina</td><td>Romania</td><td>Athletics</td><td>Romania</td><td>1</td><td>3</td><td>0</td><td>4</td></tr><tr><td>IVANOV Tihomir</td><td>Bulgaria</td><td>Athletics</td><td>Bulgaria</td><td>3</td><td>1</td><td>2</td><td>6</td></tr><tr><td>IVANYUK Ilya</td><td>ROC</td><td>Athletics</td><td>ROC</td><td>20</td><td>28</td><td>23</td><td>71</td></tr><tr><td>IZUMIYA Shunsuke</td><td>Japan</td><td>Athletics</td><td>Japan</td><td>27</td><td>14</td><td>17</td><td>58</td></tr><tr><td>JACKSON Shericka</td><td>Jamaica</td><td>Athletics</td><td>Jamaica</td><td>4</td><td>1</td><td>4</td><td>9</td></tr><tr><td>JACOB Amoj</td><td>India</td><td>Athletics</td><td>India</td><td>1</td><td>2</td><td>4</td><td>7</td></tr><tr><td>JACOBS Lamont Marcell</td><td>Italy</td><td>Athletics</td><td>Italy</td><td>10</td><td>10</td><td>20</td><td>40</td></tr><tr><td>JAGERS III Reggie</td><td>United States of America</td><td>Athletics</td><td>United States of America</td><td>39</td><td>41</td><td>33</td><td>113</td></tr><tr><td>JAINAGA Odei</td><td>Spain</td><td>Athletics</td><td>Spain</td><td>3</td><td>8</td><td>6</td><td>17</td></tr><tr><td>JAMAL Aminat</td><td>Bahrain</td><td>Athletics</td><td>Bahrain</td><td>0</td><td>1</td><td>0</td><td>1</td></tr><tr><td>JAMES Kirani</td><td>Grenada</td><td>Athletics</td><td>Grenada</td><td>0</td><td>0</td><td>1</td><td>1</td></tr><tr><td>JAMES Tiffany</td><td>Jamaica</td><td>Athletics</td><td>Jamaica</td><td>4</td><td>1</td><td>4</td><td>9</td></tr><tr><td>JANEZIC Luka</td><td>Slovenia</td><td>Athletics</td><td>Slovenia</td><td>3</td><td>1</td><td>1</td><td>5</td></tr><tr><td>JARAMILLO Karla</td><td>Ecuador</td><td>Athletics</td><td>Ecuador</td><td>2</td><td>1</td><td>0</td><td>3</td></tr><tr><td>JASINSKI Daniel</td><td>Germany</td><td>Athletics</td><td>Germany</td><td>10</td><td>11</td><td>16</td><td>37</td></tr><tr><td>JASIUNAITE Liveta</td><td>Lithuania</td><td>Athletics</td><td>Lithuania</td><td>0</td><td>1</td><td>0</td><td>1</td></tr><tr><td>JAT Bhawna</td><td>India</td><td>Athletics</td><td>India</td><td>1</td><td>2</td><td>4</td><td>7</td></tr><tr><td>JEBITOK Edinah</td><td>Kenya</td><td>Athletics</td><td>Kenya</td><td>4</td><td>4</td><td>2</td><td>10</td></tr><tr><td>JENKINS Tovea</td><td>Jamaica</td><td>Athletics</td><td>Jamaica</td><td>4</td><td>1</td><td>4</td><td>9</td></tr><tr><td>JEPCHIRCHIR Peres</td><td>Kenya</td><td>Athletics</td><td>Kenya</td><td>4</td><td>4</td><td>2</td><td>10</td></tr><tr><td>JEPTOOO Susan</td><td>France</td><td>Athletics</td><td>France</td><td>10</td><td>12</td><td>11</td><td>33</td></tr><tr><td>JEWETT Isaiah</td><td>United States of America</td><td>Athletics</td><td>United States of America</td><td>39</td><td>41</td><td>33</td><td>113</td></tr><tr><td>JIMENEZ Andrea</td><td>Spain</td><td>Athletics</td><td>Spain</td><td>3</td><td>8</td><td>6</td><td>17</td></tr><tr><td>JIMENEZ ARROBO Jordy Rafael</td><td>Ecuador</td><td>Athletics</td><td>Ecuador</td><td>2</td><td>1</td><td>0</td><td>3</td></tr><tr><td>JIN Minsub</td><td>Republic of Korea</td><td>Athletics</td><td>Republic of Korea</td><td>6</td><td>4</td><td>10</td><td>20</td></tr><tr><td>JIRKA Jan</td><td>Czech Republic</td><td>Athletics</td><td>Czech Republic</td><td>4</td><td>4</td><td>3</td><td>11</td></tr><tr><td>JOBODWANA Anaso</td><td>South Africa</td><td>Athletics</td><td>South Africa</td><td>1</td><td>2</td><td>0</td><td>3</td></tr><tr><td>JOGLOVA Marcela</td><td>Czech Republic</td><td>Athletics</td><td>Czech Republic</td><td>4</td><td>4</td><td>3</td><td>11</td></tr><tr><td>JOHANNES Helalia</td><td>Namibia</td><td>Athletics</td><td>Namibia</td><td>0</td><td>1</td><td>0</td><td>1</td></tr><tr><td>JOHANSSON Vidar</td><td>Sweden</td><td>Athletics</td><td>Sweden</td><td>3</td><td>6</td><td>0</td><td>9</td></tr><tr><td>JOHNSON Cheswill</td><td>South Africa</td><td>Athletics</td><td>South Africa</td><td>1</td><td>2</td><td>0</td><td>3</td></tr><tr><td>JOHNSON-THOMPSON Katarina</td><td>Great Britain</td><td>Athletics</td><td>Great Britain</td><td>22</td><td>21</td><td>22</td><td>65</td></tr><tr><td>JORDIER Thomas</td><td>France</td><td>Athletics</td><td>France</td><td>10</td><td>12</td><td>11</td><td>33</td></tr><tr><td>JOSE TIMA Ana Lucia</td><td>Dominican Republic</td><td>Athletics</td><td>Dominican Republic</td><td>0</td><td>3</td><td>2</td><td>5</td></tr><tr><td>JOSEPH Gemima</td><td>France</td><td>Athletics</td><td>France</td><td>10</td><td>12</td><td>11</td><td>33</td></tr><tr><td>JOSEPH Jason</td><td>Switzerland</td><td>Athletics</td><td>Switzerland</td><td>3</td><td>4</td><td>6</td><td>13</td></tr><tr><td>JOZWIK Joanna</td><td>Poland</td><td>Athletics</td><td>Poland</td><td>4</td><td>5</td><td>5</td><td>14</td></tr><tr><td>JUDD Jessica</td><td>Great Britain</td><td>Athletics</td><td>Great Britain</td><td>22</td><td>21</td><td>22</td><td>65</td></tr><tr><td>JUNGFLEISCH Marie-Laurence</td><td>Germany</td><td>Athletics</td><td>Germany</td><td>10</td><td>11</td><td>16</td><td>37</td></tr><tr><td>JUNGHANNSS Karl</td><td>Germany</td><td>Athletics</td><td>Germany</td><td>10</td><td>11</td><td>16</td><td>37</td></tr><tr><td>JUNIOR Aldemir</td><td>Brazil</td><td>Athletics</td><td>Brazil</td><td>7</td><td>6</td><td>8</td><td>21</td></tr><tr><td>JUNKER Torben</td><td>Germany</td><td>Athletics</td><td>Germany</td><td>10</td><td>11</td><td>16</td><td>37</td></tr><tr><td>JUNNILA Ella</td><td>Finland</td><td>Athletics</td><td>Finland</td><td>0</td><td>0</td><td>2</td><td>2</td></tr><tr><td>KAAZOUZI Brahim</td><td>Morocco</td><td>Athletics</td><td>Morocco</td><td>1</td><td>0</td><td>0</td><td>1</td></tr><tr><td>KACHUR Yana</td><td>Ukraine</td><td>Athletics</td><td>Ukraine</td><td>1</td><td>6</td><td>12</td><td>19</td></tr><tr><td>KACSER Zita</td><td>Hungary</td><td>Athletics</td><td>Hungary</td><td>6</td><td>7</td><td>7</td><td>20</td></tr><tr><td>KACZMAREK Natalia</td><td>Poland</td><td>Athletics</td><td>Poland</td><td>4</td><td>5</td><td>5</td><td>14</td></tr><tr><td>KADDARI Dalia</td><td>Italy</td><td>Athletics</td><td>Italy</td><td>10</td><td>10</td><td>20</td><td>40</td></tr><tr><td>KALII Hellen Syombua</td><td>Kenya</td><td>Athletics</td><td>Kenya</td><td>4</td><td>4</td><td>2</td><td>10</td></tr><tr><td>KAMANGA-DYRBAK Tazana Mikkel</td><td>Denmark</td><td>Athletics</td><td>Denmark</td><td>3</td><td>4</td><td>4</td><td>11</td></tr><tr><td>KAMBUNDJI Ditaji</td><td>Switzerland</td><td>Athletics</td><td>Switzerland</td><td>3</td><td>4</td><td>6</td><td>13</td></tr><tr><td>KAMBUNDJI Mujinga</td><td>Switzerland</td><td>Athletics</td><td>Switzerland</td><td>3</td><td>4</td><td>6</td><td>13</td></tr><tr><td>KAMWOROR Geoffrey</td><td>Kenya</td><td>Athletics</td><td>Kenya</td><td>4</td><td>4</td><td>2</td><td>10</td></tr><tr><td>KANAI Taio</td><td>Japan</td><td>Athletics</td><td>Japan</td><td>27</td><td>14</td><td>17</td><td>58</td></tr><tr><td>KARALIS Emmanouil</td><td>Greece</td><td>Athletics</td><td>Greece</td><td>2</td><td>1</td><td>1</td><td>4</td></tr><tr><td>KARDASZ Klaudia</td><td>Poland</td><td>Athletics</td><td>Poland</td><td>4</td><td>5</td><td>5</td><td>14</td></tr><tr><td>KARLSTROM Perseus</td><td>Sweden</td><td>Athletics</td><td>Sweden</td><td>3</td><td>6</td><td>0</td><td>9</td></tr><tr><td>KASSANAVOID Janee'</td><td>United States of America</td><td>Athletics</td><td>United States of America</td><td>39</td><td>41</td><td>33</td><td>113</td></tr><tr><td>KATERINKA CZAKOVA Maria</td><td>Slovakia</td><td>Athletics</td><td>Slovakia</td><td>1</td><td>2</td><td>1</td><td>4</td></tr><tr><td>KATIR Mohamed</td><td>Spain</td><td>Athletics</td><td>Spain</td><td>3</td><td>8</td><td>6</td><td>17</td></tr><tr><td>KATKAVETS Aliaksei</td><td>Belarus</td><td>Athletics</td><td>Belarus</td><td>1</td><td>3</td><td>3</td><td>7</td></tr><tr><td>KATSUKI Hayato</td><td>Japan</td><td>Athletics</td><td>Japan</td><td>27</td><td>14</td><td>17</td><td>58</td></tr><tr><td>KAUL Niklas</td><td>Germany</td><td>Athletics</td><td>Germany</td><td>10</td><td>11</td><td>16</td><td>37</td></tr><tr><td>KAUR Kamalpreet</td><td>India</td><td>Athletics</td><td>India</td><td>1</td><td>2</td><td>4</td><td>7</td></tr><tr><td>KAWABATA Kaito</td><td>Japan</td><td>Athletics</td><td>Japan</td><td>27</td><td>14</td><td>17</td><td>58</td></tr><tr><td>KAWANO Masatora</td><td>Japan</td><td>Athletics</td><td>Japan</td><td>27</td><td>14</td><td>17</td><td>58</td></tr><tr><td>KAZMIREK Kai</td><td>Germany</td><td>Athletics</td><td>Germany</td><td>10</td><td>11</td><td>16</td><td>37</td></tr><tr><td>KEJELCHA Yomif</td><td>Ethiopia</td><td>Athletics</td><td>Ethiopia</td><td>1</td><td>1</td><td>2</td><td>4</td></tr><tr><td>KEJETA Melat Yisak</td><td>Germany</td><td>Athletics</td><td>Germany</td><td>10</td><td>11</td><td>16</td><td>37</td></tr><tr><td>KELLY Madeleine</td><td>Canada</td><td>Athletics</td><td>Canada</td><td>7</td><td>6</td><td>11</td><td>24</td></tr><tr><td>KELLY Mariah</td><td>Canada</td><td>Athletics</td><td>Canada</td><td>7</td><td>6</td><td>11</td><td>24</td></tr><tr><td>KEMPPINEN Lotta</td><td>Finland</td><td>Athletics</td><td>Finland</td><td>0</td><td>0</td><td>2</td><td>2</td></tr><tr><td>KENDRICKS Sam</td><td>United States of America</td><td>Athletics</td><td>United States of America</td><td>39</td><td>41</td><td>33</td><td>113</td></tr><tr><td>KENDZIERA David</td><td>United States of America</td><td>Athletics</td><td>United States of America</td><td>39</td><td>41</td><td>33</td><td>113</td></tr><tr><td>KENESHBEKOV Nursultan</td><td>Kyrgyzstan</td><td>Athletics</td><td>Kyrgyzstan</td><td>0</td><td>2</td><td>1</td><td>3</td></tr><tr><td>KENNEDY Nina</td><td>Australia</td><td>Athletics</td><td>Australia</td><td>17</td><td>7</td><td>22</td><td>46</td></tr><tr><td>KENNY David</td><td>Ireland</td><td>Athletics</td><td>Ireland</td><td>2</td><td>0</td><td>2</td><td>4</td></tr><tr><td>KERLEY Fred</td><td>United States of America</td><td>Athletics</td><td>United States of America</td><td>39</td><td>41</td><td>33</td><td>113</td></tr><tr><td>KERR Hamish</td><td>New Zealand</td><td>Athletics</td><td>New Zealand</td><td>7</td><td>6</td><td>7</td><td>20</td></tr><tr><td>KERR Josh</td><td>Great Britain</td><td>Athletics</td><td>Great Britain</td><td>22</td><td>21</td><td>22</td><td>65</td></tr><tr><td>KERSTEN Dieter</td><td>Belgium</td><td>Athletics</td><td>Belgium</td><td>3</td><td>1</td><td>3</td><td>7</td></tr><tr><td>KETEMA Lemawork</td><td>Austria</td><td>Athletics</td><td>Austria</td><td>1</td><td>1</td><td>5</td><td>7</td></tr><tr><td>KETEMA Tigist</td><td>Ethiopia</td><td>Athletics</td><td>Ethiopia</td><td>1</td><td>1</td><td>2</td><td>4</td></tr><tr><td>KETER Benard</td><td>United States of America</td><td>Athletics</td><td>United States of America</td><td>39</td><td>41</td><td>33</td><td>113</td></tr><tr><td>KHALADOVICH Tatsiana</td><td>Belarus</td><td>Athletics</td><td>Belarus</td><td>1</td><td>3</td><td>3</td><td>7</td></tr><tr><td>KHASANOVA Elvira</td><td>ROC</td><td>Athletics</td><td>ROC</td><td>20</td><td>28</td><td>23</td><td>71</td></tr><tr><td>KHILMANOVICH Aliaksandra</td><td>Belarus</td><td>Athletics</td><td>Belarus</td><td>1</td><td>3</td><td>3</td><td>7</td></tr><tr><td>KHODJAEV Sukhrob</td><td>Uzbekistan</td><td>Athletics</td><td>Uzbekistan</td><td>3</td><td>0</td><td>2</td><td>5</td></tr><tr><td>KHORAVA Bachana</td><td>Georgia</td><td>Athletics</td><td>Georgia</td><td>2</td><td>5</td><td>1</td><td>8</td></tr><tr><td>KHUDOYAROVA Roksana</td><td>Uzbekistan</td><td>Athletics</td><td>Uzbekistan</td><td>3</td><td>0</td><td>2</td><td>5</td></tr><tr><td>KIBIWOT Abraham</td><td>Kenya</td><td>Athletics</td><td>Kenya</td><td>4</td><td>4</td><td>2</td><td>10</td></tr><tr><td>KIELBASINSKA Anna</td><td>Poland</td><td>Athletics</td><td>Poland</td><td>4</td><td>5</td><td>5</td><td>14</td></tr><tr><td>KIGEN Benjamin</td><td>Kenya</td><td>Athletics</td><td>Kenya</td><td>4</td><td>4</td><td>2</td><td>10</td></tr><tr><td>KILTY Richard</td><td>Great Britain</td><td>Athletics</td><td>Great Britain</td><td>22</td><td>21</td><td>22</td><td>65</td></tr><tr><td>KIMELI Nicholas Kipkorir</td><td>Kenya</td><td>Athletics</td><td>Kenya</td><td>4</td><td>4</td><td>2</td><td>10</td></tr><tr><td>KIMURA Ayako</td><td>Japan</td><td>Athletics</td><td>Japan</td><td>27</td><td>14</td><td>17</td><td>58</td></tr><tr><td>KIMURA Tomoka</td><td>Japan</td><td>Athletics</td><td>Japan</td><td>27</td><td>14</td><td>17</td><td>58</td></tr><tr><td>KINCAID William</td><td>United States of America</td><td>Athletics</td><td>United States of America</td><td>39</td><td>41</td><td>33</td><td>113</td></tr><tr><td>KING David</td><td>Great Britain</td><td>Athletics</td><td>Great Britain</td><td>22</td><td>21</td><td>22</td><td>65</td></tr><tr><td>KING Sarah</td><td>Switzerland</td><td>Athletics</td><td>Switzerland</td><td>3</td><td>4</td><td>6</td><td>13</td></tr><tr><td>KINNUNEN Jarkko</td><td>Finland</td><td>Athletics</td><td>Finland</td><td>0</td><td>0</td><td>2</td><td>2</td></tr><tr><td>KINSEY Erika</td><td>Sweden</td><td>Athletics</td><td>Sweden</td><td>3</td><td>6</td><td>0</td><td>9</td></tr><tr><td>KIPCHOGE Eliud</td><td>Kenya</td><td>Athletics</td><td>Kenya</td><td>4</td><td>4</td><td>2</td><td>10</td></tr><tr><td>KIPLIMO Jacob</td><td>Uganda</td><td>Athletics</td><td>Uganda</td><td>2</td><td>1</td><td>1</td><td>4</td></tr><tr><td>KIPROTICH Stephen</td><td>Uganda</td><td>Athletics</td><td>Uganda</td><td>2</td><td>1</td><td>1</td><td>4</td></tr><tr><td>KIPRUTO Amos</td><td>Kenya</td><td>Athletics</td><td>Kenya</td><td>4</td><td>4</td><td>2</td><td>10</td></tr><tr><td>KIPSANG Abel</td><td>Kenya</td><td>Athletics</td><td>Kenya</td><td>4</td><td>4</td><td>2</td><td>10</td></tr><tr><td>KIPYEGO Sally</td><td>United States of America</td><td>Athletics</td><td>United States of America</td><td>39</td><td>41</td><td>33</td><td>113</td></tr><tr><td>KIPYEGON Faith</td><td>Kenya</td><td>Athletics</td><td>Kenya</td><td>4</td><td>4</td><td>2</td><td>10</td></tr><tr><td>KIRUI Purity</td><td>Kenya</td><td>Athletics</td><td>Kenya</td><td>4</td><td>4</td><td>2</td><td>10</td></tr><tr><td>KIRYU Yoshihide</td><td>Japan</td><td>Athletics</td><td>Japan</td><td>27</td><td>14</td><td>17</td><td>58</td></tr><tr><td>KISSA Stephen</td><td>Uganda</td><td>Athletics</td><td>Uganda</td><td>2</td><td>1</td><td>1</td><td>4</td></tr><tr><td>KITAGUCHI Haruka</td><td>Japan</td><td>Athletics</td><td>Japan</td><td>27</td><td>14</td><td>17</td><td>58</td></tr><tr><td>KIYENG Hyvin</td><td>Kenya</td><td>Athletics</td><td>Kenya</td><td>4</td><td>4</td><td>2</td><td>10</td></tr><tr><td>KJAER Emil</td><td>Denmark</td><td>Athletics</td><td>Denmark</td><td>3</td><td>4</td><td>4</td><td>11</td></tr><tr><td>KLAVER Lieke</td><td>Netherlands</td><td>Athletics</td><td>Netherlands</td><td>10</td><td>12</td><td>14</td><td>36</td></tr><tr><td>KLECKER Joe</td><td>United States of America</td><td>Athletics</td><td>United States of America</td><td>39</td><td>41</td><td>33</td><td>113</td></tr><tr><td>KLEIN Hanna</td><td>Germany</td><td>Athletics</td><td>Germany</td><td>10</td><td>11</td><td>16</td><td>37</td></tr><tr><td>KLISHINA Darya</td><td>ROC</td><td>Athletics</td><td>ROC</td><td>20</td><td>28</td><td>23</td><td>71</td></tr><tr><td>KLOSTER Line</td><td>Norway</td><td>Athletics</td><td>Norway</td><td>4</td><td>2</td><td>2</td><td>8</td></tr><tr><td>KLOSTERHALFEN Konstanze</td><td>Germany</td><td>Athletics</td><td>Germany</td><td>10</td><td>11</td><td>16</td><td>37</td></tr><tr><td>KLYMETS Iryna</td><td>Ukraine</td><td>Athletics</td><td>Ukraine</td><td>1</td><td>6</td><td>12</td><td>19</td></tr><tr><td>KNIGHT Jessie</td><td>Great Britain</td><td>Athletics</td><td>Great Britain</td><td>22</td><td>21</td><td>22</td><td>65</td></tr><tr><td>KNIGHT Justyn</td><td>Canada</td><td>Athletics</td><td>Canada</td><td>7</td><td>6</td><td>11</td><td>24</td></tr><tr><td>KNIGHTON Erriyon</td><td>United States of America</td><td>Athletics</td><td>United States of America</td><td>39</td><td>41</td><td>33</td><td>113</td></tr><tr><td>KNOTT Kristina Marie</td><td>Philippines</td><td>Athletics</td><td>Philippines</td><td>1</td><td>2</td><td>1</td><td>4</td></tr><tr><td>KOALA Marthe</td><td>Burkina Faso</td><td>Athletics</td><td>Burkina Faso</td><td>0</td><td>0</td><td>1</td><td>1</td></tr><tr><td>KOBAYASHI Kai</td><td>Japan</td><td>Athletics</td><td>Japan</td><td>27</td><td>14</td><td>17</td><td>58</td></tr><tr><td>KOCH Marc</td><td>Germany</td><td>Athletics</td><td>Germany</td><td>10</td><td>11</td><td>16</td><td>37</td></tr><tr><td>KODAMA Mei</td><td>Japan</td><td>Athletics</td><td>Japan</td><td>27</td><td>14</td><td>17</td><td>58</td></tr><tr><td>KOECH John</td><td>Bahrain</td><td>Athletics</td><td>Bahrain</td><td>0</td><td>1</td><td>0</td><td>1</td></tr><tr><td>KOGA Yuta</td><td>Japan</td><td>Athletics</td><td>Japan</td><td>27</td><td>14</td><td>17</td><td>58</td></tr><tr><td>KOIKE Yuki</td><td>Japan</td><td>Athletics</td><td>Japan</td><td>27</td><td>14</td><td>17</td><td>58</td></tr><tr><td>KOKHAN Mykhaylo</td><td>Ukraine</td><td>Athletics</td><td>Ukraine</td><td>1</td><td>6</td><td>12</td><td>19</td></tr><tr><td>KOLAK Sara</td><td>Croatia</td><td>Athletics</td><td>Croatia</td><td>3</td><td>3</td><td>2</td><td>8</td></tr><tr><td>KOLASINAC Asmir</td><td>Serbia</td><td>Athletics</td><td>Serbia</td><td>3</td><td>1</td><td>5</td><td>9</td></tr><tr><td>KOLOTHUM THODI Irfan</td><td>India</td><td>Athletics</td><td>India</td><td>1</td><td>2</td><td>4</td><td>7</td></tr><tr><td>KOMINAMI Takuto</td><td>Japan</td><td>Athletics</td><td>Japan</td><td>27</td><td>14</td><td>17</td><td>58</td></tr><tr><td>KONIECZEK Alicja</td><td>Poland</td><td>Athletics</td><td>Poland</td><td>4</td><td>5</td><td>5</td><td>14</td></tr><tr><td>KONIECZEK Aneta</td><td>Poland</td><td>Athletics</td><td>Poland</td><td>4</td><td>5</td><td>5</td><td>14</td></tr><tr><td>KOPP Leo</td><td>Germany</td><td>Athletics</td><td>Germany</td><td>10</td><td>11</td><td>16</td><td>37</td></tr><tr><td>KOPPELAAR Rutger</td><td>Netherlands</td><td>Athletics</td><td>Netherlands</td><td>10</td><td>12</td><td>14</td><td>36</td></tr><tr><td>KOPRON Malwina</td><td>Poland</td><td>Athletics</td><td>Poland</td><td>4</td><td>5</td><td>5</td><td>14</td></tr><tr><td>KORA Salome</td><td>Switzerland</td><td>Athletics</td><td>Switzerland</td><td>3</td><td>4</td><td>6</td><td>13</td></tr><tr><td>KORIR Leonard</td><td>United States of America</td><td>Athletics</td><td>United States of America</td><td>39</td><td>41</td><td>33</td><td>113</td></tr><tr><td>KORKMAZ Salih</td><td>Turkey</td><td>Athletics</td><td>Turkey</td><td>2</td><td>2</td><td>9</td><td>13</td></tr><tr><td>KOROKNAI Mate</td><td>Hungary</td><td>Athletics</td><td>Hungary</td><td>6</td><td>7</td><td>7</td><td>20</td></tr><tr><td>KORTE Annimari</td><td>Finland</td><td>Athletics</td><td>Finland</td><td>0</td><td>0</td><td>2</td><td>2</td></tr><tr><td>KOSGEI Brigid</td><td>Kenya</td><td>Athletics</td><td>Kenya</td><td>4</td><td>4</td><td>2</td><td>10</td></tr><tr><td>KOSONEN Silja</td><td>Finland</td><td>Athletics</td><td>Finland</td><td>0</td><td>0</td><td>2</td><td>2</td></tr><tr><td>KOUNTA Muhammad</td><td>France</td><td>Athletics</td><td>France</td><td>10</td><td>12</td><td>11</td><td>33</td></tr><tr><td>KOVACS Barbara</td><td>Hungary</td><td>Athletics</td><td>Hungary</td><td>6</td><td>7</td><td>7</td><td>20</td></tr><tr><td>KOVACS Joe</td><td>United States of America</td><td>Athletics</td><td>United States of America</td><td>39</td><td>41</td><td>33</td><td>113</td></tr><tr><td>KOVALENKO Nazar</td><td>Ukraine</td><td>Athletics</td><td>Ukraine</td><td>1</td><td>6</td><td>12</td><td>19</td></tr><tr><td>KOWALUK Dariusz</td><td>Poland</td><td>Athletics</td><td>Poland</td><td>4</td><td>5</td><td>5</td><td>14</td></tr><tr><td>KOZAK Luca</td><td>Hungary</td><td>Athletics</td><td>Hungary</td><td>6</td><td>7</td><td>7</td><td>20</td></tr><tr><td>KRAFZIK Carolina</td><td>Germany</td><td>Athletics</td><td>Germany</td><td>10</td><td>11</td><td>16</td><td>37</td></tr><tr><td>KRAMER Andreas</td><td>Sweden</td><td>Athletics</td><td>Sweden</td><td>3</td><td>6</td><td>0</td><td>9</td></tr><tr><td>KRAMER Mathilde U.</td><td>Denmark</td><td>Athletics</td><td>Denmark</td><td>3</td><td>4</td><td>4</td><td>11</td></tr><tr><td>KRAUSE Gesa Felicitas</td><td>Germany</td><td>Athletics</td><td>Germany</td><td>10</td><td>11</td><td>16</td><td>37</td></tr><tr><td>KRIZSAN Xenia</td><td>Hungary</td><td>Athletics</td><td>Hungary</td><td>6</td><td>7</td><td>7</td><td>20</td></tr><tr><td>KRSEK Matej</td><td>Czech Republic</td><td>Athletics</td><td>Czech Republic</td><td>4</td><td>4</td><td>3</td><td>11</td></tr><tr><td>KRUKOWSKI Marcin</td><td>Poland</td><td>Athletics</td><td>Poland</td><td>4</td><td>5</td><td>5</td><td>14</td></tr><tr><td>KRUMINS Susan</td><td>Netherlands</td><td>Athletics</td><td>Netherlands</td><td>10</td><td>12</td><td>14</td><td>36</td></tr><tr><td>KRZEWINA Jakub</td><td>Poland</td><td>Athletics</td><td>Poland</td><td>4</td><td>5</td><td>5</td><td>14</td></tr><tr><td>KUMAR Sandeep</td><td>India</td><td>Athletics</td><td>India</td><td>1</td><td>2</td><td>4</td><td>7</td></tr><tr><td>KUNZ Annie</td><td>United States of America</td><td>Athletics</td><td>United States of America</td><td>39</td><td>41</td><td>33</td><td>113</td></tr><tr><td>KURBANOV Ruslan</td><td>Uzbekistan</td><td>Athletics</td><td>Uzbekistan</td><td>3</td><td>0</td><td>2</td><td>5</td></tr><tr><td>KUROKAWA Kazuki</td><td>Japan</td><td>Athletics</td><td>Japan</td><td>27</td><td>14</td><td>17</td><td>58</td></tr><tr><td>KUUSELA Toni</td><td>Finland</td><td>Athletics</td><td>Finland</td><td>0</td><td>0</td><td>2</td><td>2</td></tr><tr><td>KWAYIE Lisa Marie</td><td>Germany</td><td>Athletics</td><td>Germany</td><td>10</td><td>11</td><td>16</td><td>37</td></tr><tr><td>KYLYPKO Maryna</td><td>Ukraine</td><td>Athletics</td><td>Ukraine</td><td>1</td><td>6</td><td>12</td><td>19</td></tr><tr><td>KYRIAKOPOULOU Nikoleta</td><td>Greece</td><td>Athletics</td><td>Greece</td><td>2</td><td>1</td><td>1</td><td>4</td></tr><tr><td>LACOSTE Sokhna</td><td>France</td><td>Athletics</td><td>France</td><td>10</td><td>12</td><td>11</td><td>33</td></tr><tr><td>LAHTI Sarah</td><td>Sweden</td><td>Athletics</td><td>Sweden</td><td>3</td><td>6</td><td>0</td><td>9</td></tr><tr><td>LAKE Morgan</td><td>Great Britain</td><td>Athletics</td><td>Great Britain</td><td>22</td><td>21</td><td>22</td><td>65</td></tr><tr><td>LALONDE Genevieve</td><td>Canada</td><td>Athletics</td><td>Canada</td><td>7</td><td>6</td><td>11</td><td>24</td></tr><tr><td>LALOVA-COLLIO Ivet</td><td>Bulgaria</td><td>Athletics</td><td>Bulgaria</td><td>3</td><td>1</td><td>2</td><td>6</td></tr><tr><td>LAMDASSEM Ayad</td><td>Spain</td><td>Athletics</td><td>Spain</td><td>3</td><td>8</td><td>6</td><td>17</td></tr><tr><td>LAMOTE Renelle</td><td>France</td><td>Athletics</td><td>France</td><td>10</td><td>12</td><td>11</td><td>33</td></tr><tr><td>LAMPELA Elina</td><td>Finland</td><td>Athletics</td><td>Finland</td><td>0</td><td>0</td><td>2</td><td>2</td></tr><tr><td>LANDAZURI Marizol</td><td>Ecuador</td><td>Athletics</td><td>Ecuador</td><td>2</td><td>1</td><td>0</td><td>3</td></tr><tr><td>LANG Salome</td><td>Switzerland</td><td>Athletics</td><td>Switzerland</td><td>3</td><td>4</td><td>6</td><td>13</td></tr><tr><td>LANGAT Weldon</td><td>Kenya</td><td>Athletics</td><td>Kenya</td><td>4</td><td>4</td><td>2</td><td>10</td></tr><tr><td>LANGE Tobias</td><td>Germany</td><td>Athletics</td><td>Germany</td><td>10</td><td>11</td><td>16</td><td>37</td></tr><tr><td>LANSIQUOT Imani</td><td>Great Britain</td><td>Athletics</td><td>Great Britain</td><td>22</td><td>21</td><td>22</td><td>65</td></tr><tr><td>LASITSKENE Mariya</td><td>ROC</td><td>Athletics</td><td>ROC</td><td>20</td><td>28</td><td>23</td><td>71</td></tr><tr><td>LAUS Camille</td><td>Belgium</td><td>Athletics</td><td>Belgium</td><td>3</td><td>1</td><td>3</td><td>7</td></tr><tr><td>LAVILLENIE Renaud</td><td>France</td><td>Athletics</td><td>France</td><td>10</td><td>12</td><td>11</td><td>33</td></tr><tr><td>LAVILLENIE Valentin</td><td>France</td><td>Athletics</td><td>France</td><td>10</td><td>12</td><td>11</td><td>33</td></tr><tr><td>LAVIN Sarah</td><td>Ireland</td><td>Athletics</td><td>Ireland</td><td>2</td><td>0</td><td>2</td><td>4</td></tr><tr><td>LAWLER Marcus</td><td>Ireland</td><td>Athletics</td><td>Ireland</td><td>2</td><td>0</td><td>2</td><td>4</td></tr><tr><td>LAWRENCE Shadae</td><td>Jamaica</td><td>Athletics</td><td>Jamaica</td><td>4</td><td>1</td><td>4</td><td>9</td></tr><tr><td>LEDGISTER Leonardo</td><td>Jamaica</td><td>Athletics</td><td>Jamaica</td><td>4</td><td>1</td><td>4</td><td>9</td></tr><tr><td>LEDUC Cynthia</td><td>France</td><td>Athletics</td><td>France</td><td>10</td><td>12</td><td>11</td><td>33</td></tr><tr><td>LEE Hup Wei</td><td>Malaysia</td><td>Athletics</td><td>Malaysia</td><td>0</td><td>1</td><td>1</td><td>2</td></tr><tr><td>LEHIKOINEN Viivi</td><td>Finland</td><td>Athletics</td><td>Finland</td><td>0</td><td>0</td><td>2</td><td>2</td></tr><tr><td>LEMI Teddese</td><td>Ethiopia</td><td>Athletics</td><td>Ethiopia</td><td>1</td><td>1</td><td>2</td><td>4</td></tr><tr><td>LEMMA Sisay</td><td>Ethiopia</td><td>Athletics</td><td>Ethiopia</td><td>1</td><td>1</td><td>2</td><td>4</td></tr><tr><td>LEMMENS Silke</td><td>Switzerland</td><td>Athletics</td><td>Switzerland</td><td>3</td><td>4</td><td>6</td><td>13</td></tr><tr><td>LEMONIOUS Phillip</td><td>Jamaica</td><td>Athletics</td><td>Jamaica</td><td>4</td><td>1</td><td>4</td><td>9</td></tr><tr><td>LEMOS Ana Claudia</td><td>Brazil</td><td>Athletics</td><td>Brazil</td><td>7</td><td>6</td><td>8</td><td>21</td></tr><tr><td>LEONARDI Giuseppe</td><td>Italy</td><td>Athletics</td><td>Italy</td><td>10</td><td>10</td><td>20</td><td>40</td></tr><tr><td>LEPAGE Pierce</td><td>Canada</td><td>Athletics</td><td>Canada</td><td>7</td><td>6</td><td>11</td><td>24</td></tr><tr><td>LESCAY GAY Lester Alcides</td><td>Cuba</td><td>Athletics</td><td>Cuba</td><td>7</td><td>3</td><td>5</td><td>15</td></tr><tr><td>LESIEWICZ Kornelia</td><td>Poland</td><td>Athletics</td><td>Poland</td><td>4</td><td>5</td><td>5</td><td>14</td></tr><tr><td>LEVCHENKO Yuliya</td><td>Ukraine</td><td>Athletics</td><td>Ukraine</td><td>1</td><td>6</td><td>12</td><td>19</td></tr><tr><td>LEVINS Cameron</td><td>Canada</td><td>Athletics</td><td>Canada</td><td>7</td><td>6</td><td>11</td><td>24</td></tr><tr><td>LEVY Ronald</td><td>Jamaica</td><td>Athletics</td><td>Jamaica</td><td>4</td><td>1</td><td>4</td><td>9</td></tr><tr><td>LEWANDOWSKI Marcin</td><td>Poland</td><td>Athletics</td><td>Poland</td><td>4</td><td>5</td><td>5</td><td>14</td></tr><tr><td>LEYVER Jose</td><td>Mexico</td><td>Athletics</td><td>Mexico</td><td>0</td><td>0</td><td>4</td><td>4</td></tr><tr><td>LI He</td><td>People's Republic of China</td><td>Athletics</td><td>People's Republic of China</td><td>38</td><td>32</td><td>18</td><td>88</td></tr><tr><td>LI Ling</td><td>People's Republic of China</td><td>Athletics</td><td>People's Republic of China</td><td>38</td><td>32</td><td>18</td><td>88</td></tr><tr><td>LI Yuting</td><td>People's Republic of China</td><td>Athletics</td><td>People's Republic of China</td><td>38</td><td>32</td><td>18</td><td>88</td></tr><tr><td>LI Zhixuan</td><td>People's Republic of China</td><td>Athletics</td><td>People's Republic of China</td><td>38</td><td>32</td><td>18</td><td>88</td></tr><tr><td>LIAKHOVICH Aliaksandr</td><td>Belarus</td><td>Athletics</td><td>Belarus</td><td>1</td><td>3</td><td>3</td><td>7</td></tr><tr><td>LIANG Xiaojing</td><td>People's Republic of China</td><td>Athletics</td><td>People's Republic of China</td><td>38</td><td>32</td><td>18</td><td>88</td></tr><tr><td>LICWINKO Kamila</td><td>Poland</td><td>Athletics</td><td>Poland</td><td>4</td><td>5</td><td>5</td><td>14</td></tr><tr><td>LIGHTFOOT Kc</td><td>United States of America</td><td>Athletics</td><td>United States of America</td><td>39</td><td>41</td><td>33</td><td>113</td></tr><tr><td>LINDEN Desiree</td><td>United States of America</td><td>Athletics</td><td>United States of America</td><td>39</td><td>41</td><td>33</td><td>113</td></tr><tr><td>LINKE Christopher</td><td>Germany</td><td>Athletics</td><td>Germany</td><td>10</td><td>11</td><td>16</td><td>37</td></tr><tr><td>LINKIEWICZ Joanna</td><td>Poland</td><td>Athletics</td><td>Poland</td><td>4</td><td>5</td><td>5</td><td>14</td></tr><tr><td>LISOWSKA Aleksandra</td><td>Poland</td><td>Athletics</td><td>Poland</td><td>4</td><td>5</td><td>5</td><td>14</td></tr><tr><td>LITA BAEHRE Bo Kanda</td><td>Germany</td><td>Athletics</td><td>Germany</td><td>10</td><td>11</td><td>16</td><td>37</td></tr><tr><td>LITANIUK Valeriy</td><td>Ukraine</td><td>Athletics</td><td>Ukraine</td><td>1</td><td>6</td><td>12</td><td>19</td></tr><tr><td>LITTLE Mackenzie</td><td>Australia</td><td>Athletics</td><td>Australia</td><td>17</td><td>7</td><td>22</td><td>46</td></tr><tr><td>LITTLE Shamier</td><td>United States of America</td><td>Athletics</td><td>United States of America</td><td>39</td><td>41</td><td>33</td><td>113</td></tr><tr><td>LITVIN Mikhail</td><td>Kazakhstan</td><td>Athletics</td><td>Kazakhstan</td><td>0</td><td>0</td><td>8</td><td>8</td></tr><tr><td>LIU Shiying</td><td>People's Republic of China</td><td>Athletics</td><td>People's Republic of China</td><td>38</td><td>32</td><td>18</td><td>88</td></tr><tr><td>LOBE Ricarda</td><td>Germany</td><td>Athletics</td><td>Germany</td><td>10</td><td>11</td><td>16</td><td>37</td></tr><tr><td>LOHVYNENKO Alina</td><td>Ukraine</td><td>Athletics</td><td>Ukraine</td><td>1</td><td>6</td><td>12</td><td>19</td></tr><tr><td>LOMNICKY Marcel</td><td>Slovakia</td><td>Athletics</td><td>Slovakia</td><td>1</td><td>2</td><td>1</td><td>4</td></tr><tr><td>LONDON Wilbert</td><td>United States of America</td><td>Athletics</td><td>United States of America</td><td>39</td><td>41</td><td>33</td><td>113</td></tr><tr><td>LOPEZ Brayan</td><td>Italy</td><td>Athletics</td><td>Italy</td><td>10</td><td>10</td><td>20</td><td>40</td></tr><tr><td>LOPEZ Jesus Tonatiu</td><td>Mexico</td><td>Athletics</td><td>Mexico</td><td>0</td><td>0</td><td>4</td><td>4</td></tr><tr><td>LOPEZ Miguel Angel</td><td>Spain</td><td>Athletics</td><td>Spain</td><td>3</td><td>8</td><td>6</td><td>17</td></tr><tr><td>LOSEV Ivan</td><td>Ukraine</td><td>Athletics</td><td>Ukraine</td><td>1</td><td>6</td><td>12</td><td>19</td></tr><tr><td>LOVETT Django</td><td>Canada</td><td>Athletics</td><td>Canada</td><td>7</td><td>6</td><td>11</td><td>24</td></tr><tr><td>LOYO Elena</td><td>Spain</td><td>Athletics</td><td>Spain</td><td>3</td><td>8</td><td>6</td><td>17</td></tr><tr><td>LUCKENKEMPER Gina</td><td>Germany</td><td>Athletics</td><td>Germany</td><td>10</td><td>11</td><td>16</td><td>37</td></tr><tr><td>LUKAN Klara</td><td>Slovenia</td><td>Athletics</td><td>Slovenia</td><td>3</td><td>1</td><td>1</td><td>5</td></tr><tr><td>LUKUDO Raphaela Boaheng</td><td>Italy</td><td>Athletics</td><td>Italy</td><td>10</td><td>10</td><td>20</td><td>40</td></tr><tr><td>LUO Na</td><td>People's Republic of China</td><td>Athletics</td><td>People's Republic of China</td><td>38</td><td>32</td><td>18</td><td>88</td></tr><tr><td>LUO Yadong</td><td>People's Republic of China</td><td>Athletics</td><td>People's Republic of China</td><td>38</td><td>32</td><td>18</td><td>88</td></tr><tr><td>LUZOLO Maryse</td><td>Germany</td><td>Athletics</td><td>Germany</td><td>10</td><td>11</td><td>16</td><td>37</td></tr><tr><td>LYLES Noah</td><td>United States of America</td><td>Athletics</td><td>United States of America</td><td>39</td><td>41</td><td>33</td><td>113</td></tr><tr><td>LYU Xiuzhi</td><td>People's Republic of China</td><td>Athletics</td><td>People's Republic of China</td><td>38</td><td>32</td><td>18</td><td>88</td></tr><tr><td>MACH Angelika</td><td>Poland</td><td>Athletics</td><td>Poland</td><td>4</td><td>5</td><td>5</td><td>14</td></tr><tr><td>MACLEAN Heather</td><td>United States of America</td><td>Athletics</td><td>United States of America</td><td>39</td><td>41</td><td>33</td><td>113</td></tr><tr><td>MADARASZ Viktoria</td><td>Hungary</td><td>Athletics</td><td>Hungary</td><td>6</td><td>7</td><td>7</td><td>20</td></tr><tr><td>MADARI PALLIYALIL Jabir</td><td>India</td><td>Athletics</td><td>India</td><td>1</td><td>2</td><td>4</td><td>7</td></tr><tr><td>MAEDA Honami</td><td>Japan</td><td>Athletics</td><td>Japan</td><td>27</td><td>14</td><td>17</td><td>58</td></tr><tr><td>MAGEEAN Ciara</td><td>Ireland</td><td>Athletics</td><td>Ireland</td><td>2</td><td>0</td><td>2</td><td>4</td></tr><tr><td>MAGI Rasmus</td><td>Estonia</td><td>Athletics</td><td>Estonia</td><td>1</td><td>0</td><td>1</td><td>2</td></tr><tr><td>MAHMOUD Abdelrahman</td><td>Bahrain</td><td>Athletics</td><td>Bahrain</td><td>0</td><td>1</td><td>0</td><td>1</td></tr><tr><td>MAHUCHIKH Yaroslava</td><td>Ukraine</td><td>Athletics</td><td>Ukraine</td><td>1</td><td>6</td><td>12</td><td>19</td></tr><tr><td>MAISCH Katharina</td><td>Germany</td><td>Athletics</td><td>Germany</td><td>10</td><td>11</td><td>16</td><td>37</td></tr><tr><td>MAKELA Kristiina</td><td>Finland</td><td>Athletics</td><td>Finland</td><td>0</td><td>0</td><td>2</td><td>2</td></tr><tr><td>MAKI Kristiina</td><td>Czech Republic</td><td>Athletics</td><td>Czech Republic</td><td>4</td><td>4</td><td>3</td><td>11</td></tr><tr><td>MAKWALA Isaac</td><td>Botswana</td><td>Athletics</td><td>Botswana</td><td>0</td><td>0</td><td>1</td><td>1</td></tr><tr><td>MALACHOWSKI Piotr</td><td>Poland</td><td>Athletics</td><td>Poland</td><td>4</td><td>5</td><td>5</td><td>14</td></tr><tr><td>MALACOVA Romana</td><td>Czech Republic</td><td>Athletics</td><td>Czech Republic</td><td>4</td><td>4</td><td>3</td><td>11</td></tr><tr><td>MALIKOVA Barbora</td><td>Czech Republic</td><td>Athletics</td><td>Czech Republic</td><td>4</td><td>4</td><td>3</td><td>11</td></tr><tr><td>MALONE Maggie</td><td>United States of America</td><td>Athletics</td><td>United States of America</td><td>39</td><td>41</td><td>33</td><td>113</td></tr><tr><td>MALYSHCHYK Hanna</td><td>Belarus</td><td>Athletics</td><td>Belarus</td><td>1</td><td>3</td><td>3</td><td>7</td></tr><tr><td>MAMAZHANOVA Zhanna</td><td>Kazakhstan</td><td>Athletics</td><td>Kazakhstan</td><td>0</td><td>0</td><td>8</td><td>8</td></tr><tr><td>MAMEDOV Mergen</td><td>Turkmenistan</td><td>Athletics</td><td>Turkmenistan</td><td>0</td><td>1</td><td>0</td><td>1</td></tr><tr><td>MAMONA Patricia</td><td>Portugal</td><td>Athletics</td><td>Portugal</td><td>1</td><td>1</td><td>2</td><td>4</td></tr><tr><td>MANENTI Davide</td><td>Italy</td><td>Athletics</td><td>Italy</td><td>10</td><td>10</td><td>20</td><td>40</td></tr><tr><td>MANGA Aurel</td><td>France</td><td>Athletics</td><td>France</td><td>10</td><td>12</td><td>11</td><td>33</td></tr><tr><td>MANGIONE Alice</td><td>Italy</td><td>Athletics</td><td>Italy</td><td>10</td><td>10</td><td>20</td><td>40</td></tr><tr><td>MANNING Cliodhna</td><td>Ireland</td><td>Athletics</td><td>Ireland</td><td>2</td><td>0</td><td>2</td><td>4</td></tr><tr><td>MANSON Taylor</td><td>United States of America</td><td>Athletics</td><td>United States of America</td><td>39</td><td>41</td><td>33</td><td>113</td></tr><tr><td>MARCHIANDO Eleonora</td><td>Italy</td><td>Athletics</td><td>Italy</td><td>10</td><td>10</td><td>20</td><td>40</td></tr><tr><td>MARDARE Andrian</td><td>Republic of Moldova</td><td>Athletics</td><td>Republic of Moldova</td><td>0</td><td>0</td><td>1</td><td>1</td></tr><tr><td>MARGHIEV Serghei</td><td>Republic of Moldova</td><td>Athletics</td><td>Republic of Moldova</td><td>0</td><td>0</td><td>1</td><td>1</td></tr><tr><td>MARKOVC Amy-Eloise</td><td>Great Britain</td><td>Athletics</td><td>Great Britain</td><td>22</td><td>21</td><td>22</td><td>65</td></tr><tr><td>MARSCHALL Kurtis</td><td>Australia</td><td>Athletics</td><td>Australia</td><td>17</td><td>7</td><td>22</td><td>46</td></tr><tr><td>MARTIN Alvaro</td><td>Spain</td><td>Athletics</td><td>Spain</td><td>3</td><td>8</td><td>6</td><td>17</td></tr><tr><td>MARTINA Churandy</td><td>Netherlands</td><td>Athletics</td><td>Netherlands</td><td>10</td><td>12</td><td>14</td><td>36</td></tr><tr><td>MARTINEZ Asier</td><td>Spain</td><td>Athletics</td><td>Spain</td><td>3</td><td>8</td><td>6</td><td>17</td></tr><tr><td>MARTINEZ Lois Maikel</td><td>Spain</td><td>Athletics</td><td>Spain</td><td>3</td><td>8</td><td>6</td><td>17</td></tr><tr><td>MARTINEZ Yancarlos</td><td>Dominican Republic</td><td>Athletics</td><td>Dominican Republic</td><td>0</td><td>3</td><td>2</td><td>5</td></tr><tr><td>MARTINOT-LAGARDE Pascal</td><td>France</td><td>Athletics</td><td>France</td><td>10</td><td>12</td><td>11</td><td>33</td></tr><tr><td>MARTINS Eliane</td><td>Brazil</td><td>Athletics</td><td>Brazil</td><td>7</td><td>6</td><td>8</td><td>21</td></tr><tr><td>MARTINS Lorraine</td><td>Brazil</td><td>Athletics</td><td>Brazil</td><td>7</td><td>6</td><td>8</td><td>21</td></tr><tr><td>MARTON Anita</td><td>Hungary</td><td>Athletics</td><td>Hungary</td><td>6</td><td>7</td><td>7</td><td>20</td></tr><tr><td>MARTOS Sebastian</td><td>Spain</td><td>Athletics</td><td>Spain</td><td>3</td><td>8</td><td>6</td><td>17</td></tr><tr><td>MARUO Satoshi</td><td>Japan</td><td>Athletics</td><td>Japan</td><td>27</td><td>14</td><td>17</td><td>58</td></tr><tr><td>MASAI Samwel</td><td>Kenya</td><td>Athletics</td><td>Kenya</td><td>4</td><td>4</td><td>2</td><td>10</td></tr><tr><td>MASHELE Lesiba</td><td>South Africa</td><td>Athletics</td><td>South Africa</td><td>1</td><td>2</td><td>0</td><td>3</td></tr><tr><td>MASILINGI Beatrice</td><td>Namibia</td><td>Athletics</td><td>Namibia</td><td>0</td><td>1</td><td>0</td><td>1</td></tr><tr><td>MASLAK Pavel</td><td>Czech Republic</td><td>Athletics</td><td>Czech Republic</td><td>4</td><td>4</td><td>3</td><td>11</td></tr><tr><td>MASLAVA Nastassia</td><td>Belarus</td><td>Athletics</td><td>Belarus</td><td>1</td><td>3</td><td>3</td><td>7</td></tr><tr><td>MASLOVA Darya</td><td>Kyrgyzstan</td><td>Athletics</td><td>Kyrgyzstan</td><td>0</td><td>2</td><td>1</td><td>3</td></tr><tr><td>MASON Michael</td><td>Canada</td><td>Athletics</td><td>Canada</td><td>7</td><td>6</td><td>11</td><td>24</td></tr><tr><td>MASSO Maykel</td><td>Cuba</td><td>Athletics</td><td>Cuba</td><td>7</td><td>3</td><td>5</td><td>15</td></tr><tr><td>MASWANGANYI Shaun</td><td>South Africa</td><td>Athletics</td><td>South Africa</td><td>1</td><td>2</td><td>0</td><td>3</td></tr><tr><td>MATEO Daniel</td><td>Spain</td><td>Athletics</td><td>Spain</td><td>3</td><td>8</td><td>6</td><td>17</td></tr><tr><td>MATSUDA Mizuki</td><td>Japan</td><td>Athletics</td><td>Japan</td><td>27</td><td>14</td><td>17</td><td>58</td></tr><tr><td>MATSUEDA Hiroki</td><td>Japan</td><td>Athletics</td><td>Japan</td><td>27</td><td>14</td><td>17</td><td>58</td></tr><tr><td>MATTIS Sam</td><td>United States of America</td><td>Athletics</td><td>United States of America</td><td>39</td><td>41</td><td>33</td><td>113</td></tr><tr><td>MAUDENS Hanne</td><td>Belgium</td><td>Athletics</td><td>Belgium</td><td>3</td><td>1</td><td>3</td><td>7</td></tr><tr><td>MAYER Kevin</td><td>France</td><td>Athletics</td><td>France</td><td>10</td><td>12</td><td>11</td><td>33</td></tr><tr><td>MAYER Lisa</td><td>Germany</td><td>Athletics</td><td>Germany</td><td>10</td><td>11</td><td>16</td><td>37</td></tr><tr><td>MAYO Carlos</td><td>Spain</td><td>Athletics</td><td>Spain</td><td>3</td><td>8</td><td>6</td><td>17</td></tr><tr><td>MAYR Verena</td><td>Austria</td><td>Athletics</td><td>Austria</td><td>1</td><td>1</td><td>5</td><td>7</td></tr><tr><td>MAZUR Vladyslav</td><td>Ukraine</td><td>Athletics</td><td>Ukraine</td><td>1</td><td>6</td><td>12</td><td>19</td></tr><tr><td>MAZURONAK Volha</td><td>Belarus</td><td>Athletics</td><td>Belarus</td><td>1</td><td>3</td><td>3</td><td>7</td></tr><tr><td>MBOMA Christine</td><td>Namibia</td><td>Athletics</td><td>Namibia</td><td>0</td><td>1</td><td>0</td><td>1</td></tr><tr><td>McBRIDE Brandon</td><td>Canada</td><td>Athletics</td><td>Canada</td><td>7</td><td>6</td><td>11</td><td>24</td></tr><tr><td>McCARTER Steffin</td><td>United States of America</td><td>Athletics</td><td>United States of America</td><td>39</td><td>41</td><td>33</td><td>113</td></tr><tr><td>McCOLGAN Eilish</td><td>Great Britain</td><td>Athletics</td><td>Great Britain</td><td>22</td><td>21</td><td>22</td><td>65</td></tr><tr><td>McCORMACK Fionnuala</td><td>Ireland</td><td>Athletics</td><td>Ireland</td><td>2</td><td>0</td><td>2</td><td>4</td></tr><tr><td>McCOY Rachel</td><td>United States of America</td><td>Athletics</td><td>United States of America</td><td>39</td><td>41</td><td>33</td><td>113</td></tr><tr><td>McCULLOUGH Conor</td><td>United States of America</td><td>Athletics</td><td>United States of America</td><td>39</td><td>41</td><td>33</td><td>113</td></tr><tr><td>McDERMOTT Nicola</td><td>Australia</td><td>Athletics</td><td>Australia</td><td>17</td><td>7</td><td>22</td><td>46</td></tr><tr><td>McDONALD Morgan</td><td>Australia</td><td>Athletics</td><td>Australia</td><td>17</td><td>7</td><td>22</td><td>46</td></tr><tr><td>McDONALD Natassha</td><td>Canada</td><td>Athletics</td><td>Canada</td><td>7</td><td>6</td><td>11</td><td>24</td></tr><tr><td>McDONALD Rusheen</td><td>Jamaica</td><td>Athletics</td><td>Jamaica</td><td>4</td><td>1</td><td>4</td><td>9</td></tr><tr><td>McDONNELL Robert</td><td>Ireland</td><td>Athletics</td><td>Ireland</td><td>2</td><td>0</td><td>2</td><td>4</td></tr><tr><td>McEWEN Shelby</td><td>United States of America</td><td>Athletics</td><td>United States of America</td><td>39</td><td>41</td><td>33</td><td>113</td></tr><tr><td>McGEE Cory Ann</td><td>United States of America</td><td>Athletics</td><td>United States of America</td><td>39</td><td>41</td><td>33</td><td>113</td></tr><tr><td>McGREGOR Roneisha</td><td>Jamaica</td><td>Athletics</td><td>Jamaica</td><td>4</td><td>1</td><td>4</td><td>9</td></tr><tr><td>McLAUGHLIN Sydney</td><td>United States of America</td><td>Athletics</td><td>United States of America</td><td>39</td><td>41</td><td>33</td><td>113</td></tr><tr><td>McLEOD Candice</td><td>Jamaica</td><td>Athletics</td><td>Jamaica</td><td>4</td><td>1</td><td>4</td><td>9</td></tr><tr><td>McLEOD Carey</td><td>Jamaica</td><td>Athletics</td><td>Jamaica</td><td>4</td><td>1</td><td>4</td><td>9</td></tr><tr><td>McNEILL David</td><td>Australia</td><td>Athletics</td><td>Australia</td><td>17</td><td>7</td><td>22</td><td>46</td></tr><tr><td>McPHERSON Stephenie Ann</td><td>Jamaica</td><td>Athletics</td><td>Jamaica</td><td>4</td><td>1</td><td>4</td><td>9</td></tr><tr><td>MECHAAL Adel</td><td>Spain</td><td>Athletics</td><td>Spain</td><td>3</td><td>8</td><td>6</td><td>17</td></tr><tr><td>MEDINA VENTURA Anabel</td><td>Dominican Republic</td><td>Athletics</td><td>Dominican Republic</td><td>0</td><td>3</td><td>2</td><td>5</td></tr><tr><td>MEIJER Michaela</td><td>Sweden</td><td>Athletics</td><td>Sweden</td><td>3</td><td>6</td><td>0</td><td>9</td></tr><tr><td>MELAK Nibret</td><td>Ethiopia</td><td>Athletics</td><td>Ethiopia</td><td>1</td><td>1</td><td>2</td><td>4</td></tr><tr><td>MELNYK Tetyana</td><td>Ukraine</td><td>Athletics</td><td>Ukraine</td><td>1</td><td>6</td><td>12</td><td>19</td></tr><tr><td>MELO Alexsandro</td><td>Brazil</td><td>Athletics</td><td>Brazil</td><td>7</td><td>6</td><td>8</td><td>21</td></tr><tr><td>MENA PEDROZA Raul Hernan</td><td>Colombia</td><td>Athletics</td><td>Colombia</td><td>0</td><td>4</td><td>1</td><td>5</td></tr><tr><td>MENDEZ Laura</td><td>Spain</td><td>Athletics</td><td>Spain</td><td>3</td><td>8</td><td>6</td><td>17</td></tr><tr><td>MENGESHA Milkesa</td><td>Ethiopia</td><td>Athletics</td><td>Ethiopia</td><td>1</td><td>1</td><td>2</td><td>4</td></tr><tr><td>MERGENTHALER Hannah</td><td>Germany</td><td>Athletics</td><td>Germany</td><td>10</td><td>11</td><td>16</td><td>37</td></tr><tr><td>MESELE Worknesh</td><td>Ethiopia</td><td>Athletics</td><td>Ethiopia</td><td>1</td><td>1</td><td>2</td><td>4</td></tr><tr><td>MEYER Lea</td><td>Germany</td><td>Athletics</td><td>Germany</td><td>10</td><td>11</td><td>16</td><td>37</td></tr><tr><td>MEYER Michaela</td><td>United States of America</td><td>Athletics</td><td>United States of America</td><td>39</td><td>41</td><td>33</td><td>113</td></tr><tr><td>MEZULIANIKOVA Diana</td><td>Czech Republic</td><td>Athletics</td><td>Czech Republic</td><td>4</td><td>4</td><td>3</td><td>11</td></tr><tr><td>MIALESHKA Pavel</td><td>Belarus</td><td>Athletics</td><td>Belarus</td><td>1</td><td>3</td><td>3</td><td>7</td></tr><tr><td>MICHALSKI Daniel</td><td>United States of America</td><td>Athletics</td><td>United States of America</td><td>39</td><td>41</td><td>33</td><td>113</td></tr><tr><td>MIELLET Alexis</td><td>France</td><td>Athletics</td><td>France</td><td>10</td><td>12</td><td>11</td><td>33</td></tr><tr><td>MIHALINEC ZIDAR Maja</td><td>Slovenia</td><td>Athletics</td><td>Slovenia</td><td>3</td><td>1</td><td>1</td><td>5</td></tr><tr><td>MIHALJEVIC Filip</td><td>Croatia</td><td>Athletics</td><td>Croatia</td><td>3</td><td>3</td><td>2</td><td>8</td></tr><tr><td>MIHAMBO Malaika</td><td>Germany</td><td>Athletics</td><td>Germany</td><td>10</td><td>11</td><td>16</td><td>37</td></tr><tr><td>MIKHAILAVA Hanna</td><td>Belarus</td><td>Athletics</td><td>Belarus</td><td>1</td><td>3</td><td>3</td><td>7</td></tr><tr><td>MIKHOU Sadik</td><td>Bahrain</td><td>Athletics</td><td>Bahrain</td><td>0</td><td>1</td><td>0</td><td>1</td></tr><tr><td>MIKLOS Andrea</td><td>Romania</td><td>Athletics</td><td>Romania</td><td>1</td><td>3</td><td>0</td><td>4</td></tr><tr><td>MILLER Nick</td><td>Great Britain</td><td>Athletics</td><td>Great Britain</td><td>22</td><td>21</td><td>22</td><td>65</td></tr><tr><td>MILLER-UIBO Shaunae</td><td>Bahamas</td><td>Athletics</td><td>Bahamas</td><td>2</td><td>0</td><td>0</td><td>2</td></tr><tr><td>MINENKO Hanna</td><td>Israel</td><td>Athletics</td><td>Israel</td><td>2</td><td>0</td><td>2</td><td>4</td></tr><tr><td>MINZIE Jevaughn</td><td>Jamaica</td><td>Athletics</td><td>Jamaica</td><td>4</td><td>1</td><td>4</td><td>9</td></tr><tr><td>MIRON Javier</td><td>Spain</td><td>Athletics</td><td>Spain</td><td>3</td><td>8</td><td>6</td><td>17</td></tr><tr><td>MIRONCHYK-IVANOVA Nastassia</td><td>Belarus</td><td>Athletics</td><td>Belarus</td><td>1</td><td>3</td><td>3</td><td>7</td></tr><tr><td>MISCHLER Baptiste</td><td>France</td><td>Athletics</td><td>France</td><td>10</td><td>12</td><td>11</td><td>33</td></tr><tr><td>MISMAS-ZRIMSEK Marusa</td><td>Slovenia</td><td>Athletics</td><td>Slovenia</td><td>3</td><td>1</td><td>1</td><td>5</td></tr><tr><td>MITCHELL Kathryn</td><td>Australia</td><td>Athletics</td><td>Australia</td><td>17</td><td>7</td><td>22</td><td>46</td></tr><tr><td>MITCHELL Morgan</td><td>Australia</td><td>Athletics</td><td>Australia</td><td>17</td><td>7</td><td>22</td><td>46</td></tr><tr><td>MITCHELL-BLAKE Nethaneel</td><td>Great Britain</td><td>Athletics</td><td>Great Britain</td><td>22</td><td>21</td><td>22</td><td>65</td></tr><tr><td>MITTON Sarah</td><td>Canada</td><td>Athletics</td><td>Canada</td><td>7</td><td>6</td><td>11</td><td>24</td></tr><tr><td>MIZINOV Vasiliy</td><td>ROC</td><td>Athletics</td><td>ROC</td><td>20</td><td>28</td><td>23</td><td>71</td></tr><tr><td>MOEN Sondre Nordstad</td><td>Norway</td><td>Athletics</td><td>Norway</td><td>4</td><td>2</td><td>2</td><td>8</td></tr><tr><td>MOHUMED Mohamed</td><td>Germany</td><td>Athletics</td><td>Germany</td><td>10</td><td>11</td><td>16</td><td>37</td></tr><tr><td>MOKOKA Stephen</td><td>South Africa</td><td>Athletics</td><td>South Africa</td><td>1</td><td>2</td><td>0</td><td>3</td></tr><tr><td>MOLINAROLO Elisa</td><td>Italy</td><td>Athletics</td><td>Italy</td><td>10</td><td>10</td><td>20</td><td>40</td></tr><tr><td>MOLLER Anna Emilie</td><td>Denmark</td><td>Athletics</td><td>Denmark</td><td>3</td><td>4</td><td>4</td><td>11</td></tr><tr><td>MOLONEY Ashley</td><td>Australia</td><td>Athletics</td><td>Australia</td><td>17</td><td>7</td><td>22</td><td>46</td></tr><tr><td>MONSON Alicia</td><td>United States of America</td><td>Athletics</td><td>United States of America</td><td>39</td><td>41</td><td>33</td><td>113</td></tr><tr><td>MONTAG Jemima</td><td>Australia</td><td>Athletics</td><td>Australia</td><td>17</td><td>7</td><td>22</td><td>46</td></tr><tr><td>MONTAG Jennifer</td><td>Germany</td><td>Athletics</td><td>Germany</td><td>10</td><td>11</td><td>16</td><td>37</td></tr><tr><td>MONTANA Jose</td><td>Colombia</td><td>Athletics</td><td>Colombia</td><td>0</td><td>4</td><td>1</td><td>5</td></tr><tr><td>MONTCALM Noelle</td><td>Canada</td><td>Athletics</td><td>Canada</td><td>7</td><td>6</td><td>11</td><td>24</td></tr><tr><td>MONTSHO Amantle</td><td>Botswana</td><td>Athletics</td><td>Botswana</td><td>0</td><td>0</td><td>1</td><td>1</td></tr><tr><td>MOORE Jasmine</td><td>United States of America</td><td>Athletics</td><td>United States of America</td><td>39</td><td>41</td><td>33</td><td>113</td></tr><tr><td>MORAA Mary</td><td>Kenya</td><td>Athletics</td><td>Kenya</td><td>4</td><td>4</td><td>2</td><td>10</td></tr><tr><td>MORAN Paola</td><td>Mexico</td><td>Athletics</td><td>Mexico</td><td>0</td><td>0</td><td>4</td><td>4</td></tr><tr><td>MOREIRA Sara</td><td>Portugal</td><td>Athletics</td><td>Portugal</td><td>1</td><td>1</td><td>2</td><td>4</td></tr><tr><td>MOREJON Glenda</td><td>Ecuador</td><td>Athletics</td><td>Ecuador</td><td>2</td><td>1</td><td>0</td><td>3</td></tr><tr><td>MORRIS Sandi</td><td>United States of America</td><td>Athletics</td><td>United States of America</td><td>39</td><td>41</td><td>33</td><td>113</td></tr><tr><td>MORRISON Natasha</td><td>Jamaica</td><td>Athletics</td><td>Jamaica</td><td>4</td><td>1</td><td>4</td><td>9</td></tr><tr><td>MORVAY Michal</td><td>Slovakia</td><td>Athletics</td><td>Slovakia</td><td>1</td><td>2</td><td>1</td><td>4</td></tr><tr><td>MOSER Angelica</td><td>Switzerland</td><td>Athletics</td><td>Switzerland</td><td>3</td><td>4</td><td>6</td><td>13</td></tr><tr><td>MOSS Megan</td><td>Bahamas</td><td>Athletics</td><td>Bahamas</td><td>2</td><td>0</td><td>0</td><td>2</td></tr><tr><td>MOWATT Kemar</td><td>Jamaica</td><td>Athletics</td><td>Jamaica</td><td>4</td><td>1</td><td>4</td><td>9</td></tr><tr><td>MRZYGLOD Cyprian</td><td>Poland</td><td>Athletics</td><td>Poland</td><td>4</td><td>5</td><td>5</td><td>14</td></tr><tr><td>MU Athing</td><td>United States of America</td><td>Athletics</td><td>United States of America</td><td>39</td><td>41</td><td>33</td><td>113</td></tr><tr><td>MUHAMMAD Dalilah</td><td>United States of America</td><td>Athletics</td><td>United States of America</td><td>39</td><td>41</td><td>33</td><td>113</td></tr><tr><td>MUIR Laura</td><td>Great Britain</td><td>Athletics</td><td>Great Britain</td><td>22</td><td>21</td><td>22</td><td>65</td></tr><tr><td>MUJARIDZE Giorgi</td><td>Georgia</td><td>Athletics</td><td>Georgia</td><td>2</td><td>5</td><td>1</td><td>8</td></tr><tr><td>MULETA Lomi</td><td>Ethiopia</td><td>Athletics</td><td>Ethiopia</td><td>1</td><td>1</td><td>2</td><td>4</td></tr><tr><td>MULIARCHYK Krystsina</td><td>Belarus</td><td>Athletics</td><td>Belarus</td><td>1</td><td>3</td><td>3</td><td>7</td></tr><tr><td>MULLER Laura</td><td>Germany</td><td>Athletics</td><td>Germany</td><td>10</td><td>11</td><td>16</td><td>37</td></tr><tr><td>MULLER Steven</td><td>Germany</td><td>Athletics</td><td>Germany</td><td>10</td><td>11</td><td>16</td><td>37</td></tr><tr><td>MULLER Vit</td><td>Czech Republic</td><td>Athletics</td><td>Czech Republic</td><td>4</td><td>4</td><td>3</td><td>11</td></tr><tr><td>MUNDELL Marc</td><td>South Africa</td><td>Athletics</td><td>South Africa</td><td>1</td><td>2</td><td>0</td><td>3</td></tr><tr><td>MUNOZ Eulalio</td><td>Argentina</td><td>Athletics</td><td>Argentina</td><td>0</td><td>1</td><td>2</td><td>3</td></tr><tr><td>MUNYAI Clarence</td><td>South Africa</td><td>Athletics</td><td>South Africa</td><td>1</td><td>2</td><td>0</td><td>3</td></tr><tr><td>MURATAKE Rachid</td><td>Japan</td><td>Athletics</td><td>Japan</td><td>27</td><td>14</td><td>17</td><td>58</td></tr><tr><td>MURPHY Clayton</td><td>United States of America</td><td>Athletics</td><td>United States of America</td><td>39</td><td>41</td><td>33</td><td>113</td></tr><tr><td>MURTO Wilma</td><td>Finland</td><td>Athletics</td><td>Finland</td><td>0</td><td>0</td><td>2</td><td>2</td></tr><tr><td>MUSAB Adam Ali</td><td>Qatar</td><td>Athletics</td><td>Qatar</td><td>2</td><td>0</td><td>1</td><td>3</td></tr><tr><td>MUSAGALA Ronald</td><td>Uganda</td><td>Athletics</td><td>Uganda</td><td>2</td><td>1</td><td>1</td><td>4</td></tr><tr><td>MUSAH Kojo</td><td>Denmark</td><td>Athletics</td><td>Denmark</td><td>3</td><td>4</td><td>4</td><td>11</td></tr><tr><td>MUSIYENKO Ihor</td><td>Ukraine</td><td>Athletics</td><td>Ukraine</td><td>1</td><td>6</td><td>12</td><td>19</td></tr><tr><td>MUZE Lina</td><td>Latvia</td><td>Athletics</td><td>Latvia</td><td>1</td><td>0</td><td>1</td><td>2</td></tr><tr><td>MYKHAYLOVA Darya</td><td>Ukraine</td><td>Athletics</td><td>Ukraine</td><td>1</td><td>6</td><td>12</td><td>19</td></tr><tr><td>MYKOLENKO Mariya</td><td>Ukraine</td><td>Athletics</td><td>Ukraine</td><td>1</td><td>6</td><td>12</td><td>19</td></tr><tr><td>NABIL Oussama</td><td>Morocco</td><td>Athletics</td><td>Morocco</td><td>1</td><td>0</td><td>0</td><td>1</td></tr><tr><td>NABILA ALIAS Azreen</td><td>Malaysia</td><td>Athletics</td><td>Malaysia</td><td>0</td><td>1</td><td>1</td><td>2</td></tr><tr><td>NABOKAU Dzmitry</td><td>Belarus</td><td>Athletics</td><td>Belarus</td><td>1</td><td>3</td><td>3</td><td>7</td></tr><tr><td>NADOLSKA Karolina</td><td>Poland</td><td>Athletics</td><td>Poland</td><td>4</td><td>5</td><td>5</td><td>14</td></tr><tr><td>NAERT Koen</td><td>Belgium</td><td>Athletics</td><td>Belgium</td><td>3</td><td>1</td><td>3</td><td>7</td></tr><tr><td>NAGEEYE Abdi</td><td>Netherlands</td><td>Athletics</td><td>Netherlands</td><td>10</td><td>12</td><td>14</td><td>36</td></tr><tr><td>NAGEOTTE Katie</td><td>United States of America</td><td>Athletics</td><td>United States of America</td><td>39</td><td>41</td><td>33</td><td>113</td></tr><tr><td>NAKAAYI Halimah</td><td>Uganda</td><td>Athletics</td><td>Uganda</td><td>2</td><td>1</td><td>1</td><td>4</td></tr><tr><td>NAKAMURA Shogo</td><td>Japan</td><td>Athletics</td><td>Japan</td><td>27</td><td>14</td><td>17</td><td>58</td></tr><tr><td>NALIALI Christopher</td><td>France</td><td>Athletics</td><td>France</td><td>10</td><td>12</td><td>11</td><td>33</td></tr><tr><td>NANYONDO Winnie</td><td>Uganda</td><td>Athletics</td><td>Uganda</td><td>2</td><td>1</td><td>1</td><td>4</td></tr><tr><td>NAPOLES Cristian</td><td>Cuba</td><td>Athletics</td><td>Cuba</td><td>7</td><td>3</td><td>5</td><td>15</td></tr><tr><td>NARDELLI Petra</td><td>Italy</td><td>Athletics</td><td>Italy</td><td>10</td><td>10</td><td>20</td><td>40</td></tr><tr><td>NASCIMENTO Carlos</td><td>Portugal</td><td>Athletics</td><td>Portugal</td><td>1</td><td>1</td><td>2</td><td>4</td></tr><tr><td>NATHANIEL Samson Oghenewegba</td><td>Nigeria</td><td>Athletics</td><td>Nigeria</td><td>0</td><td>1</td><td>1</td><td>2</td></tr><tr><td>NAVA Horacio</td><td>Mexico</td><td>Athletics</td><td>Mexico</td><td>0</td><td>0</td><td>4</td><td>4</td></tr><tr><td>NAVARRO Nicolas</td><td>France</td><td>Athletics</td><td>France</td><td>10</td><td>12</td><td>11</td><td>33</td></tr><tr><td>NBERET Melese</td><td>Ethiopia</td><td>Athletics</td><td>Ethiopia</td><td>1</td><td>1</td><td>2</td><td>4</td></tr><tr><td>NDORI Bayapo</td><td>Botswana</td><td>Athletics</td><td>Botswana</td><td>0</td><td>0</td><td>1</td><td>1</td></tr><tr><td>NEDASEKAU Maksim</td><td>Belarus</td><td>Athletics</td><td>Belarus</td><td>1</td><td>3</td><td>3</td><td>7</td></tr><tr><td>NEDOW Tim</td><td>Canada</td><td>Athletics</td><td>Canada</td><td>7</td><td>6</td><td>11</td><td>24</td></tr><tr><td>NEITA Daryll</td><td>Great Britain</td><td>Athletics</td><td>Great Britain</td><td>22</td><td>21</td><td>22</td><td>65</td></tr><tr><td>NEL Wenda</td><td>South Africa</td><td>Athletics</td><td>South Africa</td><td>1</td><td>2</td><td>0</td><td>3</td></tr><tr><td>NELSON Ashleigh</td><td>Great Britain</td><td>Athletics</td><td>Great Britain</td><td>22</td><td>21</td><td>22</td><td>65</td></tr><tr><td>NENE Zakithi</td><td>South Africa</td><td>Athletics</td><td>South Africa</td><td>1</td><td>2</td><td>0</td><td>3</td></tr><tr><td>NESTERENKO Mykyta</td><td>Ukraine</td><td>Athletics</td><td>Ukraine</td><td>1</td><td>6</td><td>12</td><td>19</td></tr><tr><td>NETTEY Christabel</td><td>Canada</td><td>Athletics</td><td>Canada</td><td>7</td><td>6</td><td>11</td><td>24</td></tr><tr><td>NEWELL Anicka</td><td>Canada</td><td>Athletics</td><td>Canada</td><td>7</td><td>6</td><td>11</td><td>24</td></tr><tr><td>NEWMAN Alysha</td><td>Canada</td><td>Athletics</td><td>Canada</td><td>7</td><td>6</td><td>11</td><td>24</td></tr><tr><td>NEZIRI Nooralotta</td><td>Finland</td><td>Athletics</td><td>Finland</td><td>0</td><td>0</td><td>2</td><td>2</td></tr><tr><td>NGOZI Zibane</td><td>Botswana</td><td>Athletics</td><td>Botswana</td><td>0</td><td>0</td><td>1</td><td>1</td></tr><tr><td>NGUYEN Anasztazia</td><td>Hungary</td><td>Athletics</td><td>Hungary</td><td>6</td><td>7</td><td>7</td><td>20</td></tr><tr><td>NIEDZIALEK Lukasz</td><td>Poland</td><td>Athletics</td><td>Poland</td><td>4</td><td>5</td><td>5</td><td>14</td></tr><tr><td>NIELSEN Laviai</td><td>Great Britain</td><td>Athletics</td><td>Great Britain</td><td>22</td><td>21</td><td>22</td><td>65</td></tr><tr><td>NIJHUIS Thijs</td><td>Denmark</td><td>Athletics</td><td>Denmark</td><td>3</td><td>4</td><td>4</td><td>11</td></tr><tr><td>NILSEN Christopher</td><td>United States of America</td><td>Athletics</td><td>United States of America</td><td>39</td><td>41</td><td>33</td><td>113</td></tr><tr><td>NILSSON Maja</td><td>Sweden</td><td>Athletics</td><td>Sweden</td><td>3</td><td>6</td><td>0</td><td>9</td></tr><tr><td>NIPPGEN Lisa</td><td>Germany</td><td>Athletics</td><td>Germany</td><td>10</td><td>11</td><td>16</td><td>37</td></tr><tr><td>NORDAS Narve Gilje</td><td>Norway</td><td>Athletics</td><td>Norway</td><td>4</td><td>2</td><td>2</td><td>8</td></tr><tr><td>NORMAN Michael</td><td>United States of America</td><td>Athletics</td><td>United States of America</td><td>39</td><td>41</td><td>33</td><td>113</td></tr><tr><td>NORMAN Phil</td><td>Great Britain</td><td>Athletics</td><td>Great Britain</td><td>22</td><td>21</td><td>22</td><td>65</td></tr><tr><td>NORWOOD Vernon</td><td>United States of America</td><td>Athletics</td><td>United States of America</td><td>39</td><td>41</td><td>33</td><td>113</td></tr><tr><td>NOVAC Alexandru Mihaita</td><td>Romania</td><td>Athletics</td><td>Romania</td><td>1</td><td>3</td><td>0</td><td>4</td></tr><tr><td>NOVOZHYLOVA Iryna</td><td>Ukraine</td><td>Athletics</td><td>Ukraine</td><td>1</td><td>6</td><td>12</td><td>19</td></tr><tr><td>NOWICKI Adam</td><td>Poland</td><td>Athletics</td><td>Poland</td><td>4</td><td>5</td><td>5</td><td>14</td></tr><tr><td>NOWICKI Wojciech</td><td>Poland</td><td>Athletics</td><td>Poland</td><td>4</td><td>5</td><td>5</td><td>14</td></tr><tr><td>NTIAMOAH Brigitte</td><td>France</td><td>Athletics</td><td>France</td><td>10</td><td>12</td><td>11</td><td>33</td></tr><tr><td>NUGUSE Yared</td><td>United States of America</td><td>Athletics</td><td>United States of America</td><td>39</td><td>41</td><td>33</td><td>113</td></tr><tr><td>NURME Tiidrek</td><td>Estonia</td><td>Athletics</td><td>Estonia</td><td>1</td><td>0</td><td>1</td><td>2</td></tr><tr><td>NWOKOCHA Nzubechi Grace</td><td>Nigeria</td><td>Athletics</td><td>Nigeria</td><td>0</td><td>1</td><td>1</td><td>2</td></tr><tr><td>NYZHNYK Mykola</td><td>Ukraine</td><td>Athletics</td><td>Ukraine</td><td>1</td><td>6</td><td>12</td><td>19</td></tr><tr><td>O'DONNELL Christopher</td><td>Ireland</td><td>Athletics</td><td>Ireland</td><td>2</td><td>0</td><td>2</td><td>4</td></tr><tr><td>OBASUYI Michael</td><td>Belgium</td><td>Athletics</td><td>Belgium</td><td>3</td><td>1</td><td>3</td><td>7</td></tr><tr><td>OBIENA Ernest John</td><td>Philippines</td><td>Athletics</td><td>Philippines</td><td>1</td><td>2</td><td>1</td><td>4</td></tr><tr><td>OBIRI Hellen</td><td>Kenya</td><td>Athletics</td><td>Kenya</td><td>4</td><td>4</td><td>2</td><td>10</td></tr><tr><td>OBOYA Bendere</td><td>Australia</td><td>Athletics</td><td>Australia</td><td>17</td><td>7</td><td>22</td><td>46</td></tr><tr><td>ODHIAMBO Mark Otieno</td><td>Kenya</td><td>Athletics</td><td>Kenya</td><td>4</td><td>4</td><td>2</td><td>10</td></tr><tr><td>ODUDURU Divine</td><td>Nigeria</td><td>Athletics</td><td>Nigeria</td><td>0</td><td>1</td><td>1</td><td>2</td></tr><tr><td>ODURO MANU Joseph</td><td>Ghana</td><td>Athletics</td><td>Ghana</td><td>0</td><td>0</td><td>1</td><td>1</td></tr><tr><td>OFILI Favour</td><td>Nigeria</td><td>Athletics</td><td>Nigeria</td><td>0</td><td>1</td><td>1</td><td>2</td></tr><tr><td>OGANDO Alexander</td><td>Dominican Republic</td><td>Athletics</td><td>Dominican Republic</td><td>0</td><td>3</td><td>2</td><td>5</td></tr><tr><td>OGRODNIKOVA Nikola</td><td>Czech Republic</td><td>Athletics</td><td>Czech Republic</td><td>4</td><td>4</td><td>3</td><td>11</td></tr><tr><td>OGUNODE Femi</td><td>Qatar</td><td>Athletics</td><td>Qatar</td><td>2</td><td>0</td><td>1</td><td>3</td></tr><tr><td>OH Joohan</td><td>Republic of Korea</td><td>Athletics</td><td>Republic of Korea</td><td>6</td><td>4</td><td>10</td><td>20</td></tr><tr><td>OHIOZE Michael</td><td>Great Britain</td><td>Athletics</td><td>Great Britain</td><td>22</td><td>21</td><td>22</td><td>65</td></tr><tr><td>OIGLANE Janek</td><td>Estonia</td><td>Athletics</td><td>Estonia</td><td>1</td><td>0</td><td>1</td><td>2</td></tr><tr><td>OJALA Aleksi</td><td>Finland</td><td>Athletics</td><td>Finland</td><td>0</td><td>0</td><td>2</td><td>2</td></tr><tr><td>OJELI Ifeanyi Emmanuel</td><td>Nigeria</td><td>Athletics</td><td>Nigeria</td><td>0</td><td>1</td><td>1</td><td>2</td></tr><tr><td>OKADA Kumiko</td><td>Japan</td><td>Athletics</td><td>Japan</td><td>27</td><td>14</td><td>17</td><td>58</td></tr><tr><td>OKAGBARE Blessing</td><td>Nigeria</td><td>Athletics</td><td>Nigeria</td><td>0</td><td>1</td><td>1</td><td>2</td></tr><tr><td>OKEZIE Chidi</td><td>Nigeria</td><td>Athletics</td><td>Nigeria</td><td>0</td><td>1</td><td>1</td><td>2</td></tr><tr><td>OKOYE Lawrence</td><td>Great Britain</td><td>Athletics</td><td>Great Britain</td><td>22</td><td>21</td><td>22</td><td>65</td></tr><tr><td>OLIVAS NUNEZ Andres Eduardo</td><td>Mexico</td><td>Athletics</td><td>Mexico</td><td>0</td><td>0</td><td>4</td><td>4</td></tr><tr><td>OLIVER Javianne</td><td>United States of America</td><td>Athletics</td><td>United States of America</td><td>39</td><td>41</td><td>33</td><td>113</td></tr><tr><td>OLIVIERI Linda</td><td>Italy</td><td>Athletics</td><td>Italy</td><td>10</td><td>10</td><td>20</td><td>40</td></tr><tr><td>OLYANOVSKA Lyudmila</td><td>Ukraine</td><td>Athletics</td><td>Ukraine</td><td>1</td><td>6</td><td>12</td><td>19</td></tr><tr><td>OMBISSA-DZANGUE Orlann</td><td>France</td><td>Athletics</td><td>France</td><td>10</td><td>12</td><td>11</td><td>33</td></tr><tr><td>OMURWA Ferdinand</td><td>Kenya</td><td>Athletics</td><td>Kenya</td><td>4</td><td>4</td><td>2</td><td>10</td></tr><tr><td>ONNEN Imke</td><td>Germany</td><td>Athletics</td><td>Germany</td><td>10</td><td>11</td><td>16</td><td>37</td></tr><tr><td>ONYEKWERE Chioma</td><td>Nigeria</td><td>Athletics</td><td>Nigeria</td><td>0</td><td>1</td><td>1</td><td>2</td></tr><tr><td>OOSTERWEGEL Emma</td><td>Netherlands</td><td>Athletics</td><td>Netherlands</td><td>10</td><td>12</td><td>14</td><td>36</td></tr><tr><td>OOSTERWEGEL Hanneke</td><td>Netherlands</td><td>Athletics</td><td>Netherlands</td><td>10</td><td>12</td><td>14</td><td>36</td></tr><tr><td>ORDONEZ Saul</td><td>Spain</td><td>Athletics</td><td>Spain</td><td>3</td><td>8</td><td>6</td><td>17</td></tr><tr><td>ORJI Keturah</td><td>United States of America</td><td>Athletics</td><td>United States of America</td><td>39</td><td>41</td><td>33</td><td>113</td></tr><tr><td>ORJUELA Angie</td><td>Colombia</td><td>Athletics</td><td>Colombia</td><td>0</td><td>4</td><td>1</td><td>5</td></tr><tr><td>ORTEGA Mauricio</td><td>Colombia</td><td>Athletics</td><td>Colombia</td><td>0</td><td>4</td><td>1</td><td>5</td></tr><tr><td>ORTEGA Orlando</td><td>Spain</td><td>Athletics</td><td>Spain</td><td>3</td><td>8</td><td>6</td><td>17</td></tr><tr><td>ORTUNO Valeria</td><td>Mexico</td><td>Athletics</td><td>Mexico</td><td>0</td><td>0</td><td>4</td><td>4</td></tr><tr><td>OSAKO Suguru</td><td>Japan</td><td>Athletics</td><td>Japan</td><td>27</td><td>14</td><td>17</td><td>58</td></tr><tr><td>OSAKUE Daisy</td><td>Italy</td><td>Athletics</td><td>Italy</td><td>10</td><td>10</td><td>20</td><td>40</td></tr><tr><td>OSIKA Shannon</td><td>United States of America</td><td>Athletics</td><td>United States of America</td><td>39</td><td>41</td><td>33</td><td>113</td></tr><tr><td>OSTERGAARD Louise</td><td>Denmark</td><td>Athletics</td><td>Denmark</td><td>3</td><td>4</td><td>4</td><td>11</td></tr><tr><td>OTSUKA Shohei</td><td>Japan</td><td>Athletics</td><td>Japan</td><td>27</td><td>14</td><td>17</td><td>58</td></tr><tr><td>OTTERDAHL Payton</td><td>United States of America</td><td>Athletics</td><td>United States of America</td><td>39</td><td>41</td><td>33</td><td>113</td></tr><tr><td>OUCENI Ludovic</td><td>France</td><td>Athletics</td><td>France</td><td>10</td><td>12</td><td>11</td><td>33</td></tr><tr><td>OVCHINNIKOVA Kristina</td><td>Kazakhstan</td><td>Athletics</td><td>Kazakhstan</td><td>0</td><td>0</td><td>8</td><td>8</td></tr><tr><td>OVCHINNIKOVA Mariya</td><td>Kazakhstan</td><td>Athletics</td><td>Kazakhstan</td><td>0</td><td>0</td><td>8</td><td>8</td></tr><tr><td>OZBILEN Kaan Kigen</td><td>Turkey</td><td>Athletics</td><td>Turkey</td><td>2</td><td>2</td><td>9</td><td>13</td></tr><tr><td>OZER Kayhan</td><td>Turkey</td><td>Athletics</td><td>Turkey</td><td>2</td><td>2</td><td>9</td><td>13</td></tr><tr><td>OZKAN Ertan</td><td>Turkey</td><td>Athletics</td><td>Turkey</td><td>2</td><td>2</td><td>9</td><td>13</td></tr><tr><td>PACHECO Juan</td><td>Mexico</td><td>Athletics</td><td>Mexico</td><td>0</td><td>0</td><td>4</td><td>4</td></tr><tr><td>PAHLITZSCH Karolina</td><td>Germany</td><td>Athletics</td><td>Germany</td><td>10</td><td>11</td><td>16</td><td>37</td></tr><tr><td>PALAMEIKA Madara</td><td>Latvia</td><td>Athletics</td><td>Latvia</td><td>1</td><td>0</td><td>1</td><td>2</td></tr><tr><td>PALMA Isaac</td><td>Mexico</td><td>Athletics</td><td>Mexico</td><td>0</td><td>0</td><td>4</td><td>4</td></tr><tr><td>PALMISANO Antonella</td><td>Italy</td><td>Athletics</td><td>Italy</td><td>10</td><td>10</td><td>20</td><td>40</td></tr><tr><td>PALOMEQUE Diego</td><td>Colombia</td><td>Athletics</td><td>Colombia</td><td>0</td><td>4</td><td>1</td><td>5</td></tr><tr><td>PALSYTE Airine</td><td>Lithuania</td><td>Athletics</td><td>Lithuania</td><td>0</td><td>1</td><td>0</td><td>1</td></tr><tr><td>PALUCH Paulina</td><td>Poland</td><td>Athletics</td><td>Poland</td><td>4</td><td>5</td><td>5</td><td>14</td></tr><tr><td>PANDI Naganathan</td><td>India</td><td>Athletics</td><td>India</td><td>1</td><td>2</td><td>4</td><td>7</td></tr><tr><td>PAPACHRISTOU Paraskevi</td><td>Greece</td><td>Athletics</td><td>Greece</td><td>2</td><td>1</td><td>1</td><td>4</td></tr><tr><td>PAPAMICHAIL Alexandros</td><td>Greece</td><td>Athletics</td><td>Greece</td><td>2</td><td>1</td><td>1</td><td>4</td></tr><tr><td>PARAKHONKA Vitali</td><td>Belarus</td><td>Athletics</td><td>Belarus</td><td>1</td><td>3</td><td>3</td><td>7</td></tr><tr><td>PARCHMENT Hansle</td><td>Jamaica</td><td>Athletics</td><td>Jamaica</td><td>4</td><td>1</td><td>4</td><td>9</td></tr><tr><td>PARE Maroussia</td><td>France</td><td>Athletics</td><td>France</td><td>10</td><td>12</td><td>11</td><td>33</td></tr><tr><td>PARLOV KOSTRO Matea</td><td>Croatia</td><td>Athletics</td><td>Croatia</td><td>3</td><td>3</td><td>2</td><td>8</td></tr><tr><td>PARNOVA Elizaveta</td><td>Australia</td><td>Athletics</td><td>Australia</td><td>17</td><td>7</td><td>22</td><td>46</td></tr><tr><td>PARTANEN Veli-Matti</td><td>Finland</td><td>Athletics</td><td>Finland</td><td>0</td><td>0</td><td>2</td><td>2</td></tr><tr><td>PASELA Anthony</td><td>Botswana</td><td>Athletics</td><td>Botswana</td><td>0</td><td>0</td><td>1</td><td>1</td></tr><tr><td>PASHLEY Ellie</td><td>Australia</td><td>Athletics</td><td>Australia</td><td>17</td><td>7</td><td>22</td><td>46</td></tr><tr><td>PATRICK Glory</td><td>Nigeria</td><td>Athletics</td><td>Nigeria</td><td>0</td><td>1</td><td>1</td><td>2</td></tr><tr><td>PATTA Lorenzo</td><td>Italy</td><td>Athletics</td><td>Italy</td><td>10</td><td>10</td><td>20</td><td>40</td></tr><tr><td>PATTERSON Eleanor</td><td>Australia</td><td>Athletics</td><td>Australia</td><td>17</td><td>7</td><td>22</td><td>46</td></tr><tr><td>PAULINA Hensley</td><td>Netherlands</td><td>Athletics</td><td>Netherlands</td><td>10</td><td>12</td><td>14</td><td>36</td></tr><tr><td>PAULINO Marileidy</td><td>Dominican Republic</td><td>Athletics</td><td>Dominican Republic</td><td>0</td><td>3</td><td>2</td><td>5</td></tr><tr><td>PAYTON Malaina</td><td>United States of America</td><td>Athletics</td><td>United States of America</td><td>39</td><td>41</td><td>33</td><td>113</td></tr><tr><td>PEDROSO Yadisleidis</td><td>Italy</td><td>Athletics</td><td>Italy</td><td>10</td><td>10</td><td>20</td><td>40</td></tr><tr><td>PEINADO Robeilys</td><td>Venezuela</td><td>Athletics</td><td>Venezuela</td><td>1</td><td>3</td><td>0</td><td>4</td></tr><tr><td>PELETEIRO Ana</td><td>Spain</td><td>Athletics</td><td>Spain</td><td>3</td><td>8</td><td>6</td><td>17</td></tr><tr><td>PELLAUD Rachel</td><td>Switzerland</td><td>Athletics</td><td>Switzerland</td><td>3</td><td>4</td><td>6</td><td>13</td></tr><tr><td>PEN FREITAS Marta</td><td>Portugal</td><td>Athletics</td><td>Portugal</td><td>1</td><td>1</td><td>2</td><td>4</td></tr><tr><td>PENG Jianhua</td><td>People's Republic of China</td><td>Athletics</td><td>People's Republic of China</td><td>38</td><td>32</td><td>18</td><td>88</td></tr><tr><td>PEREIRA Tiago</td><td>Portugal</td><td>Athletics</td><td>Portugal</td><td>1</td><td>1</td><td>2</td><td>4</td></tr><tr><td>PEREVOZNIKOV Serhiy</td><td>Ukraine</td><td>Athletics</td><td>Ukraine</td><td>1</td><td>6</td><td>12</td><td>19</td></tr><tr><td>PEREZ Leyanis</td><td>Cuba</td><td>Athletics</td><td>Cuba</td><td>7</td><td>3</td><td>5</td><td>15</td></tr><tr><td>PEREZ Maria Isabel</td><td>Spain</td><td>Athletics</td><td>Spain</td><td>3</td><td>8</td><td>6</td><td>17</td></tr><tr><td>PEREZ Maria</td><td>Spain</td><td>Athletics</td><td>Spain</td><td>3</td><td>8</td><td>6</td><td>17</td></tr><tr><td>PEREZ Marta</td><td>Spain</td><td>Athletics</td><td>Spain</td><td>3</td><td>8</td><td>6</td><td>17</td></tr><tr><td>PEREZ Paola</td><td>Ecuador</td><td>Athletics</td><td>Ecuador</td><td>2</td><td>1</td><td>0</td><td>3</td></tr><tr><td>PEREZ Yaime</td><td>Cuba</td><td>Athletics</td><td>Cuba</td><td>7</td><td>3</td><td>5</td><td>15</td></tr><tr><td>PERKOVIC Sandra</td><td>Croatia</td><td>Athletics</td><td>Croatia</td><td>3</td><td>3</td><td>2</td><td>8</td></tr><tr><td>PERLAZA Jhon Alejandro</td><td>Colombia</td><td>Athletics</td><td>Colombia</td><td>0</td><td>4</td><td>1</td><td>5</td></tr><tr><td>PESIRIDOU Elisavet</td><td>Greece</td><td>Athletics</td><td>Greece</td><td>2</td><td>1</td><td>1</td><td>4</td></tr><tr><td>PETERS Anderson</td><td>Grenada</td><td>Athletics</td><td>Grenada</td><td>0</td><td>0</td><td>1</td><td>1</td></tr><tr><td>PETERSEN Sara Slott</td><td>Denmark</td><td>Athletics</td><td>Denmark</td><td>3</td><td>4</td><td>4</td><td>11</td></tr><tr><td>PETERSSON Wictor</td><td>Sweden</td><td>Athletics</td><td>Sweden</td><td>3</td><td>6</td><td>0</td><td>9</td></tr><tr><td>PETRIVSKAYA Zalina</td><td>Republic of Moldova</td><td>Athletics</td><td>Republic of Moldova</td><td>0</td><td>0</td><td>1</td><td>1</td></tr><tr><td>PETROS Amanal</td><td>Germany</td><td>Athletics</td><td>Germany</td><td>10</td><td>11</td><td>16</td><td>37</td></tr><tr><td>PETROVA Gabriela</td><td>Bulgaria</td><td>Athletics</td><td>Bulgaria</td><td>3</td><td>1</td><td>2</td><td>6</td></tr><tr><td>PETRUCCIANI Ricky</td><td>Switzerland</td><td>Athletics</td><td>Switzerland</td><td>3</td><td>4</td><td>6</td><td>13</td></tr><tr><td>PETTERSSON Simon</td><td>Sweden</td><td>Athletics</td><td>Sweden</td><td>3</td><td>6</td><td>0</td><td>9</td></tr><tr><td>PFEIFFER Hendrik</td><td>Germany</td><td>Athletics</td><td>Germany</td><td>10</td><td>11</td><td>16</td><td>37</td></tr><tr><td>PHELUT Alexis</td><td>France</td><td>Athletics</td><td>France</td><td>10</td><td>12</td><td>11</td><td>33</td></tr><tr><td>PHILIP Asha</td><td>Great Britain</td><td>Athletics</td><td>Great Britain</td><td>22</td><td>21</td><td>22</td><td>65</td></tr><tr><td>PHORA Thapelo</td><td>South Africa</td><td>Athletics</td><td>South Africa</td><td>1</td><td>2</td><td>0</td><td>3</td></tr><tr><td>PIASECKI Jess</td><td>Great Britain</td><td>Athletics</td><td>Great Britain</td><td>22</td><td>21</td><td>22</td><td>65</td></tr><tr><td>PICHARDO Pedro</td><td>Portugal</td><td>Athletics</td><td>Portugal</td><td>1</td><td>1</td><td>2</td><td>4</td></tr><tr><td>PIDHORESKY Dayna</td><td>Canada</td><td>Athletics</td><td>Canada</td><td>7</td><td>6</td><td>11</td><td>24</td></tr><tr><td>PILLAY Lythe</td><td>South Africa</td><td>Athletics</td><td>South Africa</td><td>1</td><td>2</td><td>0</td><td>3</td></tr><tr><td>PINTADO Brian Daniel</td><td>Ecuador</td><td>Athletics</td><td>Ecuador</td><td>2</td><td>1</td><td>0</td><td>3</td></tr><tr><td>PINTO Tatjana</td><td>Germany</td><td>Athletics</td><td>Germany</td><td>10</td><td>11</td><td>16</td><td>37</td></tr><tr><td>PINZON Diego</td><td>Colombia</td><td>Athletics</td><td>Colombia</td><td>0</td><td>4</td><td>1</td><td>5</td></tr><tr><td>PIPI Ama</td><td>Great Britain</td><td>Athletics</td><td>Great Britain</td><td>22</td><td>21</td><td>22</td><td>65</td></tr><tr><td>PIRJAHAN Mahdi</td><td>Islamic Republic of Iran</td><td>Athletics</td><td>Islamic Republic of Iran</td><td>3</td><td>2</td><td>2</td><td>7</td></tr><tr><td>PISKUNOV Hlib</td><td>Ukraine</td><td>Athletics</td><td>Ukraine</td><td>1</td><td>6</td><td>12</td><td>19</td></tr><tr><td>POHLE Hagen</td><td>Germany</td><td>Athletics</td><td>Germany</td><td>10</td><td>11</td><td>16</td><td>37</td></tr><tr><td>POHORILKO Oleksandr</td><td>Ukraine</td><td>Athletics</td><td>Ukraine</td><td>1</td><td>6</td><td>12</td><td>19</td></tr><tr><td>POLAK Eleni-Klaoudia</td><td>Greece</td><td>Athletics</td><td>Greece</td><td>2</td><td>1</td><td>1</td><td>4</td></tr><tr><td>POLANCO RIJO Hillary Wanderson</td><td>Italy</td><td>Athletics</td><td>Italy</td><td>10</td><td>10</td><td>20</td><td>40</td></tr><tr><td>POLINARI Anna</td><td>Italy</td><td>Athletics</td><td>Italy</td><td>10</td><td>10</td><td>20</td><td>40</td></tr><tr><td>POLLOCK Paul</td><td>Ireland</td><td>Athletics</td><td>Ireland</td><td>2</td><td>0</td><td>2</td><td>4</td></tr><tr><td>PONTE FERRAZ Simone</td><td>Brazil</td><td>Athletics</td><td>Brazil</td><td>7</td><td>6</td><td>8</td><td>21</td></tr><tr><td>PONTVIANNE Jean-Marc</td><td>France</td><td>Athletics</td><td>France</td><td>10</td><td>12</td><td>11</td><td>33</td></tr><tr><td>PONZIO Nick</td><td>Italy</td><td>Athletics</td><td>Italy</td><td>10</td><td>10</td><td>20</td><td>40</td></tr><tr><td>POPOWICZ-DRAPALA Marika</td><td>Poland</td><td>Athletics</td><td>Poland</td><td>4</td><td>5</td><td>5</td><td>14</td></tr><tr><td>PORTER Chanice</td><td>Jamaica</td><td>Athletics</td><td>Jamaica</td><td>4</td><td>1</td><td>4</td><td>9</td></tr><tr><td>PORTER Tiffany</td><td>Great Britain</td><td>Athletics</td><td>Great Britain</td><td>22</td><td>21</td><td>22</td><td>65</td></tr><tr><td>POVEA Liadagmis</td><td>Cuba</td><td>Athletics</td><td>Cuba</td><td>7</td><td>3</td><td>5</td><td>15</td></tr><tr><td>POWER Nadia</td><td>Ireland</td><td>Athletics</td><td>Ireland</td><td>2</td><td>0</td><td>2</td><td>4</td></tr><tr><td>POZZI Andrew</td><td>Great Britain</td><td>Athletics</td><td>Great Britain</td><td>22</td><td>21</td><td>22</td><td>65</td></tr><tr><td>PRATT Aimee</td><td>Great Britain</td><td>Athletics</td><td>Great Britain</td><td>22</td><td>21</td><td>22</td><td>65</td></tr><tr><td>PRAUGHT-LEER Aisha</td><td>Jamaica</td><td>Athletics</td><td>Jamaica</td><td>4</td><td>1</td><td>4</td><td>9</td></tr><tr><td>PREIS Constantin</td><td>Germany</td><td>Athletics</td><td>Germany</td><td>10</td><td>11</td><td>16</td><td>37</td></tr><tr><td>PREISNER Ben</td><td>Canada</td><td>Athletics</td><td>Canada</td><td>7</td><td>6</td><td>11</td><td>24</td></tr><tr><td>PRESCOD Reece</td><td>Great Britain</td><td>Athletics</td><td>Great Britain</td><td>22</td><td>21</td><td>22</td><td>65</td></tr><tr><td>PRICE Madeline</td><td>Canada</td><td>Athletics</td><td>Canada</td><td>7</td><td>6</td><td>11</td><td>24</td></tr><tr><td>PRIYANKA .</td><td>India</td><td>Athletics</td><td>India</td><td>1</td><td>2</td><td>4</td><td>7</td></tr><tr><td>PROKOFYEVA Yeheniya</td><td>Ukraine</td><td>Athletics</td><td>Ukraine</td><td>1</td><td>6</td><td>12</td><td>19</td></tr><tr><td>PRONKIN Valeriy</td><td>ROC</td><td>Athletics</td><td>ROC</td><td>20</td><td>28</td><td>23</td><td>71</td></tr><tr><td>PROTSENKO Andriy</td><td>Ukraine</td><td>Athletics</td><td>Ukraine</td><td>1</td><td>6</td><td>12</td><td>19</td></tr><tr><td>PRUFER Clemens</td><td>Germany</td><td>Athletics</td><td>Germany</td><td>10</td><td>11</td><td>16</td><td>37</td></tr><tr><td>PRZYBYLKO Mateusz</td><td>Germany</td><td>Athletics</td><td>Germany</td><td>10</td><td>11</td><td>16</td><td>37</td></tr><tr><td>PUDENZ Kristin</td><td>Germany</td><td>Athletics</td><td>Germany</td><td>10</td><td>11</td><td>16</td><td>37</td></tr><tr><td>PULLI Kristian</td><td>Finland</td><td>Athletics</td><td>Finland</td><td>0</td><td>0</td><td>2</td><td>2</td></tr><tr><td>PUNIA Seema</td><td>India</td><td>Athletics</td><td>India</td><td>1</td><td>2</td><td>4</td><td>7</td></tr><tr><td>PURRIER ST. PIERRE Elinor</td><td>United States of America</td><td>Athletics</td><td>United States of America</td><td>39</td><td>41</td><td>33</td><td>113</td></tr><tr><td>PYROZHENKO-CHORNOMAZ Natalya</td><td>Ukraine</td><td>Athletics</td><td>Ukraine</td><td>1</td><td>6</td><td>12</td><td>19</td></tr><tr><td>QIEYANG Shijie</td><td>People's Republic of China</td><td>Athletics</td><td>People's Republic of China</td><td>38</td><td>32</td><td>18</td><td>88</td></tr><tr><td>QUINONEZ Alex</td><td>Ecuador</td><td>Athletics</td><td>Ecuador</td><td>2</td><td>1</td><td>0</td><td>3</td></tr><tr><td>RACHIK Yassine</td><td>Italy</td><td>Athletics</td><td>Italy</td><td>10</td><td>10</td><td>20</td><td>40</td></tr><tr><td>RADZIVIL Svetlana</td><td>Uzbekistan</td><td>Athletics</td><td>Uzbekistan</td><td>3</td><td>0</td><td>2</td><td>5</td></tr><tr><td>RAESS Jonas</td><td>Switzerland</td><td>Athletics</td><td>Switzerland</td><td>3</td><td>4</td><td>6</td><td>13</td></tr><tr><td>RAFFIN Melvin</td><td>France</td><td>Athletics</td><td>France</td><td>10</td><td>12</td><td>11</td><td>33</td></tr><tr><td>RAHUL .</td><td>India</td><td>Athletics</td><td>India</td><td>1</td><td>2</td><td>4</td><td>7</td></tr><tr><td>RAINHOLD Tomas Hilifa</td><td>Namibia</td><td>Athletics</td><td>Namibia</td><td>0</td><td>1</td><td>0</td><td>1</td></tr><tr><td>RAITANEN Topi</td><td>Finland</td><td>Athletics</td><td>Finland</td><td>0</td><td>0</td><td>2</td><td>2</td></tr><tr><td>RAJIV Arokia</td><td>India</td><td>Athletics</td><td>India</td><td>1</td><td>2</td><td>4</td><td>7</td></tr><tr><td>RAMIREZ LIMON Andrea Soraya</td><td>Mexico</td><td>Athletics</td><td>Mexico</td><td>0</td><td>0</td><td>4</td><td>4</td></tr><tr><td>RAMORWA Galaletsang</td><td>South Africa</td><td>Athletics</td><td>South Africa</td><td>1</td><td>2</td><td>0</td><td>3</td></tr><tr><td>RAMSDEN Matthew</td><td>Australia</td><td>Athletics</td><td>Australia</td><td>17</td><td>7</td><td>22</td><td>46</td></tr><tr><td>RAMSEY Jessica</td><td>United States of America</td><td>Athletics</td><td>United States of America</td><td>39</td><td>41</td><td>33</td><td>113</td></tr><tr><td>RANDAZZO Filippo</td><td>Italy</td><td>Athletics</td><td>Italy</td><td>10</td><td>10</td><td>20</td><td>40</td></tr><tr><td>RANI Annu</td><td>India</td><td>Athletics</td><td>India</td><td>1</td><td>2</td><td>4</td><td>7</td></tr><tr><td>RAROVSKAYA Anastasiya</td><td>Belarus</td><td>Athletics</td><td>Belarus</td><td>1</td><td>3</td><td>3</td><td>7</td></tr><tr><td>RASHCHUPKINA Viktoryia</td><td>Belarus</td><td>Athletics</td><td>Belarus</td><td>1</td><td>3</td><td>3</td><td>7</td></tr><tr><td>RATCLIFFE Julia</td><td>New Zealand</td><td>Athletics</td><td>New Zealand</td><td>7</td><td>6</td><td>7</td><td>20</td></tr><tr><td>RATOVA Aiman</td><td>Kazakhstan</td><td>Athletics</td><td>Kazakhstan</td><td>0</td><td>0</td><td>8</td><td>8</td></tr><tr><td>RAYNER Jack</td><td>Australia</td><td>Athletics</td><td>Australia</td><td>17</td><td>7</td><td>22</td><td>46</td></tr><tr><td>RE Davide</td><td>Italy</td><td>Athletics</td><td>Italy</td><td>10</td><td>10</td><td>20</td><td>40</td></tr><tr><td>REAIS William</td><td>Switzerland</td><td>Athletics</td><td>Switzerland</td><td>3</td><td>4</td><td>6</td><td>13</td></tr><tr><td>REDONDO MORA Laura</td><td>Spain</td><td>Athletics</td><td>Spain</td><td>3</td><td>8</td><td>6</td><td>17</td></tr><tr><td>REEKIE Jemma</td><td>Great Britain</td><td>Athletics</td><td>Great Britain</td><td>22</td><td>21</td><td>22</td><td>65</td></tr><tr><td>REESE Brittney</td><td>United States of America</td><td>Athletics</td><td>United States of America</td><td>39</td><td>41</td><td>33</td><td>113</td></tr><tr><td>REID Leon</td><td>Ireland</td><td>Athletics</td><td>Ireland</td><td>2</td><td>0</td><td>2</td><td>4</td></tr><tr><td>REINLE Cynthia</td><td>Switzerland</td><td>Athletics</td><td>Switzerland</td><td>3</td><td>4</td><td>6</td><td>13</td></tr><tr><td>RENE Marvin</td><td>France</td><td>Athletics</td><td>France</td><td>10</td><td>12</td><td>11</td><td>33</td></tr><tr><td>RENGERUK Lilian Kasait</td><td>Kenya</td><td>Athletics</td><td>Kenya</td><td>4</td><td>4</td><td>2</td><td>10</td></tr><tr><td>RETZIUS Lene Onsrud</td><td>Norway</td><td>Athletics</td><td>Norway</td><td>4</td><td>2</td><td>2</td><td>8</td></tr><tr><td>REUS Julian</td><td>Germany</td><td>Athletics</td><td>Germany</td><td>10</td><td>11</td><td>16</td><td>37</td></tr><tr><td>REW Quentin</td><td>New Zealand</td><td>Athletics</td><td>New Zealand</td><td>7</td><td>6</td><td>7</td><td>20</td></tr><tr><td>REZNICHENKO Darya</td><td>Uzbekistan</td><td>Athletics</td><td>Uzbekistan</td><td>3</td><td>0</td><td>2</td><td>5</td></tr><tr><td>RIBEIRO Sara Catarina</td><td>Portugal</td><td>Athletics</td><td>Portugal</td><td>1</td><td>1</td><td>2</td><td>4</td></tr><tr><td>RICHARDSSON Camilla</td><td>Finland</td><td>Athletics</td><td>Finland</td><td>0</td><td>0</td><td>2</td><td>2</td></tr><tr><td>RICKETTS Shanieka</td><td>Jamaica</td><td>Athletics</td><td>Jamaica</td><td>4</td><td>1</td><td>4</td><td>9</td></tr><tr><td>RILEY Jacob</td><td>United States of America</td><td>Athletics</td><td>United States of America</td><td>39</td><td>41</td><td>33</td><td>113</td></tr><tr><td>RINGER Richard</td><td>Germany</td><td>Athletics</td><td>Germany</td><td>10</td><td>11</td><td>16</td><td>37</td></tr><tr><td>RISELEY Jeffrey</td><td>Australia</td><td>Athletics</td><td>Australia</td><td>17</td><td>7</td><td>22</td><td>46</td></tr><tr><td>RIVASZ-TOTH Norbert</td><td>Hungary</td><td>Athletics</td><td>Hungary</td><td>6</td><td>7</td><td>7</td><td>20</td></tr><tr><td>ROBERT Benjamin</td><td>France</td><td>Athletics</td><td>France</td><td>10</td><td>12</td><td>11</td><td>33</td></tr><tr><td>ROBERT-MICHON Melina</td><td>France</td><td>Athletics</td><td>France</td><td>10</td><td>12</td><td>11</td><td>33</td></tr><tr><td>ROBERTS Daniel</td><td>United States of America</td><td>Athletics</td><td>United States of America</td><td>39</td><td>41</td><td>33</td><td>113</td></tr><tr><td>ROBERTSON Zane</td><td>New Zealand</td><td>Athletics</td><td>New Zealand</td><td>7</td><td>6</td><td>7</td><td>20</td></tr><tr><td>ROBINSON Brett</td><td>Australia</td><td>Athletics</td><td>Australia</td><td>17</td><td>7</td><td>22</td><td>46</td></tr><tr><td>ROBLES Carolina</td><td>Spain</td><td>Athletics</td><td>Spain</td><td>3</td><td>8</td><td>6</td><td>17</td></tr><tr><td>ROCHA de SENA Erica</td><td>Brazil</td><td>Athletics</td><td>Brazil</td><td>7</td><td>6</td><td>8</td><td>21</td></tr><tr><td>ROCHA Salome</td><td>Portugal</td><td>Athletics</td><td>Portugal</td><td>1</td><td>1</td><td>2</td><td>4</td></tr><tr><td>RODNEY Brendon</td><td>Canada</td><td>Athletics</td><td>Canada</td><td>7</td><td>6</td><td>11</td><td>24</td></tr><tr><td>RODNEY Meleni</td><td>Grenada</td><td>Athletics</td><td>Grenada</td><td>0</td><td>0</td><td>1</td><td>1</td></tr><tr><td>RODRIGUES Eduardo</td><td>Brazil</td><td>Athletics</td><td>Brazil</td><td>7</td><td>6</td><td>8</td><td>21</td></tr><tr><td>RODRIGUES Irina</td><td>Portugal</td><td>Athletics</td><td>Portugal</td><td>1</td><td>1</td><td>2</td><td>4</td></tr><tr><td>RODRIGUEZ Lucia</td><td>Spain</td><td>Athletics</td><td>Spain</td><td>3</td><td>8</td><td>6</td><td>17</td></tr><tr><td>RODRIGUEZ Rosa Andreina</td><td>Venezuela</td><td>Athletics</td><td>Venezuela</td><td>1</td><td>3</td><td>0</td><td>4</td></tr><tr><td>RODRIGUEZ Yorgelis</td><td>Cuba</td><td>Athletics</td><td>Cuba</td><td>7</td><td>3</td><td>5</td><td>15</td></tr><tr><td>ROE Martin</td><td>Norway</td><td>Athletics</td><td>Norway</td><td>4</td><td>2</td><td>2</td><td>8</td></tr><tr><td>ROGERS Camryn</td><td>Canada</td><td>Athletics</td><td>Canada</td><td>7</td><td>6</td><td>11</td><td>24</td></tr><tr><td>ROGERS Raevyn</td><td>United States of America</td><td>Athletics</td><td>United States of America</td><td>39</td><td>41</td><td>33</td><td>113</td></tr><tr><td>ROJAS Yulimar</td><td>Venezuela</td><td>Athletics</td><td>Venezuela</td><td>1</td><td>3</td><td>0</td><td>4</td></tr><tr><td>ROMANI Darlan</td><td>Brazil</td><td>Athletics</td><td>Brazil</td><td>7</td><td>6</td><td>8</td><td>21</td></tr><tr><td>ROMERO Natalia</td><td>Spain</td><td>Athletics</td><td>Spain</td><td>3</td><td>8</td><td>6</td><td>17</td></tr><tr><td>ROOS Fanny</td><td>Sweden</td><td>Athletics</td><td>Sweden</td><td>3</td><td>6</td><td>0</td><td>9</td></tr><tr><td>ROSA Vitoria Cristina</td><td>Brazil</td><td>Athletics</td><td>Brazil</td><td>7</td><td>6</td><td>8</td><td>21</td></tr><tr><td>ROTARU-KOTTMANN Alina</td><td>Romania</td><td>Athletics</td><td>Romania</td><td>1</td><td>3</td><td>0</td><td>4</td></tr><tr><td>ROTICH Ferguson Cheruiyot</td><td>Kenya</td><td>Athletics</td><td>Kenya</td><td>4</td><td>4</td><td>2</td><td>10</td></tr><tr><td>ROWDEN Daniel</td><td>Great Britain</td><td>Athletics</td><td>Great Britain</td><td>22</td><td>21</td><td>22</td><td>65</td></tr><tr><td>ROZMYS Michal</td><td>Poland</td><td>Athletics</td><td>Poland</td><td>4</td><td>5</td><td>5</td><td>14</td></tr><tr><td>RUBIE-RENSHAW Anneliese</td><td>Australia</td><td>Athletics</td><td>Australia</td><td>17</td><td>7</td><td>22</td><td>46</td></tr><tr><td>RUIZ Jorge</td><td>Colombia</td><td>Athletics</td><td>Colombia</td><td>0</td><td>4</td><td>1</td><td>5</td></tr><tr><td>RUMBENIEKS Arnis</td><td>Latvia</td><td>Athletics</td><td>Latvia</td><td>1</td><td>0</td><td>1</td><td>2</td></tr><tr><td>RUPP Galen</td><td>United States of America</td><td>Athletics</td><td>United States of America</td><td>39</td><td>41</td><td>33</td><td>113</td></tr><tr><td>RUSSELL Alonzo</td><td>Bahamas</td><td>Athletics</td><td>Bahamas</td><td>2</td><td>0</td><td>0</td><td>2</td></tr><tr><td>RUUSKANEN Antti</td><td>Finland</td><td>Athletics</td><td>Finland</td><td>0</td><td>0</td><td>2</td><td>2</td></tr><tr><td>RYPAKOVA Olga</td><td>Kazakhstan</td><td>Athletics</td><td>Kazakhstan</td><td>0</td><td>0</td><td>8</td><td>8</td></tr><tr><td>RYZHYKOVA Anna</td><td>Ukraine</td><td>Athletics</td><td>Ukraine</td><td>1</td><td>6</td><td>12</td><td>19</td></tr><tr><td>RZEZNICZAK Mateusz</td><td>Poland</td><td>Athletics</td><td>Poland</td><td>4</td><td>5</td><td>5</td><td>14</td></tr><tr><td>SABBATINI Gaia</td><td>Italy</td><td>Athletics</td><td>Italy</td><td>10</td><td>10</td><td>20</td><td>40</td></tr><tr><td>SABLE Avinash Mukund</td><td>India</td><td>Athletics</td><td>India</td><td>1</td><td>2</td><td>4</td><td>7</td></tr><tr><td>SACOOR Jonathan</td><td>Belgium</td><td>Athletics</td><td>Belgium</td><td>3</td><td>1</td><td>3</td><td>7</td></tr><tr><td>SADIKI Abdelatif</td><td>Morocco</td><td>Athletics</td><td>Morocco</td><td>1</td><td>0</td><td>0</td><td>1</td></tr><tr><td>SADULLAYEVA Safina</td><td>Uzbekistan</td><td>Athletics</td><td>Uzbekistan</td><td>3</td><td>0</td><td>2</td><td>5</td></tr><tr><td>SAFO-ANTWI Sean</td><td>Ghana</td><td>Athletics</td><td>Ghana</td><td>0</td><td>0</td><td>1</td><td>1</td></tr><tr><td>SAFRONOVA Olga</td><td>Kazakhstan</td><td>Athletics</td><td>Kazakhstan</td><td>0</td><td>0</td><td>8</td><td>8</td></tr><tr><td>SAGNIA Khaddi</td><td>Sweden</td><td>Athletics</td><td>Sweden</td><td>3</td><td>6</td><td>0</td><td>9</td></tr><tr><td>SAHLI Hamza</td><td>Morocco</td><td>Athletics</td><td>Morocco</td><td>1</td><td>0</td><td>0</td><td>1</td></tr><tr><td>SAHUTOGLU Tugce</td><td>Turkey</td><td>Athletics</td><td>Turkey</td><td>2</td><td>2</td><td>9</td><td>13</td></tr><tr><td>SAITO Ami</td><td>Japan</td><td>Athletics</td><td>Japan</td><td>27</td><td>14</td><td>17</td><td>58</td></tr><tr><td>SAKHARUK Mariia</td><td>Ukraine</td><td>Athletics</td><td>Ukraine</td><td>1</td><td>6</td><td>12</td><td>19</td></tr><tr><td>SALADUKHA Olha</td><td>Ukraine</td><td>Athletics</td><td>Ukraine</td><td>1</td><td>6</td><td>12</td><td>19</td></tr><tr><td>SALMINEN Senni</td><td>Finland</td><td>Athletics</td><td>Finland</td><td>0</td><td>0</td><td>2</td><td>2</td></tr><tr><td>SALMON Shiann</td><td>Jamaica</td><td>Athletics</td><td>Jamaica</td><td>4</td><td>1</td><td>4</td><td>9</td></tr><tr><td>SALPETER Lonah Chemtai</td><td>Israel</td><td>Athletics</td><td>Israel</td><td>2</td><td>0</td><td>2</td><td>4</td></tr><tr><td>SAMAAI Ruswahl</td><td>South Africa</td><td>Athletics</td><td>South Africa</td><td>1</td><td>2</td><td>0</td><td>3</td></tr><tr><td>SAMBA Abderrahman</td><td>Qatar</td><td>Athletics</td><td>Qatar</td><td>2</td><td>0</td><td>1</td><td>3</td></tr><tr><td>SAMBA-MAYELA Cyrena</td><td>France</td><td>Athletics</td><td>France</td><td>10</td><td>12</td><td>11</td><td>33</td></tr><tr><td>SAMUEL Jamile</td><td>Netherlands</td><td>Athletics</td><td>Netherlands</td><td>10</td><td>12</td><td>14</td><td>36</td></tr><tr><td>SAN MARTIN Carlos Andres</td><td>Colombia</td><td>Athletics</td><td>Colombia</td><td>0</td><td>4</td><td>1</td><td>5</td></tr><tr><td>SANCHEZ Ryan</td><td>Puerto Rico</td><td>Athletics</td><td>Puerto Rico</td><td>1</td><td>0</td><td>0</td><td>1</td></tr><tr><td>SANCHEZ Ursula Patricia</td><td>Mexico</td><td>Athletics</td><td>Mexico</td><td>0</td><td>0</td><td>4</td><td>4</td></tr><tr><td>SANCHEZ-ESCRIBANO Irene</td><td>Spain</td><td>Athletics</td><td>Spain</td><td>3</td><td>8</td><td>6</td><td>17</td></tr><tr><td>SANCHEZ-VALLADARES Pablo</td><td>Spain</td><td>Athletics</td><td>Spain</td><td>3</td><td>8</td><td>6</td><td>17</td></tr><tr><td>SANDERS Manuel</td><td>Germany</td><td>Athletics</td><td>Germany</td><td>10</td><td>11</td><td>16</td><td>37</td></tr><tr><td>SANI BROWN Abdul Hakim</td><td>Japan</td><td>Athletics</td><td>Japan</td><td>27</td><td>14</td><td>17</td><td>58</td></tr><tr><td>SANTANA MARIN Jose Luis</td><td>Mexico</td><td>Athletics</td><td>Mexico</td><td>0</td><td>0</td><td>4</td><td>4</td></tr><tr><td>SANTOS da SILVA Altobeli</td><td>Brazil</td><td>Athletics</td><td>Brazil</td><td>7</td><td>6</td><td>8</td><td>21</td></tr><tr><td>SANTOS Luguelin</td><td>Dominican Republic</td><td>Athletics</td><td>Dominican Republic</td><td>0</td><td>3</td><td>2</td><td>5</td></tr><tr><td>SANTOS Rosangela</td><td>Brazil</td><td>Athletics</td><td>Brazil</td><td>7</td><td>6</td><td>8</td><td>21</td></tr><tr><td>SARNA Angelika</td><td>Poland</td><td>Athletics</td><td>Poland</td><td>4</td><td>5</td><td>5</td><td>14</td></tr><tr><td>SARUNI Michael</td><td>Kenya</td><td>Athletics</td><td>Kenya</td><td>4</td><td>4</td><td>2</td><td>10</td></tr><tr><td>SASMA Ersu</td><td>Turkey</td><td>Athletics</td><td>Turkey</td><td>2</td><td>2</td><td>9</td><td>13</td></tr><tr><td>SATO Kentaro</td><td>Japan</td><td>Athletics</td><td>Japan</td><td>27</td><td>14</td><td>17</td><td>58</td></tr><tr><td>SAUNDERS Raven</td><td>United States of America</td><td>Athletics</td><td>United States of America</td><td>39</td><td>41</td><td>33</td><td>113</td></tr><tr><td>SAVINA Nina</td><td>Belarus</td><td>Athletics</td><td>Belarus</td><td>1</td><td>3</td><td>3</td><td>7</td></tr><tr><td>SAWE Mathew</td><td>Kenya</td><td>Athletics</td><td>Kenya</td><td>4</td><td>4</td><td>2</td><td>10</td></tr><tr><td>SAWYERS Jazmin</td><td>Great Britain</td><td>Athletics</td><td>Great Britain</td><td>22</td><td>21</td><td>22</td><td>65</td></tr><tr><td>SCANTLING Garrett</td><td>United States of America</td><td>Athletics</td><td>United States of America</td><td>39</td><td>41</td><td>33</td><td>113</td></tr><tr><td>SCARVELIS Stamatia</td><td>Greece</td><td>Athletics</td><td>Greece</td><td>2</td><td>1</td><td>1</td><td>4</td></tr><tr><td>SCHAFER Carolin</td><td>Germany</td><td>Athletics</td><td>Germany</td><td>10</td><td>11</td><td>16</td><td>37</td></tr><tr><td>SCHILDER Jessica</td><td>Netherlands</td><td>Athletics</td><td>Netherlands</td><td>10</td><td>12</td><td>14</td><td>36</td></tr><tr><td>SCHIPPERS Dafne</td><td>Netherlands</td><td>Athletics</td><td>Netherlands</td><td>10</td><td>12</td><td>14</td><td>36</td></tr><tr><td>SCHLEGEL Marvin</td><td>Germany</td><td>Athletics</td><td>Germany</td><td>10</td><td>11</td><td>16</td><td>37</td></tr><tr><td>SCHLUMPF Fabienne</td><td>Switzerland</td><td>Athletics</td><td>Switzerland</td><td>3</td><td>4</td><td>6</td><td>13</td></tr><tr><td>SCHMIDT Alica</td><td>Germany</td><td>Athletics</td><td>Germany</td><td>10</td><td>11</td><td>16</td><td>37</td></tr><tr><td>SCHNEIDER Rachel</td><td>United States of America</td><td>Athletics</td><td>United States of America</td><td>39</td><td>41</td><td>33</td><td>113</td></tr><tr><td>SCHONEBORN Deborah</td><td>Germany</td><td>Athletics</td><td>Germany</td><td>10</td><td>11</td><td>16</td><td>37</td></tr><tr><td>SCHONEBORN Rabea</td><td>Germany</td><td>Athletics</td><td>Germany</td><td>10</td><td>11</td><td>16</td><td>37</td></tr><tr><td>SCHOU-NIELSEN Frederik</td><td>Denmark</td><td>Athletics</td><td>Denmark</td><td>3</td><td>4</td><td>4</td><td>11</td></tr><tr><td>SCHULTE Marvin</td><td>Germany</td><td>Athletics</td><td>Germany</td><td>10</td><td>11</td><td>16</td><td>37</td></tr><tr><td>SCHWAB Corinna</td><td>Germany</td><td>Athletics</td><td>Germany</td><td>10</td><td>11</td><td>16</td><td>37</td></tr><tr><td>SCHWANDKE Tristan</td><td>Germany</td><td>Athletics</td><td>Germany</td><td>10</td><td>11</td><td>16</td><td>37</td></tr><tr><td>SCHWANITZ Christina</td><td>Germany</td><td>Athletics</td><td>Germany</td><td>10</td><td>11</td><td>16</td><td>37</td></tr><tr><td>SCHWEIZER Karissa</td><td>United States of America</td><td>Athletics</td><td>United States of America</td><td>39</td><td>41</td><td>33</td><td>113</td></tr><tr><td>SCLABAS Delia</td><td>Switzerland</td><td>Athletics</td><td>Switzerland</td><td>3</td><td>4</td><td>6</td><td>13</td></tr><tr><td>SCOTCH Leungo</td><td>Botswana</td><td>Athletics</td><td>Botswana</td><td>0</td><td>0</td><td>1</td><td>1</td></tr><tr><td>SCOTT Dominique</td><td>South Africa</td><td>Athletics</td><td>South Africa</td><td>1</td><td>2</td><td>0</td><td>3</td></tr><tr><td>SCOTT Donald</td><td>United States of America</td><td>Athletics</td><td>United States of America</td><td>39</td><td>41</td><td>33</td><td>113</td></tr><tr><td>SCOTT Marc</td><td>Great Britain</td><td>Athletics</td><td>Great Britain</td><td>22</td><td>21</td><td>22</td><td>65</td></tr><tr><td>SCOTTI Edoardo</td><td>Italy</td><td>Athletics</td><td>Italy</td><td>10</td><td>10</td><td>20</td><td>40</td></tr><tr><td>SCULLION Stephen</td><td>Ireland</td><td>Athletics</td><td>Ireland</td><td>2</td><td>0</td><td>2</td><td>4</td></tr><tr><td>SEAWARD Kevin</td><td>Ireland</td><td>Athletics</td><td>Ireland</td><td>2</td><td>0</td><td>2</td><td>4</td></tr><tr><td>SECCAFIEN Andrea</td><td>Canada</td><td>Athletics</td><td>Canada</td><td>7</td><td>6</td><td>11</td><td>24</td></tr><tr><td>SEDDON Zak</td><td>Great Britain</td><td>Athletics</td><td>Great Britain</td><td>22</td><td>21</td><td>22</td><td>65</td></tr><tr><td>SEDNEY Naomi</td><td>Netherlands</td><td>Athletics</td><td>Netherlands</td><td>10</td><td>12</td><td>14</td><td>36</td></tr><tr><td>SEDNEY Zoe</td><td>Netherlands</td><td>Athletics</td><td>Netherlands</td><td>10</td><td>12</td><td>14</td><td>36</td></tr><tr><td>SEIDEL Molly</td><td>United States of America</td><td>Athletics</td><td>United States of America</td><td>39</td><td>41</td><td>33</td><td>113</td></tr><tr><td>SEIFERT Bernhard</td><td>Germany</td><td>Athletics</td><td>Germany</td><td>10</td><td>11</td><td>16</td><td>37</td></tr><tr><td>SEILER Nathaniel</td><td>Germany</td><td>Athletics</td><td>Germany</td><td>10</td><td>11</td><td>16</td><td>37</td></tr><tr><td>SEKAR Dhanalakshmi</td><td>India</td><td>Athletics</td><td>India</td><td>1</td><td>2</td><td>4</td><td>7</td></tr><tr><td>SELMON Kenneth</td><td>United States of America</td><td>Athletics</td><td>United States of America</td><td>39</td><td>41</td><td>33</td><td>113</td></tr><tr><td>SEMBER Cindy</td><td>Great Britain</td><td>Athletics</td><td>Great Britain</td><td>22</td><td>21</td><td>22</td><td>65</td></tr><tr><td>SEMENOVA Nataliya</td><td>Ukraine</td><td>Athletics</td><td>Ukraine</td><td>1</td><td>6</td><td>12</td><td>19</td></tr><tr><td>SENE Alioune</td><td>France</td><td>Athletics</td><td>France</td><td>10</td><td>12</td><td>11</td><td>33</td></tr><tr><td>SENODUNCU Sahin</td><td>Turkey</td><td>Athletics</td><td>Turkey</td><td>2</td><td>2</td><td>9</td><td>13</td></tr><tr><td>SERKSNIENE Agne</td><td>Lithuania</td><td>Athletics</td><td>Lithuania</td><td>0</td><td>1</td><td>0</td><td>1</td></tr><tr><td>SEVILLE Oblique</td><td>Jamaica</td><td>Athletics</td><td>Jamaica</td><td>4</td><td>1</td><td>4</td><td>9</td></tr><tr><td>SEYMOUR Pedrya</td><td>Bahamas</td><td>Athletics</td><td>Bahamas</td><td>2</td><td>0</td><td>0</td><td>2</td></tr><tr><td>SHANAHAN Louise</td><td>Ireland</td><td>Athletics</td><td>Ireland</td><td>2</td><td>0</td><td>2</td><td>4</td></tr><tr><td>SHANGE Lebogang</td><td>South Africa</td><td>Athletics</td><td>South Africa</td><td>1</td><td>2</td><td>0</td><td>3</td></tr><tr><td>SHATIRISHVILI Sopo</td><td>Georgia</td><td>Athletics</td><td>Georgia</td><td>2</td><td>5</td><td>1</td><td>8</td></tr><tr><td>SHEIKO Georgiy</td><td>Kazakhstan</td><td>Athletics</td><td>Kazakhstan</td><td>0</td><td>0</td><td>8</td><td>8</td></tr><tr><td>SHEVCHUK Hanna</td><td>Ukraine</td><td>Athletics</td><td>Ukraine</td><td>1</td><td>6</td><td>12</td><td>19</td></tr><tr><td>SHI Liying</td><td>People's Republic of China</td><td>Athletics</td><td>People's Republic of China</td><td>38</td><td>32</td><td>18</td><td>88</td></tr><tr><td>SHIDA Leni</td><td>Uganda</td><td>Athletics</td><td>Uganda</td><td>2</td><td>1</td><td>1</td><td>4</td></tr><tr><td>SHIM Jungsub</td><td>Republic of Korea</td><td>Athletics</td><td>Republic of Korea</td><td>6</td><td>4</td><td>10</td><td>20</td></tr><tr><td>SHIOJIRI Kazuya</td><td>Japan</td><td>Athletics</td><td>Japan</td><td>27</td><td>14</td><td>17</td><td>58</td></tr><tr><td>SHIROYAMA Shoutarou</td><td>Japan</td><td>Athletics</td><td>Japan</td><td>27</td><td>14</td><td>17</td><td>58</td></tr><tr><td>SHKURENYOV Ilya</td><td>ROC</td><td>Athletics</td><td>ROC</td><td>20</td><td>28</td><td>23</td><td>71</td></tr><tr><td>SHUBENKOV Sergey</td><td>ROC</td><td>Athletics</td><td>ROC</td><td>20</td><td>28</td><td>23</td><td>71</td></tr><tr><td>SHUEY Michael</td><td>United States of America</td><td>Athletics</td><td>United States of America</td><td>39</td><td>41</td><td>33</td><td>113</td></tr><tr><td>SHUMIK Viktor</td><td>Ukraine</td><td>Athletics</td><td>Ukraine</td><td>1</td><td>6</td><td>12</td><td>19</td></tr><tr><td>SIBILIO Alessandro</td><td>Italy</td><td>Athletics</td><td>Italy</td><td>10</td><td>10</td><td>20</td><td>40</td></tr><tr><td>SIDOROVA Anzhelika</td><td>ROC</td><td>Athletics</td><td>ROC</td><td>20</td><td>28</td><td>23</td><td>71</td></tr><tr><td>SILVA MARINHO Tiffani</td><td>Brazil</td><td>Athletics</td><td>Brazil</td><td>7</td><td>6</td><td>8</td><td>21</td></tr><tr><td>SILVA Yarisley</td><td>Cuba</td><td>Athletics</td><td>Cuba</td><td>7</td><td>3</td><td>5</td><td>15</td></tr><tr><td>SIMBINE Akani</td><td>South Africa</td><td>Athletics</td><td>South Africa</td><td>1</td><td>2</td><td>0</td><td>3</td></tr><tr><td>SIME Abrham</td><td>Ethiopia</td><td>Athletics</td><td>Ethiopia</td><td>1</td><td>1</td><td>2</td><td>4</td></tr><tr><td>SIMIC Ana</td><td>Croatia</td><td>Athletics</td><td>Croatia</td><td>3</td><td>3</td><td>2</td><td>8</td></tr><tr><td>SIMOTWO Charles Cheboi</td><td>Kenya</td><td>Athletics</td><td>Kenya</td><td>4</td><td>4</td><td>2</td><td>10</td></tr><tr><td>SINANCEVIC Armin</td><td>Serbia</td><td>Athletics</td><td>Serbia</td><td>3</td><td>1</td><td>5</td><td>9</td></tr><tr><td>SINGH Gurpreet</td><td>India</td><td>Athletics</td><td>India</td><td>1</td><td>2</td><td>4</td><td>7</td></tr><tr><td>SINGH Shivpal</td><td>India</td><td>Athletics</td><td>India</td><td>1</td><td>2</td><td>4</td><td>7</td></tr><tr><td>SIRAGUSA Irene</td><td>Italy</td><td>Athletics</td><td>Italy</td><td>10</td><td>10</td><td>20</td><td>40</td></tr><tr><td>SISSON Emily</td><td>United States of America</td><td>Athletics</td><td>United States of America</td><td>39</td><td>41</td><td>33</td><td>113</td></tr><tr><td>SITKOVSKIY Oleksandr</td><td>Ukraine</td><td>Athletics</td><td>Ukraine</td><td>1</td><td>6</td><td>12</td><td>19</td></tr><tr><td>SKRYPAK Olga</td><td>Ukraine</td><td>Athletics</td><td>Ukraine</td><td>1</td><td>6</td><td>12</td><td>19</td></tr><tr><td>SKRZYSZOWSKA Pia</td><td>Poland</td><td>Athletics</td><td>Poland</td><td>4</td><td>5</td><td>5</td><td>14</td></tr><tr><td>SKVARTSOVA Viyaleta</td><td>Belarus</td><td>Athletics</td><td>Belarus</td><td>1</td><td>3</td><td>3</td><td>7</td></tr><tr><td>SKYDAN Hanna</td><td>Azerbaijan</td><td>Athletics</td><td>Azerbaijan</td><td>0</td><td>3</td><td>4</td><td>7</td></tr><tr><td>SMAILI Mostafa</td><td>Morocco</td><td>Athletics</td><td>Morocco</td><td>1</td><td>0</td><td>0</td><td>1</td></tr><tr><td>SMELLIE Gavin</td><td>Canada</td><td>Athletics</td><td>Canada</td><td>7</td><td>6</td><td>11</td><td>24</td></tr><tr><td>SMETS Fanny</td><td>Belgium</td><td>Athletics</td><td>Belgium</td><td>3</td><td>1</td><td>3</td><td>7</td></tr><tr><td>SMIDT Nick</td><td>Netherlands</td><td>Athletics</td><td>Netherlands</td><td>10</td><td>12</td><td>14</td><td>36</td></tr><tr><td>SMIKLE Traves</td><td>Jamaica</td><td>Athletics</td><td>Jamaica</td><td>4</td><td>1</td><td>4</td><td>9</td></tr><tr><td>SMOLONSKIS Ruslans</td><td>Latvia</td><td>Athletics</td><td>Latvia</td><td>1</td><td>0</td><td>1</td><td>2</td></tr><tr><td>SNOWDEN Katie</td><td>Great Britain</td><td>Athletics</td><td>Great Britain</td><td>22</td><td>21</td><td>22</td><td>65</td></tr><tr><td>SNYMAN Wayne</td><td>South Africa</td><td>Athletics</td><td>South Africa</td><td>1</td><td>2</td><td>0</td><td>3</td></tr><tr><td>SOARES Nubia</td><td>Brazil</td><td>Athletics</td><td>Brazil</td><td>7</td><td>6</td><td>8</td><td>21</td></tr><tr><td>SOBCHUK Olena</td><td>Ukraine</td><td>Athletics</td><td>Ukraine</td><td>1</td><td>6</td><td>12</td><td>19</td></tr><tr><td>SOBERA Robert</td><td>Poland</td><td>Athletics</td><td>Poland</td><td>4</td><td>5</td><td>5</td><td>14</td></tr><tr><td>SOLIS Jhon Alexander</td><td>Colombia</td><td>Athletics</td><td>Colombia</td><td>0</td><td>4</td><td>1</td><td>5</td></tr><tr><td>SOLOMON Steven</td><td>Australia</td><td>Athletics</td><td>Australia</td><td>17</td><td>7</td><td>22</td><td>46</td></tr><tr><td>SONG Jiayuan</td><td>People's Republic of China</td><td>Athletics</td><td>People's Republic of China</td><td>38</td><td>32</td><td>18</td><td>88</td></tr><tr><td>SORM Patrik</td><td>Czech Republic</td><td>Athletics</td><td>Czech Republic</td><td>4</td><td>4</td><td>3</td><td>11</td></tr><tr><td>SOTO Manuel Esteban</td><td>Colombia</td><td>Athletics</td><td>Colombia</td><td>0</td><td>4</td><td>1</td><td>5</td></tr><tr><td>SOTTILE Stefano</td><td>Italy</td><td>Athletics</td><td>Italy</td><td>10</td><td>10</td><td>20</td><td>40</td></tr><tr><td>SOUZA ALFANO MOURA Thiago Julio</td><td>Brazil</td><td>Athletics</td><td>Brazil</td><td>7</td><td>6</td><td>8</td><td>21</td></tr><tr><td>SPANOUDAKI-CHATZIRIGA Rafalia</td><td>Greece</td><td>Athletics</td><td>Greece</td><td>2</td><td>1</td><td>1</td><td>4</td></tr><tr><td>SPANOVIC Ivana</td><td>Serbia</td><td>Athletics</td><td>Serbia</td><td>3</td><td>1</td><td>5</td><td>9</td></tr><tr><td>SPOTAKOVA Barbora</td><td>Czech Republic</td><td>Athletics</td><td>Czech Republic</td><td>4</td><td>4</td><td>3</td><td>11</td></tr><tr><td>SPRUNGER Lea</td><td>Switzerland</td><td>Athletics</td><td>Switzerland</td><td>3</td><td>4</td><td>6</td><td>13</td></tr><tr><td>STAEHLI Julie-Anne</td><td>Canada</td><td>Athletics</td><td>Canada</td><td>7</td><td>6</td><td>11</td><td>24</td></tr><tr><td>STAFFORD Lucia</td><td>Canada</td><td>Athletics</td><td>Canada</td><td>7</td><td>6</td><td>11</td><td>24</td></tr><tr><td>STAHL Daniel</td><td>Sweden</td><td>Athletics</td><td>Sweden</td><td>3</td><td>6</td><td>0</td><td>9</td></tr><tr><td>STANCIU Daniela</td><td>Romania</td><td>Athletics</td><td>Romania</td><td>1</td><td>3</td><td>0</td><td>4</td></tr><tr><td>STANEK Tomas</td><td>Czech Republic</td><td>Athletics</td><td>Czech Republic</td><td>4</td><td>4</td><td>3</td><td>11</td></tr><tr><td>STANO Massimo</td><td>Italy</td><td>Athletics</td><td>Italy</td><td>10</td><td>10</td><td>20</td><td>40</td></tr><tr><td>STARC Brandon</td><td>Australia</td><td>Athletics</td><td>Australia</td><td>17</td><td>7</td><td>22</td><td>46</td></tr><tr><td>STECCHI Claudio Michel</td><td>Italy</td><td>Athletics</td><td>Italy</td><td>10</td><td>10</td><td>20</td><td>40</td></tr><tr><td>STEFANIDI Katerina</td><td>Greece</td><td>Athletics</td><td>Greece</td><td>2</td><td>1</td><td>1</td><td>4</td></tr><tr><td>STEINACKER Marike</td><td>Germany</td><td>Athletics</td><td>Germany</td><td>10</td><td>11</td><td>16</td><td>37</td></tr><tr><td>STEINRUCK Katharina</td><td>Germany</td><td>Athletics</td><td>Germany</td><td>10</td><td>11</td><td>16</td><td>37</td></tr><tr><td>STEVENS Dani</td><td>Australia</td><td>Athletics</td><td>Australia</td><td>17</td><td>7</td><td>22</td><td>46</td></tr><tr><td>STEVENS Robyn</td><td>United States of America</td><td>Athletics</td><td>United States of America</td><td>39</td><td>41</td><td>33</td><td>113</td></tr><tr><td>STEWART Trevor</td><td>United States of America</td><td>Athletics</td><td>United States of America</td><td>39</td><td>41</td><td>33</td><td>113</td></tr><tr><td>STEWARTOVA Moira</td><td>Czech Republic</td><td>Athletics</td><td>Czech Republic</td><td>4</td><td>4</td><td>3</td><td>11</td></tr><tr><td>STEYN Gerda</td><td>South Africa</td><td>Athletics</td><td>South Africa</td><td>1</td><td>2</td><td>0</td><td>3</td></tr><tr><td>STOJ Bartlomiej</td><td>Poland</td><td>Athletics</td><td>Poland</td><td>4</td><td>5</td><td>5</td><td>14</td></tr><tr><td>STOJOSKI Jovan</td><td>North Macedonia</td><td>Athletics</td><td>North Macedonia</td><td>0</td><td>1</td><td>0</td><td>1</td></tr><tr><td>STRACHAN Anthonique</td><td>Bahamas</td><td>Athletics</td><td>Bahamas</td><td>2</td><td>0</td><td>0</td><td>2</td></tr><tr><td>STRAHL Martina</td><td>Switzerland</td><td>Athletics</td><td>Switzerland</td><td>3</td><td>4</td><td>6</td><td>13</td></tr><tr><td>STREBKOVA Nataliya</td><td>Ukraine</td><td>Athletics</td><td>Ukraine</td><td>1</td><td>6</td><td>12</td><td>19</td></tr><tr><td>STUNES ISENE Ola</td><td>Norway</td><td>Athletics</td><td>Norway</td><td>4</td><td>2</td><td>2</td><td>8</td></tr><tr><td>SU Bingtian</td><td>People's Republic of China</td><td>Athletics</td><td>People's Republic of China</td><td>38</td><td>32</td><td>18</td><td>88</td></tr><tr><td>SU Guoxiong</td><td>People's Republic of China</td><td>Athletics</td><td>People's Republic of China</td><td>38</td><td>32</td><td>18</td><td>88</td></tr><tr><td>SUAREZ Gabriela Anahi</td><td>Ecuador</td><td>Athletics</td><td>Ecuador</td><td>2</td><td>1</td><td>0</td><td>3</td></tr><tr><td>SUAREZ Jeison Alexander</td><td>Colombia</td><td>Athletics</td><td>Colombia</td><td>0</td><td>4</td><td>1</td><td>5</td></tr><tr><td>SUI Gaofei</td><td>People's Republic of China</td><td>Athletics</td><td>People's Republic of China</td><td>38</td><td>32</td><td>18</td><td>88</td></tr><tr><td>SULEK Adrianna</td><td>Poland</td><td>Athletics</td><td>Poland</td><td>4</td><td>5</td><td>5</td><td>14</td></tr><tr><td>SUM Eunice Jepkoech</td><td>Kenya</td><td>Athletics</td><td>Kenya</td><td>4</td><td>4</td><td>2</td><td>10</td></tr><tr><td>SUNDSTROM Simon</td><td>Sweden</td><td>Athletics</td><td>Sweden</td><td>3</td><td>6</td><td>0</td><td>9</td></tr><tr><td>SUTEJ Tina</td><td>Slovenia</td><td>Athletics</td><td>Slovenia</td><td>3</td><td>1</td><td>1</td><td>5</td></tr><tr><td>SUWARA Wiktor</td><td>Poland</td><td>Athletics</td><td>Poland</td><td>4</td><td>5</td><td>5</td><td>14</td></tr><tr><td>SUZUKI Aoto</td><td>Japan</td><td>Athletics</td><td>Japan</td><td>27</td><td>14</td><td>17</td><td>58</td></tr><tr><td>SUZUKI Ayuko</td><td>Japan</td><td>Athletics</td><td>Japan</td><td>27</td><td>14</td><td>17</td><td>58</td></tr><tr><td>SWAN Kyle</td><td>Australia</td><td>Athletics</td><td>Australia</td><td>17</td><td>7</td><td>22</td><td>46</td></tr><tr><td>SWIETY-ERSETIC Justyna</td><td>Poland</td><td>Athletics</td><td>Poland</td><td>4</td><td>5</td><td>5</td><td>14</td></tr><tr><td>SWOBODA Ewa</td><td>Poland</td><td>Athletics</td><td>Poland</td><td>4</td><td>5</td><td>5</td><td>14</td></tr><tr><td>SYKORA Jiri</td><td>Czech Republic</td><td>Athletics</td><td>Czech Republic</td><td>4</td><td>4</td><td>3</td><td>11</td></tr><tr><td>SYLLA Sounkamba</td><td>France</td><td>Athletics</td><td>France</td><td>10</td><td>12</td><td>11</td><td>33</td></tr><tr><td>SZILAGYI Reka</td><td>Hungary</td><td>Athletics</td><td>Hungary</td><td>6</td><td>7</td><td>7</td><td>20</td></tr><tr><td>SZOGI Istvan</td><td>Hungary</td><td>Athletics</td><td>Hungary</td><td>6</td><td>7</td><td>7</td><td>20</td></tr><tr><td>SZUCS Valdo</td><td>Hungary</td><td>Athletics</td><td>Hungary</td><td>6</td><td>7</td><td>7</td><td>20</td></tr><tr><td>TA LOU Marie-Josee</td><td>Côte d'Ivoire</td><td>Athletics</td><td>Côte d'Ivoire</td><td>0</td><td>0</td><td>1</td><td>1</td></tr><tr><td>TABAKAUCORO Ratu Banuve</td><td>Fiji</td><td>Athletics</td><td>Fiji</td><td>1</td><td>0</td><td>1</td><td>2</td></tr><tr><td>TADA Shuhei</td><td>Japan</td><td>Athletics</td><td>Japan</td><td>27</td><td>14</td><td>17</td><td>58</td></tr><tr><td>TAFTIAN Hassan</td><td>Islamic Republic of Iran</td><td>Athletics</td><td>Islamic Republic of Iran</td><td>3</td><td>2</td><td>2</td><td>7</td></tr><tr><td>TAKAHASHI Eiki</td><td>Japan</td><td>Athletics</td><td>Japan</td><td>27</td><td>14</td><td>17</td><td>58</td></tr><tr><td>TAKAYAMA Shunya</td><td>Japan</td><td>Athletics</td><td>Japan</td><td>27</td><td>14</td><td>17</td><td>58</td></tr><tr><td>TAKELE Bikila Tadese</td><td>Ethiopia</td><td>Athletics</td><td>Ethiopia</td><td>1</td><td>1</td><td>2</td><td>4</td></tr><tr><td>TALBI Zouhair</td><td>Morocco</td><td>Athletics</td><td>Morocco</td><td>1</td><td>0</td><td>0</td><td>1</td></tr><tr><td>TAMBERI Gianmarco</td><td>Italy</td><td>Athletics</td><td>Italy</td><td>10</td><td>10</td><td>20</td><td>40</td></tr><tr><td>TANAKA Nozomi</td><td>Japan</td><td>Athletics</td><td>Japan</td><td>27</td><td>14</td><td>17</td><td>58</td></tr><tr><td>TANG Xingqiang</td><td>People's Republic of China</td><td>Athletics</td><td>People's Republic of China</td><td>38</td><td>32</td><td>18</td><td>88</td></tr><tr><td>TANNER Samuel</td><td>New Zealand</td><td>Athletics</td><td>New Zealand</td><td>7</td><td>6</td><td>7</td><td>20</td></tr><tr><td>TAPPER Megan</td><td>Jamaica</td><td>Athletics</td><td>Jamaica</td><td>4</td><td>1</td><td>4</td><td>9</td></tr><tr><td>TAVERNIER Alexandra</td><td>France</td><td>Athletics</td><td>France</td><td>10</td><td>12</td><td>11</td><td>33</td></tr><tr><td>TAYE Ejgayehu</td><td>Ethiopia</td><td>Athletics</td><td>Ethiopia</td><td>1</td><td>1</td><td>2</td><td>4</td></tr><tr><td>TAYLOR Christopher</td><td>Jamaica</td><td>Athletics</td><td>Jamaica</td><td>4</td><td>1</td><td>4</td><td>9</td></tr><tr><td>TEARE Cooper</td><td>United States of America</td><td>Athletics</td><td>United States of America</td><td>39</td><td>41</td><td>33</td><td>113</td></tr><tr><td>TEFERI Maru</td><td>Israel</td><td>Athletics</td><td>Israel</td><td>2</td><td>0</td><td>2</td><td>4</td></tr><tr><td>TEFERI Selamawit</td><td>Israel</td><td>Athletics</td><td>Israel</td><td>2</td><td>0</td><td>2</td><td>4</td></tr><tr><td>TEFERI Senbere</td><td>Ethiopia</td><td>Athletics</td><td>Ethiopia</td><td>1</td><td>1</td><td>2</td><td>4</td></tr><tr><td>TEHUPEIORY Alvin</td><td>Indonesia</td><td>Athletics</td><td>Indonesia</td><td>1</td><td>1</td><td>3</td><td>5</td></tr><tr><td>TEKDAL Ayse</td><td>Turkey</td><td>Athletics</td><td>Turkey</td><td>2</td><td>2</td><td>9</td><td>13</td></tr><tr><td>TELES Marcio</td><td>Brazil</td><td>Athletics</td><td>Brazil</td><td>7</td><td>6</td><td>8</td><td>21</td></tr><tr><td>TENORIO Angela Gabriela</td><td>Ecuador</td><td>Athletics</td><td>Ecuador</td><td>2</td><td>1</td><td>0</td><td>3</td></tr><tr><td>TENTOGLOU Miltiadis</td><td>Greece</td><td>Athletics</td><td>Greece</td><td>2</td><td>1</td><td>1</td><td>4</td></tr><tr><td>TERADA Asuka</td><td>Japan</td><td>Athletics</td><td>Japan</td><td>27</td><td>14</td><td>17</td><td>58</td></tr><tr><td>TERLYUKEVICH Anna</td><td>Belarus</td><td>Athletics</td><td>Belarus</td><td>1</td><td>3</td><td>3</td><td>7</td></tr><tr><td>TERVO Krista</td><td>Finland</td><td>Athletics</td><td>Finland</td><td>0</td><td>0</td><td>2</td><td>2</td></tr><tr><td>TESAR Jan</td><td>Czech Republic</td><td>Athletics</td><td>Czech Republic</td><td>4</td><td>4</td><td>3</td><td>11</td></tr><tr><td>THEBE Baboloki</td><td>Botswana</td><td>Athletics</td><td>Botswana</td><td>0</td><td>0</td><td>1</td><td>1</td></tr><tr><td>THIAM Nafissatou</td><td>Belgium</td><td>Athletics</td><td>Belgium</td><td>3</td><td>1</td><td>3</td><td>7</td></tr><tr><td>THOMAS Damion</td><td>Jamaica</td><td>Athletics</td><td>Jamaica</td><td>4</td><td>1</td><td>4</td><td>9</td></tr><tr><td>THOMAS Donald</td><td>Bahamas</td><td>Athletics</td><td>Bahamas</td><td>2</td><td>0</td><td>0</td><td>2</td></tr><tr><td>THOMAS Gabrielle</td><td>United States of America</td><td>Athletics</td><td>United States of America</td><td>39</td><td>41</td><td>33</td><td>113</td></tr><tr><td>THOMAS-DODD Danniel</td><td>Jamaica</td><td>Athletics</td><td>Jamaica</td><td>4</td><td>1</td><td>4</td><td>9</td></tr><tr><td>THOMPSON Chris</td><td>Great Britain</td><td>Athletics</td><td>Great Britain</td><td>22</td><td>21</td><td>22</td><td>65</td></tr><tr><td>THOMPSON Curtis</td><td>United States of America</td><td>Athletics</td><td>United States of America</td><td>39</td><td>41</td><td>33</td><td>113</td></tr><tr><td>THOMPSON Lee</td><td>Great Britain</td><td>Athletics</td><td>Great Britain</td><td>22</td><td>21</td><td>22</td><td>65</td></tr><tr><td>THOMPSON Yanique</td><td>Jamaica</td><td>Athletics</td><td>Jamaica</td><td>4</td><td>1</td><td>4</td><td>9</td></tr><tr><td>THOMPSON-HERAH Elaine</td><td>Jamaica</td><td>Athletics</td><td>Jamaica</td><td>4</td><td>1</td><td>4</td><td>9</td></tr><tr><td>TIERNAN Patrick</td><td>Australia</td><td>Athletics</td><td>Australia</td><td>17</td><td>7</td><td>22</td><td>46</td></tr><tr><td>TIKHON Ivan</td><td>Belarus</td><td>Athletics</td><td>Belarus</td><td>1</td><td>3</td><td>3</td><td>7</td></tr><tr><td>TILGA Karel</td><td>Estonia</td><td>Athletics</td><td>Estonia</td><td>1</td><td>0</td><td>1</td><td>2</td></tr><tr><td>TINDOUFT Mohamed</td><td>Morocco</td><td>Athletics</td><td>Morocco</td><td>1</td><td>0</td><td>0</td><td>1</td></tr><tr><td>TINGAY Declan</td><td>Australia</td><td>Athletics</td><td>Australia</td><td>17</td><td>7</td><td>22</td><td>46</td></tr><tr><td>TIROP Agnes Jebet</td><td>Kenya</td><td>Athletics</td><td>Kenya</td><td>4</td><td>4</td><td>2</td><td>10</td></tr><tr><td>TIYOURI Maor</td><td>Israel</td><td>Athletics</td><td>Israel</td><td>2</td><td>0</td><td>2</td><td>4</td></tr><tr><td>TKACHUK Viktoriya</td><td>Ukraine</td><td>Athletics</td><td>Ukraine</td><td>1</td><td>6</td><td>12</td><td>19</td></tr><tr><td>TOADER Andrei Rares</td><td>Romania</td><td>Athletics</td><td>Romania</td><td>1</td><td>3</td><td>0</td><td>4</td></tr><tr><td>TOBE Naoto</td><td>Japan</td><td>Athletics</td><td>Japan</td><td>27</td><td>14</td><td>17</td><td>58</td></tr><tr><td>TOIMIL Maria Belen</td><td>Spain</td><td>Athletics</td><td>Spain</td><td>3</td><td>8</td><td>6</td><td>17</td></tr><tr><td>TOLJ Marija</td><td>Croatia</td><td>Athletics</td><td>Croatia</td><td>3</td><td>3</td><td>2</td><td>8</td></tr><tr><td>TOM Noah Nirmal</td><td>India</td><td>Athletics</td><td>India</td><td>1</td><td>2</td><td>4</td><td>7</td></tr><tr><td>TOMALA Dawid</td><td>Poland</td><td>Athletics</td><td>Poland</td><td>4</td><td>5</td><td>5</td><td>14</td></tr><tr><td>TOMASEVIC Dragana</td><td>Serbia</td><td>Athletics</td><td>Serbia</td><td>3</td><td>1</td><td>5</td><td>9</td></tr><tr><td>TOOR Tajinderpal Singh</td><td>India</td><td>Athletics</td><td>India</td><td>1</td><td>2</td><td>4</td><td>7</td></tr><tr><td>TORRES Daniela</td><td>Mexico</td><td>Athletics</td><td>Mexico</td><td>0</td><td>0</td><td>4</td><td>4</td></tr><tr><td>TORRIJOS Pablo</td><td>Spain</td><td>Athletics</td><td>Spain</td><td>3</td><td>8</td><td>6</td><td>17</td></tr><tr><td>TORTU Filippo</td><td>Italy</td><td>Athletics</td><td>Italy</td><td>10</td><td>10</td><td>20</td><td>40</td></tr><tr><td>TOTH Lili Anna</td><td>Hungary</td><td>Athletics</td><td>Hungary</td><td>6</td><td>7</td><td>7</td><td>20</td></tr><tr><td>TOTH Matej</td><td>Slovakia</td><td>Athletics</td><td>Slovakia</td><td>1</td><td>2</td><td>1</td><td>4</td></tr><tr><td>TOUATI Mohamed</td><td>Tunisia</td><td>Athletics</td><td>Tunisia</td><td>1</td><td>1</td><td>0</td><td>2</td></tr><tr><td>TOYODA Masaki</td><td>Japan</td><td>Athletics</td><td>Japan</td><td>27</td><td>14</td><td>17</td><td>58</td></tr><tr><td>TRABER Gregor</td><td>Germany</td><td>Athletics</td><td>Germany</td><td>10</td><td>11</td><td>16</td><td>37</td></tr><tr><td>TRACEY Tyquendo</td><td>Jamaica</td><td>Athletics</td><td>Jamaica</td><td>4</td><td>1</td><td>4</td><td>9</td></tr><tr><td>TRAPLETTI Valentina</td><td>Italy</td><td>Athletics</td><td>Italy</td><td>10</td><td>10</td><td>20</td><td>40</td></tr><tr><td>TREVISAN Giancarla</td><td>Italy</td><td>Athletics</td><td>Italy</td><td>10</td><td>10</td><td>20</td><td>40</td></tr><tr><td>TRIPPAS Edward</td><td>Australia</td><td>Athletics</td><td>Australia</td><td>17</td><td>7</td><td>22</td><td>46</td></tr><tr><td>TROST Alessia</td><td>Italy</td><td>Athletics</td><td>Italy</td><td>10</td><td>10</td><td>20</td><td>40</td></tr><tr><td>TROST Katharina</td><td>Germany</td><td>Athletics</td><td>Germany</td><td>10</td><td>11</td><td>16</td><td>37</td></tr><tr><td>TRUSKAUSKAS Gediminas</td><td>Lithuania</td><td>Athletics</td><td>Lithuania</td><td>0</td><td>1</td><td>0</td><td>1</td></tr><tr><td>TSEGAY Gudaf</td><td>Ethiopia</td><td>Athletics</td><td>Ethiopia</td><td>1</td><td>1</td><td>2</td><td>4</td></tr><tr><td>TSEVEENRAVDAN Byambajav</td><td>Mongolia</td><td>Athletics</td><td>Mongolia</td><td>0</td><td>1</td><td>3</td><td>4</td></tr><tr><td>TSIAMIS Dimitrios</td><td>Greece</td><td>Athletics</td><td>Greece</td><td>2</td><td>1</td><td>1</td><td>4</td></tr><tr><td>TSIMANOUSKAYA Krystsina</td><td>Belarus</td><td>Athletics</td><td>Belarus</td><td>1</td><td>3</td><td>3</td><td>7</td></tr><tr><td>TSINOPOULOU Panagiota</td><td>Greece</td><td>Athletics</td><td>Greece</td><td>2</td><td>1</td><td>1</td><td>4</td></tr><tr><td>TSUHA Hibiki</td><td>Japan</td><td>Athletics</td><td>Japan</td><td>27</td><td>14</td><td>17</td><td>58</td></tr><tr><td>TSURUTA Remi</td><td>Japan</td><td>Athletics</td><td>Japan</td><td>27</td><td>14</td><td>17</td><td>58</td></tr><tr><td>TUAL Gabriel</td><td>France</td><td>Athletics</td><td>France</td><td>10</td><td>12</td><td>11</td><td>33</td></tr><tr><td>TUEI Emily Cherotich</td><td>Kenya</td><td>Athletics</td><td>Kenya</td><td>4</td><td>4</td><td>2</td><td>10</td></tr><tr><td>TUGSUZ Eda</td><td>Turkey</td><td>Athletics</td><td>Turkey</td><td>2</td><td>2</td><td>9</td><td>13</td></tr><tr><td>TULIAMUK Aliphine Chepkerker</td><td>United States of America</td><td>Athletics</td><td>United States of America</td><td>39</td><td>41</td><td>33</td><td>113</td></tr><tr><td>TUNTIVATE Kieran</td><td>Thailand</td><td>Athletics</td><td>Thailand</td><td>1</td><td>0</td><td>1</td><td>2</td></tr><tr><td>TUR Marc</td><td>Spain</td><td>Athletics</td><td>Spain</td><td>3</td><td>8</td><td>6</td><td>17</td></tr><tr><td>TURNER Jessica</td><td>Great Britain</td><td>Athletics</td><td>Great Britain</td><td>22</td><td>21</td><td>22</td><td>65</td></tr><tr><td>TWELL Stephanie</td><td>Great Britain</td><td>Athletics</td><td>Great Britain</td><td>22</td><td>21</td><td>22</td><td>65</td></tr><tr><td>UGEN Lorraine</td><td>Great Britain</td><td>Athletics</td><td>Great Britain</td><td>22</td><td>21</td><td>22</td><td>65</td></tr><tr><td>UIBO Maicel</td><td>Estonia</td><td>Athletics</td><td>Estonia</td><td>1</td><td>0</td><td>1</td><td>2</td></tr><tr><td>UJAH Chijindu</td><td>Great Britain</td><td>Athletics</td><td>Great Britain</td><td>22</td><td>21</td><td>22</td><td>65</td></tr><tr><td>UKO Imaobong Nse</td><td>Nigeria</td><td>Athletics</td><td>Nigeria</td><td>0</td><td>1</td><td>1</td><td>2</td></tr><tr><td>ULAD Adbi Hakin</td><td>Denmark</td><td>Athletics</td><td>Denmark</td><td>3</td><td>4</td><td>4</td><td>11</td></tr><tr><td>URABE Ran</td><td>Japan</td><td>Athletics</td><td>Japan</td><td>27</td><td>14</td><td>17</td><td>58</td></tr><tr><td>URADNIK Miroslav</td><td>Slovakia</td><td>Athletics</td><td>Slovakia</td><td>1</td><td>2</td><td>1</td><td>4</td></tr><tr><td>URENA Jorge</td><td>Spain</td><td>Athletics</td><td>Spain</td><td>3</td><td>8</td><td>6</td><td>17</td></tr><tr><td>URRUTIA Yosiris</td><td>Colombia</td><td>Athletics</td><td>Colombia</td><td>0</td><td>4</td><td>1</td><td>5</td></tr><tr><td>USORO Ruth</td><td>Nigeria</td><td>Athletics</td><td>Nigeria</td><td>0</td><td>1</td><td>1</td><td>2</td></tr><tr><td>UYAR Oguz</td><td>Turkey</td><td>Athletics</td><td>Turkey</td><td>2</td><td>2</td><td>9</td><td>13</td></tr><tr><td>VADLEJCH Jakub</td><td>Czech Republic</td><td>Athletics</td><td>Czech Republic</td><td>4</td><td>4</td><td>3</td><td>11</td></tr><tr><td>VAILLANT Ludvy</td><td>France</td><td>Athletics</td><td>France</td><td>10</td><td>12</td><td>11</td><td>33</td></tr><tr><td>VAISMAN Diana</td><td>Israel</td><td>Athletics</td><td>Israel</td><td>2</td><td>0</td><td>2</td><td>4</td></tr><tr><td>VALETTE Laura</td><td>France</td><td>Athletics</td><td>France</td><td>10</td><td>12</td><td>11</td><td>33</td></tr><tr><td>VALLORTIGARA Elena</td><td>Italy</td><td>Athletics</td><td>Italy</td><td>10</td><td>10</td><td>20</td><td>40</td></tr><tr><td>van BUSKIRK Kate</td><td>Canada</td><td>Athletics</td><td>Canada</td><td>7</td><td>6</td><td>11</td><td>24</td></tr><tr><td>van de WIEL Anne</td><td>Netherlands</td><td>Athletics</td><td>Netherlands</td><td>10</td><td>12</td><td>14</td><td>36</td></tr><tr><td>van den BROECK Naomi</td><td>Belgium</td><td>Athletics</td><td>Belgium</td><td>3</td><td>1</td><td>3</td><td>7</td></tr><tr><td>van der PLAETSEN Thomas</td><td>Belgium</td><td>Athletics</td><td>Belgium</td><td>3</td><td>1</td><td>3</td><td>7</td></tr><tr><td>van der REIJKEN Irene</td><td>Netherlands</td><td>Athletics</td><td>Netherlands</td><td>10</td><td>12</td><td>14</td><td>36</td></tr><tr><td>van DIEPEN Tony</td><td>Netherlands</td><td>Athletics</td><td>Netherlands</td><td>10</td><td>12</td><td>14</td><td>36</td></tr><tr><td>van DYK Jo Ane</td><td>South Africa</td><td>Athletics</td><td>South Africa</td><td>1</td><td>2</td><td>0</td><td>3</td></tr><tr><td>van ES Diane</td><td>Netherlands</td><td>Athletics</td><td>Netherlands</td><td>10</td><td>12</td><td>14</td><td>36</td></tr><tr><td>van GOOL Joris</td><td>Netherlands</td><td>Athletics</td><td>Netherlands</td><td>10</td><td>12</td><td>14</td><td>36</td></tr><tr><td>van HUNENSTIJN Marije</td><td>Netherlands</td><td>Athletics</td><td>Netherlands</td><td>10</td><td>12</td><td>14</td><td>36</td></tr><tr><td>van KLINKEN Jorinde</td><td>Netherlands</td><td>Athletics</td><td>Netherlands</td><td>10</td><td>12</td><td>14</td><td>36</td></tr><tr><td>van NIEKERK Wayde</td><td>South Africa</td><td>Athletics</td><td>South Africa</td><td>1</td><td>2</td><td>0</td><td>3</td></tr><tr><td>van NUNEN Bart</td><td>Netherlands</td><td>Athletics</td><td>Netherlands</td><td>10</td><td>12</td><td>14</td><td>36</td></tr><tr><td>van ROOYEN Jason</td><td>South Africa</td><td>Athletics</td><td>South Africa</td><td>1</td><td>2</td><td>0</td><td>3</td></tr><tr><td>van ROOYEN Rocco</td><td>South Africa</td><td>Athletics</td><td>South Africa</td><td>1</td><td>2</td><td>0</td><td>3</td></tr><tr><td>van VLIET Leonie</td><td>Netherlands</td><td>Athletics</td><td>Netherlands</td><td>10</td><td>12</td><td>14</td><td>36</td></tr><tr><td>van WYK Chederick</td><td>South Africa</td><td>Athletics</td><td>South Africa</td><td>1</td><td>2</td><td>0</td><td>3</td></tr><tr><td>van ZYL Irvette</td><td>South Africa</td><td>Athletics</td><td>South Africa</td><td>1</td><td>2</td><td>0</td><td>3</td></tr><tr><td>VANDERBEMDEN Robin</td><td>Belgium</td><td>Athletics</td><td>Belgium</td><td>3</td><td>1</td><td>3</td><td>7</td></tr><tr><td>VANDERELST Elise</td><td>Belgium</td><td>Athletics</td><td>Belgium</td><td>3</td><td>1</td><td>3</td><td>7</td></tr><tr><td>VASILCHANKA Yury</td><td>Belarus</td><td>Athletics</td><td>Belarus</td><td>1</td><td>3</td><td>3</td><td>7</td></tr><tr><td>VASILIOU Irini</td><td>Greece</td><td>Athletics</td><td>Greece</td><td>2</td><td>1</td><td>1</td><td>4</td></tr><tr><td>VAZQUEZ Wesley</td><td>Puerto Rico</td><td>Athletics</td><td>Puerto Rico</td><td>1</td><td>0</td><td>0</td><td>1</td></tr><tr><td>VEERAMANI Revathi</td><td>India</td><td>Athletics</td><td>India</td><td>1</td><td>2</td><td>4</td><td>7</td></tr><tr><td>VEGA Jesus Tadeo</td><td>Mexico</td><td>Athletics</td><td>Mexico</td><td>0</td><td>0</td><td>4</td><td>4</td></tr><tr><td>VEIGA Evelise</td><td>Portugal</td><td>Athletics</td><td>Portugal</td><td>1</td><td>1</td><td>2</td><td>4</td></tr><tr><td>VEITIA Lisneidy</td><td>Cuba</td><td>Athletics</td><td>Cuba</td><td>7</td><td>3</td><td>5</td><td>15</td></tr><tr><td>VELAZCO Davisleydi</td><td>Cuba</td><td>Athletics</td><td>Cuba</td><td>7</td><td>3</td><td>5</td><td>15</td></tr><tr><td>VELVERE Liga</td><td>Latvia</td><td>Athletics</td><td>Latvia</td><td>1</td><td>0</td><td>1</td><td>2</td></tr><tr><td>VENKATESAN Subha</td><td>India</td><td>Athletics</td><td>India</td><td>1</td><td>2</td><td>4</td><td>7</td></tr><tr><td>VENYERCSAN Bence</td><td>Hungary</td><td>Athletics</td><td>Hungary</td><td>6</td><td>7</td><td>7</td><td>20</td></tr><tr><td>VERBRUGGEN Hanne</td><td>Belgium</td><td>Athletics</td><td>Belgium</td><td>3</td><td>1</td><td>3</td><td>7</td></tr><tr><td>VERVAET Imke</td><td>Belgium</td><td>Athletics</td><td>Belgium</td><td>3</td><td>1</td><td>3</td><td>7</td></tr><tr><td>VESELY Vitezslav</td><td>Czech Republic</td><td>Athletics</td><td>Czech Republic</td><td>4</td><td>4</td><td>3</td><td>11</td></tr><tr><td>VETTER Anouk</td><td>Netherlands</td><td>Athletics</td><td>Netherlands</td><td>10</td><td>12</td><td>14</td><td>36</td></tr><tr><td>VETTER Johannes</td><td>Germany</td><td>Athletics</td><td>Germany</td><td>10</td><td>11</td><td>16</td><td>37</td></tr><tr><td>VICAUT Jimmy</td><td>France</td><td>Athletics</td><td>France</td><td>10</td><td>12</td><td>11</td><td>33</td></tr><tr><td>VICENTE Maria</td><td>Spain</td><td>Athletics</td><td>Spain</td><td>3</td><td>8</td><td>6</td><td>17</td></tr><tr><td>VICTOR Lindon</td><td>Grenada</td><td>Athletics</td><td>Grenada</td><td>0</td><td>0</td><td>1</td><td>1</td></tr><tr><td>VIDES Jorge</td><td>Brazil</td><td>Athletics</td><td>Brazil</td><td>7</td><td>6</td><td>8</td><td>21</td></tr><tr><td>VIDTS Noor</td><td>Belgium</td><td>Athletics</td><td>Belgium</td><td>3</td><td>1</td><td>3</td><td>7</td></tr><tr><td>VIEIRA Joao</td><td>Portugal</td><td>Athletics</td><td>Portugal</td><td>1</td><td>1</td><td>2</td><td>4</td></tr><tr><td>VILAR Lucas</td><td>Brazil</td><td>Athletics</td><td>Brazil</td><td>7</td><td>6</td><td>8</td><td>21</td></tr><tr><td>VILLALBA Virginia Elizabeth</td><td>Ecuador</td><td>Athletics</td><td>Ecuador</td><td>2</td><td>1</td><td>0</td><td>3</td></tr><tr><td>VILLANUEVA FLORES Claudio Paulino</td><td>Ecuador</td><td>Athletics</td><td>Ecuador</td><td>2</td><td>1</td><td>0</td><td>3</td></tr><tr><td>VIRBALYTE Brigita</td><td>Lithuania</td><td>Athletics</td><td>Lithuania</td><td>0</td><td>1</td><td>0</td><td>1</td></tr><tr><td>VISSER Nadine</td><td>Netherlands</td><td>Athletics</td><td>Netherlands</td><td>10</td><td>12</td><td>14</td><td>36</td></tr><tr><td>VITA Claudine</td><td>Germany</td><td>Athletics</td><td>Germany</td><td>10</td><td>11</td><td>16</td><td>37</td></tr><tr><td>VITORINO de CARVALHO Tabata</td><td>Brazil</td><td>Athletics</td><td>Brazil</td><td>7</td><td>6</td><td>8</td><td>21</td></tr><tr><td>VLOON Menno</td><td>Netherlands</td><td>Athletics</td><td>Netherlands</td><td>10</td><td>12</td><td>14</td><td>36</td></tr><tr><td>VOLKO Jan</td><td>Slovakia</td><td>Athletics</td><td>Slovakia</td><td>1</td><td>2</td><td>1</td><td>4</td></tr><tr><td>VONDROVA Lada</td><td>Czech Republic</td><td>Athletics</td><td>Czech Republic</td><td>4</td><td>4</td><td>3</td><td>11</td></tr><tr><td>VORONINA Ekaterina</td><td>Uzbekistan</td><td>Athletics</td><td>Uzbekistan</td><td>3</td><td>0</td><td>2</td><td>5</td></tr><tr><td>VRABCOVA NYVLTOVA Eva</td><td>Czech Republic</td><td>Athletics</td><td>Czech Republic</td><td>4</td><td>4</td><td>3</td><td>11</td></tr><tr><td>VRZALOVA Simona</td><td>Czech Republic</td><td>Athletics</td><td>Czech Republic</td><td>4</td><td>4</td><td>3</td><td>11</td></tr><tr><td>VUCENOVIC Marija</td><td>Serbia</td><td>Athletics</td><td>Serbia</td><td>3</td><td>1</td><td>5</td><td>9</td></tr><tr><td>WAGNER-GYURKES Viktoria</td><td>Hungary</td><td>Athletics</td><td>Hungary</td><td>6</td><td>7</td><td>7</td><td>20</td></tr><tr><td>WALCOTT-NOLAN Revee</td><td>Great Britain</td><td>Athletics</td><td>Great Britain</td><td>22</td><td>21</td><td>22</td><td>65</td></tr><tr><td>WALE Getnet</td><td>Ethiopia</td><td>Athletics</td><td>Ethiopia</td><td>1</td><td>1</td><td>2</td><td>4</td></tr><tr><td>WALLI Susanne</td><td>Austria</td><td>Athletics</td><td>Austria</td><td>1</td><td>1</td><td>5</td><td>7</td></tr><tr><td>WALSH Julian Jrummi</td><td>Japan</td><td>Athletics</td><td>Japan</td><td>27</td><td>14</td><td>17</td><td>58</td></tr><tr><td>WALSH Tomas</td><td>New Zealand</td><td>Athletics</td><td>New Zealand</td><td>7</td><td>6</td><td>7</td><td>20</td></tr><tr><td>WANDERS Julien</td><td>Switzerland</td><td>Athletics</td><td>Switzerland</td><td>3</td><td>4</td><td>6</td><td>13</td></tr><tr><td>WANG Chunyu</td><td>People's Republic of China</td><td>Athletics</td><td>People's Republic of China</td><td>38</td><td>32</td><td>18</td><td>88</td></tr><tr><td>WANG Kaihua</td><td>People's Republic of China</td><td>Athletics</td><td>People's Republic of China</td><td>38</td><td>32</td><td>18</td><td>88</td></tr><tr><td>WANG Qin</td><td>People's Republic of China</td><td>Athletics</td><td>People's Republic of China</td><td>38</td><td>32</td><td>18</td><td>88</td></tr><tr><td>WANG Rui</td><td>People's Republic of China</td><td>Athletics</td><td>People's Republic of China</td><td>38</td><td>32</td><td>18</td><td>88</td></tr><tr><td>WANG Yu</td><td>People's Republic of China</td><td>Athletics</td><td>People's Republic of China</td><td>38</td><td>32</td><td>18</td><td>88</td></tr><tr><td>WANG Zheng</td><td>People's Republic of China</td><td>Athletics</td><td>People's Republic of China</td><td>38</td><td>32</td><td>18</td><td>88</td></tr><tr><td>WARDENBURG Nout</td><td>Netherlands</td><td>Athletics</td><td>Netherlands</td><td>10</td><td>12</td><td>14</td><td>36</td></tr><tr><td>WARHOLM Karsten</td><td>Norway</td><td>Athletics</td><td>Norway</td><td>4</td><td>2</td><td>2</td><td>8</td></tr><tr><td>WARNER Damian</td><td>Canada</td><td>Athletics</td><td>Canada</td><td>7</td><td>6</td><td>11</td><td>24</td></tr><tr><td>WATRIN Julien</td><td>Belgium</td><td>Athletics</td><td>Belgium</td><td>3</td><td>1</td><td>3</td><td>7</td></tr><tr><td>WATSON Sage</td><td>Canada</td><td>Athletics</td><td>Canada</td><td>7</td><td>6</td><td>11</td><td>24</td></tr><tr><td>WAYMENT Courtney</td><td>United States of America</td><td>Athletics</td><td>United States of America</td><td>39</td><td>41</td><td>33</td><td>113</td></tr><tr><td>WEBER Julian</td><td>Germany</td><td>Athletics</td><td>Germany</td><td>10</td><td>11</td><td>16</td><td>37</td></tr><tr><td>WEI Yongli</td><td>People's Republic of China</td><td>Athletics</td><td>People's Republic of China</td><td>38</td><td>32</td><td>18</td><td>88</td></tr><tr><td>WEIGHTMAN Lisa</td><td>Australia</td><td>Athletics</td><td>Australia</td><td>17</td><td>7</td><td>22</td><td>46</td></tr><tr><td>WEIR Jillian</td><td>Canada</td><td>Athletics</td><td>Canada</td><td>7</td><td>6</td><td>11</td><td>24</td></tr><tr><td>WEIR Zane</td><td>Italy</td><td>Athletics</td><td>Italy</td><td>10</td><td>10</td><td>20</td><td>40</td></tr><tr><td>WEISSHAIDINGER Lukas</td><td>Austria</td><td>Athletics</td><td>Austria</td><td>1</td><td>1</td><td>5</td><td>7</td></tr><tr><td>WELTEJI Diribe</td><td>Ethiopia</td><td>Athletics</td><td>Ethiopia</td><td>1</td><td>1</td><td>2</td><td>4</td></tr><tr><td>WESCHE Maddison-Lee</td><td>New Zealand</td><td>Athletics</td><td>New Zealand</td><td>7</td><td>6</td><td>7</td><td>20</td></tr><tr><td>WESSOLLY Jessica-Bianca</td><td>Germany</td><td>Athletics</td><td>Germany</td><td>10</td><td>11</td><td>16</td><td>37</td></tr><tr><td>WHITNEY Kaylin</td><td>United States of America</td><td>Athletics</td><td>United States of America</td><td>39</td><td>41</td><td>33</td><td>113</td></tr><tr><td>WHYTE Ronda</td><td>Jamaica</td><td>Athletics</td><td>Jamaica</td><td>4</td><td>1</td><td>4</td><td>9</td></tr><tr><td>WICKI Silvan</td><td>Switzerland</td><td>Athletics</td><td>Switzerland</td><td>3</td><td>4</td><td>6</td><td>13</td></tr><tr><td>WIELGOSZ Anna</td><td>Poland</td><td>Athletics</td><td>Poland</td><td>4</td><td>5</td><td>5</td><td>14</td></tr><tr><td>WIESIOLEK Pawel</td><td>Poland</td><td>Athletics</td><td>Poland</td><td>4</td><td>5</td><td>5</td><td>14</td></tr><tr><td>WIGHTMAN Jake</td><td>Great Britain</td><td>Athletics</td><td>Great Britain</td><td>22</td><td>21</td><td>22</td><td>65</td></tr><tr><td>WIKSTROM Carolina</td><td>Sweden</td><td>Athletics</td><td>Sweden</td><td>3</td><td>6</td><td>0</td><td>9</td></tr><tr><td>WILKINSON Callum</td><td>Great Britain</td><td>Athletics</td><td>Great Britain</td><td>22</td><td>21</td><td>22</td><td>65</td></tr><tr><td>WILLIAMS Benjamin</td><td>Great Britain</td><td>Athletics</td><td>Great Britain</td><td>22</td><td>21</td><td>22</td><td>65</td></tr><tr><td>WILLIAMS Briana</td><td>Jamaica</td><td>Athletics</td><td>Jamaica</td><td>4</td><td>1</td><td>4</td><td>9</td></tr><tr><td>WILLIAMS Danielle</td><td>Jamaica</td><td>Athletics</td><td>Jamaica</td><td>4</td><td>1</td><td>4</td><td>9</td></tr><tr><td>WILLIAMS Hannah</td><td>Great Britain</td><td>Athletics</td><td>Great Britain</td><td>22</td><td>21</td><td>22</td><td>65</td></tr><tr><td>WILLIAMS Jodie</td><td>Great Britain</td><td>Athletics</td><td>Great Britain</td><td>22</td><td>21</td><td>22</td><td>65</td></tr><tr><td>WILLIAMS Kendell</td><td>United States of America</td><td>Athletics</td><td>United States of America</td><td>39</td><td>41</td><td>33</td><td>113</td></tr><tr><td>WILLIAMS Kimberly</td><td>Jamaica</td><td>Athletics</td><td>Jamaica</td><td>4</td><td>1</td><td>4</td><td>9</td></tr><tr><td>WILLIAMS Micah</td><td>United States of America</td><td>Athletics</td><td>United States of America</td><td>39</td><td>41</td><td>33</td><td>113</td></tr><tr><td>WILLIAMS Stacey Ann</td><td>Jamaica</td><td>Athletics</td><td>Jamaica</td><td>4</td><td>1</td><td>4</td><td>9</td></tr><tr><td>WILLIS Nick</td><td>New Zealand</td><td>Athletics</td><td>New Zealand</td><td>7</td><td>6</td><td>7</td><td>20</td></tr><tr><td>WILSON Ajee</td><td>United States of America</td><td>Athletics</td><td>United States of America</td><td>39</td><td>41</td><td>33</td><td>113</td></tr><tr><td>WILSON Alex</td><td>Switzerland</td><td>Athletics</td><td>Switzerland</td><td>3</td><td>4</td><td>6</td><td>13</td></tr><tr><td>WILSON Jamal</td><td>Bahamas</td><td>Athletics</td><td>Bahamas</td><td>2</td><td>0</td><td>0</td><td>2</td></tr><tr><td>WINGER Kara</td><td>United States of America</td><td>Athletics</td><td>United States of America</td><td>39</td><td>41</td><td>33</td><td>113</td></tr><tr><td>WINKCUP Georgia</td><td>Australia</td><td>Athletics</td><td>Australia</td><td>17</td><td>7</td><td>22</td><td>46</td></tr><tr><td>WINKLER Rudy</td><td>United States of America</td><td>Athletics</td><td>United States of America</td><td>39</td><td>41</td><td>33</td><td>113</td></tr><tr><td>WLODARCZYK Anita</td><td>Poland</td><td>Athletics</td><td>Poland</td><td>4</td><td>5</td><td>5</td><td>14</td></tr><tr><td>WODAK Natasha</td><td>Canada</td><td>Athletics</td><td>Canada</td><td>7</td><td>6</td><td>11</td><td>24</td></tr><tr><td>WOJCIECHOWSKI Pawel</td><td>Poland</td><td>Athletics</td><td>Poland</td><td>4</td><td>5</td><td>5</td><td>14</td></tr><tr><td>WOLE Agrie</td><td>Ethiopia</td><td>Athletics</td><td>Ethiopia</td><td>1</td><td>1</td><td>2</td><td>4</td></tr><tr><td>WONDEMAGEGN Zerfe</td><td>Ethiopia</td><td>Athletics</td><td>Ethiopia</td><td>1</td><td>1</td><td>2</td><td>4</td></tr><tr><td>WOODFINE Tristan</td><td>Canada</td><td>Athletics</td><td>Canada</td><td>7</td><td>6</td><td>11</td><td>24</td></tr><tr><td>WORKU Fantu</td><td>Ethiopia</td><td>Athletics</td><td>Ethiopia</td><td>1</td><td>1</td><td>2</td><td>4</td></tr><tr><td>WORKUHA GETACHEW Wold Eamanuel</td><td>Ethiopia</td><td>Athletics</td><td>Ethiopia</td><td>1</td><td>1</td><td>2</td><td>4</td></tr><tr><td>WRIGHT Alex</td><td>Ireland</td><td>Athletics</td><td>Ireland</td><td>2</td><td>0</td><td>2</td><td>4</td></tr><tr><td>WRIGHT Chad</td><td>Jamaica</td><td>Athletics</td><td>Jamaica</td><td>4</td><td>1</td><td>4</td><td>9</td></tr><tr><td>WROBEL David</td><td>Germany</td><td>Athletics</td><td>Germany</td><td>10</td><td>11</td><td>16</td><td>37</td></tr><tr><td>WU Ruiting</td><td>People's Republic of China</td><td>Athletics</td><td>People's Republic of China</td><td>38</td><td>32</td><td>18</td><td>88</td></tr><tr><td>WU Zhiqiang</td><td>People's Republic of China</td><td>Athletics</td><td>People's Republic of China</td><td>38</td><td>32</td><td>18</td><td>88</td></tr><tr><td>XIE Wenjun</td><td>People's Republic of China</td><td>Athletics</td><td>People's Republic of China</td><td>38</td><td>32</td><td>18</td><td>88</td></tr><tr><td>XIE Zhenye</td><td>People's Republic of China</td><td>Athletics</td><td>People's Republic of China</td><td>38</td><td>32</td><td>18</td><td>88</td></tr><tr><td>XU Huiqin</td><td>People's Republic of China</td><td>Athletics</td><td>People's Republic of China</td><td>38</td><td>32</td><td>18</td><td>88</td></tr><tr><td>XU Shuangshuang</td><td>People's Republic of China</td><td>Athletics</td><td>People's Republic of China</td><td>38</td><td>32</td><td>18</td><td>88</td></tr><tr><td>YAHIYA Muhammed Anas</td><td>India</td><td>Athletics</td><td>India</td><td>1</td><td>2</td><td>4</td><td>7</td></tr><tr><td>YAMAGATA Ryota</td><td>Japan</td><td>Athletics</td><td>Japan</td><td>27</td><td>14</td><td>17</td><td>58</td></tr><tr><td>YAMAGUCHI Kosei</td><td>Japan</td><td>Athletics</td><td>Japan</td><td>27</td><td>14</td><td>17</td><td>58</td></tr><tr><td>YAMAMOTO Seito</td><td>Japan</td><td>Athletics</td><td>Japan</td><td>27</td><td>14</td><td>17</td><td>58</td></tr><tr><td>YAMANAKA Yuno</td><td>Japan</td><td>Athletics</td><td>Japan</td><td>27</td><td>14</td><td>17</td><td>58</td></tr><tr><td>YAMASHITA Jun</td><td>Japan</td><td>Athletics</td><td>Japan</td><td>27</td><td>14</td><td>17</td><td>58</td></tr><tr><td>YAMAUCHI Hiromu</td><td>Japan</td><td>Athletics</td><td>Japan</td><td>27</td><td>14</td><td>17</td><td>58</td></tr><tr><td>YAN Haibin</td><td>People's Republic of China</td><td>Athletics</td><td>People's Republic of China</td><td>38</td><td>32</td><td>18</td><td>88</td></tr><tr><td>YANAGITA Hiroki</td><td>Japan</td><td>Athletics</td><td>Japan</td><td>27</td><td>14</td><td>17</td><td>58</td></tr><tr><td>YANG Chun-Han</td><td>Chinese Taipei</td><td>Athletics</td><td>Chinese Taipei</td><td>2</td><td>4</td><td>6</td><td>12</td></tr><tr><td>YANG Jiayu</td><td>People's Republic of China</td><td>Athletics</td><td>People's Republic of China</td><td>38</td><td>32</td><td>18</td><td>88</td></tr><tr><td>YAVI Winfred Mutile</td><td>Bahrain</td><td>Athletics</td><td>Bahrain</td><td>0</td><td>1</td><td>0</td><td>1</td></tr><tr><td>YEARGIN Nicole</td><td>Great Britain</td><td>Athletics</td><td>Great Britain</td><td>22</td><td>21</td><td>22</td><td>65</td></tr><tr><td>YEBOAH Emmanuel</td><td>Ghana</td><td>Athletics</td><td>Ghana</td><td>0</td><td>0</td><td>1</td><td>1</td></tr><tr><td>YEE Regan</td><td>Canada</td><td>Athletics</td><td>Canada</td><td>7</td><td>6</td><td>11</td><td>24</td></tr><tr><td>YEGO Julius</td><td>Kenya</td><td>Athletics</td><td>Kenya</td><td>4</td><td>4</td><td>2</td><td>10</td></tr><tr><td>YIMER Zeineba</td><td>Ethiopia</td><td>Athletics</td><td>Ethiopia</td><td>1</td><td>1</td><td>2</td><td>4</td></tr><tr><td>YOUNG Alex</td><td>United States of America</td><td>Athletics</td><td>United States of America</td><td>39</td><td>41</td><td>33</td><td>113</td></tr><tr><td>YOUNG Charokee</td><td>Jamaica</td><td>Athletics</td><td>Jamaica</td><td>4</td><td>1</td><td>4</td><td>9</td></tr><tr><td>ZABUZHENKO Eduard</td><td>Ukraine</td><td>Athletics</td><td>Ukraine</td><td>1</td><td>6</td><td>12</td><td>19</td></tr><tr><td>ZAGAINOVA Diana</td><td>Lithuania</td><td>Athletics</td><td>Lithuania</td><td>0</td><td>1</td><td>0</td><td>1</td></tr><tr><td>ZAGRE Anne</td><td>Belgium</td><td>Athletics</td><td>Belgium</td><td>3</td><td>1</td><td>3</td><td>7</td></tr><tr><td>ZAHI Carolle</td><td>France</td><td>Athletics</td><td>France</td><td>10</td><td>12</td><td>11</td><td>33</td></tr><tr><td>ZAKALNYTSKYY Maryan</td><td>Ukraine</td><td>Athletics</td><td>Ukraine</td><td>1</td><td>6</td><td>12</td><td>19</td></tr><tr><td>ZALEWSKI Karol</td><td>Poland</td><td>Athletics</td><td>Poland</td><td>4</td><td>5</td><td>5</td><td>14</td></tr><tr><td>ZAMBRANO Anthony Jose</td><td>Colombia</td><td>Athletics</td><td>Colombia</td><td>0</td><td>4</td><td>1</td><td>5</td></tr><tr><td>ZANGO Hugues Fabrice</td><td>Burkina Faso</td><td>Athletics</td><td>Burkina Faso</td><td>0</td><td>0</td><td>1</td><td>1</td></tr><tr><td>ZAPLETALOVA Emma</td><td>Slovakia</td><td>Athletics</td><td>Slovakia</td><td>1</td><td>2</td><td>1</td><td>4</td></tr><tr><td>ZAYAS Luis Enrique</td><td>Cuba</td><td>Athletics</td><td>Cuba</td><td>7</td><td>3</td><td>5</td><td>15</td></tr><tr><td>ZAZINI Sokwakhana</td><td>South Africa</td><td>Athletics</td><td>South Africa</td><td>1</td><td>2</td><td>0</td><td>3</td></tr><tr><td>ZDZIEBLO Katarzyna</td><td>Poland</td><td>Athletics</td><td>Poland</td><td>4</td><td>5</td><td>5</td><td>14</td></tr><tr><td>ZELEKE Samuel</td><td>Ethiopia</td><td>Athletics</td><td>Ethiopia</td><td>1</td><td>1</td><td>2</td><td>4</td></tr><tr><td>ZERNIKEL Oleg</td><td>Germany</td><td>Athletics</td><td>Germany</td><td>10</td><td>11</td><td>16</td><td>37</td></tr><tr><td>ZEZE Meba Mickael</td><td>France</td><td>Athletics</td><td>France</td><td>10</td><td>12</td><td>11</td><td>33</td></tr><tr><td>ZEZE Ryan</td><td>France</td><td>Athletics</td><td>France</td><td>10</td><td>12</td><td>11</td><td>33</td></tr><tr><td>ZHANG Deshun</td><td>People's Republic of China</td><td>Athletics</td><td>People's Republic of China</td><td>38</td><td>32</td><td>18</td><td>88</td></tr><tr><td>ZHANG Jun</td><td>People's Republic of China</td><td>Athletics</td><td>People's Republic of China</td><td>38</td><td>32</td><td>18</td><td>88</td></tr><tr><td>ZHANG Linru</td><td>People's Republic of China</td><td>Athletics</td><td>People's Republic of China</td><td>38</td><td>32</td><td>18</td><td>88</td></tr><tr><td>ZHANG Yaoguang</td><td>People's Republic of China</td><td>Athletics</td><td>People's Republic of China</td><td>38</td><td>32</td><td>18</td><td>88</td></tr><tr><td>ZHENG Ninali</td><td>People's Republic of China</td><td>Athletics</td><td>People's Republic of China</td><td>38</td><td>32</td><td>18</td><td>88</td></tr><tr><td>ZHODZIK Maryia</td><td>Belarus</td><td>Athletics</td><td>Belarus</td><td>1</td><td>3</td><td>3</td><td>7</td></tr><tr><td>ZHU Yaming</td><td>People's Republic of China</td><td>Athletics</td><td>People's Republic of China</td><td>38</td><td>32</td><td>18</td><td>88</td></tr><tr><td>ZHUK Iryna</td><td>Belarus</td><td>Athletics</td><td>Belarus</td><td>1</td><td>3</td><td>3</td><td>7</td></tr><tr><td>ZHUK Vitaliy</td><td>Belarus</td><td>Athletics</td><td>Belarus</td><td>1</td><td>3</td><td>3</td><td>7</td></tr><tr><td>ZIEMEK Zachery</td><td>United States of America</td><td>Athletics</td><td>United States of America</td><td>39</td><td>41</td><td>33</td><td>113</td></tr><tr><td>ZIUKAS Marius</td><td>Lithuania</td><td>Athletics</td><td>Lithuania</td><td>0</td><td>1</td><td>0</td><td>1</td></tr><tr><td>ZOGHLAMI Ala</td><td>Italy</td><td>Athletics</td><td>Italy</td><td>10</td><td>10</td><td>20</td><td>40</td></tr><tr><td>ZOGHLAMI Osama</td><td>Italy</td><td>Athletics</td><td>Italy</td><td>10</td><td>10</td><td>20</td><td>40</td></tr><tr><td>ZOHRI Lalu Muhammad</td><td>Indonesia</td><td>Athletics</td><td>Indonesia</td><td>1</td><td>1</td><td>3</td><td>5</td></tr></tbody></table></div>"
      ]
     },
     "metadata": {
      "application/vnd.databricks.v1+output": {
       "addedWidgets": {},
       "aggData": [],
       "aggError": "",
       "aggOverflow": false,
       "aggSchema": [],
       "aggSeriesLimitReached": false,
       "aggType": "",
       "arguments": {},
       "columnCustomDisplayInfos": {},
       "data": [
        [
         "ABDALLA Abubaker Haydar",
         "Qatar",
         "Athletics",
         "Qatar",
         2,
         0,
         1,
         3
        ],
        [
         "ABDELRAHMAN Ihab",
         "Egypt",
         "Athletics",
         "Egypt",
         1,
         1,
         4,
         6
        ],
        [
         "ABDELWAHED Ahmed",
         "Italy",
         "Athletics",
         "Italy",
         10,
         10,
         20,
         40
        ],
        [
         "ABDI Bashir",
         "Belgium",
         "Athletics",
         "Belgium",
         3,
         1,
         3,
         7
        ],
        [
         "ABDIRAHMAN Abdi",
         "United States of America",
         "Athletics",
         "United States of America",
         39,
         41,
         33,
         113
        ],
        [
         "ABE Takatoshi",
         "Japan",
         "Athletics",
         "Japan",
         27,
         14,
         17,
         58
        ],
        [
         "ABEBE Mekides",
         "Ethiopia",
         "Athletics",
         "Ethiopia",
         1,
         1,
         2,
         4
        ],
        [
         "ABRAHAM Tadesse",
         "Switzerland",
         "Athletics",
         "Switzerland",
         3,
         4,
         6,
         13
        ],
        [
         "ABRAMYAN Benik",
         "Georgia",
         "Athletics",
         "Georgia",
         2,
         5,
         1,
         8
        ],
        [
         "ABUAKU Joshua",
         "Germany",
         "Athletics",
         "Germany",
         10,
         11,
         16,
         37
        ],
        [
         "ACETI Vladimir",
         "Italy",
         "Athletics",
         "Italy",
         10,
         10,
         20,
         40
        ],
        [
         "ADAMEK Klaudia",
         "Poland",
         "Athletics",
         "Poland",
         4,
         5,
         5,
         14
        ],
        [
         "ADAMS Liam",
         "Australia",
         "Athletics",
         "Australia",
         17,
         7,
         22,
         46
        ],
        [
         "ADAO de SA Mateus Daniel",
         "Brazil",
         "Athletics",
         "Brazil",
         7,
         6,
         8,
         21
        ],
        [
         "ADEGOKE Enoch",
         "Nigeria",
         "Athletics",
         "Nigeria",
         0,
         1,
         1,
         2
        ],
        [
         "AGARD Terrence",
         "Netherlands",
         "Athletics",
         "Netherlands",
         10,
         12,
         14,
         36
        ],
        [
         "AGHASYAN Levon",
         "Armenia",
         "Athletics",
         "Armenia",
         0,
         2,
         2,
         4
        ],
        [
         "AGRALI Yavuz",
         "Turkey",
         "Athletics",
         "Turkey",
         2,
         2,
         9,
         13
        ],
        [
         "AGRUSTI Andrea",
         "Italy",
         "Athletics",
         "Italy",
         10,
         10,
         20,
         40
        ],
        [
         "AGUILAR Evelis Jazmin",
         "Colombia",
         "Athletics",
         "Colombia",
         0,
         4,
         1,
         5
        ],
        [
         "AHMED Mohammed",
         "Canada",
         "Athletics",
         "Canada",
         7,
         6,
         11,
         24
        ],
        [
         "AHOURE Murielle",
         "Côte d'Ivoire",
         "Athletics",
         "Côte d'Ivoire",
         0,
         0,
         1,
         1
        ],
        [
         "AIZAWA Akira",
         "Japan",
         "Athletics",
         "Japan",
         27,
         14,
         17,
         58
        ],
        [
         "AJAYI Yinka",
         "Nigeria",
         "Athletics",
         "Nigeria",
         0,
         1,
         1,
         2
        ],
        [
         "AKIMENKO Mikhail",
         "ROC",
         "Athletics",
         "ROC",
         20,
         28,
         23,
         71
        ],
        [
         "AL MANWARI Bashair Obaid",
         "Qatar",
         "Athletics",
         "Qatar",
         2,
         0,
         1,
         3
        ],
        [
         "AL YASSIN Mazen Moutan",
         "Saudi Arabia",
         "Athletics",
         "Saudi Arabia",
         0,
         1,
         0,
         1
        ],
        [
         "ALDABBAGH Yasmeen",
         "Saudi Arabia",
         "Athletics",
         "Saudi Arabia",
         0,
         1,
         0,
         1
        ],
        [
         "ALEMU Habitam",
         "Ethiopia",
         "Athletics",
         "Ethiopia",
         1,
         1,
         2,
         4
        ],
        [
         "ALKANA Antonio",
         "South Africa",
         "Athletics",
         "South Africa",
         1,
         2,
         0,
         3
        ],
        [
         "ALLEN Devon",
         "United States of America",
         "Athletics",
         "United States of America",
         39,
         41,
         33,
         113
        ],
        [
         "ALLEN Nathon",
         "Jamaica",
         "Athletics",
         "Jamaica",
         4,
         1,
         4,
         9
        ],
        [
         "ALLMAN Valarie",
         "United States of America",
         "Athletics",
         "United States of America",
         39,
         41,
         33,
         113
        ],
        [
         "ALMANZA Rose Mary",
         "Cuba",
         "Athletics",
         "Cuba",
         7,
         3,
         5,
         15
        ],
        [
         "ALMAS Deniz",
         "Germany",
         "Athletics",
         "Germany",
         10,
         11,
         16,
         37
        ],
        [
         "ALMAYA Haimro",
         "Israel",
         "Athletics",
         "Israel",
         2,
         0,
         2,
         4
        ],
        [
         "ALSHAMMARI Mudhawi",
         "Kuwait",
         "Athletics",
         "Kuwait",
         0,
         0,
         1,
         1
        ],
        [
         "ALYOUHA Yaqoub",
         "Kuwait",
         "Athletics",
         "Kuwait",
         0,
         0,
         1,
         1
        ],
        [
         "AMARE Girmaw",
         "Israel",
         "Athletics",
         "Israel",
         2,
         0,
         2,
         4
        ],
        [
         "AMB Kim",
         "Sweden",
         "Athletics",
         "Sweden",
         3,
         6,
         0,
         9
        ],
        [
         "AMDOUNI Morhad",
         "France",
         "Athletics",
         "France",
         10,
         12,
         11,
         33
        ],
        [
         "AMOAH Joseph Paul",
         "Ghana",
         "Athletics",
         "Ghana",
         0,
         0,
         1,
         1
        ],
        [
         "AMORES CARUA Jhonatan Javier",
         "Ecuador",
         "Athletics",
         "Ecuador",
         2,
         1,
         0,
         3
        ],
        [
         "AMOS Nijel",
         "Botswana",
         "Athletics",
         "Botswana",
         0,
         0,
         1,
         1
        ],
        [
         "AMUSAN Tobi",
         "Nigeria",
         "Athletics",
         "Nigeria",
         0,
         1,
         1,
         2
        ],
        [
         "AN Seulki",
         "Republic of Korea",
         "Athletics",
         "Republic of Korea",
         6,
         4,
         10,
         20
        ],
        [
         "ANAGNOSTOPOULOU Chrysoula",
         "Greece",
         "Athletics",
         "Greece",
         2,
         1,
         1,
         4
        ],
        [
         "ANASTASAKIS Michail",
         "Greece",
         "Athletics",
         "Greece",
         2,
         1,
         1,
         4
        ],
        [
         "ANDERSEN Brooke",
         "United States of America",
         "Athletics",
         "United States of America",
         39,
         41,
         33,
         113
        ],
        [
         "ANDERSON Britany",
         "Jamaica",
         "Athletics",
         "Jamaica",
         4,
         1,
         4,
         9
        ],
        [
         "ANDERSON Doneisha",
         "Bahamas",
         "Athletics",
         "Bahamas",
         2,
         0,
         0,
         2
        ],
        [
         "ANDERSON Shae",
         "United States of America",
         "Athletics",
         "United States of America",
         39,
         41,
         33,
         113
        ],
        [
         "ANDO Yuka",
         "Japan",
         "Athletics",
         "Japan",
         27,
         14,
         17,
         58
        ],
        [
         "ANDRE Thiago",
         "Brazil",
         "Athletics",
         "Brazil",
         7,
         6,
         8,
         21
        ],
        [
         "ANDREEVA Iuliia",
         "Kyrgyzstan",
         "Athletics",
         "Kyrgyzstan",
         0,
         2,
         1,
         3
        ],
        [
         "ANDREJCZYK Maria",
         "Poland",
         "Athletics",
         "Poland",
         4,
         5,
         5,
         14
        ],
        [
         "ANGELA Ramsey",
         "Netherlands",
         "Athletics",
         "Netherlands",
         10,
         12,
         14,
         36
        ],
        [
         "ANGULO Yuliana",
         "Ecuador",
         "Athletics",
         "Ecuador",
         2,
         1,
         0,
         3
        ],
        [
         "ANNE Mame-Ibra",
         "France",
         "Athletics",
         "France",
         10,
         12,
         11,
         33
        ],
        [
         "ANSAH Owen",
         "Germany",
         "Athletics",
         "Germany",
         10,
         11,
         16,
         37
        ],
        [
         "ANSAH Sarfo",
         "Ghana",
         "Athletics",
         "Ghana",
         0,
         0,
         1,
         1
        ],
        [
         "ANSAH-PEPRAH Lucas",
         "Germany",
         "Athletics",
         "Germany",
         10,
         11,
         16,
         37
        ],
        [
         "ANTONY Alex",
         "India",
         "Athletics",
         "India",
         1,
         2,
         4,
         7
        ],
        [
         "AOKI Masumi",
         "Japan",
         "Athletics",
         "Japan",
         27,
         14,
         17,
         58
        ],
        [
         "AOKI Ryoma",
         "Japan",
         "Athletics",
         "Japan",
         27,
         14,
         17,
         58
        ],
        [
         "AOYAMA Hanae",
         "Japan",
         "Athletics",
         "Japan",
         27,
         14,
         17,
         58
        ],
        [
         "APAK Esref",
         "Turkey",
         "Athletics",
         "Turkey",
         2,
         2,
         9,
         13
        ],
        [
         "AQUILLA Adelaide",
         "United States of America",
         "Athletics",
         "United States of America",
         39,
         41,
         33,
         113
        ],
        [
         "ARAFI Rababe",
         "Morocco",
         "Athletics",
         "Morocco",
         1,
         0,
         0,
         1
        ],
        [
         "ARBE Joaquin",
         "Argentina",
         "Athletics",
         "Argentina",
         0,
         1,
         2,
         3
        ],
        [
         "ARCANJO Geisa",
         "Brazil",
         "Athletics",
         "Brazil",
         7,
         6,
         8,
         21
        ],
        [
         "ARCE Daniel",
         "Spain",
         "Athletics",
         "Spain",
         3,
         8,
         6,
         17
        ],
        [
         "AREGAWI Berihu",
         "Ethiopia",
         "Athletics",
         "Ethiopia",
         1,
         1,
         2,
         4
        ],
        [
         "ARENAS Julio",
         "Spain",
         "Athletics",
         "Spain",
         3,
         8,
         6,
         17
        ],
        [
         "ARENAS Sandra Lorena",
         "Colombia",
         "Athletics",
         "Colombia",
         0,
         4,
         1,
         5
        ],
        [
         "AREVALO Eider",
         "Colombia",
         "Athletics",
         "Colombia",
         0,
         4,
         1,
         5
        ],
        [
         "ARIKAN Polat Kemboi",
         "Turkey",
         "Athletics",
         "Turkey",
         2,
         2,
         9,
         13
        ],
        [
         "AROP Marco",
         "Canada",
         "Athletics",
         "Canada",
         7,
         6,
         11,
         24
        ],
        [
         "ARROYO Andres",
         "Puerto Rico",
         "Athletics",
         "Puerto Rico",
         1,
         0,
         0,
         1
        ],
        [
         "ASHER-SMITH Dina",
         "Great Britain",
         "Athletics",
         "Great Britain",
         22,
         21,
         22,
         65
        ],
        [
         "ASHLEY Whitney",
         "United States of America",
         "Athletics",
         "United States of America",
         39,
         41,
         33,
         113
        ],
        [
         "ATATOU Wided",
         "France",
         "Athletics",
         "France",
         10,
         12,
         11,
         33
        ],
        [
         "ATCHO Sarah",
         "Switzerland",
         "Athletics",
         "Switzerland",
         3,
         4,
         6,
         13
        ],
        [
         "ATKIN Sam",
         "Great Britain",
         "Athletics",
         "Great Britain",
         22,
         21,
         22,
         65
        ],
        [
         "AUGUSTYN Rafal",
         "Poland",
         "Athletics",
         "Poland",
         4,
         5,
         5,
         14
        ],
        [
         "AYOUNI Abdessalem",
         "Tunisia",
         "Athletics",
         "Tunisia",
         1,
         1,
         0,
         2
        ],
        [
         "AZAMATI-KWAKU Benjamin",
         "Ghana",
         "Athletics",
         "Ghana",
         0,
         0,
         1,
         1
        ],
        [
         "AZEVEDO Ana Carolina",
         "Brazil",
         "Athletics",
         "Brazil",
         7,
         6,
         8,
         21
        ],
        [
         "AZEVEDO Catia",
         "Portugal",
         "Athletics",
         "Portugal",
         1,
         1,
         2,
         4
        ],
        [
         "BABAYEV Nazim",
         "Azerbaijan",
         "Athletics",
         "Azerbaijan",
         0,
         3,
         4,
         7
        ],
        [
         "BACMAGA Dominika",
         "Poland",
         "Athletics",
         "Poland",
         4,
         5,
         5,
         14
        ],
        [
         "BAHTA Meraf",
         "Sweden",
         "Athletics",
         "Sweden",
         3,
         6,
         0,
         9
        ],
        [
         "BAHUTSKI Yauheni",
         "Belarus",
         "Athletics",
         "Belarus",
         1,
         3,
         3,
         7
        ],
        [
         "BAI Li",
         "People's Republic of China",
         "Athletics",
         "People's Republic of China",
         38,
         32,
         18,
         88
        ],
        [
         "BAILEY JR Aldrich",
         "United States of America",
         "Athletics",
         "United States of America",
         39,
         41,
         33,
         113
        ],
        [
         "BAILEY Sean",
         "Jamaica",
         "Athletics",
         "Jamaica",
         4,
         1,
         4,
         9
        ],
        [
         "BAKER Nicklas",
         "Great Britain",
         "Athletics",
         "Great Britain",
         22,
         21,
         22,
         65
        ],
        [
         "BAKER Ronnie",
         "United States of America",
         "Athletics",
         "United States of America",
         39,
         41,
         33,
         113
        ],
        [
         "BALEW Birhanu",
         "Bahrain",
         "Athletics",
         "Bahrain",
         0,
         1,
         0,
         1
        ],
        [
         "BALOYES Bernardo",
         "Colombia",
         "Athletics",
         "Colombia",
         0,
         4,
         1,
         5
        ],
        [
         "BALTACI Ozkan",
         "Turkey",
         "Athletics",
         "Turkey",
         2,
         2,
         9,
         13
        ],
        [
         "BANDEIRA FRAGA Samory Uiki",
         "Brazil",
         "Athletics",
         "Brazil",
         7,
         6,
         8,
         21
        ],
        [
         "BANDO Yuta",
         "Japan",
         "Athletics",
         "Japan",
         27,
         14,
         17,
         58
        ],
        [
         "BANZERUK Ivan",
         "Ukraine",
         "Athletics",
         "Ukraine",
         1,
         6,
         12,
         19
        ],
        [
         "BARABANOV Mykyta",
         "Ukraine",
         "Athletics",
         "Ukraine",
         1,
         6,
         12,
         19
        ],
        [
         "BARBER Kelsey-Lee",
         "Australia",
         "Athletics",
         "Australia",
         17,
         7,
         22,
         46
        ],
        [
         "BARDI dos SANTOS Felipe",
         "Brazil",
         "Athletics",
         "Brazil",
         7,
         6,
         8,
         21
        ],
        [
         "BAREGA Selemon",
         "Ethiopia",
         "Athletics",
         "Ethiopia",
         1,
         1,
         2,
         4
        ],
        [
         "BARNES Emre Zafer",
         "Turkey",
         "Athletics",
         "Turkey",
         2,
         2,
         9,
         13
        ],
        [
         "BARR Thomas",
         "Ireland",
         "Athletics",
         "Ireland",
         2,
         0,
         2,
         4
        ],
        [
         "BARSHIM Mutaz Essa",
         "Qatar",
         "Athletics",
         "Qatar",
         2,
         0,
         1,
         3
        ],
        [
         "BARTELSMEYER Amos",
         "Germany",
         "Athletics",
         "Germany",
         10,
         11,
         16,
         37
        ],
        [
         "BARTHA-KERI Bianka",
         "Hungary",
         "Athletics",
         "Hungary",
         6,
         7,
         7,
         20
        ],
        [
         "BARYSEVICH Darya",
         "Belarus",
         "Athletics",
         "Belarus",
         1,
         3,
         3,
         7
        ],
        [
         "BASIC Hana",
         "Australia",
         "Athletics",
         "Australia",
         17,
         7,
         22,
         46
        ],
        [
         "BASTIEN Steven",
         "United States of America",
         "Athletics",
         "United States of America",
         39,
         41,
         33,
         113
        ],
        [
         "BAT-OCHIR Ser-Od",
         "Mongolia",
         "Athletics",
         "Mongolia",
         0,
         1,
         3,
         4
        ],
        [
         "BATISTA Ketiley",
         "Brazil",
         "Athletics",
         "Brazil",
         7,
         6,
         8,
         21
        ],
        [
         "BATT-DOYLE Isobel",
         "Australia",
         "Athletics",
         "Australia",
         17,
         7,
         22,
         46
        ],
        [
         "BATTLE Anavia",
         "United States of America",
         "Athletics",
         "United States of America",
         39,
         41,
         33,
         113
        ],
        [
         "BAUMGART-WITAN Iga",
         "Poland",
         "Athletics",
         "Poland",
         4,
         5,
         5,
         14
        ],
        [
         "BAYARTSOGT Munkhzaya",
         "Mongolia",
         "Athletics",
         "Mongolia",
         0,
         1,
         3,
         4
        ],
        [
         "BAZOLO Lorene Dorcas",
         "Portugal",
         "Athletics",
         "Portugal",
         1,
         1,
         2,
         4
        ],
        [
         "BEBENDORF Karl",
         "Germany",
         "Athletics",
         "Germany",
         10,
         11,
         16,
         37
        ],
        [
         "BECCHETTI Mariavittoria",
         "Italy",
         "Athletics",
         "Italy",
         10,
         10,
         20,
         40
        ],
        [
         "BECK Alex",
         "Australia",
         "Athletics",
         "Australia",
         17,
         7,
         22,
         46
        ],
        [
         "BECKER Sophie",
         "Ireland",
         "Athletics",
         "Ireland",
         2,
         0,
         2,
         4
        ],
        [
         "BEDNAREK Kenneth",
         "United States of America",
         "Athletics",
         "United States of America",
         39,
         41,
         33,
         113
        ],
        [
         "BEDRANI Djilali",
         "France",
         "Athletics",
         "France",
         10,
         12,
         11,
         33
        ],
        [
         "BEER Ellie",
         "Australia",
         "Athletics",
         "Australia",
         17,
         7,
         22,
         46
        ],
        [
         "BEESLEY Meghan",
         "Great Britain",
         "Athletics",
         "Great Britain",
         22,
         21,
         22,
         65
        ],
        [
         "BEKELE Alemu",
         "Bahrain",
         "Athletics",
         "Bahrain",
         0,
         1,
         0,
         1
        ],
        [
         "BEKH-ROMANCHUK Maryna",
         "Ukraine",
         "Athletics",
         "Ukraine",
         1,
         6,
         12,
         19
        ],
        [
         "BEKMEZ Meryem",
         "Turkey",
         "Athletics",
         "Turkey",
         2,
         2,
         9,
         13
        ],
        [
         "BELETEW Yehualeye",
         "Ethiopia",
         "Athletics",
         "Ethiopia",
         1,
         1,
         2,
         4
        ],
        [
         "BELHADJ Mehdi",
         "France",
         "Athletics",
         "France",
         10,
         12,
         11,
         33
        ],
        [
         "BELL Alexandra",
         "Great Britain",
         "Athletics",
         "Great Britain",
         22,
         21,
         22,
         65
        ],
        [
         "BELLO Elena",
         "Italy",
         "Athletics",
         "Italy",
         10,
         10,
         20,
         40
        ],
        [
         "BELO Francisco",
         "Portugal",
         "Athletics",
         "Portugal",
         1,
         1,
         2,
         4
        ],
        [
         "BELOCIAN Wilhem",
         "France",
         "Athletics",
         "France",
         10,
         12,
         11,
         33
        ],
        [
         "BEN Adrian",
         "Spain",
         "Athletics",
         "Spain",
         3,
         8,
         6,
         17
        ],
        [
         "BEN DAOUD Hamid",
         "Spain",
         "Athletics",
         "Spain",
         3,
         8,
         6,
         17
        ],
        [
         "BEN ZAHRA Abdelkarim",
         "Morocco",
         "Athletics",
         "Morocco",
         1,
         0,
         0,
         1
        ],
        [
         "BENARD Chris",
         "United States of America",
         "Athletics",
         "United States of America",
         39,
         41,
         33,
         113
        ],
        [
         "BENATI Lorenzo",
         "Italy",
         "Athletics",
         "Italy",
         10,
         10,
         20,
         40
        ],
        [
         "BENGTSSON Angelica",
         "Sweden",
         "Athletics",
         "Sweden",
         3,
         6,
         0,
         9
        ],
        [
         "BENJAMIN Rai",
         "United States of America",
         "Athletics",
         "United States of America",
         39,
         41,
         33,
         113
        ],
        [
         "BERGER Eva",
         "France",
         "Athletics",
         "France",
         10,
         12,
         11,
         33
        ],
        [
         "BERGLUND Kalle",
         "Sweden",
         "Athletics",
         "Sweden",
         3,
         6,
         0,
         9
        ],
        [
         "BERRY Gwen",
         "United States of America",
         "Athletics",
         "United States of America",
         39,
         41,
         33,
         113
        ],
        [
         "BESTUE Jael",
         "Spain",
         "Athletics",
         "Spain",
         3,
         8,
         6,
         17
        ],
        [
         "BETHEL Brianne",
         "Bahamas",
         "Athletics",
         "Bahamas",
         2,
         0,
         0,
         2
        ],
        [
         "BETT Leonard Kipkemoi",
         "Kenya",
         "Athletics",
         "Kenya",
         4,
         4,
         2,
         10
        ],
        [
         "BEY Augustin",
         "France",
         "Athletics",
         "France",
         10,
         12,
         11,
         33
        ],
        [
         "BEZEDE Dimitriana",
         "Republic of Moldova",
         "Athletics",
         "Republic of Moldova",
         0,
         0,
         1,
         1
        ],
        [
         "BHAMBRI Sarthak",
         "India",
         "Athletics",
         "India",
         1,
         2,
         4,
         7
        ],
        [
         "BIAN Tongda",
         "People's Republic of China",
         "Athletics",
         "People's Republic of China",
         38,
         32,
         18,
         88
        ],
        [
         "BIGOT Quentin",
         "France",
         "Athletics",
         "France",
         10,
         12,
         11,
         33
        ],
        [
         "BILODEAU Mathieu",
         "Canada",
         "Athletics",
         "Canada",
         7,
         6,
         11,
         24
        ],
        [
         "BINGHAM Khamica",
         "Canada",
         "Athletics",
         "Canada",
         7,
         6,
         11,
         24
        ],
        [
         "BIRD Elizabeth",
         "Great Britain",
         "Athletics",
         "Great Britain",
         22,
         21,
         22,
         65
        ],
        [
         "BIRD-SMITH Dane",
         "Australia",
         "Athletics",
         "Australia",
         17,
         7,
         22,
         46
        ],
        [
         "BIRON Gilles",
         "France",
         "Athletics",
         "France",
         10,
         12,
         11,
         33
        ],
        [
         "BISHOP-NRIAGU Melissa",
         "Canada",
         "Athletics",
         "Canada",
         7,
         6,
         11,
         24
        ],
        [
         "BISSET Catriona",
         "Australia",
         "Athletics",
         "Australia",
         17,
         7,
         22,
         46
        ],
        [
         "BJELJAC Bojana",
         "Croatia",
         "Athletics",
         "Croatia",
         3,
         3,
         2,
         8
        ],
        [
         "BLACKBURN Angeline",
         "Australia",
         "Athletics",
         "Australia",
         17,
         7,
         22,
         46
        ],
        [
         "BLAKE Jerome",
         "Canada",
         "Athletics",
         "Canada",
         7,
         6,
         11,
         24
        ],
        [
         "BLAKE Yohan",
         "Jamaica",
         "Athletics",
         "Jamaica",
         4,
         1,
         4,
         9
        ],
        [
         "BLECH Torben",
         "Germany",
         "Athletics",
         "Germany",
         10,
         11,
         16,
         37
        ],
        [
         "BLIGNAUT Kyle",
         "South Africa",
         "Athletics",
         "South Africa",
         1,
         2,
         0,
         3
        ],
        [
         "BLIZNETS Yuliya",
         "Belarus",
         "Athletics",
         "Belarus",
         1,
         3,
         3,
         7
        ],
        [
         "BLOMBERG Emil",
         "Sweden",
         "Athletics",
         "Sweden",
         3,
         6,
         0,
         9
        ],
        [
         "BLUNDELL Jenny",
         "Australia",
         "Athletics",
         "Australia",
         17,
         7,
         22,
         46
        ],
        [
         "BOATENG Bismark",
         "Canada",
         "Athletics",
         "Canada",
         7,
         6,
         11,
         24
        ],
        [
         "BOBOCEA Claudia Mihaela",
         "Romania",
         "Athletics",
         "Romania",
         1,
         3,
         0,
         4
        ],
        [
         "BOCCHI Tobia",
         "Italy",
         "Athletics",
         "Italy",
         10,
         10,
         20,
         40
        ],
        [
         "BOCH Simon",
         "Germany",
         "Athletics",
         "Germany",
         10,
         11,
         16,
         37
        ],
        [
         "BOCKARIE Solomon",
         "Netherlands",
         "Athletics",
         "Netherlands",
         10,
         12,
         14,
         36
        ],
        [
         "BOGLIOLO Luminosa",
         "Italy",
         "Athletics",
         "Italy",
         10,
         10,
         20,
         40
        ],
        [
         "BOKESA Aauri Lorena",
         "Spain",
         "Athletics",
         "Spain",
         3,
         8,
         6,
         17
        ],
        [
         "BOL Femke",
         "Netherlands",
         "Athletics",
         "Netherlands",
         10,
         12,
         14,
         36
        ],
        [
         "BOL Peter",
         "Australia",
         "Athletics",
         "Australia",
         17,
         7,
         22,
         46
        ],
        [
         "BOLINGO Cynthia",
         "Belgium",
         "Athletics",
         "Belgium",
         3,
         1,
         3,
         7
        ],
        [
         "BOMME Emma Beiter",
         "Denmark",
         "Athletics",
         "Denmark",
         3,
         4,
         4,
         11
        ],
        [
         "BONEVACIA Liemarvin",
         "Netherlands",
         "Athletics",
         "Netherlands",
         10,
         12,
         14,
         36
        ],
        [
         "BONFIM Caio",
         "Brazil",
         "Athletics",
         "Brazil",
         7,
         6,
         8,
         21
        ],
        [
         "BONGIORNI Anna",
         "Italy",
         "Athletics",
         "Italy",
         10,
         10,
         20,
         40
        ],
        [
         "BONILLA Andrea Paola",
         "Ecuador",
         "Athletics",
         "Ecuador",
         2,
         1,
         0,
         3
        ],
        [
         "BORDIER Gabriel",
         "France",
         "Athletics",
         "France",
         10,
         12,
         11,
         33
        ],
        [
         "BORGA Rebecca",
         "Italy",
         "Athletics",
         "Italy",
         10,
         10,
         20,
         40
        ],
        [
         "BORKOWSKI Mateusz",
         "Poland",
         "Athletics",
         "Poland",
         4,
         5,
         5,
         14
        ],
        [
         "BORLEE Dylan",
         "Belgium",
         "Athletics",
         "Belgium",
         3,
         1,
         3,
         7
        ],
        [
         "BORLEE Jonathan",
         "Belgium",
         "Athletics",
         "Belgium",
         3,
         1,
         3,
         7
        ],
        [
         "BORLEE Kevin",
         "Belgium",
         "Athletics",
         "Belgium",
         3,
         1,
         3,
         7
        ],
        [
         "BORTHWICK Emily",
         "Great Britain",
         "Athletics",
         "Great Britain",
         22,
         21,
         22,
         65
        ],
        [
         "BORUTTA Samantha",
         "Germany",
         "Athletics",
         "Germany",
         10,
         11,
         16,
         37
        ],
        [
         "BOSHNAK Aliya",
         "Jordan",
         "Athletics",
         "Jordan",
         0,
         1,
         1,
         2
        ],
        [
         "BOSSE Pierre-Ambroise",
         "France",
         "Athletics",
         "France",
         10,
         12,
         11,
         33
        ],
        [
         "BOSWORTH Tom",
         "Great Britain",
         "Athletics",
         "Great Britain",
         22,
         21,
         22,
         65
        ],
        [
         "BOTLOGETSWE Christine",
         "Botswana",
         "Athletics",
         "Botswana",
         0,
         0,
         1,
         1
        ],
        [
         "BOUGARD Erica",
         "United States of America",
         "Athletics",
         "United States of America",
         39,
         41,
         33,
         113
        ],
        [
         "BOUMA Andrea",
         "Netherlands",
         "Athletics",
         "Netherlands",
         10,
         12,
         14,
         36
        ],
        [
         "BOUQANTAR Soufiyan",
         "Morocco",
         "Athletics",
         "Morocco",
         1,
         0,
         0,
         1
        ],
        [
         "BOUZAYANI Marwa",
         "Tunisia",
         "Athletics",
         "Tunisia",
         1,
         1,
         0,
         2
        ],
        [
         "BOYCE Brendan",
         "Ireland",
         "Athletics",
         "Ireland",
         2,
         0,
         2,
         4
        ],
        [
         "BRADSHAW Holly",
         "Great Britain",
         "Athletics",
         "Great Britain",
         22,
         21,
         22,
         65
        ],
        [
         "BRAZ Thiago",
         "Brazil",
         "Athletics",
         "Brazil",
         7,
         6,
         8,
         21
        ],
        [
         "BREMBACH Nils",
         "Germany",
         "Athletics",
         "Germany",
         10,
         11,
         16,
         37
        ],
        [
         "BRIER Joseph",
         "Great Britain",
         "Athletics",
         "Great Britain",
         22,
         21,
         22,
         65
        ],
        [
         "BROEDERS Ben",
         "Belgium",
         "Athletics",
         "Belgium",
         3,
         1,
         3,
         7
        ],
        [
         "BROERSEN Nadine",
         "Netherlands",
         "Athletics",
         "Netherlands",
         10,
         12,
         14,
         36
        ],
        [
         "BROMELL Trayvon",
         "United States of America",
         "Athletics",
         "United States of America",
         39,
         41,
         33,
         113
        ],
        [
         "BROMFIELD Junelle",
         "Jamaica",
         "Athletics",
         "Jamaica",
         4,
         1,
         4,
         9
        ],
        [
         "BROSSIER Amandine",
         "France",
         "Athletics",
         "France",
         10,
         12,
         11,
         33
        ],
        [
         "BROWN Alicia",
         "Canada",
         "Athletics",
         "Canada",
         7,
         6,
         11,
         24
        ],
        [
         "BROWN Javeir",
         "Jamaica",
         "Athletics",
         "Jamaica",
         4,
         1,
         4,
         9
        ],
        [
         "BROWNING Rohan",
         "Australia",
         "Athletics",
         "Australia",
         17,
         7,
         22,
         46
        ],
        [
         "BRUCE Lauren",
         "New Zealand",
         "Athletics",
         "New Zealand",
         7,
         6,
         7,
         20
        ],
        [
         "BRUME Ese",
         "Nigeria",
         "Athletics",
         "Nigeria",
         0,
         1,
         1,
         2
        ],
        [
         "BRUNI Roberta",
         "Italy",
         "Athletics",
         "Italy",
         10,
         10,
         20,
         40
        ],
        [
         "BRYZHINA Anastasiya",
         "Ukraine",
         "Athletics",
         "Ukraine",
         1,
         6,
         12,
         19
        ],
        [
         "BRZOZOWSKI Artur",
         "Poland",
         "Athletics",
         "Poland",
         4,
         5,
         5,
         14
        ],
        [
         "BUCKINGHAM Ben",
         "Australia",
         "Athletics",
         "Australia",
         17,
         7,
         22,
         46
        ],
        [
         "BUENO Laura",
         "Spain",
         "Athletics",
         "Spain",
         3,
         8,
         6,
         17
        ],
        [
         "BUKOWIECKI Konrad",
         "Poland",
         "Athletics",
         "Poland",
         4,
         5,
         5,
         14
        ],
        [
         "BURCHELL Remona",
         "Jamaica",
         "Athletics",
         "Jamaica",
         4,
         1,
         4,
         9
        ],
        [
         "BURGHARDT Alexandra",
         "Germany",
         "Athletics",
         "Germany",
         10,
         11,
         16,
         37
        ],
        [
         "BURKARD Elena",
         "Germany",
         "Athletics",
         "Germany",
         10,
         11,
         16,
         37
        ],
        [
         "BURKS Quanesha",
         "United States of America",
         "Athletics",
         "United States of America",
         39,
         41,
         33,
         113
        ],
        [
         "BURMANN de OLIVEIRA Pedro Luis",
         "Brazil",
         "Athletics",
         "Brazil",
         7,
         6,
         8,
         21
        ],
        [
         "BURNET Taymir",
         "Netherlands",
         "Athletics",
         "Netherlands",
         10,
         12,
         14,
         36
        ],
        [
         "BURRELL Keeno",
         "Jamaica",
         "Athletics",
         "Jamaica",
         4,
         1,
         4,
         9
        ],
        [
         "BUSCOMB Camille",
         "New Zealand",
         "Athletics",
         "New Zealand",
         7,
         6,
         7,
         20
        ],
        [
         "BUTCHART Andrew",
         "Great Britain",
         "Athletics",
         "Great Britain",
         22,
         21,
         22,
         65
        ],
        [
         "BUTTERWORTH Alycia",
         "Canada",
         "Athletics",
         "Canada",
         7,
         6,
         11,
         24
        ],
        [
         "BUTTERWORTH Lindsey",
         "Canada",
         "Athletics",
         "Canada",
         7,
         6,
         11,
         24
        ],
        [
         "BUTTS-TOWNSEND Tynita",
         "United States of America",
         "Athletics",
         "United States of America",
         39,
         41,
         33,
         113
        ],
        [
         "CA Liliana",
         "Portugal",
         "Athletics",
         "Portugal",
         1,
         1,
         2,
         4
        ],
        [
         "CABALLERO Denia",
         "Cuba",
         "Athletics",
         "Cuba",
         7,
         3,
         5,
         15
        ],
        [
         "CABECINHA Ana",
         "Portugal",
         "Athletics",
         "Portugal",
         1,
         1,
         2,
         4
        ],
        [
         "CACERES Eusebio",
         "Spain",
         "Athletics",
         "Spain",
         3,
         8,
         6,
         17
        ],
        [
         "CAI Zelin",
         "People's Republic of China",
         "Athletics",
         "People's Republic of China",
         38,
         32,
         18,
         88
        ],
        [
         "CAICEDO Juan",
         "Ecuador",
         "Athletics",
         "Ecuador",
         2,
         1,
         0,
         3
        ],
        [
         "CAKSS Gatis",
         "Latvia",
         "Athletics",
         "Latvia",
         1,
         0,
         1,
         2
        ],
        [
         "CALDWELL Abbey",
         "Australia",
         "Athletics",
         "Australia",
         17,
         7,
         22,
         46
        ],
        [
         "CAMACHO-QUINN Jasmine",
         "Puerto Rico",
         "Athletics",
         "Puerto Rico",
         1,
         0,
         0,
         1
        ],
        [
         "CAMERON Lloydricia",
         "Jamaica",
         "Athletics",
         "Jamaica",
         4,
         1,
         4,
         9
        ],
        [
         "CAMILO de OLIVEIRA Paulo Andre",
         "Brazil",
         "Athletics",
         "Brazil",
         7,
         6,
         8,
         21
        ],
        [
         "CAMPBELL Luke",
         "Germany",
         "Athletics",
         "Germany",
         10,
         11,
         16,
         37
        ],
        [
         "CAMPBELL Paige",
         "Australia",
         "Athletics",
         "Australia",
         17,
         7,
         22,
         46
        ],
        [
         "CAMPBELL Taylor",
         "Great Britain",
         "Athletics",
         "Great Britain",
         22,
         21,
         22,
         65
        ],
        [
         "CAMPION Kevin",
         "France",
         "Athletics",
         "France",
         10,
         12,
         11,
         33
        ],
        [
         "CAMPOS PEREIRA Rafael Henrique",
         "Brazil",
         "Athletics",
         "Brazil",
         7,
         6,
         8,
         21
        ],
        [
         "CAN Yasemin",
         "Turkey",
         "Athletics",
         "Turkey",
         2,
         2,
         9,
         13
        ],
        [
         "CAPORASO Teodorico",
         "Italy",
         "Athletics",
         "Italy",
         10,
         10,
         20,
         40
        ],
        [
         "CARD Kelsey",
         "United States of America",
         "Athletics",
         "United States of America",
         39,
         41,
         33,
         113
        ],
        [
         "CARLI Sarah",
         "Australia",
         "Athletics",
         "Australia",
         17,
         7,
         22,
         46
        ],
        [
         "CARRILLO Yeseida",
         "Colombia",
         "Athletics",
         "Colombia",
         0,
         4,
         1,
         5
        ],
        [
         "CARRO Fernando",
         "Spain",
         "Athletics",
         "Spain",
         3,
         8,
         6,
         17
        ],
        [
         "CARTER Chris",
         "United States of America",
         "Athletics",
         "United States of America",
         39,
         41,
         33,
         113
        ],
        [
         "CARVALHO Lucas",
         "Brazil",
         "Athletics",
         "Brazil",
         7,
         6,
         8,
         21
        ],
        [
         "CASETTA Belen",
         "Argentina",
         "Athletics",
         "Argentina",
         0,
         1,
         2,
         3
        ],
        [
         "CASHIN Amy",
         "Australia",
         "Athletics",
         "Australia",
         17,
         7,
         22,
         46
        ],
        [
         "CASTANEDA Jhon Alexander",
         "Colombia",
         "Athletics",
         "Colombia",
         0,
         4,
         1,
         5
        ],
        [
         "CEH Kristjan",
         "Slovenia",
         "Athletics",
         "Slovenia",
         3,
         1,
         1,
         5
        ],
        [
         "CENTROWITZ Matthew",
         "United States of America",
         "Athletics",
         "United States of America",
         39,
         41,
         33,
         113
        ],
        [
         "CERVENKOVA Marketa",
         "Czech Republic",
         "Athletics",
         "Czech Republic",
         4,
         4,
         3,
         11
        ],
        [
         "CHABOWSKI Marcin",
         "Poland",
         "Athletics",
         "Poland",
         4,
         5,
         5,
         14
        ],
        [
         "CHACHA Rosa",
         "Ecuador",
         "Athletics",
         "Ecuador",
         2,
         1,
         0,
         3
        ],
        [
         "CHAHDI Hassan",
         "France",
         "Athletics",
         "France",
         10,
         12,
         11,
         33
        ],
        [
         "CHALMERS Cameron",
         "Great Britain",
         "Athletics",
         "Great Britain",
         22,
         21,
         22,
         65
        ],
        [
         "CHAMA Noel",
         "Mexico",
         "Athletics",
         "Mexico",
         0,
         0,
         4,
         4
        ],
        [
         "CHAN Chung Wang",
         "Hong Kong, China",
         "Athletics",
         "Hong Kong, China",
         1,
         2,
         3,
         6
        ],
        [
         "CHAND Dutee",
         "India",
         "Athletics",
         "India",
         1,
         2,
         4,
         7
        ],
        [
         "CHARLTON Devynne",
         "Bahamas",
         "Athletics",
         "Bahamas",
         2,
         0,
         0,
         2
        ],
        [
         "CHEBET Esther",
         "Uganda",
         "Athletics",
         "Uganda",
         2,
         1,
         1,
         4
        ],
        [
         "CHEBET Winny",
         "Kenya",
         "Athletics",
         "Kenya",
         4,
         4,
         2,
         10
        ],
        [
         "CHEKWEL Juliet",
         "Uganda",
         "Athletics",
         "Uganda",
         2,
         1,
         1,
         4
        ],
        [
         "CHELANGAT Mercyline",
         "Uganda",
         "Athletics",
         "Uganda",
         2,
         1,
         1,
         4
        ],
        [
         "CHELANGAT Sarah",
         "Uganda",
         "Athletics",
         "Uganda",
         2,
         1,
         1,
         4
        ],
        [
         "CHELANGAT Sheila",
         "Kenya",
         "Athletics",
         "Kenya",
         4,
         4,
         2,
         10
        ],
        [
         "CHELIMO Oscar",
         "Uganda",
         "Athletics",
         "Uganda",
         2,
         1,
         1,
         4
        ],
        [
         "CHEMONGESI Filex",
         "Uganda",
         "Athletics",
         "Uganda",
         2,
         1,
         1,
         4
        ],
        [
         "CHEMUTAI Albert",
         "Uganda",
         "Athletics",
         "Uganda",
         2,
         1,
         1,
         4
        ],
        [
         "CHEMUTAI Immaculate",
         "Uganda",
         "Athletics",
         "Uganda",
         2,
         1,
         1,
         4
        ],
        [
         "CHEMUTAI Peruth",
         "Uganda",
         "Athletics",
         "Uganda",
         2,
         1,
         1,
         4
        ],
        [
         "CHEN Chieh",
         "Chinese Taipei",
         "Athletics",
         "Chinese Taipei",
         2,
         4,
         6,
         12
        ],
        [
         "CHEN Jiamin",
         "People's Republic of China",
         "Athletics",
         "People's Republic of China",
         38,
         32,
         18,
         88
        ],
        [
         "CHEN Kuei-Ru",
         "Chinese Taipei",
         "Athletics",
         "Chinese Taipei",
         2,
         4,
         6,
         12
        ],
        [
         "CHEN Yang",
         "People's Republic of China",
         "Athletics",
         "People's Republic of China",
         38,
         32,
         18,
         88
        ],
        [
         "CHENG Chao-Tsun",
         "Chinese Taipei",
         "Athletics",
         "Chinese Taipei",
         2,
         4,
         6,
         12
        ],
        [
         "CHEPKOECH Beatrice",
         "Kenya",
         "Athletics",
         "Kenya",
         4,
         4,
         2,
         10
        ],
        [
         "CHEPNGETICH Ruth",
         "Kenya",
         "Athletics",
         "Kenya",
         4,
         4,
         2,
         10
        ],
        [
         "CHEPTAI Irine",
         "Kenya",
         "Athletics",
         "Kenya",
         4,
         4,
         2,
         10
        ],
        [
         "CHEPTEGEI Joshua",
         "Uganda",
         "Athletics",
         "Uganda",
         2,
         1,
         1,
         4
        ],
        [
         "CHERONO Lawrence",
         "Kenya",
         "Athletics",
         "Kenya",
         4,
         4,
         2,
         10
        ],
        [
         "CHERRY Michael",
         "United States of America",
         "Athletics",
         "United States of America",
         39,
         41,
         33,
         113
        ],
        [
         "CHESANG Prisca",
         "Uganda",
         "Athletics",
         "Uganda",
         2,
         1,
         1,
         4
        ],
        [
         "CHIARAVIGLIO German",
         "Argentina",
         "Athletics",
         "Argentina",
         0,
         1,
         2,
         3
        ],
        [
         "CHING Siu Nga",
         "Hong Kong, China",
         "Athletics",
         "Hong Kong, China",
         1,
         2,
         3,
         6
        ],
        [
         "CHOCHO Andres",
         "Ecuador",
         "Athletics",
         "Ecuador",
         2,
         1,
         0,
         3
        ],
        [
         "CHOE Byeongkwang",
         "Republic of Korea",
         "Athletics",
         "Republic of Korea",
         6,
         4,
         10,
         20
        ],
        [
         "CHOI Kyungsun",
         "Republic of Korea",
         "Athletics",
         "Republic of Korea",
         6,
         4,
         10,
         20
        ],
        [
         "CHOPRA Neeraj",
         "India",
         "Athletics",
         "India",
         1,
         2,
         4,
         7
        ],
        [
         "CHOQUERT Benjamin",
         "France",
         "Athletics",
         "France",
         10,
         12,
         11,
         33
        ],
        [
         "CHOUKOUD Khalid",
         "Netherlands",
         "Athletics",
         "Netherlands",
         10,
         12,
         14,
         36
        ],
        [
         "CHRISTIE Nick",
         "United States of America",
         "Athletics",
         "United States of America",
         39,
         41,
         33,
         113
        ],
        [
         "CHUKWUMA Rosemary",
         "Nigeria",
         "Athletics",
         "Nigeria",
         0,
         1,
         1,
         2
        ],
        [
         "CHUMBA Eunice Chebichii",
         "Bahrain",
         "Athletics",
         "Bahrain",
         0,
         1,
         0,
         1
        ],
        [
         "CIENFUEGOS Javier",
         "Spain",
         "Athletics",
         "Spain",
         3,
         8,
         6,
         17
        ],
        [
         "CISSE Arthur",
         "Côte d'Ivoire",
         "Athletics",
         "Côte d'Ivoire",
         0,
         0,
         1,
         1
        ],
        [
         "CLAES Hanne",
         "Belgium",
         "Athletics",
         "Belgium",
         3,
         1,
         3,
         7
        ],
        [
         "CLARK Tamara",
         "United States of America",
         "Athletics",
         "United States of America",
         39,
         41,
         33,
         113
        ],
        [
         "CLARK Zoey",
         "Great Britain",
         "Athletics",
         "Great Britain",
         22,
         21,
         22,
         65
        ],
        [
         "CLARKE Matthew",
         "Australia",
         "Athletics",
         "Australia",
         17,
         7,
         22,
         46
        ],
        [
         "CLAY Liz",
         "Australia",
         "Athletics",
         "Australia",
         17,
         7,
         22,
         46
        ],
        [
         "CLEIRIGH BUTTNER Siofra",
         "Ireland",
         "Athletics",
         "Ireland",
         2,
         0,
         2,
         4
        ],
        [
         "CLEMONS Christina",
         "United States of America",
         "Athletics",
         "United States of America",
         39,
         41,
         33,
         113
        ],
        [
         "COBURN Emma",
         "United States of America",
         "Athletics",
         "United States of America",
         39,
         41,
         33,
         113
        ],
        [
         "COCIORAN Marius Iulian",
         "Romania",
         "Athletics",
         "Romania",
         1,
         3,
         0,
         4
        ],
        [
         "COCKRELL Anna",
         "United States of America",
         "Athletics",
         "United States of America",
         39,
         41,
         33,
         113
        ],
        [
         "COHEN Adva",
         "Israel",
         "Athletics",
         "Israel",
         2,
         0,
         2,
         4
        ],
        [
         "COLEBROOKE Samson",
         "Bahamas",
         "Athletics",
         "Bahamas",
         2,
         0,
         0,
         2
        ],
        [
         "COMPAORE Benjamin",
         "France",
         "Athletics",
         "France",
         10,
         12,
         11,
         33
        ],
        [
         "CONNOR Ben",
         "Great Britain",
         "Athletics",
         "Great Britain",
         22,
         21,
         22,
         65
        ],
        [
         "CONRADIE Pieter",
         "South Africa",
         "Athletics",
         "South Africa",
         1,
         2,
         0,
         3
        ],
        [
         "CONSTANTINE Kyra",
         "Canada",
         "Athletics",
         "Canada",
         7,
         6,
         11,
         24
        ],
        [
         "CONSTIEN Valerie",
         "United States of America",
         "Athletics",
         "United States of America",
         39,
         41,
         33,
         113
        ],
        [
         "COOKE Aoife",
         "Ireland",
         "Athletics",
         "Ireland",
         2,
         0,
         2,
         4
        ],
        [
         "COOPER Abbey",
         "United States of America",
         "Athletics",
         "United States of America",
         39,
         41,
         33,
         113
        ],
        [
         "COOPER Lacarthea",
         "Bahamas",
         "Athletics",
         "Bahamas",
         2,
         0,
         0,
         2
        ],
        [
         "COPELLO Yasmani",
         "Turkey",
         "Athletics",
         "Turkey",
         2,
         2,
         9,
         13
        ],
        [
         "COPPELL Harry",
         "Great Britain",
         "Athletics",
         "Great Britain",
         22,
         21,
         22,
         65
        ],
        [
         "CORCHETE Luis Manuel",
         "Spain",
         "Athletics",
         "Spain",
         3,
         8,
         6,
         17
        ],
        [
         "CORMONT Ethan",
         "France",
         "Athletics",
         "France",
         10,
         12,
         11,
         33
        ],
        [
         "CORREA Matheus",
         "Brazil",
         "Athletics",
         "Brazil",
         7,
         6,
         8,
         21
        ],
        [
         "COSCORAN Andrew",
         "Ireland",
         "Athletics",
         "Ireland",
         2,
         0,
         2,
         4
        ],
        [
         "COUCKUYT Paulien",
         "Belgium",
         "Athletics",
         "Belgium",
         3,
         1,
         3,
         7
        ],
        [
         "COUTINHO Geisa Aparecida",
         "Brazil",
         "Athletics",
         "Brazil",
         7,
         6,
         8,
         21
        ],
        [
         "CRAFT Shanice",
         "Germany",
         "Athletics",
         "Germany",
         10,
         11,
         16,
         37
        ],
        [
         "CRANNY Elise",
         "United States of America",
         "Athletics",
         "United States of America",
         39,
         41,
         33,
         113
        ],
        [
         "CRESTAN Eliott",
         "Belgium",
         "Athletics",
         "Belgium",
         3,
         1,
         3,
         7
        ],
        [
         "CRIPPA Yemaneberhan",
         "Italy",
         "Athletics",
         "Italy",
         10,
         10,
         20,
         40
        ],
        [
         "CROUSER Ryan",
         "United States of America",
         "Athletics",
         "United States of America",
         39,
         41,
         33,
         113
        ],
        [
         "CUI Lihong",
         "People's Republic of China",
         "Athletics",
         "People's Republic of China",
         38,
         32,
         18,
         88
        ],
        [
         "CULVER Trey",
         "United States of America",
         "Athletics",
         "United States of America",
         39,
         41,
         33,
         113
        ],
        [
         "CUNNINGHAM Gabriele",
         "United States of America",
         "Athletics",
         "United States of America",
         39,
         41,
         33,
         113
        ],
        [
         "CUNNINGHAM Trey",
         "United States of America",
         "Athletics",
         "United States of America",
         39,
         41,
         33,
         113
        ],
        [
         "CUNNINGHAM Vashti",
         "United States of America",
         "Athletics",
         "United States of America",
         39,
         41,
         33,
         113
        ],
        [
         "CZYKIER Damian",
         "Poland",
         "Athletics",
         "Poland",
         4,
         5,
         5,
         14
        ],
        [
         "da SILVA Chayenne",
         "Brazil",
         "Athletics",
         "Brazil",
         7,
         6,
         8,
         21
        ],
        [
         "da SILVA Daniel Chaves",
         "Brazil",
         "Athletics",
         "Brazil",
         7,
         6,
         8,
         21
        ],
        [
         "da SILVA Izabela",
         "Brazil",
         "Athletics",
         "Brazil",
         7,
         6,
         8,
         21
        ],
        [
         "da SILVA Tatiane Raquel",
         "Brazil",
         "Athletics",
         "Brazil",
         7,
         6,
         8,
         21
        ],
        [
         "DABA Tejitu",
         "Bahrain",
         "Athletics",
         "Bahrain",
         0,
         1,
         0,
         1
        ],
        [
         "DACRES Fedrick",
         "Jamaica",
         "Athletics",
         "Jamaica",
         4,
         1,
         4,
         9
        ],
        [
         "DADIC Ivona",
         "Austria",
         "Athletics",
         "Austria",
         1,
         1,
         5,
         7
        ],
        [
         "DAL MOLIN Paolo",
         "Italy",
         "Athletics",
         "Italy",
         10,
         10,
         20,
         40
        ],
        [
         "DANIELS Teahna",
         "United States of America",
         "Athletics",
         "United States of America",
         39,
         41,
         33,
         113
        ],
        [
         "DANYLENKO Danylo",
         "Ukraine",
         "Athletics",
         "Ukraine",
         1,
         6,
         12,
         19
        ],
        [
         "DAVID Yanis Esmeralda",
         "France",
         "Athletics",
         "France",
         10,
         12,
         11,
         33
        ],
        [
         "DAVIES Rose",
         "Australia",
         "Athletics",
         "Australia",
         17,
         7,
         22,
         46
        ],
        [
         "DAVIS Stephanie",
         "Great Britain",
         "Athletics",
         "Great Britain",
         22,
         21,
         22,
         65
        ],
        [
         "DAVIS Tara",
         "United States of America",
         "Athletics",
         "United States of America",
         39,
         41,
         33,
         113
        ],
        [
         "DAY Riley",
         "Australia",
         "Athletics",
         "Australia",
         17,
         7,
         22,
         46
        ],
        [
         "de ALMEIDA PAULA Paulo Roberto",
         "Brazil",
         "Athletics",
         "Brazil",
         7,
         6,
         8,
         21
        ],
        [
         "de GRASSE Andre",
         "Canada",
         "Athletics",
         "Canada",
         7,
         6,
         11,
         24
        ],
        [
         "de LIMA Jucilene Sales",
         "Brazil",
         "Athletics",
         "Brazil",
         7,
         6,
         8,
         21
        ],
        [
         "de LUCA Marco",
         "Italy",
         "Athletics",
         "Italy",
         10,
         10,
         20,
         40
        ],
        [
         "de MORAIS Andressa",
         "Brazil",
         "Athletics",
         "Brazil",
         7,
         6,
         8,
         21
        ],
        [
         "de WITTE Laura",
         "Netherlands",
         "Athletics",
         "Netherlands",
         10,
         12,
         14,
         36
        ],
        [
         "de WITTE Lisanne",
         "Netherlands",
         "Athletics",
         "Netherlands",
         10,
         12,
         14,
         36
        ],
        [
         "DEBJANI Ismael",
         "Belgium",
         "Athletics",
         "Belgium",
         3,
         1,
         3,
         7
        ],
        [
         "DEBUES-STAFFORD Gabriela",
         "Canada",
         "Athletics",
         "Canada",
         7,
         6,
         11,
         24
        ],
        [
         "DECHASA Shumi",
         "Bahrain",
         "Athletics",
         "Bahrain",
         0,
         1,
         0,
         1
        ],
        [
         "DEDE Bruno",
         "Japan",
         "Athletics",
         "Japan",
         27,
         14,
         17,
         58
        ],
        [
         "DEELTSTRA Andrea",
         "Netherlands",
         "Athletics",
         "Netherlands",
         10,
         12,
         14,
         36
        ],
        [
         "del BUONO Federica",
         "Italy",
         "Athletics",
         "Italy",
         10,
         10,
         20,
         40
        ],
        [
         "del PONTE Ajla",
         "Switzerland",
         "Athletics",
         "Switzerland",
         3,
         4,
         6,
         13
        ],
        [
         "del REAL Diego",
         "Mexico",
         "Athletics",
         "Mexico",
         0,
         0,
         4,
         4
        ],
        [
         "DEMIDIK Karyna",
         "Belarus",
         "Athletics",
         "Belarus",
         1,
         3,
         3,
         7
        ],
        [
         "DEMIR Evin",
         "Turkey",
         "Athletics",
         "Turkey",
         2,
         2,
         9,
         13
        ],
        [
         "DEMIREVA Mirela",
         "Bulgaria",
         "Athletics",
         "Bulgaria",
         3,
         1,
         2,
         6
        ],
        [
         "DENDY Marquis",
         "United States of America",
         "Athletics",
         "United States of America",
         39,
         41,
         33,
         113
        ],
        [
         "DENNY Matthew",
         "Australia",
         "Athletics",
         "Australia",
         17,
         7,
         22,
         46
        ],
        [
         "DEREJE Roza",
         "Ethiopia",
         "Athletics",
         "Ethiopia",
         1,
         1,
         2,
         4
        ],
        [
         "DERELI Emel",
         "Turkey",
         "Athletics",
         "Turkey",
         2,
         2,
         9,
         13
        ],
        [
         "DERKACH Dariya",
         "Italy",
         "Athletics",
         "Italy",
         10,
         10,
         20,
         40
        ],
        [
         "DESALU Eseosa Fostine",
         "Italy",
         "Athletics",
         "Italy",
         10,
         10,
         20,
         40
        ],
        [
         "DESENSKY Michal",
         "Czech Republic",
         "Athletics",
         "Czech Republic",
         4,
         4,
         3,
         11
        ],
        [
         "DESISA Lelisa",
         "Ethiopia",
         "Athletics",
         "Ethiopia",
         1,
         1,
         2,
         4
        ],
        [
         "DESTA Netsanet",
         "Ethiopia",
         "Athletics",
         "Ethiopia",
         1,
         1,
         2,
         4
        ],
        [
         "di LAZZARO Elisa Maria",
         "Italy",
         "Athletics",
         "Italy",
         10,
         10,
         20,
         40
        ],
        [
         "DIAGO MESA Sahily",
         "Cuba",
         "Athletics",
         "Cuba",
         7,
         3,
         5,
         15
        ],
        [
         "DIALLO Rouguy",
         "France",
         "Athletics",
         "France",
         10,
         12,
         11,
         33
        ],
        [
         "DIAMOND Emily",
         "Great Britain",
         "Athletics",
         "Great Britain",
         22,
         21,
         22,
         65
        ],
        [
         "DIAZ Andy",
         "Cuba",
         "Athletics",
         "Cuba",
         7,
         3,
         5,
         15
        ],
        [
         "DIBABA Birhane",
         "Ethiopia",
         "Athletics",
         "Ethiopia",
         1,
         1,
         2,
         4
        ],
        [
         "DIETSCHE Riccarda",
         "Switzerland",
         "Athletics",
         "Switzerland",
         3,
         4,
         6,
         13
        ],
        [
         "DIKGALE Ranti Marvin",
         "South Africa",
         "Athletics",
         "South Africa",
         1,
         2,
         0,
         3
        ],
        [
         "DINCOFF Rachel",
         "United States of America",
         "Athletics",
         "United States of America",
         39,
         41,
         33,
         113
        ],
        [
         "DIVER Sinead",
         "Australia",
         "Athletics",
         "Australia",
         17,
         7,
         22,
         46
        ],
        [
         "DJOUHAN Lolassonn",
         "France",
         "Athletics",
         "France",
         10,
         12,
         11,
         33
        ],
        [
         "DO NASCIMENTO Daniel",
         "Brazil",
         "Athletics",
         "Brazil",
         7,
         6,
         8,
         21
        ],
        [
         "DO NASCIMENTO Rodrigo",
         "Brazil",
         "Athletics",
         "Brazil",
         7,
         6,
         8,
         21
        ],
        [
         "DOBBER Jochem",
         "Netherlands",
         "Athletics",
         "Netherlands",
         10,
         12,
         14,
         36
        ],
        [
         "DOBBIN Beth",
         "Great Britain",
         "Athletics",
         "Great Britain",
         22,
         21,
         22,
         65
        ],
        [
         "DOBEK Patryk",
         "Poland",
         "Athletics",
         "Poland",
         4,
         5,
         5,
         14
        ],
        [
         "DOHMANN Carl",
         "Germany",
         "Athletics",
         "Germany",
         10,
         11,
         16,
         37
        ],
        [
         "DONG Guojian",
         "People's Republic of China",
         "Athletics",
         "People's Republic of China",
         38,
         32,
         18,
         88
        ],
        [
         "DONGMO Auriol",
         "Portugal",
         "Athletics",
         "Portugal",
         1,
         1,
         2,
         4
        ],
        [
         "DOOM Alexander",
         "Belgium",
         "Athletics",
         "Belgium",
         3,
         1,
         3,
         7
        ],
        [
         "dos SANTOS Alison",
         "Brazil",
         "Athletics",
         "Brazil",
         7,
         6,
         8,
         21
        ],
        [
         "dos SANTOS Almir",
         "Brazil",
         "Athletics",
         "Brazil",
         7,
         6,
         8,
         21
        ],
        [
         "dos SANTOS Felipe",
         "Brazil",
         "Athletics",
         "Brazil",
         7,
         6,
         8,
         21
        ],
        [
         "dos SANTOS Ricardo",
         "Portugal",
         "Athletics",
         "Portugal",
         1,
         1,
         2,
         4
        ],
        [
         "DOSSO Zaynab",
         "Italy",
         "Athletics",
         "Italy",
         10,
         10,
         20,
         40
        ],
        [
         "DOUVALIDIS Konstantinos",
         "Greece",
         "Athletics",
         "Greece",
         2,
         1,
         1,
         4
        ],
        [
         "DRAHOTOVA Anezka",
         "Czech Republic",
         "Athletics",
         "Czech Republic",
         4,
         4,
         3,
         11
        ],
        [
         "DRISBIOTI Antigoni",
         "Greece",
         "Athletics",
         "Greece",
         2,
         1,
         1,
         4
        ],
        [
         "DUBITSKAYA Aliona",
         "Belarus",
         "Athletics",
         "Belarus",
         1,
         3,
         3,
         7
        ],
        [
         "DUBLER Cedric",
         "Australia",
         "Athletics",
         "Australia",
         17,
         7,
         22,
         46
        ],
        [
         "DUBOVITSKAYA Nadezhda",
         "Kazakhstan",
         "Athletics",
         "Kazakhstan",
         0,
         0,
         8,
         8
        ],
        [
         "DUDARAU Hleb",
         "Belarus",
         "Athletics",
         "Belarus",
         1,
         3,
         3,
         7
        ],
        [
         "DUNCAN Melissa",
         "Australia",
         "Athletics",
         "Australia",
         17,
         7,
         22,
         46
        ],
        [
         "DUNFEE Evan",
         "Canada",
         "Athletics",
         "Canada",
         7,
         6,
         11,
         24
        ],
        [
         "DUPLANTIS Armand",
         "Sweden",
         "Athletics",
         "Sweden",
         3,
         6,
         0,
         9
        ],
        [
         "DURDIAKOVA Tereza",
         "Czech Republic",
         "Athletics",
         "Czech Republic",
         4,
         4,
         3,
         11
        ],
        [
         "DUSTIN Oliver",
         "Great Britain",
         "Athletics",
         "Great Britain",
         22,
         21,
         22,
         65
        ],
        [
         "DUSZYNSKI Kajetan",
         "Poland",
         "Athletics",
         "Poland",
         4,
         5,
         5,
         14
        ],
        [
         "DUTRA Augusto",
         "Brazil",
         "Athletics",
         "Brazil",
         7,
         6,
         8,
         21
        ],
        [
         "DWYER Rasheed",
         "Jamaica",
         "Athletics",
         "Jamaica",
         4,
         1,
         4,
         9
        ],
        [
         "DZIUBIN Dzmitry",
         "Belarus",
         "Athletics",
         "Belarus",
         1,
         3,
         3,
         7
        ],
        [
         "EBENYO Daniel Simiu",
         "Kenya",
         "Athletics",
         "Kenya",
         4,
         4,
         2,
         10
        ],
        [
         "ECHEVARRIA Juan Miguel",
         "Cuba",
         "Athletics",
         "Cuba",
         7,
         3,
         5,
         15
        ],
        [
         "ECHIKUNWOKE Annette",
         "Nigeria",
         "Athletics",
         "Nigeria",
         0,
         1,
         1,
         2
        ],
        [
         "ECKHARDT Neele",
         "Germany",
         "Athletics",
         "Germany",
         10,
         11,
         16,
         37
        ],
        [
         "EDWARDS Jye",
         "Australia",
         "Athletics",
         "Australia",
         17,
         7,
         22,
         46
        ],
        [
         "EFOLOKO Jona",
         "Great Britain",
         "Athletics",
         "Great Britain",
         22,
         21,
         22,
         65
        ],
        [
         "EFTIMOVA Inna",
         "Bulgaria",
         "Athletics",
         "Bulgaria",
         3,
         1,
         2,
         6
        ],
        [
         "EKE Nadia",
         "Ghana",
         "Athletics",
         "Ghana",
         0,
         0,
         1,
         1
        ],
        [
         "EKTOVA Irina",
         "Kazakhstan",
         "Athletics",
         "Kazakhstan",
         0,
         0,
         8,
         8
        ],
        [
         "EL AARABY Mohamed Reda",
         "Morocco",
         "Athletics",
         "Morocco",
         1,
         0,
         0,
         1
        ],
        [
         "EL ABBASSI El Hassan",
         "Bahrain",
         "Athletics",
         "Bahrain",
         0,
         1,
         0,
         1
        ],
        [
         "EL BAKKALI Soufiane",
         "Morocco",
         "Athletics",
         "Morocco",
         1,
         0,
         0,
         1
        ],
        [
         "EL FATHAOUI Yassine",
         "Italy",
         "Athletics",
         "Italy",
         10,
         10,
         20,
         40
        ],
        [
         "EL GOUMRI Othmane",
         "Morocco",
         "Athletics",
         "Morocco",
         1,
         0,
         0,
         1
        ],
        [
         "EL GUESSE Abdelati",
         "Morocco",
         "Athletics",
         "Morocco",
         1,
         0,
         0,
         1
        ],
        [
         "EL MOUKIM Rkia",
         "Morocco",
         "Athletics",
         "Morocco",
         1,
         0,
         0,
         1
        ],
        [
         "EL SEIFY Ashraf Amgad",
         "Qatar",
         "Athletics",
         "Qatar",
         2,
         0,
         1,
         3
        ],
        [
         "ELGAMEL Mostafa",
         "Egypt",
         "Athletics",
         "Egypt",
         1,
         1,
         4,
         6
        ],
        [
         "ELLENWOOD Georgia",
         "Canada",
         "Athletics",
         "Canada",
         7,
         6,
         11,
         24
        ],
        [
         "ELLIS Kendall",
         "United States of America",
         "Athletics",
         "United States of America",
         39,
         41,
         33,
         113
        ],
        [
         "ELLIS Nigel",
         "Jamaica",
         "Athletics",
         "Jamaica",
         4,
         1,
         4,
         9
        ],
        [
         "ELMORE Malindi",
         "Canada",
         "Athletics",
         "Canada",
         7,
         6,
         11,
         24
        ],
        [
         "EMILIANOV Alexandra",
         "Republic of Moldova",
         "Athletics",
         "Republic of Moldova",
         0,
         0,
         1,
         1
        ],
        [
         "EMMANUEL Crystal",
         "Canada",
         "Athletics",
         "Canada",
         7,
         6,
         11,
         24
        ],
        [
         "ENEKWECHI Chukwuebuka",
         "Nigeria",
         "Athletics",
         "Nigeria",
         0,
         1,
         1,
         2
        ],
        [
         "ENGELS Craig",
         "United States of America",
         "Athletics",
         "United States of America",
         39,
         41,
         33,
         113
        ],
        [
         "ENGLISH Mark",
         "Ireland",
         "Athletics",
         "Ireland",
         2,
         0,
         2,
         4
        ],
        [
         "ER Necati",
         "Turkey",
         "Athletics",
         "Turkey",
         2,
         2,
         9,
         13
        ],
        [
         "ERDOGAN Meryem",
         "Turkey",
         "Athletics",
         "Turkey",
         2,
         2,
         9,
         13
        ],
        [
         "ERM Johannes",
         "Estonia",
         "Athletics",
         "Estonia",
         1,
         0,
         1,
         2
        ],
        [
         "ERTA Bernat",
         "Spain",
         "Athletics",
         "Spain",
         3,
         8,
         6,
         17
        ],
        [
         "ESPARZA Jesus Arturo",
         "Mexico",
         "Athletics",
         "Mexico",
         0,
         0,
         4,
         4
        ],
        [
         "ESPINOZA Ahymara",
         "Venezuela",
         "Athletics",
         "Venezuela",
         1,
         3,
         0,
         4
        ],
        [
         "ESSAYI Anass",
         "Morocco",
         "Athletics",
         "Morocco",
         1,
         0,
         0,
         1
        ],
        [
         "ETELATALO Lassi",
         "Finland",
         "Athletics",
         "Finland",
         0,
         0,
         2,
         2
        ],
        [
         "ETO Takashi",
         "Japan",
         "Athletics",
         "Japan",
         27,
         14,
         17,
         58
        ],
        [
         "EVORA Nelson",
         "Portugal",
         "Athletics",
         "Portugal",
         1,
         1,
         2,
         4
        ],
        [
         "EZZAYDOUNI Ibrahim",
         "Spain",
         "Athletics",
         "Spain",
         3,
         8,
         6,
         17
        ],
        [
         "FABBRI Leonardo",
         "Italy",
         "Athletics",
         "Italy",
         10,
         10,
         20,
         40
        ],
        [
         "FAHR Annina",
         "Switzerland",
         "Athletics",
         "Switzerland",
         3,
         4,
         6,
         13
        ],
        [
         "FAJDEK Pawel",
         "Poland",
         "Athletics",
         "Poland",
         4,
         5,
         5,
         14
        ],
        [
         "FALCAO CABRAL Joao Henrique",
         "Brazil",
         "Athletics",
         "Brazil",
         7,
         6,
         8,
         21
        ],
        [
         "FALL Mouhamadou",
         "France",
         "Athletics",
         "France",
         10,
         12,
         11,
         33
        ],
        [
         "FALOCI Giovanni",
         "Italy",
         "Athletics",
         "Italy",
         10,
         10,
         20,
         40
        ],
        [
         "FANG Yaoqing",
         "People's Republic of China",
         "Athletics",
         "People's Republic of China",
         38,
         32,
         18,
         88
        ],
        [
         "FANTINI Sara",
         "Italy",
         "Athletics",
         "Italy",
         10,
         10,
         20,
         40
        ],
        [
         "FARIAS Bruna Jessica",
         "Brazil",
         "Athletics",
         "Brazil",
         7,
         6,
         8,
         21
        ],
        [
         "FARKEN Robert",
         "Germany",
         "Athletics",
         "Germany",
         10,
         11,
         16,
         37
        ],
        [
         "FARZANEH Fasihi",
         "Islamic Republic of Iran",
         "Athletics",
         "Islamic Republic of Iran",
         3,
         2,
         2,
         7
        ],
        [
         "FEIGE Saskia",
         "Germany",
         "Athletics",
         "Germany",
         10,
         11,
         16,
         37
        ],
        [
         "FELIX Allyson",
         "United States of America",
         "Athletics",
         "United States of America",
         39,
         41,
         33,
         113
        ],
        [
         "FELIZ Lidio Andres",
         "Dominican Republic",
         "Athletics",
         "Dominican Republic",
         0,
         3,
         2,
         5
        ],
        [
         "FENG Bin",
         "People's Republic of China",
         "Athletics",
         "People's Republic of China",
         38,
         32,
         18,
         88
        ],
        [
         "FERGUSON Kord",
         "United States of America",
         "Athletics",
         "United States of America",
         39,
         41,
         33,
         113
        ],
        [
         "FERLIC Mason",
         "United States of America",
         "Athletics",
         "United States of America",
         39,
         41,
         33,
         113
        ],
        [
         "FERNANDEZ Sergio",
         "Spain",
         "Athletics",
         "Spain",
         3,
         8,
         6,
         17
        ],
        [
         "FERREIRA Fernando",
         "Brazil",
         "Athletics",
         "Brazil",
         7,
         6,
         8,
         21
        ],
        [
         "FERRER E SILVA Laila",
         "Brazil",
         "Athletics",
         "Brazil",
         7,
         6,
         8,
         21
        ],
        [
         "FIKADU Dawit",
         "Bahrain",
         "Athletics",
         "Bahrain",
         0,
         1,
         0,
         1
        ],
        [
         "FILIPPIDIS Konstantinos",
         "Greece",
         "Athletics",
         "Greece",
         2,
         1,
         1,
         4
        ],
        [
         "FILTISIKOU Kiriaki",
         "Greece",
         "Athletics",
         "Greece",
         2,
         1,
         1,
         4
        ],
        [
         "FINLEY Mason",
         "United States of America",
         "Athletics",
         "United States of America",
         39,
         41,
         33,
         113
        ],
        [
         "FINN Michelle",
         "Ireland",
         "Athletics",
         "Ireland",
         2,
         0,
         2,
         4
        ],
        [
         "FIODOROW Joanna",
         "Poland",
         "Athletics",
         "Poland",
         4,
         5,
         5,
         14
        ],
        [
         "FIRFIRICA Alin Alexandru",
         "Romania",
         "Athletics",
         "Romania",
         1,
         3,
         0,
         4
        ],
        [
         "FISHER Grant",
         "United States of America",
         "Athletics",
         "United States of America",
         39,
         41,
         33,
         113
        ],
        [
         "FLANAGAN Benjamin",
         "Canada",
         "Athletics",
         "Canada",
         7,
         6,
         11,
         24
        ],
        [
         "FLANAGAN Eilish",
         "Ireland",
         "Athletics",
         "Ireland",
         2,
         0,
         2,
         4
        ],
        [
         "FOFANA Hassane",
         "Italy",
         "Athletics",
         "Italy",
         10,
         10,
         20,
         40
        ],
        [
         "FOLORUNSO Ayomide",
         "Italy",
         "Athletics",
         "Italy",
         10,
         10,
         20,
         40
        ],
        [
         "FONTANA Vittoria",
         "Italy",
         "Athletics",
         "Italy",
         10,
         10,
         20,
         40
        ],
        [
         "FONTES Ignacio",
         "Spain",
         "Athletics",
         "Spain",
         3,
         8,
         6,
         17
        ],
        [
         "FOPPEN Mike",
         "Netherlands",
         "Athletics",
         "Netherlands",
         10,
         12,
         14,
         36
        ],
        [
         "FORTE Julian",
         "Jamaica",
         "Athletics",
         "Jamaica",
         4,
         1,
         4,
         9
        ],
        [
         "FORTUNATO Francesco",
         "Italy",
         "Athletics",
         "Italy",
         10,
         10,
         20,
         40
        ],
        [
         "FOSTI Roman",
         "Estonia",
         "Athletics",
         "Estonia",
         1,
         0,
         1,
         2
        ],
        [
         "FRANKLIN Tori",
         "United States of America",
         "Athletics",
         "United States of America",
         39,
         41,
         33,
         113
        ],
        [
         "FRANTZESKAKIS Christos",
         "Greece",
         "Athletics",
         "Greece",
         2,
         1,
         1,
         4
        ],
        [
         "FRASER-PRYCE Shelly-Ann",
         "Jamaica",
         "Athletics",
         "Jamaica",
         4,
         1,
         4,
         9
        ],
        [
         "FRAYNE Henry",
         "Australia",
         "Athletics",
         "Australia",
         17,
         7,
         22,
         46
        ],
        [
         "FREITAS HENRIQUES Anderson",
         "Brazil",
         "Athletics",
         "Brazil",
         7,
         6,
         8,
         21
        ],
        [
         "FRERICHS Courtney",
         "United States of America",
         "Athletics",
         "United States of America",
         39,
         41,
         33,
         113
        ],
        [
         "FUJII Nanako",
         "Japan",
         "Athletics",
         "Japan",
         27,
         14,
         17,
         58
        ],
        [
         "GACKA Kinga",
         "Poland",
         "Athletics",
         "Poland",
         4,
         5,
         5,
         14
        ],
        [
         "GAITHER Tynia",
         "Bahamas",
         "Athletics",
         "Bahamas",
         2,
         0,
         0,
         2
        ],
        [
         "GAJANOVA Gabriela",
         "Slovakia",
         "Athletics",
         "Slovakia",
         1,
         2,
         1,
         4
        ],
        [
         "GALANT Martyna",
         "Poland",
         "Athletics",
         "Poland",
         4,
         5,
         5,
         14
        ],
        [
         "GALE Lauren",
         "Canada",
         "Athletics",
         "Canada",
         7,
         6,
         11,
         24
        ],
        [
         "GALE Tom",
         "Great Britain",
         "Athletics",
         "Great Britain",
         22,
         21,
         22,
         65
        ],
        [
         "GALIMANY Marta",
         "Spain",
         "Athletics",
         "Spain",
         3,
         8,
         6,
         17
        ],
        [
         "GALLEGO Sara",
         "Spain",
         "Athletics",
         "Spain",
         3,
         8,
         6,
         17
        ],
        [
         "GALVAN Matteo",
         "Italy",
         "Athletics",
         "Italy",
         10,
         10,
         20,
         40
        ],
        [
         "GALVIS Sandra Viviana",
         "Colombia",
         "Athletics",
         "Colombia",
         0,
         4,
         1,
         5
        ],
        [
         "GAMBETTA Sara",
         "Germany",
         "Athletics",
         "Germany",
         10,
         11,
         16,
         37
        ],
        [
         "GAO Yang",
         "People's Republic of China",
         "Athletics",
         "People's Republic of China",
         38,
         32,
         18,
         88
        ],
        [
         "GARCIA Diego",
         "Spain",
         "Athletics",
         "Spain",
         3,
         8,
         6,
         17
        ],
        [
         "GARCIA Jesus Angel",
         "Spain",
         "Athletics",
         "Spain",
         3,
         8,
         6,
         17
        ],
        [
         "GARCIA Samuel",
         "Spain",
         "Athletics",
         "Spain",
         3,
         8,
         6,
         17
        ],
        [
         "GARCIA-CARO Laura",
         "Spain",
         "Athletics",
         "Spain",
         3,
         8,
         6,
         17
        ],
        [
         "GARDINER Steven",
         "Bahamas",
         "Athletics",
         "Bahamas",
         2,
         0,
         0,
         2
        ],
        [
         "GARDNER English",
         "United States of America",
         "Athletics",
         "United States of America",
         39,
         41,
         33,
         113
        ],
        [
         "GARDZIELEWSKI Arkadiusz",
         "Poland",
         "Athletics",
         "Poland",
         4,
         5,
         5,
         14
        ],
        [
         "GARIA Christopher",
         "Netherlands",
         "Athletics",
         "Netherlands",
         10,
         12,
         14,
         36
        ],
        [
         "GASCH Loic",
         "Switzerland",
         "Athletics",
         "Switzerland",
         3,
         4,
         6,
         13
        ],
        [
         "GAY John",
         "Canada",
         "Athletics",
         "Canada",
         7,
         6,
         11,
         24
        ],
        [
         "GAYE Demish",
         "Jamaica",
         "Athletics",
         "Jamaica",
         4,
         1,
         4,
         9
        ],
        [
         "GAYLE Tajay",
         "Jamaica",
         "Athletics",
         "Jamaica",
         4,
         1,
         4,
         9
        ],
        [
         "GDULA Lukas",
         "Czech Republic",
         "Athletics",
         "Czech Republic",
         4,
         4,
         3,
         11
        ],
        [
         "GE Manqi",
         "People's Republic of China",
         "Athletics",
         "People's Republic of China",
         38,
         32,
         18,
         88
        ],
        [
         "GEBREEZIBEHER Freweyni",
         "Ethiopia",
         "Athletics",
         "Ethiopia",
         1,
         1,
         2,
         4
        ],
        [
         "GEBRESELAMA Tsigie",
         "Ethiopia",
         "Athletics",
         "Ethiopia",
         1,
         1,
         2,
         4
        ],
        [
         "GEBRHIWET Hagos",
         "Ethiopia",
         "Athletics",
         "Ethiopia",
         1,
         1,
         2,
         4
        ],
        [
         "GELANT Elroy",
         "South Africa",
         "Athletics",
         "South Africa",
         1,
         2,
         0,
         3
        ],
        [
         "GEMECHU Tsehay",
         "Ethiopia",
         "Athletics",
         "Ethiopia",
         1,
         1,
         2,
         4
        ],
        [
         "GEMILI Adam",
         "Great Britain",
         "Athletics",
         "Great Britain",
         22,
         21,
         22,
         65
        ],
        [
         "GERASHCHENKO Iryna",
         "Ukraine",
         "Athletics",
         "Ukraine",
         1,
         6,
         12,
         19
        ],
        [
         "GEZAHEGNE Kalkidan",
         "Bahrain",
         "Athletics",
         "Bahrain",
         0,
         1,
         0,
         1
        ],
        [
         "GHAZAL Majd Eddin",
         "Syrian Arab Republic",
         "Athletics",
         "Syrian Arab Republic",
         0,
         0,
         1,
         1
        ],
        [
         "GHEBREHIWET FANIEL Eyob",
         "Italy",
         "Athletics",
         "Italy",
         10,
         10,
         20,
         40
        ],
        [
         "GHELBER Bianca Florentina",
         "Romania",
         "Athletics",
         "Romania",
         1,
         3,
         0,
         4
        ],
        [
         "GIDEY Letesenbet",
         "Ethiopia",
         "Athletics",
         "Ethiopia",
         1,
         1,
         2,
         4
        ],
        [
         "GIERISCH Kristin",
         "Germany",
         "Athletics",
         "Germany",
         10,
         11,
         16,
         37
        ],
        [
         "GIGER Yasmin",
         "Switzerland",
         "Athletics",
         "Switzerland",
         3,
         4,
         6,
         13
        ],
        [
         "GILAVERT Louis",
         "France",
         "Athletics",
         "France",
         10,
         12,
         11,
         33
        ],
        [
         "GILES Elliot",
         "Great Britain",
         "Athletics",
         "Great Britain",
         22,
         21,
         22,
         65
        ],
        [
         "GILL Jacko",
         "New Zealand",
         "Athletics",
         "New Zealand",
         7,
         6,
         7,
         20
        ],
        [
         "GILLAROVA Irena",
         "Czech Republic",
         "Athletics",
         "Czech Republic",
         4,
         4,
         3,
         11
        ],
        [
         "GILLESPIE Cravon",
         "United States of America",
         "Athletics",
         "United States of America",
         39,
         41,
         33,
         113
        ],
        [
         "GIORGI Eleonora Anna",
         "Italy",
         "Athletics",
         "Italy",
         10,
         10,
         20,
         40
        ],
        [
         "GIRMA Lamecha",
         "Ethiopia",
         "Athletics",
         "Ethiopia",
         1,
         1,
         2,
         4
        ],
        [
         "GIRMA Tigist",
         "Ethiopia",
         "Athletics",
         "Ethiopia",
         1,
         1,
         2,
         4
        ],
        [
         "GIUPPONI Matteo",
         "Italy",
         "Athletics",
         "Italy",
         10,
         10,
         20,
         40
        ],
        [
         "GLEADLE Elizabeth",
         "Canada",
         "Athletics",
         "Canada",
         7,
         6,
         11,
         24
        ],
        [
         "GLEBAUSKAS Adrijus",
         "Lithuania",
         "Athletics",
         "Lithuania",
         0,
         1,
         0,
         1
        ],
        [
         "GLENNER-FRANDSEN Astrid",
         "Denmark",
         "Athletics",
         "Denmark",
         3,
         4,
         4,
         11
        ],
        [
         "GODBLESS Tima",
         "Nigeria",
         "Athletics",
         "Nigeria",
         0,
         1,
         1,
         2
        ],
        [
         "GODWIN Elija",
         "United States of America",
         "Athletics",
         "United States of America",
         39,
         41,
         33,
         113
        ],
        [
         "GOLA Marlena",
         "Poland",
         "Athletics",
         "Poland",
         4,
         5,
         5,
         14
        ],
        [
         "GOLITIN Amaury",
         "France",
         "Athletics",
         "France",
         10,
         12,
         11,
         33
        ],
        [
         "GOLODNA Olha",
         "Ukraine",
         "Athletics",
         "Ukraine",
         1,
         6,
         12,
         19
        ],
        [
         "GOMES de SOUZA MAZZO Lucas",
         "Brazil",
         "Athletics",
         "Brazil",
         7,
         6,
         8,
         21
        ],
        [
         "GOMEZ Jesus",
         "Spain",
         "Athletics",
         "Spain",
         3,
         8,
         6,
         17
        ],
        [
         "GOMEZ Marcela Cristina",
         "Argentina",
         "Athletics",
         "Argentina",
         0,
         1,
         2,
         3
        ],
        [
         "GOMEZ Roxana",
         "Cuba",
         "Athletics",
         "Cuba",
         7,
         3,
         5,
         15
        ],
        [
         "GONG Lijiao",
         "People's Republic of China",
         "Athletics",
         "People's Republic of China",
         38,
         32,
         18,
         88
        ],
        [
         "GONSKA Nadine",
         "Germany",
         "Athletics",
         "Germany",
         10,
         11,
         16,
         37
        ],
        [
         "GONZALEZ Alegna",
         "Mexico",
         "Athletics",
         "Mexico",
         0,
         0,
         4,
         4
        ],
        [
         "GONZALEZ Ivan Dario",
         "Colombia",
         "Athletics",
         "Colombia",
         0,
         4,
         1,
         5
        ],
        [
         "GONZALEZ Melissa",
         "Colombia",
         "Athletics",
         "Colombia",
         0,
         4,
         1,
         5
        ],
        [
         "GONZALEZ Raquel",
         "Spain",
         "Athletics",
         "Spain",
         3,
         8,
         6,
         17
        ],
        [
         "GORISSEN Mieke",
         "Belgium",
         "Athletics",
         "Belgium",
         3,
         1,
         3,
         7
        ],
        [
         "GOULE Natoya",
         "Jamaica",
         "Athletics",
         "Jamaica",
         4,
         1,
         4,
         9
        ],
        [
         "GRANZ Caterina",
         "Germany",
         "Athletics",
         "Germany",
         10,
         11,
         16,
         37
        ],
        [
         "GRAVERSGAARD Mette",
         "Denmark",
         "Athletics",
         "Denmark",
         3,
         4,
         4,
         11
        ],
        [
         "GREENE Cillin",
         "Ireland",
         "Athletics",
         "Ireland",
         2,
         0,
         2,
         4
        ],
        [
         "GREGSON Genevieve",
         "Australia",
         "Athletics",
         "Australia",
         17,
         7,
         22,
         46
        ],
        [
         "GRESSIER Jimmy",
         "France",
         "Athletics",
         "France",
         10,
         12,
         11,
         33
        ],
        [
         "GRIFFITH Georgia",
         "Australia",
         "Athletics",
         "Australia",
         17,
         7,
         22,
         46
        ],
        [
         "GRIMES Isaac",
         "United States of America",
         "Athletics",
         "United States of America",
         39,
         41,
         33,
         113
        ],
        [
         "GRIMM Vanessa",
         "Germany",
         "Athletics",
         "Germany",
         10,
         11,
         16,
         37
        ],
        [
         "GROVDAL Karoline Bjerkeli",
         "Norway",
         "Athletics",
         "Norway",
         4,
         2,
         2,
         8
        ],
        [
         "GRUVER Olivia",
         "United States of America",
         "Athletics",
         "United States of America",
         39,
         41,
         33,
         113
        ],
        [
         "GRZEGORZEWICZ Patryk",
         "Poland",
         "Athletics",
         "Poland",
         4,
         5,
         5,
         14
        ],
        [
         "GUBA Paulina",
         "Poland",
         "Athletics",
         "Poland",
         4,
         5,
         5,
         14
        ],
        [
         "GUDZIUS Andrius",
         "Lithuania",
         "Athletics",
         "Lithuania",
         0,
         1,
         0,
         1
        ],
        [
         "GUEI Floria",
         "France",
         "Athletics",
         "France",
         10,
         12,
         11,
         33
        ],
        [
         "GUERRA Javier",
         "Spain",
         "Athletics",
         "Spain",
         3,
         8,
         6,
         17
        ],
        [
         "GUERRERO Esther",
         "Spain",
         "Athletics",
         "Spain",
         3,
         8,
         6,
         17
        ],
        [
         "GUERRERO Ilse",
         "Mexico",
         "Athletics",
         "Mexico",
         0,
         0,
         4,
         4
        ],
        [
         "GULELAURI Lasha",
         "Georgia",
         "Athletics",
         "Georgia",
         2,
         5,
         1,
         8
        ],
        [
         "GULIYEV Ramil",
         "Turkey",
         "Athletics",
         "Turkey",
         2,
         2,
         9,
         13
        ],
        [
         "GUTTORMSEN Sondre",
         "Norway",
         "Athletics",
         "Norway",
         4,
         2,
         2,
         8
        ],
        [
         "GUZOWSKA Paulina",
         "Poland",
         "Athletics",
         "Poland",
         4,
         5,
         5,
         14
        ],
        [
         "GYURATZ Reka",
         "Hungary",
         "Athletics",
         "Hungary",
         6,
         7,
         7,
         20
        ],
        [
         "HABZ Azeddine",
         "France",
         "Athletics",
         "France",
         10,
         12,
         11,
         33
        ],
        [
         "HADADI Ehsan",
         "Islamic Republic of Iran",
         "Athletics",
         "Islamic Republic of Iran",
         3,
         2,
         2,
         7
        ],
        [
         "HAGITANI Kaede",
         "Japan",
         "Athletics",
         "Japan",
         27,
         14,
         17,
         58
        ],
        [
         "HAILU Lemlem",
         "Ethiopia",
         "Athletics",
         "Ethiopia",
         1,
         1,
         2,
         4
        ],
        [
         "HAJDARI Musa",
         "Kosovo",
         "Athletics",
         "Kosovo",
         2,
         0,
         0,
         2
        ],
        [
         "HALASZ Bence",
         "Hungary",
         "Athletics",
         "Hungary",
         6,
         7,
         7,
         20
        ],
        [
         "HALL Linden",
         "Australia",
         "Athletics",
         "Australia",
         17,
         7,
         22,
         46
        ],
        [
         "HAMZA Mohamed Magdi",
         "Egypt",
         "Athletics",
         "Egypt",
         1,
         1,
         4,
         6
        ],
        [
         "HANSEN Simon",
         "Denmark",
         "Athletics",
         "Denmark",
         3,
         4,
         4,
         11
        ],
        [
         "HARATYK Michal",
         "Poland",
         "Athletics",
         "Poland",
         4,
         5,
         5,
         14
        ],
        [
         "HARI Kristoffer",
         "Denmark",
         "Athletics",
         "Denmark",
         3,
         4,
         4,
         11
        ],
        [
         "HARRIS Isaiah",
         "United States of America",
         "Athletics",
         "United States of America",
         39,
         41,
         33,
         113
        ],
        [
         "HARRISON Juvaughn",
         "United States of America",
         "Athletics",
         "United States of America",
         39,
         41,
         33,
         113
        ],
        [
         "HARRISON Kendra",
         "United States of America",
         "Athletics",
         "United States of America",
         39,
         41,
         33,
         113
        ],
        [
         "HARTING Christoph",
         "Germany",
         "Athletics",
         "Germany",
         10,
         11,
         16,
         37
        ],
        [
         "HARTMANN Joshua",
         "Germany",
         "Athletics",
         "Germany",
         10,
         11,
         16,
         37
        ],
        [
         "HASHIOKA Yuki",
         "Japan",
         "Athletics",
         "Japan",
         27,
         14,
         17,
         58
        ],
        [
         "HASSAN Abdirahman Saeed",
         "Qatar",
         "Athletics",
         "Qatar",
         2,
         0,
         1,
         3
        ],
        [
         "HASSAN Mostafa Amr",
         "Egypt",
         "Athletics",
         "Egypt",
         1,
         1,
         4,
         6
        ],
        [
         "HASSAN Sifan",
         "Netherlands",
         "Athletics",
         "Netherlands",
         10,
         12,
         14,
         36
        ],
        [
         "HATTORI Yuma",
         "Japan",
         "Athletics",
         "Japan",
         27,
         14,
         17,
         58
        ],
        [
         "HAUGH Daniel",
         "United States of America",
         "Athletics",
         "United States of America",
         39,
         41,
         33,
         113
        ],
        [
         "HAUKENES Havard",
         "Norway",
         "Athletics",
         "Norway",
         4,
         2,
         2,
         8
        ],
        [
         "HAVRYLIUK Mykhailo",
         "Ukraine",
         "Athletics",
         "Ukraine",
         1,
         6,
         12,
         19
        ],
        [
         "HAWKINS Callum",
         "Great Britain",
         "Athletics",
         "Great Britain",
         22,
         21,
         22,
         65
        ],
        [
         "HAWTHORN Natalia",
         "Canada",
         "Athletics",
         "Canada",
         7,
         6,
         11,
         24
        ],
        [
         "HAY Hugo",
         "France",
         "Athletics",
         "France",
         10,
         12,
         11,
         33
        ],
        [
         "HAYES Quanera",
         "United States of America",
         "Athletics",
         "United States of America",
         39,
         41,
         33,
         113
        ],
        [
         "HAYWARD Katie",
         "Australia",
         "Athletics",
         "Australia",
         17,
         7,
         22,
         46
        ],
        [
         "HEALY Phil",
         "Ireland",
         "Athletics",
         "Ireland",
         2,
         0,
         2,
         4
        ],
        [
         "HEALY Sarah",
         "Ireland",
         "Athletics",
         "Ireland",
         2,
         0,
         2,
         4
        ],
        [
         "HECHAVARRIA Zurian",
         "Cuba",
         "Athletics",
         "Cuba",
         7,
         3,
         5,
         15
        ],
        [
         "HEINLE Fabian",
         "Germany",
         "Athletics",
         "Germany",
         10,
         11,
         16,
         37
        ],
        [
         "HEJNOVA Zuzana",
         "Czech Republic",
         "Athletics",
         "Czech Republic",
         4,
         4,
         3,
         11
        ],
        [
         "HELCELET Adam Sebastian",
         "Czech Republic",
         "Athletics",
         "Czech Republic",
         4,
         4,
         3,
         11
        ],
        [
         "HELEBRANDT Mate",
         "Hungary",
         "Athletics",
         "Hungary",
         6,
         7,
         7,
         20
        ],
        [
         "HEMIDA Bassant",
         "Egypt",
         "Athletics",
         "Egypt",
         1,
         1,
         4,
         6
        ],
        [
         "HENDERSON Rebecca",
         "Australia",
         "Athletics",
         "Australia",
         17,
         7,
         22,
         46
        ],
        [
         "HENDRIX Robin",
         "Belgium",
         "Athletics",
         "Belgium",
         3,
         1,
         3,
         7
        ],
        [
         "HENRIKSEN Eivind",
         "Norway",
         "Athletics",
         "Norway",
         4,
         2,
         2,
         8
        ],
        [
         "HERING Christina",
         "Germany",
         "Athletics",
         "Germany",
         10,
         11,
         16,
         37
        ],
        [
         "HERMAN Elvira",
         "Belarus",
         "Athletics",
         "Belarus",
         1,
         3,
         3,
         7
        ],
        [
         "HERRERA ABREU Johanelis",
         "Italy",
         "Athletics",
         "Italy",
         10,
         10,
         20,
         40
        ],
        [
         "HERZOG Peter",
         "Austria",
         "Athletics",
         "Austria",
         1,
         1,
         5,
         7
        ],
        [
         "HESS Max",
         "Germany",
         "Athletics",
         "Germany",
         10,
         11,
         16,
         37
        ],
        [
         "HESSELBJERG Ole",
         "Denmark",
         "Athletics",
         "Denmark",
         3,
         4,
         4,
         11
        ],
        [
         "HEYWARD Jake",
         "Great Britain",
         "Athletics",
         "Great Britain",
         22,
         21,
         22,
         65
        ],
        [
         "HICKLING Tissanna",
         "Jamaica",
         "Athletics",
         "Jamaica",
         4,
         1,
         4,
         9
        ],
        [
         "HICKS Malcolm",
         "New Zealand",
         "Athletics",
         "New Zealand",
         7,
         6,
         7,
         20
        ],
        [
         "HILBERT Jonathan",
         "Germany",
         "Athletics",
         "Germany",
         10,
         11,
         16,
         37
        ],
        [
         "HILL Darrell",
         "United States of America",
         "Athletics",
         "United States of America",
         39,
         41,
         33,
         113
        ],
        [
         "HIRONAKA Ririka",
         "Japan",
         "Athletics",
         "Japan",
         27,
         14,
         17,
         58
        ],
        [
         "HLADIYCHUK Yana",
         "Ukraine",
         "Athletics",
         "Ukraine",
         1,
         6,
         12,
         19
        ],
        [
         "HLAVAC Vit",
         "Czech Republic",
         "Athletics",
         "Czech Republic",
         4,
         4,
         3,
         11
        ],
        [
         "HOARE Oliver",
         "Australia",
         "Athletics",
         "Australia",
         17,
         7,
         22,
         46
        ],
        [
         "HOBBS Aleia",
         "United States of America",
         "Athletics",
         "United States of America",
         39,
         41,
         33,
         113
        ],
        [
         "HOCKER Cole",
         "United States of America",
         "Athletics",
         "United States of America",
         39,
         41,
         33,
         113
        ],
        [
         "HODEL Andrina",
         "Switzerland",
         "Athletics",
         "Switzerland",
         3,
         4,
         6,
         13
        ],
        [
         "HODGKINSON Keely",
         "Great Britain",
         "Athletics",
         "Great Britain",
         22,
         21,
         22,
         65
        ],
        [
         "HOFBAUER Trevor",
         "Canada",
         "Athletics",
         "Canada",
         7,
         6,
         11,
         24
        ],
        [
         "HOFFMANN Lore",
         "Switzerland",
         "Athletics",
         "Switzerland",
         3,
         4,
         6,
         13
        ],
        [
         "HOFMANN Andreas",
         "Germany",
         "Athletics",
         "Germany",
         10,
         11,
         16,
         37
        ],
        [
         "HOLLOWAY Grant",
         "United States of America",
         "Athletics",
         "United States of America",
         39,
         41,
         33,
         113
        ],
        [
         "HOLTERMAN Jill",
         "Netherlands",
         "Athletics",
         "Netherlands",
         10,
         12,
         14,
         36
        ],
        [
         "HOLUB-KOWALIK Malgorzata",
         "Poland",
         "Athletics",
         "Poland",
         4,
         5,
         5,
         14
        ],
        [
         "HOOPER Gloria",
         "Italy",
         "Athletics",
         "Italy",
         10,
         10,
         20,
         40
        ],
        [
         "HOPPEL Bryce",
         "United States of America",
         "Athletics",
         "United States of America",
         39,
         41,
         33,
         113
        ],
        [
         "HORODYSKYY Bohdan-Ivan",
         "Ukraine",
         "Athletics",
         "Ukraine",
         1,
         6,
         12,
         19
        ],
        [
         "HORVAT Anita",
         "Slovenia",
         "Athletics",
         "Slovenia",
         3,
         1,
         1,
         5
        ],
        [
         "HOUGH Nicholas",
         "Australia",
         "Athletics",
         "Australia",
         17,
         7,
         22,
         46
        ],
        [
         "HRASNOVA Martina",
         "Slovakia",
         "Athletics",
         "Slovakia",
         1,
         2,
         1,
         4
        ],
        [
         "HROCHOVA Tereza",
         "Czech Republic",
         "Athletics",
         "Czech Republic",
         4,
         4,
         3,
         11
        ],
        [
         "HSIEH Hsi-En",
         "Chinese Taipei",
         "Athletics",
         "Chinese Taipei",
         2,
         4,
         6,
         12
        ],
        [
         "HUANG Bokai",
         "People's Republic of China",
         "Athletics",
         "People's Republic of China",
         38,
         32,
         18,
         88
        ],
        [
         "HUANG Changzhou",
         "People's Republic of China",
         "Athletics",
         "People's Republic of China",
         38,
         32,
         18,
         88
        ],
        [
         "HUANG Guifen",
         "People's Republic of China",
         "Athletics",
         "People's Republic of China",
         38,
         32,
         18,
         88
        ],
        [
         "HUANG Shih-Feng",
         "Chinese Taipei",
         "Athletics",
         "Chinese Taipei",
         2,
         4,
         6,
         12
        ],
        [
         "HUBBARD Kendra",
         "Australia",
         "Athletics",
         "Australia",
         17,
         7,
         22,
         46
        ],
        [
         "HUDSON Victoria",
         "Austria",
         "Athletics",
         "Austria",
         1,
         1,
         5,
         7
        ],
        [
         "HUDSON-SMITH Matthew",
         "Great Britain",
         "Athletics",
         "Great Britain",
         22,
         21,
         22,
         65
        ],
        [
         "HUGHES Matthew",
         "Canada",
         "Athletics",
         "Canada",
         7,
         6,
         11,
         24
        ],
        [
         "HUGHES Zharnel",
         "Great Britain",
         "Athletics",
         "Great Britain",
         22,
         21,
         22,
         65
        ],
        [
         "HULL Jessica",
         "Australia",
         "Athletics",
         "Australia",
         17,
         7,
         22,
         46
        ],
        [
         "HUNTER Charlie",
         "Australia",
         "Athletics",
         "Australia",
         17,
         7,
         22,
         46
        ],
        [
         "HUNTINGTON Maria",
         "Finland",
         "Athletics",
         "Finland",
         0,
         0,
         2,
         2
        ],
        [
         "HURSKE Reetta",
         "Finland",
         "Athletics",
         "Finland",
         0,
         0,
         2,
         2
        ],
        [
         "HURTADO David",
         "Ecuador",
         "Athletics",
         "Ecuador",
         2,
         1,
         0,
         3
        ],
        [
         "HUSILLOS Oscar",
         "Spain",
         "Athletics",
         "Spain",
         3,
         8,
         6,
         17
        ],
        [
         "HUSSEIN Kariem",
         "Switzerland",
         "Athletics",
         "Switzerland",
         3,
         4,
         6,
         13
        ],
        [
         "HUSSONG Christin",
         "Germany",
         "Athletics",
         "Germany",
         10,
         11,
         16,
         37
        ],
        [
         "HYNNE Hedda",
         "Norway",
         "Athletics",
         "Norway",
         4,
         2,
         2,
         8
        ],
        [
         "IBARGUEN Caterine",
         "Colombia",
         "Athletics",
         "Colombia",
         0,
         4,
         1,
         5
        ],
        [
         "ICHIYAMA Mao",
         "Japan",
         "Athletics",
         "Japan",
         27,
         14,
         17,
         58
        ],
        [
         "IGAUNE Laura",
         "Latvia",
         "Athletics",
         "Latvia",
         1,
         0,
         1,
         2
        ],
        [
         "IHEMEJE Emanuel",
         "Italy",
         "Athletics",
         "Italy",
         10,
         10,
         20,
         40
        ],
        [
         "IIZUKA Shota",
         "Japan",
         "Athletics",
         "Japan",
         27,
         14,
         17,
         58
        ],
        [
         "IKEDA Koki",
         "Japan",
         "Athletics",
         "Japan",
         27,
         14,
         17,
         58
        ],
        [
         "IKI Aiko",
         "Japan",
         "Athletics",
         "Japan",
         27,
         14,
         17,
         58
        ],
        [
         "IMUK Abdulselam",
         "Turkey",
         "Athletics",
         "Turkey",
         2,
         2,
         9,
         13
        ],
        [
         "INCE Ariana",
         "United States of America",
         "Athletics",
         "United States of America",
         39,
         41,
         33,
         113
        ],
        [
         "INFANTINO Antonio",
         "Italy",
         "Athletics",
         "Italy",
         10,
         10,
         20,
         40
        ],
        [
         "INGEBRIGTSEN Filip",
         "Norway",
         "Athletics",
         "Norway",
         4,
         2,
         2,
         8
        ],
        [
         "INGEBRIGTSEN Jakob",
         "Norway",
         "Athletics",
         "Norway",
         4,
         2,
         2,
         8
        ],
        [
         "INSAENG Subenrat",
         "Thailand",
         "Athletics",
         "Thailand",
         1,
         0,
         1,
         2
        ],
        [
         "IRBY Lynna",
         "United States of America",
         "Athletics",
         "United States of America",
         39,
         41,
         33,
         113
        ],
        [
         "ISCAYE Diana",
         "France",
         "Athletics",
         "France",
         10,
         12,
         11,
         33
        ],
        [
         "ISHIKAWA Yu",
         "Japan",
         "Athletics",
         "Japan",
         27,
         14,
         17,
         58
        ],
        [
         "ITO Rikuya",
         "Japan",
         "Athletics",
         "Japan",
         27,
         14,
         17,
         58
        ],
        [
         "ITO Tatsuhiko",
         "Japan",
         "Athletics",
         "Japan",
         27,
         14,
         17,
         58
        ],
        [
         "ITSEKIRI Usheoritse",
         "Nigeria",
         "Athletics",
         "Nigeria",
         0,
         1,
         1,
         2
        ],
        [
         "IUEL Amalie",
         "Norway",
         "Athletics",
         "Norway",
         4,
         2,
         2,
         8
        ],
        [
         "IUSCO Florentina Costina",
         "Romania",
         "Athletics",
         "Romania",
         1,
         3,
         0,
         4
        ],
        [
         "IVANOV Tihomir",
         "Bulgaria",
         "Athletics",
         "Bulgaria",
         3,
         1,
         2,
         6
        ],
        [
         "IVANYUK Ilya",
         "ROC",
         "Athletics",
         "ROC",
         20,
         28,
         23,
         71
        ],
        [
         "IZUMIYA Shunsuke",
         "Japan",
         "Athletics",
         "Japan",
         27,
         14,
         17,
         58
        ],
        [
         "JACKSON Shericka",
         "Jamaica",
         "Athletics",
         "Jamaica",
         4,
         1,
         4,
         9
        ],
        [
         "JACOB Amoj",
         "India",
         "Athletics",
         "India",
         1,
         2,
         4,
         7
        ],
        [
         "JACOBS Lamont Marcell",
         "Italy",
         "Athletics",
         "Italy",
         10,
         10,
         20,
         40
        ],
        [
         "JAGERS III Reggie",
         "United States of America",
         "Athletics",
         "United States of America",
         39,
         41,
         33,
         113
        ],
        [
         "JAINAGA Odei",
         "Spain",
         "Athletics",
         "Spain",
         3,
         8,
         6,
         17
        ],
        [
         "JAMAL Aminat",
         "Bahrain",
         "Athletics",
         "Bahrain",
         0,
         1,
         0,
         1
        ],
        [
         "JAMES Kirani",
         "Grenada",
         "Athletics",
         "Grenada",
         0,
         0,
         1,
         1
        ],
        [
         "JAMES Tiffany",
         "Jamaica",
         "Athletics",
         "Jamaica",
         4,
         1,
         4,
         9
        ],
        [
         "JANEZIC Luka",
         "Slovenia",
         "Athletics",
         "Slovenia",
         3,
         1,
         1,
         5
        ],
        [
         "JARAMILLO Karla",
         "Ecuador",
         "Athletics",
         "Ecuador",
         2,
         1,
         0,
         3
        ],
        [
         "JASINSKI Daniel",
         "Germany",
         "Athletics",
         "Germany",
         10,
         11,
         16,
         37
        ],
        [
         "JASIUNAITE Liveta",
         "Lithuania",
         "Athletics",
         "Lithuania",
         0,
         1,
         0,
         1
        ],
        [
         "JAT Bhawna",
         "India",
         "Athletics",
         "India",
         1,
         2,
         4,
         7
        ],
        [
         "JEBITOK Edinah",
         "Kenya",
         "Athletics",
         "Kenya",
         4,
         4,
         2,
         10
        ],
        [
         "JENKINS Tovea",
         "Jamaica",
         "Athletics",
         "Jamaica",
         4,
         1,
         4,
         9
        ],
        [
         "JEPCHIRCHIR Peres",
         "Kenya",
         "Athletics",
         "Kenya",
         4,
         4,
         2,
         10
        ],
        [
         "JEPTOOO Susan",
         "France",
         "Athletics",
         "France",
         10,
         12,
         11,
         33
        ],
        [
         "JEWETT Isaiah",
         "United States of America",
         "Athletics",
         "United States of America",
         39,
         41,
         33,
         113
        ],
        [
         "JIMENEZ Andrea",
         "Spain",
         "Athletics",
         "Spain",
         3,
         8,
         6,
         17
        ],
        [
         "JIMENEZ ARROBO Jordy Rafael",
         "Ecuador",
         "Athletics",
         "Ecuador",
         2,
         1,
         0,
         3
        ],
        [
         "JIN Minsub",
         "Republic of Korea",
         "Athletics",
         "Republic of Korea",
         6,
         4,
         10,
         20
        ],
        [
         "JIRKA Jan",
         "Czech Republic",
         "Athletics",
         "Czech Republic",
         4,
         4,
         3,
         11
        ],
        [
         "JOBODWANA Anaso",
         "South Africa",
         "Athletics",
         "South Africa",
         1,
         2,
         0,
         3
        ],
        [
         "JOGLOVA Marcela",
         "Czech Republic",
         "Athletics",
         "Czech Republic",
         4,
         4,
         3,
         11
        ],
        [
         "JOHANNES Helalia",
         "Namibia",
         "Athletics",
         "Namibia",
         0,
         1,
         0,
         1
        ],
        [
         "JOHANSSON Vidar",
         "Sweden",
         "Athletics",
         "Sweden",
         3,
         6,
         0,
         9
        ],
        [
         "JOHNSON Cheswill",
         "South Africa",
         "Athletics",
         "South Africa",
         1,
         2,
         0,
         3
        ],
        [
         "JOHNSON-THOMPSON Katarina",
         "Great Britain",
         "Athletics",
         "Great Britain",
         22,
         21,
         22,
         65
        ],
        [
         "JORDIER Thomas",
         "France",
         "Athletics",
         "France",
         10,
         12,
         11,
         33
        ],
        [
         "JOSE TIMA Ana Lucia",
         "Dominican Republic",
         "Athletics",
         "Dominican Republic",
         0,
         3,
         2,
         5
        ],
        [
         "JOSEPH Gemima",
         "France",
         "Athletics",
         "France",
         10,
         12,
         11,
         33
        ],
        [
         "JOSEPH Jason",
         "Switzerland",
         "Athletics",
         "Switzerland",
         3,
         4,
         6,
         13
        ],
        [
         "JOZWIK Joanna",
         "Poland",
         "Athletics",
         "Poland",
         4,
         5,
         5,
         14
        ],
        [
         "JUDD Jessica",
         "Great Britain",
         "Athletics",
         "Great Britain",
         22,
         21,
         22,
         65
        ],
        [
         "JUNGFLEISCH Marie-Laurence",
         "Germany",
         "Athletics",
         "Germany",
         10,
         11,
         16,
         37
        ],
        [
         "JUNGHANNSS Karl",
         "Germany",
         "Athletics",
         "Germany",
         10,
         11,
         16,
         37
        ],
        [
         "JUNIOR Aldemir",
         "Brazil",
         "Athletics",
         "Brazil",
         7,
         6,
         8,
         21
        ],
        [
         "JUNKER Torben",
         "Germany",
         "Athletics",
         "Germany",
         10,
         11,
         16,
         37
        ],
        [
         "JUNNILA Ella",
         "Finland",
         "Athletics",
         "Finland",
         0,
         0,
         2,
         2
        ],
        [
         "KAAZOUZI Brahim",
         "Morocco",
         "Athletics",
         "Morocco",
         1,
         0,
         0,
         1
        ],
        [
         "KACHUR Yana",
         "Ukraine",
         "Athletics",
         "Ukraine",
         1,
         6,
         12,
         19
        ],
        [
         "KACSER Zita",
         "Hungary",
         "Athletics",
         "Hungary",
         6,
         7,
         7,
         20
        ],
        [
         "KACZMAREK Natalia",
         "Poland",
         "Athletics",
         "Poland",
         4,
         5,
         5,
         14
        ],
        [
         "KADDARI Dalia",
         "Italy",
         "Athletics",
         "Italy",
         10,
         10,
         20,
         40
        ],
        [
         "KALII Hellen Syombua",
         "Kenya",
         "Athletics",
         "Kenya",
         4,
         4,
         2,
         10
        ],
        [
         "KAMANGA-DYRBAK Tazana Mikkel",
         "Denmark",
         "Athletics",
         "Denmark",
         3,
         4,
         4,
         11
        ],
        [
         "KAMBUNDJI Ditaji",
         "Switzerland",
         "Athletics",
         "Switzerland",
         3,
         4,
         6,
         13
        ],
        [
         "KAMBUNDJI Mujinga",
         "Switzerland",
         "Athletics",
         "Switzerland",
         3,
         4,
         6,
         13
        ],
        [
         "KAMWOROR Geoffrey",
         "Kenya",
         "Athletics",
         "Kenya",
         4,
         4,
         2,
         10
        ],
        [
         "KANAI Taio",
         "Japan",
         "Athletics",
         "Japan",
         27,
         14,
         17,
         58
        ],
        [
         "KARALIS Emmanouil",
         "Greece",
         "Athletics",
         "Greece",
         2,
         1,
         1,
         4
        ],
        [
         "KARDASZ Klaudia",
         "Poland",
         "Athletics",
         "Poland",
         4,
         5,
         5,
         14
        ],
        [
         "KARLSTROM Perseus",
         "Sweden",
         "Athletics",
         "Sweden",
         3,
         6,
         0,
         9
        ],
        [
         "KASSANAVOID Janee'",
         "United States of America",
         "Athletics",
         "United States of America",
         39,
         41,
         33,
         113
        ],
        [
         "KATERINKA CZAKOVA Maria",
         "Slovakia",
         "Athletics",
         "Slovakia",
         1,
         2,
         1,
         4
        ],
        [
         "KATIR Mohamed",
         "Spain",
         "Athletics",
         "Spain",
         3,
         8,
         6,
         17
        ],
        [
         "KATKAVETS Aliaksei",
         "Belarus",
         "Athletics",
         "Belarus",
         1,
         3,
         3,
         7
        ],
        [
         "KATSUKI Hayato",
         "Japan",
         "Athletics",
         "Japan",
         27,
         14,
         17,
         58
        ],
        [
         "KAUL Niklas",
         "Germany",
         "Athletics",
         "Germany",
         10,
         11,
         16,
         37
        ],
        [
         "KAUR Kamalpreet",
         "India",
         "Athletics",
         "India",
         1,
         2,
         4,
         7
        ],
        [
         "KAWABATA Kaito",
         "Japan",
         "Athletics",
         "Japan",
         27,
         14,
         17,
         58
        ],
        [
         "KAWANO Masatora",
         "Japan",
         "Athletics",
         "Japan",
         27,
         14,
         17,
         58
        ],
        [
         "KAZMIREK Kai",
         "Germany",
         "Athletics",
         "Germany",
         10,
         11,
         16,
         37
        ],
        [
         "KEJELCHA Yomif",
         "Ethiopia",
         "Athletics",
         "Ethiopia",
         1,
         1,
         2,
         4
        ],
        [
         "KEJETA Melat Yisak",
         "Germany",
         "Athletics",
         "Germany",
         10,
         11,
         16,
         37
        ],
        [
         "KELLY Madeleine",
         "Canada",
         "Athletics",
         "Canada",
         7,
         6,
         11,
         24
        ],
        [
         "KELLY Mariah",
         "Canada",
         "Athletics",
         "Canada",
         7,
         6,
         11,
         24
        ],
        [
         "KEMPPINEN Lotta",
         "Finland",
         "Athletics",
         "Finland",
         0,
         0,
         2,
         2
        ],
        [
         "KENDRICKS Sam",
         "United States of America",
         "Athletics",
         "United States of America",
         39,
         41,
         33,
         113
        ],
        [
         "KENDZIERA David",
         "United States of America",
         "Athletics",
         "United States of America",
         39,
         41,
         33,
         113
        ],
        [
         "KENESHBEKOV Nursultan",
         "Kyrgyzstan",
         "Athletics",
         "Kyrgyzstan",
         0,
         2,
         1,
         3
        ],
        [
         "KENNEDY Nina",
         "Australia",
         "Athletics",
         "Australia",
         17,
         7,
         22,
         46
        ],
        [
         "KENNY David",
         "Ireland",
         "Athletics",
         "Ireland",
         2,
         0,
         2,
         4
        ],
        [
         "KERLEY Fred",
         "United States of America",
         "Athletics",
         "United States of America",
         39,
         41,
         33,
         113
        ],
        [
         "KERR Hamish",
         "New Zealand",
         "Athletics",
         "New Zealand",
         7,
         6,
         7,
         20
        ],
        [
         "KERR Josh",
         "Great Britain",
         "Athletics",
         "Great Britain",
         22,
         21,
         22,
         65
        ],
        [
         "KERSTEN Dieter",
         "Belgium",
         "Athletics",
         "Belgium",
         3,
         1,
         3,
         7
        ],
        [
         "KETEMA Lemawork",
         "Austria",
         "Athletics",
         "Austria",
         1,
         1,
         5,
         7
        ],
        [
         "KETEMA Tigist",
         "Ethiopia",
         "Athletics",
         "Ethiopia",
         1,
         1,
         2,
         4
        ],
        [
         "KETER Benard",
         "United States of America",
         "Athletics",
         "United States of America",
         39,
         41,
         33,
         113
        ],
        [
         "KHALADOVICH Tatsiana",
         "Belarus",
         "Athletics",
         "Belarus",
         1,
         3,
         3,
         7
        ],
        [
         "KHASANOVA Elvira",
         "ROC",
         "Athletics",
         "ROC",
         20,
         28,
         23,
         71
        ],
        [
         "KHILMANOVICH Aliaksandra",
         "Belarus",
         "Athletics",
         "Belarus",
         1,
         3,
         3,
         7
        ],
        [
         "KHODJAEV Sukhrob",
         "Uzbekistan",
         "Athletics",
         "Uzbekistan",
         3,
         0,
         2,
         5
        ],
        [
         "KHORAVA Bachana",
         "Georgia",
         "Athletics",
         "Georgia",
         2,
         5,
         1,
         8
        ],
        [
         "KHUDOYAROVA Roksana",
         "Uzbekistan",
         "Athletics",
         "Uzbekistan",
         3,
         0,
         2,
         5
        ],
        [
         "KIBIWOT Abraham",
         "Kenya",
         "Athletics",
         "Kenya",
         4,
         4,
         2,
         10
        ],
        [
         "KIELBASINSKA Anna",
         "Poland",
         "Athletics",
         "Poland",
         4,
         5,
         5,
         14
        ],
        [
         "KIGEN Benjamin",
         "Kenya",
         "Athletics",
         "Kenya",
         4,
         4,
         2,
         10
        ],
        [
         "KILTY Richard",
         "Great Britain",
         "Athletics",
         "Great Britain",
         22,
         21,
         22,
         65
        ],
        [
         "KIMELI Nicholas Kipkorir",
         "Kenya",
         "Athletics",
         "Kenya",
         4,
         4,
         2,
         10
        ],
        [
         "KIMURA Ayako",
         "Japan",
         "Athletics",
         "Japan",
         27,
         14,
         17,
         58
        ],
        [
         "KIMURA Tomoka",
         "Japan",
         "Athletics",
         "Japan",
         27,
         14,
         17,
         58
        ],
        [
         "KINCAID William",
         "United States of America",
         "Athletics",
         "United States of America",
         39,
         41,
         33,
         113
        ],
        [
         "KING David",
         "Great Britain",
         "Athletics",
         "Great Britain",
         22,
         21,
         22,
         65
        ],
        [
         "KING Sarah",
         "Switzerland",
         "Athletics",
         "Switzerland",
         3,
         4,
         6,
         13
        ],
        [
         "KINNUNEN Jarkko",
         "Finland",
         "Athletics",
         "Finland",
         0,
         0,
         2,
         2
        ],
        [
         "KINSEY Erika",
         "Sweden",
         "Athletics",
         "Sweden",
         3,
         6,
         0,
         9
        ],
        [
         "KIPCHOGE Eliud",
         "Kenya",
         "Athletics",
         "Kenya",
         4,
         4,
         2,
         10
        ],
        [
         "KIPLIMO Jacob",
         "Uganda",
         "Athletics",
         "Uganda",
         2,
         1,
         1,
         4
        ],
        [
         "KIPROTICH Stephen",
         "Uganda",
         "Athletics",
         "Uganda",
         2,
         1,
         1,
         4
        ],
        [
         "KIPRUTO Amos",
         "Kenya",
         "Athletics",
         "Kenya",
         4,
         4,
         2,
         10
        ],
        [
         "KIPSANG Abel",
         "Kenya",
         "Athletics",
         "Kenya",
         4,
         4,
         2,
         10
        ],
        [
         "KIPYEGO Sally",
         "United States of America",
         "Athletics",
         "United States of America",
         39,
         41,
         33,
         113
        ],
        [
         "KIPYEGON Faith",
         "Kenya",
         "Athletics",
         "Kenya",
         4,
         4,
         2,
         10
        ],
        [
         "KIRUI Purity",
         "Kenya",
         "Athletics",
         "Kenya",
         4,
         4,
         2,
         10
        ],
        [
         "KIRYU Yoshihide",
         "Japan",
         "Athletics",
         "Japan",
         27,
         14,
         17,
         58
        ],
        [
         "KISSA Stephen",
         "Uganda",
         "Athletics",
         "Uganda",
         2,
         1,
         1,
         4
        ],
        [
         "KITAGUCHI Haruka",
         "Japan",
         "Athletics",
         "Japan",
         27,
         14,
         17,
         58
        ],
        [
         "KIYENG Hyvin",
         "Kenya",
         "Athletics",
         "Kenya",
         4,
         4,
         2,
         10
        ],
        [
         "KJAER Emil",
         "Denmark",
         "Athletics",
         "Denmark",
         3,
         4,
         4,
         11
        ],
        [
         "KLAVER Lieke",
         "Netherlands",
         "Athletics",
         "Netherlands",
         10,
         12,
         14,
         36
        ],
        [
         "KLECKER Joe",
         "United States of America",
         "Athletics",
         "United States of America",
         39,
         41,
         33,
         113
        ],
        [
         "KLEIN Hanna",
         "Germany",
         "Athletics",
         "Germany",
         10,
         11,
         16,
         37
        ],
        [
         "KLISHINA Darya",
         "ROC",
         "Athletics",
         "ROC",
         20,
         28,
         23,
         71
        ],
        [
         "KLOSTER Line",
         "Norway",
         "Athletics",
         "Norway",
         4,
         2,
         2,
         8
        ],
        [
         "KLOSTERHALFEN Konstanze",
         "Germany",
         "Athletics",
         "Germany",
         10,
         11,
         16,
         37
        ],
        [
         "KLYMETS Iryna",
         "Ukraine",
         "Athletics",
         "Ukraine",
         1,
         6,
         12,
         19
        ],
        [
         "KNIGHT Jessie",
         "Great Britain",
         "Athletics",
         "Great Britain",
         22,
         21,
         22,
         65
        ],
        [
         "KNIGHT Justyn",
         "Canada",
         "Athletics",
         "Canada",
         7,
         6,
         11,
         24
        ],
        [
         "KNIGHTON Erriyon",
         "United States of America",
         "Athletics",
         "United States of America",
         39,
         41,
         33,
         113
        ],
        [
         "KNOTT Kristina Marie",
         "Philippines",
         "Athletics",
         "Philippines",
         1,
         2,
         1,
         4
        ],
        [
         "KOALA Marthe",
         "Burkina Faso",
         "Athletics",
         "Burkina Faso",
         0,
         0,
         1,
         1
        ],
        [
         "KOBAYASHI Kai",
         "Japan",
         "Athletics",
         "Japan",
         27,
         14,
         17,
         58
        ],
        [
         "KOCH Marc",
         "Germany",
         "Athletics",
         "Germany",
         10,
         11,
         16,
         37
        ],
        [
         "KODAMA Mei",
         "Japan",
         "Athletics",
         "Japan",
         27,
         14,
         17,
         58
        ],
        [
         "KOECH John",
         "Bahrain",
         "Athletics",
         "Bahrain",
         0,
         1,
         0,
         1
        ],
        [
         "KOGA Yuta",
         "Japan",
         "Athletics",
         "Japan",
         27,
         14,
         17,
         58
        ],
        [
         "KOIKE Yuki",
         "Japan",
         "Athletics",
         "Japan",
         27,
         14,
         17,
         58
        ],
        [
         "KOKHAN Mykhaylo",
         "Ukraine",
         "Athletics",
         "Ukraine",
         1,
         6,
         12,
         19
        ],
        [
         "KOLAK Sara",
         "Croatia",
         "Athletics",
         "Croatia",
         3,
         3,
         2,
         8
        ],
        [
         "KOLASINAC Asmir",
         "Serbia",
         "Athletics",
         "Serbia",
         3,
         1,
         5,
         9
        ],
        [
         "KOLOTHUM THODI Irfan",
         "India",
         "Athletics",
         "India",
         1,
         2,
         4,
         7
        ],
        [
         "KOMINAMI Takuto",
         "Japan",
         "Athletics",
         "Japan",
         27,
         14,
         17,
         58
        ],
        [
         "KONIECZEK Alicja",
         "Poland",
         "Athletics",
         "Poland",
         4,
         5,
         5,
         14
        ],
        [
         "KONIECZEK Aneta",
         "Poland",
         "Athletics",
         "Poland",
         4,
         5,
         5,
         14
        ],
        [
         "KOPP Leo",
         "Germany",
         "Athletics",
         "Germany",
         10,
         11,
         16,
         37
        ],
        [
         "KOPPELAAR Rutger",
         "Netherlands",
         "Athletics",
         "Netherlands",
         10,
         12,
         14,
         36
        ],
        [
         "KOPRON Malwina",
         "Poland",
         "Athletics",
         "Poland",
         4,
         5,
         5,
         14
        ],
        [
         "KORA Salome",
         "Switzerland",
         "Athletics",
         "Switzerland",
         3,
         4,
         6,
         13
        ],
        [
         "KORIR Leonard",
         "United States of America",
         "Athletics",
         "United States of America",
         39,
         41,
         33,
         113
        ],
        [
         "KORKMAZ Salih",
         "Turkey",
         "Athletics",
         "Turkey",
         2,
         2,
         9,
         13
        ],
        [
         "KOROKNAI Mate",
         "Hungary",
         "Athletics",
         "Hungary",
         6,
         7,
         7,
         20
        ],
        [
         "KORTE Annimari",
         "Finland",
         "Athletics",
         "Finland",
         0,
         0,
         2,
         2
        ],
        [
         "KOSGEI Brigid",
         "Kenya",
         "Athletics",
         "Kenya",
         4,
         4,
         2,
         10
        ],
        [
         "KOSONEN Silja",
         "Finland",
         "Athletics",
         "Finland",
         0,
         0,
         2,
         2
        ],
        [
         "KOUNTA Muhammad",
         "France",
         "Athletics",
         "France",
         10,
         12,
         11,
         33
        ],
        [
         "KOVACS Barbara",
         "Hungary",
         "Athletics",
         "Hungary",
         6,
         7,
         7,
         20
        ],
        [
         "KOVACS Joe",
         "United States of America",
         "Athletics",
         "United States of America",
         39,
         41,
         33,
         113
        ],
        [
         "KOVALENKO Nazar",
         "Ukraine",
         "Athletics",
         "Ukraine",
         1,
         6,
         12,
         19
        ],
        [
         "KOWALUK Dariusz",
         "Poland",
         "Athletics",
         "Poland",
         4,
         5,
         5,
         14
        ],
        [
         "KOZAK Luca",
         "Hungary",
         "Athletics",
         "Hungary",
         6,
         7,
         7,
         20
        ],
        [
         "KRAFZIK Carolina",
         "Germany",
         "Athletics",
         "Germany",
         10,
         11,
         16,
         37
        ],
        [
         "KRAMER Andreas",
         "Sweden",
         "Athletics",
         "Sweden",
         3,
         6,
         0,
         9
        ],
        [
         "KRAMER Mathilde U.",
         "Denmark",
         "Athletics",
         "Denmark",
         3,
         4,
         4,
         11
        ],
        [
         "KRAUSE Gesa Felicitas",
         "Germany",
         "Athletics",
         "Germany",
         10,
         11,
         16,
         37
        ],
        [
         "KRIZSAN Xenia",
         "Hungary",
         "Athletics",
         "Hungary",
         6,
         7,
         7,
         20
        ],
        [
         "KRSEK Matej",
         "Czech Republic",
         "Athletics",
         "Czech Republic",
         4,
         4,
         3,
         11
        ],
        [
         "KRUKOWSKI Marcin",
         "Poland",
         "Athletics",
         "Poland",
         4,
         5,
         5,
         14
        ],
        [
         "KRUMINS Susan",
         "Netherlands",
         "Athletics",
         "Netherlands",
         10,
         12,
         14,
         36
        ],
        [
         "KRZEWINA Jakub",
         "Poland",
         "Athletics",
         "Poland",
         4,
         5,
         5,
         14
        ],
        [
         "KUMAR Sandeep",
         "India",
         "Athletics",
         "India",
         1,
         2,
         4,
         7
        ],
        [
         "KUNZ Annie",
         "United States of America",
         "Athletics",
         "United States of America",
         39,
         41,
         33,
         113
        ],
        [
         "KURBANOV Ruslan",
         "Uzbekistan",
         "Athletics",
         "Uzbekistan",
         3,
         0,
         2,
         5
        ],
        [
         "KUROKAWA Kazuki",
         "Japan",
         "Athletics",
         "Japan",
         27,
         14,
         17,
         58
        ],
        [
         "KUUSELA Toni",
         "Finland",
         "Athletics",
         "Finland",
         0,
         0,
         2,
         2
        ],
        [
         "KWAYIE Lisa Marie",
         "Germany",
         "Athletics",
         "Germany",
         10,
         11,
         16,
         37
        ],
        [
         "KYLYPKO Maryna",
         "Ukraine",
         "Athletics",
         "Ukraine",
         1,
         6,
         12,
         19
        ],
        [
         "KYRIAKOPOULOU Nikoleta",
         "Greece",
         "Athletics",
         "Greece",
         2,
         1,
         1,
         4
        ],
        [
         "LACOSTE Sokhna",
         "France",
         "Athletics",
         "France",
         10,
         12,
         11,
         33
        ],
        [
         "LAHTI Sarah",
         "Sweden",
         "Athletics",
         "Sweden",
         3,
         6,
         0,
         9
        ],
        [
         "LAKE Morgan",
         "Great Britain",
         "Athletics",
         "Great Britain",
         22,
         21,
         22,
         65
        ],
        [
         "LALONDE Genevieve",
         "Canada",
         "Athletics",
         "Canada",
         7,
         6,
         11,
         24
        ],
        [
         "LALOVA-COLLIO Ivet",
         "Bulgaria",
         "Athletics",
         "Bulgaria",
         3,
         1,
         2,
         6
        ],
        [
         "LAMDASSEM Ayad",
         "Spain",
         "Athletics",
         "Spain",
         3,
         8,
         6,
         17
        ],
        [
         "LAMOTE Renelle",
         "France",
         "Athletics",
         "France",
         10,
         12,
         11,
         33
        ],
        [
         "LAMPELA Elina",
         "Finland",
         "Athletics",
         "Finland",
         0,
         0,
         2,
         2
        ],
        [
         "LANDAZURI Marizol",
         "Ecuador",
         "Athletics",
         "Ecuador",
         2,
         1,
         0,
         3
        ],
        [
         "LANG Salome",
         "Switzerland",
         "Athletics",
         "Switzerland",
         3,
         4,
         6,
         13
        ],
        [
         "LANGAT Weldon",
         "Kenya",
         "Athletics",
         "Kenya",
         4,
         4,
         2,
         10
        ],
        [
         "LANGE Tobias",
         "Germany",
         "Athletics",
         "Germany",
         10,
         11,
         16,
         37
        ],
        [
         "LANSIQUOT Imani",
         "Great Britain",
         "Athletics",
         "Great Britain",
         22,
         21,
         22,
         65
        ],
        [
         "LASITSKENE Mariya",
         "ROC",
         "Athletics",
         "ROC",
         20,
         28,
         23,
         71
        ],
        [
         "LAUS Camille",
         "Belgium",
         "Athletics",
         "Belgium",
         3,
         1,
         3,
         7
        ],
        [
         "LAVILLENIE Renaud",
         "France",
         "Athletics",
         "France",
         10,
         12,
         11,
         33
        ],
        [
         "LAVILLENIE Valentin",
         "France",
         "Athletics",
         "France",
         10,
         12,
         11,
         33
        ],
        [
         "LAVIN Sarah",
         "Ireland",
         "Athletics",
         "Ireland",
         2,
         0,
         2,
         4
        ],
        [
         "LAWLER Marcus",
         "Ireland",
         "Athletics",
         "Ireland",
         2,
         0,
         2,
         4
        ],
        [
         "LAWRENCE Shadae",
         "Jamaica",
         "Athletics",
         "Jamaica",
         4,
         1,
         4,
         9
        ],
        [
         "LEDGISTER Leonardo",
         "Jamaica",
         "Athletics",
         "Jamaica",
         4,
         1,
         4,
         9
        ],
        [
         "LEDUC Cynthia",
         "France",
         "Athletics",
         "France",
         10,
         12,
         11,
         33
        ],
        [
         "LEE Hup Wei",
         "Malaysia",
         "Athletics",
         "Malaysia",
         0,
         1,
         1,
         2
        ],
        [
         "LEHIKOINEN Viivi",
         "Finland",
         "Athletics",
         "Finland",
         0,
         0,
         2,
         2
        ],
        [
         "LEMI Teddese",
         "Ethiopia",
         "Athletics",
         "Ethiopia",
         1,
         1,
         2,
         4
        ],
        [
         "LEMMA Sisay",
         "Ethiopia",
         "Athletics",
         "Ethiopia",
         1,
         1,
         2,
         4
        ],
        [
         "LEMMENS Silke",
         "Switzerland",
         "Athletics",
         "Switzerland",
         3,
         4,
         6,
         13
        ],
        [
         "LEMONIOUS Phillip",
         "Jamaica",
         "Athletics",
         "Jamaica",
         4,
         1,
         4,
         9
        ],
        [
         "LEMOS Ana Claudia",
         "Brazil",
         "Athletics",
         "Brazil",
         7,
         6,
         8,
         21
        ],
        [
         "LEONARDI Giuseppe",
         "Italy",
         "Athletics",
         "Italy",
         10,
         10,
         20,
         40
        ],
        [
         "LEPAGE Pierce",
         "Canada",
         "Athletics",
         "Canada",
         7,
         6,
         11,
         24
        ],
        [
         "LESCAY GAY Lester Alcides",
         "Cuba",
         "Athletics",
         "Cuba",
         7,
         3,
         5,
         15
        ],
        [
         "LESIEWICZ Kornelia",
         "Poland",
         "Athletics",
         "Poland",
         4,
         5,
         5,
         14
        ],
        [
         "LEVCHENKO Yuliya",
         "Ukraine",
         "Athletics",
         "Ukraine",
         1,
         6,
         12,
         19
        ],
        [
         "LEVINS Cameron",
         "Canada",
         "Athletics",
         "Canada",
         7,
         6,
         11,
         24
        ],
        [
         "LEVY Ronald",
         "Jamaica",
         "Athletics",
         "Jamaica",
         4,
         1,
         4,
         9
        ],
        [
         "LEWANDOWSKI Marcin",
         "Poland",
         "Athletics",
         "Poland",
         4,
         5,
         5,
         14
        ],
        [
         "LEYVER Jose",
         "Mexico",
         "Athletics",
         "Mexico",
         0,
         0,
         4,
         4
        ],
        [
         "LI He",
         "People's Republic of China",
         "Athletics",
         "People's Republic of China",
         38,
         32,
         18,
         88
        ],
        [
         "LI Ling",
         "People's Republic of China",
         "Athletics",
         "People's Republic of China",
         38,
         32,
         18,
         88
        ],
        [
         "LI Yuting",
         "People's Republic of China",
         "Athletics",
         "People's Republic of China",
         38,
         32,
         18,
         88
        ],
        [
         "LI Zhixuan",
         "People's Republic of China",
         "Athletics",
         "People's Republic of China",
         38,
         32,
         18,
         88
        ],
        [
         "LIAKHOVICH Aliaksandr",
         "Belarus",
         "Athletics",
         "Belarus",
         1,
         3,
         3,
         7
        ],
        [
         "LIANG Xiaojing",
         "People's Republic of China",
         "Athletics",
         "People's Republic of China",
         38,
         32,
         18,
         88
        ],
        [
         "LICWINKO Kamila",
         "Poland",
         "Athletics",
         "Poland",
         4,
         5,
         5,
         14
        ],
        [
         "LIGHTFOOT Kc",
         "United States of America",
         "Athletics",
         "United States of America",
         39,
         41,
         33,
         113
        ],
        [
         "LINDEN Desiree",
         "United States of America",
         "Athletics",
         "United States of America",
         39,
         41,
         33,
         113
        ],
        [
         "LINKE Christopher",
         "Germany",
         "Athletics",
         "Germany",
         10,
         11,
         16,
         37
        ],
        [
         "LINKIEWICZ Joanna",
         "Poland",
         "Athletics",
         "Poland",
         4,
         5,
         5,
         14
        ],
        [
         "LISOWSKA Aleksandra",
         "Poland",
         "Athletics",
         "Poland",
         4,
         5,
         5,
         14
        ],
        [
         "LITA BAEHRE Bo Kanda",
         "Germany",
         "Athletics",
         "Germany",
         10,
         11,
         16,
         37
        ],
        [
         "LITANIUK Valeriy",
         "Ukraine",
         "Athletics",
         "Ukraine",
         1,
         6,
         12,
         19
        ],
        [
         "LITTLE Mackenzie",
         "Australia",
         "Athletics",
         "Australia",
         17,
         7,
         22,
         46
        ],
        [
         "LITTLE Shamier",
         "United States of America",
         "Athletics",
         "United States of America",
         39,
         41,
         33,
         113
        ],
        [
         "LITVIN Mikhail",
         "Kazakhstan",
         "Athletics",
         "Kazakhstan",
         0,
         0,
         8,
         8
        ],
        [
         "LIU Shiying",
         "People's Republic of China",
         "Athletics",
         "People's Republic of China",
         38,
         32,
         18,
         88
        ],
        [
         "LOBE Ricarda",
         "Germany",
         "Athletics",
         "Germany",
         10,
         11,
         16,
         37
        ],
        [
         "LOHVYNENKO Alina",
         "Ukraine",
         "Athletics",
         "Ukraine",
         1,
         6,
         12,
         19
        ],
        [
         "LOMNICKY Marcel",
         "Slovakia",
         "Athletics",
         "Slovakia",
         1,
         2,
         1,
         4
        ],
        [
         "LONDON Wilbert",
         "United States of America",
         "Athletics",
         "United States of America",
         39,
         41,
         33,
         113
        ],
        [
         "LOPEZ Brayan",
         "Italy",
         "Athletics",
         "Italy",
         10,
         10,
         20,
         40
        ],
        [
         "LOPEZ Jesus Tonatiu",
         "Mexico",
         "Athletics",
         "Mexico",
         0,
         0,
         4,
         4
        ],
        [
         "LOPEZ Miguel Angel",
         "Spain",
         "Athletics",
         "Spain",
         3,
         8,
         6,
         17
        ],
        [
         "LOSEV Ivan",
         "Ukraine",
         "Athletics",
         "Ukraine",
         1,
         6,
         12,
         19
        ],
        [
         "LOVETT Django",
         "Canada",
         "Athletics",
         "Canada",
         7,
         6,
         11,
         24
        ],
        [
         "LOYO Elena",
         "Spain",
         "Athletics",
         "Spain",
         3,
         8,
         6,
         17
        ],
        [
         "LUCKENKEMPER Gina",
         "Germany",
         "Athletics",
         "Germany",
         10,
         11,
         16,
         37
        ],
        [
         "LUKAN Klara",
         "Slovenia",
         "Athletics",
         "Slovenia",
         3,
         1,
         1,
         5
        ],
        [
         "LUKUDO Raphaela Boaheng",
         "Italy",
         "Athletics",
         "Italy",
         10,
         10,
         20,
         40
        ],
        [
         "LUO Na",
         "People's Republic of China",
         "Athletics",
         "People's Republic of China",
         38,
         32,
         18,
         88
        ],
        [
         "LUO Yadong",
         "People's Republic of China",
         "Athletics",
         "People's Republic of China",
         38,
         32,
         18,
         88
        ],
        [
         "LUZOLO Maryse",
         "Germany",
         "Athletics",
         "Germany",
         10,
         11,
         16,
         37
        ],
        [
         "LYLES Noah",
         "United States of America",
         "Athletics",
         "United States of America",
         39,
         41,
         33,
         113
        ],
        [
         "LYU Xiuzhi",
         "People's Republic of China",
         "Athletics",
         "People's Republic of China",
         38,
         32,
         18,
         88
        ],
        [
         "MACH Angelika",
         "Poland",
         "Athletics",
         "Poland",
         4,
         5,
         5,
         14
        ],
        [
         "MACLEAN Heather",
         "United States of America",
         "Athletics",
         "United States of America",
         39,
         41,
         33,
         113
        ],
        [
         "MADARASZ Viktoria",
         "Hungary",
         "Athletics",
         "Hungary",
         6,
         7,
         7,
         20
        ],
        [
         "MADARI PALLIYALIL Jabir",
         "India",
         "Athletics",
         "India",
         1,
         2,
         4,
         7
        ],
        [
         "MAEDA Honami",
         "Japan",
         "Athletics",
         "Japan",
         27,
         14,
         17,
         58
        ],
        [
         "MAGEEAN Ciara",
         "Ireland",
         "Athletics",
         "Ireland",
         2,
         0,
         2,
         4
        ],
        [
         "MAGI Rasmus",
         "Estonia",
         "Athletics",
         "Estonia",
         1,
         0,
         1,
         2
        ],
        [
         "MAHMOUD Abdelrahman",
         "Bahrain",
         "Athletics",
         "Bahrain",
         0,
         1,
         0,
         1
        ],
        [
         "MAHUCHIKH Yaroslava",
         "Ukraine",
         "Athletics",
         "Ukraine",
         1,
         6,
         12,
         19
        ],
        [
         "MAISCH Katharina",
         "Germany",
         "Athletics",
         "Germany",
         10,
         11,
         16,
         37
        ],
        [
         "MAKELA Kristiina",
         "Finland",
         "Athletics",
         "Finland",
         0,
         0,
         2,
         2
        ],
        [
         "MAKI Kristiina",
         "Czech Republic",
         "Athletics",
         "Czech Republic",
         4,
         4,
         3,
         11
        ],
        [
         "MAKWALA Isaac",
         "Botswana",
         "Athletics",
         "Botswana",
         0,
         0,
         1,
         1
        ],
        [
         "MALACHOWSKI Piotr",
         "Poland",
         "Athletics",
         "Poland",
         4,
         5,
         5,
         14
        ],
        [
         "MALACOVA Romana",
         "Czech Republic",
         "Athletics",
         "Czech Republic",
         4,
         4,
         3,
         11
        ],
        [
         "MALIKOVA Barbora",
         "Czech Republic",
         "Athletics",
         "Czech Republic",
         4,
         4,
         3,
         11
        ],
        [
         "MALONE Maggie",
         "United States of America",
         "Athletics",
         "United States of America",
         39,
         41,
         33,
         113
        ],
        [
         "MALYSHCHYK Hanna",
         "Belarus",
         "Athletics",
         "Belarus",
         1,
         3,
         3,
         7
        ],
        [
         "MAMAZHANOVA Zhanna",
         "Kazakhstan",
         "Athletics",
         "Kazakhstan",
         0,
         0,
         8,
         8
        ],
        [
         "MAMEDOV Mergen",
         "Turkmenistan",
         "Athletics",
         "Turkmenistan",
         0,
         1,
         0,
         1
        ],
        [
         "MAMONA Patricia",
         "Portugal",
         "Athletics",
         "Portugal",
         1,
         1,
         2,
         4
        ],
        [
         "MANENTI Davide",
         "Italy",
         "Athletics",
         "Italy",
         10,
         10,
         20,
         40
        ],
        [
         "MANGA Aurel",
         "France",
         "Athletics",
         "France",
         10,
         12,
         11,
         33
        ],
        [
         "MANGIONE Alice",
         "Italy",
         "Athletics",
         "Italy",
         10,
         10,
         20,
         40
        ],
        [
         "MANNING Cliodhna",
         "Ireland",
         "Athletics",
         "Ireland",
         2,
         0,
         2,
         4
        ],
        [
         "MANSON Taylor",
         "United States of America",
         "Athletics",
         "United States of America",
         39,
         41,
         33,
         113
        ],
        [
         "MARCHIANDO Eleonora",
         "Italy",
         "Athletics",
         "Italy",
         10,
         10,
         20,
         40
        ],
        [
         "MARDARE Andrian",
         "Republic of Moldova",
         "Athletics",
         "Republic of Moldova",
         0,
         0,
         1,
         1
        ],
        [
         "MARGHIEV Serghei",
         "Republic of Moldova",
         "Athletics",
         "Republic of Moldova",
         0,
         0,
         1,
         1
        ],
        [
         "MARKOVC Amy-Eloise",
         "Great Britain",
         "Athletics",
         "Great Britain",
         22,
         21,
         22,
         65
        ],
        [
         "MARSCHALL Kurtis",
         "Australia",
         "Athletics",
         "Australia",
         17,
         7,
         22,
         46
        ],
        [
         "MARTIN Alvaro",
         "Spain",
         "Athletics",
         "Spain",
         3,
         8,
         6,
         17
        ],
        [
         "MARTINA Churandy",
         "Netherlands",
         "Athletics",
         "Netherlands",
         10,
         12,
         14,
         36
        ],
        [
         "MARTINEZ Asier",
         "Spain",
         "Athletics",
         "Spain",
         3,
         8,
         6,
         17
        ],
        [
         "MARTINEZ Lois Maikel",
         "Spain",
         "Athletics",
         "Spain",
         3,
         8,
         6,
         17
        ],
        [
         "MARTINEZ Yancarlos",
         "Dominican Republic",
         "Athletics",
         "Dominican Republic",
         0,
         3,
         2,
         5
        ],
        [
         "MARTINOT-LAGARDE Pascal",
         "France",
         "Athletics",
         "France",
         10,
         12,
         11,
         33
        ],
        [
         "MARTINS Eliane",
         "Brazil",
         "Athletics",
         "Brazil",
         7,
         6,
         8,
         21
        ],
        [
         "MARTINS Lorraine",
         "Brazil",
         "Athletics",
         "Brazil",
         7,
         6,
         8,
         21
        ],
        [
         "MARTON Anita",
         "Hungary",
         "Athletics",
         "Hungary",
         6,
         7,
         7,
         20
        ],
        [
         "MARTOS Sebastian",
         "Spain",
         "Athletics",
         "Spain",
         3,
         8,
         6,
         17
        ],
        [
         "MARUO Satoshi",
         "Japan",
         "Athletics",
         "Japan",
         27,
         14,
         17,
         58
        ],
        [
         "MASAI Samwel",
         "Kenya",
         "Athletics",
         "Kenya",
         4,
         4,
         2,
         10
        ],
        [
         "MASHELE Lesiba",
         "South Africa",
         "Athletics",
         "South Africa",
         1,
         2,
         0,
         3
        ],
        [
         "MASILINGI Beatrice",
         "Namibia",
         "Athletics",
         "Namibia",
         0,
         1,
         0,
         1
        ],
        [
         "MASLAK Pavel",
         "Czech Republic",
         "Athletics",
         "Czech Republic",
         4,
         4,
         3,
         11
        ],
        [
         "MASLAVA Nastassia",
         "Belarus",
         "Athletics",
         "Belarus",
         1,
         3,
         3,
         7
        ],
        [
         "MASLOVA Darya",
         "Kyrgyzstan",
         "Athletics",
         "Kyrgyzstan",
         0,
         2,
         1,
         3
        ],
        [
         "MASON Michael",
         "Canada",
         "Athletics",
         "Canada",
         7,
         6,
         11,
         24
        ],
        [
         "MASSO Maykel",
         "Cuba",
         "Athletics",
         "Cuba",
         7,
         3,
         5,
         15
        ],
        [
         "MASWANGANYI Shaun",
         "South Africa",
         "Athletics",
         "South Africa",
         1,
         2,
         0,
         3
        ],
        [
         "MATEO Daniel",
         "Spain",
         "Athletics",
         "Spain",
         3,
         8,
         6,
         17
        ],
        [
         "MATSUDA Mizuki",
         "Japan",
         "Athletics",
         "Japan",
         27,
         14,
         17,
         58
        ],
        [
         "MATSUEDA Hiroki",
         "Japan",
         "Athletics",
         "Japan",
         27,
         14,
         17,
         58
        ],
        [
         "MATTIS Sam",
         "United States of America",
         "Athletics",
         "United States of America",
         39,
         41,
         33,
         113
        ],
        [
         "MAUDENS Hanne",
         "Belgium",
         "Athletics",
         "Belgium",
         3,
         1,
         3,
         7
        ],
        [
         "MAYER Kevin",
         "France",
         "Athletics",
         "France",
         10,
         12,
         11,
         33
        ],
        [
         "MAYER Lisa",
         "Germany",
         "Athletics",
         "Germany",
         10,
         11,
         16,
         37
        ],
        [
         "MAYO Carlos",
         "Spain",
         "Athletics",
         "Spain",
         3,
         8,
         6,
         17
        ],
        [
         "MAYR Verena",
         "Austria",
         "Athletics",
         "Austria",
         1,
         1,
         5,
         7
        ],
        [
         "MAZUR Vladyslav",
         "Ukraine",
         "Athletics",
         "Ukraine",
         1,
         6,
         12,
         19
        ],
        [
         "MAZURONAK Volha",
         "Belarus",
         "Athletics",
         "Belarus",
         1,
         3,
         3,
         7
        ],
        [
         "MBOMA Christine",
         "Namibia",
         "Athletics",
         "Namibia",
         0,
         1,
         0,
         1
        ],
        [
         "McBRIDE Brandon",
         "Canada",
         "Athletics",
         "Canada",
         7,
         6,
         11,
         24
        ],
        [
         "McCARTER Steffin",
         "United States of America",
         "Athletics",
         "United States of America",
         39,
         41,
         33,
         113
        ],
        [
         "McCOLGAN Eilish",
         "Great Britain",
         "Athletics",
         "Great Britain",
         22,
         21,
         22,
         65
        ],
        [
         "McCORMACK Fionnuala",
         "Ireland",
         "Athletics",
         "Ireland",
         2,
         0,
         2,
         4
        ],
        [
         "McCOY Rachel",
         "United States of America",
         "Athletics",
         "United States of America",
         39,
         41,
         33,
         113
        ],
        [
         "McCULLOUGH Conor",
         "United States of America",
         "Athletics",
         "United States of America",
         39,
         41,
         33,
         113
        ],
        [
         "McDERMOTT Nicola",
         "Australia",
         "Athletics",
         "Australia",
         17,
         7,
         22,
         46
        ],
        [
         "McDONALD Morgan",
         "Australia",
         "Athletics",
         "Australia",
         17,
         7,
         22,
         46
        ],
        [
         "McDONALD Natassha",
         "Canada",
         "Athletics",
         "Canada",
         7,
         6,
         11,
         24
        ],
        [
         "McDONALD Rusheen",
         "Jamaica",
         "Athletics",
         "Jamaica",
         4,
         1,
         4,
         9
        ],
        [
         "McDONNELL Robert",
         "Ireland",
         "Athletics",
         "Ireland",
         2,
         0,
         2,
         4
        ],
        [
         "McEWEN Shelby",
         "United States of America",
         "Athletics",
         "United States of America",
         39,
         41,
         33,
         113
        ],
        [
         "McGEE Cory Ann",
         "United States of America",
         "Athletics",
         "United States of America",
         39,
         41,
         33,
         113
        ],
        [
         "McGREGOR Roneisha",
         "Jamaica",
         "Athletics",
         "Jamaica",
         4,
         1,
         4,
         9
        ],
        [
         "McLAUGHLIN Sydney",
         "United States of America",
         "Athletics",
         "United States of America",
         39,
         41,
         33,
         113
        ],
        [
         "McLEOD Candice",
         "Jamaica",
         "Athletics",
         "Jamaica",
         4,
         1,
         4,
         9
        ],
        [
         "McLEOD Carey",
         "Jamaica",
         "Athletics",
         "Jamaica",
         4,
         1,
         4,
         9
        ],
        [
         "McNEILL David",
         "Australia",
         "Athletics",
         "Australia",
         17,
         7,
         22,
         46
        ],
        [
         "McPHERSON Stephenie Ann",
         "Jamaica",
         "Athletics",
         "Jamaica",
         4,
         1,
         4,
         9
        ],
        [
         "MECHAAL Adel",
         "Spain",
         "Athletics",
         "Spain",
         3,
         8,
         6,
         17
        ],
        [
         "MEDINA VENTURA Anabel",
         "Dominican Republic",
         "Athletics",
         "Dominican Republic",
         0,
         3,
         2,
         5
        ],
        [
         "MEIJER Michaela",
         "Sweden",
         "Athletics",
         "Sweden",
         3,
         6,
         0,
         9
        ],
        [
         "MELAK Nibret",
         "Ethiopia",
         "Athletics",
         "Ethiopia",
         1,
         1,
         2,
         4
        ],
        [
         "MELNYK Tetyana",
         "Ukraine",
         "Athletics",
         "Ukraine",
         1,
         6,
         12,
         19
        ],
        [
         "MELO Alexsandro",
         "Brazil",
         "Athletics",
         "Brazil",
         7,
         6,
         8,
         21
        ],
        [
         "MENA PEDROZA Raul Hernan",
         "Colombia",
         "Athletics",
         "Colombia",
         0,
         4,
         1,
         5
        ],
        [
         "MENDEZ Laura",
         "Spain",
         "Athletics",
         "Spain",
         3,
         8,
         6,
         17
        ],
        [
         "MENGESHA Milkesa",
         "Ethiopia",
         "Athletics",
         "Ethiopia",
         1,
         1,
         2,
         4
        ],
        [
         "MERGENTHALER Hannah",
         "Germany",
         "Athletics",
         "Germany",
         10,
         11,
         16,
         37
        ],
        [
         "MESELE Worknesh",
         "Ethiopia",
         "Athletics",
         "Ethiopia",
         1,
         1,
         2,
         4
        ],
        [
         "MEYER Lea",
         "Germany",
         "Athletics",
         "Germany",
         10,
         11,
         16,
         37
        ],
        [
         "MEYER Michaela",
         "United States of America",
         "Athletics",
         "United States of America",
         39,
         41,
         33,
         113
        ],
        [
         "MEZULIANIKOVA Diana",
         "Czech Republic",
         "Athletics",
         "Czech Republic",
         4,
         4,
         3,
         11
        ],
        [
         "MIALESHKA Pavel",
         "Belarus",
         "Athletics",
         "Belarus",
         1,
         3,
         3,
         7
        ],
        [
         "MICHALSKI Daniel",
         "United States of America",
         "Athletics",
         "United States of America",
         39,
         41,
         33,
         113
        ],
        [
         "MIELLET Alexis",
         "France",
         "Athletics",
         "France",
         10,
         12,
         11,
         33
        ],
        [
         "MIHALINEC ZIDAR Maja",
         "Slovenia",
         "Athletics",
         "Slovenia",
         3,
         1,
         1,
         5
        ],
        [
         "MIHALJEVIC Filip",
         "Croatia",
         "Athletics",
         "Croatia",
         3,
         3,
         2,
         8
        ],
        [
         "MIHAMBO Malaika",
         "Germany",
         "Athletics",
         "Germany",
         10,
         11,
         16,
         37
        ],
        [
         "MIKHAILAVA Hanna",
         "Belarus",
         "Athletics",
         "Belarus",
         1,
         3,
         3,
         7
        ],
        [
         "MIKHOU Sadik",
         "Bahrain",
         "Athletics",
         "Bahrain",
         0,
         1,
         0,
         1
        ],
        [
         "MIKLOS Andrea",
         "Romania",
         "Athletics",
         "Romania",
         1,
         3,
         0,
         4
        ],
        [
         "MILLER Nick",
         "Great Britain",
         "Athletics",
         "Great Britain",
         22,
         21,
         22,
         65
        ],
        [
         "MILLER-UIBO Shaunae",
         "Bahamas",
         "Athletics",
         "Bahamas",
         2,
         0,
         0,
         2
        ],
        [
         "MINENKO Hanna",
         "Israel",
         "Athletics",
         "Israel",
         2,
         0,
         2,
         4
        ],
        [
         "MINZIE Jevaughn",
         "Jamaica",
         "Athletics",
         "Jamaica",
         4,
         1,
         4,
         9
        ],
        [
         "MIRON Javier",
         "Spain",
         "Athletics",
         "Spain",
         3,
         8,
         6,
         17
        ],
        [
         "MIRONCHYK-IVANOVA Nastassia",
         "Belarus",
         "Athletics",
         "Belarus",
         1,
         3,
         3,
         7
        ],
        [
         "MISCHLER Baptiste",
         "France",
         "Athletics",
         "France",
         10,
         12,
         11,
         33
        ],
        [
         "MISMAS-ZRIMSEK Marusa",
         "Slovenia",
         "Athletics",
         "Slovenia",
         3,
         1,
         1,
         5
        ],
        [
         "MITCHELL Kathryn",
         "Australia",
         "Athletics",
         "Australia",
         17,
         7,
         22,
         46
        ],
        [
         "MITCHELL Morgan",
         "Australia",
         "Athletics",
         "Australia",
         17,
         7,
         22,
         46
        ],
        [
         "MITCHELL-BLAKE Nethaneel",
         "Great Britain",
         "Athletics",
         "Great Britain",
         22,
         21,
         22,
         65
        ],
        [
         "MITTON Sarah",
         "Canada",
         "Athletics",
         "Canada",
         7,
         6,
         11,
         24
        ],
        [
         "MIZINOV Vasiliy",
         "ROC",
         "Athletics",
         "ROC",
         20,
         28,
         23,
         71
        ],
        [
         "MOEN Sondre Nordstad",
         "Norway",
         "Athletics",
         "Norway",
         4,
         2,
         2,
         8
        ],
        [
         "MOHUMED Mohamed",
         "Germany",
         "Athletics",
         "Germany",
         10,
         11,
         16,
         37
        ],
        [
         "MOKOKA Stephen",
         "South Africa",
         "Athletics",
         "South Africa",
         1,
         2,
         0,
         3
        ],
        [
         "MOLINAROLO Elisa",
         "Italy",
         "Athletics",
         "Italy",
         10,
         10,
         20,
         40
        ],
        [
         "MOLLER Anna Emilie",
         "Denmark",
         "Athletics",
         "Denmark",
         3,
         4,
         4,
         11
        ],
        [
         "MOLONEY Ashley",
         "Australia",
         "Athletics",
         "Australia",
         17,
         7,
         22,
         46
        ],
        [
         "MONSON Alicia",
         "United States of America",
         "Athletics",
         "United States of America",
         39,
         41,
         33,
         113
        ],
        [
         "MONTAG Jemima",
         "Australia",
         "Athletics",
         "Australia",
         17,
         7,
         22,
         46
        ],
        [
         "MONTAG Jennifer",
         "Germany",
         "Athletics",
         "Germany",
         10,
         11,
         16,
         37
        ],
        [
         "MONTANA Jose",
         "Colombia",
         "Athletics",
         "Colombia",
         0,
         4,
         1,
         5
        ],
        [
         "MONTCALM Noelle",
         "Canada",
         "Athletics",
         "Canada",
         7,
         6,
         11,
         24
        ],
        [
         "MONTSHO Amantle",
         "Botswana",
         "Athletics",
         "Botswana",
         0,
         0,
         1,
         1
        ],
        [
         "MOORE Jasmine",
         "United States of America",
         "Athletics",
         "United States of America",
         39,
         41,
         33,
         113
        ],
        [
         "MORAA Mary",
         "Kenya",
         "Athletics",
         "Kenya",
         4,
         4,
         2,
         10
        ],
        [
         "MORAN Paola",
         "Mexico",
         "Athletics",
         "Mexico",
         0,
         0,
         4,
         4
        ],
        [
         "MOREIRA Sara",
         "Portugal",
         "Athletics",
         "Portugal",
         1,
         1,
         2,
         4
        ],
        [
         "MOREJON Glenda",
         "Ecuador",
         "Athletics",
         "Ecuador",
         2,
         1,
         0,
         3
        ],
        [
         "MORRIS Sandi",
         "United States of America",
         "Athletics",
         "United States of America",
         39,
         41,
         33,
         113
        ],
        [
         "MORRISON Natasha",
         "Jamaica",
         "Athletics",
         "Jamaica",
         4,
         1,
         4,
         9
        ],
        [
         "MORVAY Michal",
         "Slovakia",
         "Athletics",
         "Slovakia",
         1,
         2,
         1,
         4
        ],
        [
         "MOSER Angelica",
         "Switzerland",
         "Athletics",
         "Switzerland",
         3,
         4,
         6,
         13
        ],
        [
         "MOSS Megan",
         "Bahamas",
         "Athletics",
         "Bahamas",
         2,
         0,
         0,
         2
        ],
        [
         "MOWATT Kemar",
         "Jamaica",
         "Athletics",
         "Jamaica",
         4,
         1,
         4,
         9
        ],
        [
         "MRZYGLOD Cyprian",
         "Poland",
         "Athletics",
         "Poland",
         4,
         5,
         5,
         14
        ],
        [
         "MU Athing",
         "United States of America",
         "Athletics",
         "United States of America",
         39,
         41,
         33,
         113
        ],
        [
         "MUHAMMAD Dalilah",
         "United States of America",
         "Athletics",
         "United States of America",
         39,
         41,
         33,
         113
        ],
        [
         "MUIR Laura",
         "Great Britain",
         "Athletics",
         "Great Britain",
         22,
         21,
         22,
         65
        ],
        [
         "MUJARIDZE Giorgi",
         "Georgia",
         "Athletics",
         "Georgia",
         2,
         5,
         1,
         8
        ],
        [
         "MULETA Lomi",
         "Ethiopia",
         "Athletics",
         "Ethiopia",
         1,
         1,
         2,
         4
        ],
        [
         "MULIARCHYK Krystsina",
         "Belarus",
         "Athletics",
         "Belarus",
         1,
         3,
         3,
         7
        ],
        [
         "MULLER Laura",
         "Germany",
         "Athletics",
         "Germany",
         10,
         11,
         16,
         37
        ],
        [
         "MULLER Steven",
         "Germany",
         "Athletics",
         "Germany",
         10,
         11,
         16,
         37
        ],
        [
         "MULLER Vit",
         "Czech Republic",
         "Athletics",
         "Czech Republic",
         4,
         4,
         3,
         11
        ],
        [
         "MUNDELL Marc",
         "South Africa",
         "Athletics",
         "South Africa",
         1,
         2,
         0,
         3
        ],
        [
         "MUNOZ Eulalio",
         "Argentina",
         "Athletics",
         "Argentina",
         0,
         1,
         2,
         3
        ],
        [
         "MUNYAI Clarence",
         "South Africa",
         "Athletics",
         "South Africa",
         1,
         2,
         0,
         3
        ],
        [
         "MURATAKE Rachid",
         "Japan",
         "Athletics",
         "Japan",
         27,
         14,
         17,
         58
        ],
        [
         "MURPHY Clayton",
         "United States of America",
         "Athletics",
         "United States of America",
         39,
         41,
         33,
         113
        ],
        [
         "MURTO Wilma",
         "Finland",
         "Athletics",
         "Finland",
         0,
         0,
         2,
         2
        ],
        [
         "MUSAB Adam Ali",
         "Qatar",
         "Athletics",
         "Qatar",
         2,
         0,
         1,
         3
        ],
        [
         "MUSAGALA Ronald",
         "Uganda",
         "Athletics",
         "Uganda",
         2,
         1,
         1,
         4
        ],
        [
         "MUSAH Kojo",
         "Denmark",
         "Athletics",
         "Denmark",
         3,
         4,
         4,
         11
        ],
        [
         "MUSIYENKO Ihor",
         "Ukraine",
         "Athletics",
         "Ukraine",
         1,
         6,
         12,
         19
        ],
        [
         "MUZE Lina",
         "Latvia",
         "Athletics",
         "Latvia",
         1,
         0,
         1,
         2
        ],
        [
         "MYKHAYLOVA Darya",
         "Ukraine",
         "Athletics",
         "Ukraine",
         1,
         6,
         12,
         19
        ],
        [
         "MYKOLENKO Mariya",
         "Ukraine",
         "Athletics",
         "Ukraine",
         1,
         6,
         12,
         19
        ],
        [
         "NABIL Oussama",
         "Morocco",
         "Athletics",
         "Morocco",
         1,
         0,
         0,
         1
        ],
        [
         "NABILA ALIAS Azreen",
         "Malaysia",
         "Athletics",
         "Malaysia",
         0,
         1,
         1,
         2
        ],
        [
         "NABOKAU Dzmitry",
         "Belarus",
         "Athletics",
         "Belarus",
         1,
         3,
         3,
         7
        ],
        [
         "NADOLSKA Karolina",
         "Poland",
         "Athletics",
         "Poland",
         4,
         5,
         5,
         14
        ],
        [
         "NAERT Koen",
         "Belgium",
         "Athletics",
         "Belgium",
         3,
         1,
         3,
         7
        ],
        [
         "NAGEEYE Abdi",
         "Netherlands",
         "Athletics",
         "Netherlands",
         10,
         12,
         14,
         36
        ],
        [
         "NAGEOTTE Katie",
         "United States of America",
         "Athletics",
         "United States of America",
         39,
         41,
         33,
         113
        ],
        [
         "NAKAAYI Halimah",
         "Uganda",
         "Athletics",
         "Uganda",
         2,
         1,
         1,
         4
        ],
        [
         "NAKAMURA Shogo",
         "Japan",
         "Athletics",
         "Japan",
         27,
         14,
         17,
         58
        ],
        [
         "NALIALI Christopher",
         "France",
         "Athletics",
         "France",
         10,
         12,
         11,
         33
        ],
        [
         "NANYONDO Winnie",
         "Uganda",
         "Athletics",
         "Uganda",
         2,
         1,
         1,
         4
        ],
        [
         "NAPOLES Cristian",
         "Cuba",
         "Athletics",
         "Cuba",
         7,
         3,
         5,
         15
        ],
        [
         "NARDELLI Petra",
         "Italy",
         "Athletics",
         "Italy",
         10,
         10,
         20,
         40
        ],
        [
         "NASCIMENTO Carlos",
         "Portugal",
         "Athletics",
         "Portugal",
         1,
         1,
         2,
         4
        ],
        [
         "NATHANIEL Samson Oghenewegba",
         "Nigeria",
         "Athletics",
         "Nigeria",
         0,
         1,
         1,
         2
        ],
        [
         "NAVA Horacio",
         "Mexico",
         "Athletics",
         "Mexico",
         0,
         0,
         4,
         4
        ],
        [
         "NAVARRO Nicolas",
         "France",
         "Athletics",
         "France",
         10,
         12,
         11,
         33
        ],
        [
         "NBERET Melese",
         "Ethiopia",
         "Athletics",
         "Ethiopia",
         1,
         1,
         2,
         4
        ],
        [
         "NDORI Bayapo",
         "Botswana",
         "Athletics",
         "Botswana",
         0,
         0,
         1,
         1
        ],
        [
         "NEDASEKAU Maksim",
         "Belarus",
         "Athletics",
         "Belarus",
         1,
         3,
         3,
         7
        ],
        [
         "NEDOW Tim",
         "Canada",
         "Athletics",
         "Canada",
         7,
         6,
         11,
         24
        ],
        [
         "NEITA Daryll",
         "Great Britain",
         "Athletics",
         "Great Britain",
         22,
         21,
         22,
         65
        ],
        [
         "NEL Wenda",
         "South Africa",
         "Athletics",
         "South Africa",
         1,
         2,
         0,
         3
        ],
        [
         "NELSON Ashleigh",
         "Great Britain",
         "Athletics",
         "Great Britain",
         22,
         21,
         22,
         65
        ],
        [
         "NENE Zakithi",
         "South Africa",
         "Athletics",
         "South Africa",
         1,
         2,
         0,
         3
        ],
        [
         "NESTERENKO Mykyta",
         "Ukraine",
         "Athletics",
         "Ukraine",
         1,
         6,
         12,
         19
        ],
        [
         "NETTEY Christabel",
         "Canada",
         "Athletics",
         "Canada",
         7,
         6,
         11,
         24
        ],
        [
         "NEWELL Anicka",
         "Canada",
         "Athletics",
         "Canada",
         7,
         6,
         11,
         24
        ],
        [
         "NEWMAN Alysha",
         "Canada",
         "Athletics",
         "Canada",
         7,
         6,
         11,
         24
        ],
        [
         "NEZIRI Nooralotta",
         "Finland",
         "Athletics",
         "Finland",
         0,
         0,
         2,
         2
        ],
        [
         "NGOZI Zibane",
         "Botswana",
         "Athletics",
         "Botswana",
         0,
         0,
         1,
         1
        ],
        [
         "NGUYEN Anasztazia",
         "Hungary",
         "Athletics",
         "Hungary",
         6,
         7,
         7,
         20
        ],
        [
         "NIEDZIALEK Lukasz",
         "Poland",
         "Athletics",
         "Poland",
         4,
         5,
         5,
         14
        ],
        [
         "NIELSEN Laviai",
         "Great Britain",
         "Athletics",
         "Great Britain",
         22,
         21,
         22,
         65
        ],
        [
         "NIJHUIS Thijs",
         "Denmark",
         "Athletics",
         "Denmark",
         3,
         4,
         4,
         11
        ],
        [
         "NILSEN Christopher",
         "United States of America",
         "Athletics",
         "United States of America",
         39,
         41,
         33,
         113
        ],
        [
         "NILSSON Maja",
         "Sweden",
         "Athletics",
         "Sweden",
         3,
         6,
         0,
         9
        ],
        [
         "NIPPGEN Lisa",
         "Germany",
         "Athletics",
         "Germany",
         10,
         11,
         16,
         37
        ],
        [
         "NORDAS Narve Gilje",
         "Norway",
         "Athletics",
         "Norway",
         4,
         2,
         2,
         8
        ],
        [
         "NORMAN Michael",
         "United States of America",
         "Athletics",
         "United States of America",
         39,
         41,
         33,
         113
        ],
        [
         "NORMAN Phil",
         "Great Britain",
         "Athletics",
         "Great Britain",
         22,
         21,
         22,
         65
        ],
        [
         "NORWOOD Vernon",
         "United States of America",
         "Athletics",
         "United States of America",
         39,
         41,
         33,
         113
        ],
        [
         "NOVAC Alexandru Mihaita",
         "Romania",
         "Athletics",
         "Romania",
         1,
         3,
         0,
         4
        ],
        [
         "NOVOZHYLOVA Iryna",
         "Ukraine",
         "Athletics",
         "Ukraine",
         1,
         6,
         12,
         19
        ],
        [
         "NOWICKI Adam",
         "Poland",
         "Athletics",
         "Poland",
         4,
         5,
         5,
         14
        ],
        [
         "NOWICKI Wojciech",
         "Poland",
         "Athletics",
         "Poland",
         4,
         5,
         5,
         14
        ],
        [
         "NTIAMOAH Brigitte",
         "France",
         "Athletics",
         "France",
         10,
         12,
         11,
         33
        ],
        [
         "NUGUSE Yared",
         "United States of America",
         "Athletics",
         "United States of America",
         39,
         41,
         33,
         113
        ],
        [
         "NURME Tiidrek",
         "Estonia",
         "Athletics",
         "Estonia",
         1,
         0,
         1,
         2
        ],
        [
         "NWOKOCHA Nzubechi Grace",
         "Nigeria",
         "Athletics",
         "Nigeria",
         0,
         1,
         1,
         2
        ],
        [
         "NYZHNYK Mykola",
         "Ukraine",
         "Athletics",
         "Ukraine",
         1,
         6,
         12,
         19
        ],
        [
         "O'DONNELL Christopher",
         "Ireland",
         "Athletics",
         "Ireland",
         2,
         0,
         2,
         4
        ],
        [
         "OBASUYI Michael",
         "Belgium",
         "Athletics",
         "Belgium",
         3,
         1,
         3,
         7
        ],
        [
         "OBIENA Ernest John",
         "Philippines",
         "Athletics",
         "Philippines",
         1,
         2,
         1,
         4
        ],
        [
         "OBIRI Hellen",
         "Kenya",
         "Athletics",
         "Kenya",
         4,
         4,
         2,
         10
        ],
        [
         "OBOYA Bendere",
         "Australia",
         "Athletics",
         "Australia",
         17,
         7,
         22,
         46
        ],
        [
         "ODHIAMBO Mark Otieno",
         "Kenya",
         "Athletics",
         "Kenya",
         4,
         4,
         2,
         10
        ],
        [
         "ODUDURU Divine",
         "Nigeria",
         "Athletics",
         "Nigeria",
         0,
         1,
         1,
         2
        ],
        [
         "ODURO MANU Joseph",
         "Ghana",
         "Athletics",
         "Ghana",
         0,
         0,
         1,
         1
        ],
        [
         "OFILI Favour",
         "Nigeria",
         "Athletics",
         "Nigeria",
         0,
         1,
         1,
         2
        ],
        [
         "OGANDO Alexander",
         "Dominican Republic",
         "Athletics",
         "Dominican Republic",
         0,
         3,
         2,
         5
        ],
        [
         "OGRODNIKOVA Nikola",
         "Czech Republic",
         "Athletics",
         "Czech Republic",
         4,
         4,
         3,
         11
        ],
        [
         "OGUNODE Femi",
         "Qatar",
         "Athletics",
         "Qatar",
         2,
         0,
         1,
         3
        ],
        [
         "OH Joohan",
         "Republic of Korea",
         "Athletics",
         "Republic of Korea",
         6,
         4,
         10,
         20
        ],
        [
         "OHIOZE Michael",
         "Great Britain",
         "Athletics",
         "Great Britain",
         22,
         21,
         22,
         65
        ],
        [
         "OIGLANE Janek",
         "Estonia",
         "Athletics",
         "Estonia",
         1,
         0,
         1,
         2
        ],
        [
         "OJALA Aleksi",
         "Finland",
         "Athletics",
         "Finland",
         0,
         0,
         2,
         2
        ],
        [
         "OJELI Ifeanyi Emmanuel",
         "Nigeria",
         "Athletics",
         "Nigeria",
         0,
         1,
         1,
         2
        ],
        [
         "OKADA Kumiko",
         "Japan",
         "Athletics",
         "Japan",
         27,
         14,
         17,
         58
        ],
        [
         "OKAGBARE Blessing",
         "Nigeria",
         "Athletics",
         "Nigeria",
         0,
         1,
         1,
         2
        ],
        [
         "OKEZIE Chidi",
         "Nigeria",
         "Athletics",
         "Nigeria",
         0,
         1,
         1,
         2
        ],
        [
         "OKOYE Lawrence",
         "Great Britain",
         "Athletics",
         "Great Britain",
         22,
         21,
         22,
         65
        ],
        [
         "OLIVAS NUNEZ Andres Eduardo",
         "Mexico",
         "Athletics",
         "Mexico",
         0,
         0,
         4,
         4
        ],
        [
         "OLIVER Javianne",
         "United States of America",
         "Athletics",
         "United States of America",
         39,
         41,
         33,
         113
        ],
        [
         "OLIVIERI Linda",
         "Italy",
         "Athletics",
         "Italy",
         10,
         10,
         20,
         40
        ],
        [
         "OLYANOVSKA Lyudmila",
         "Ukraine",
         "Athletics",
         "Ukraine",
         1,
         6,
         12,
         19
        ],
        [
         "OMBISSA-DZANGUE Orlann",
         "France",
         "Athletics",
         "France",
         10,
         12,
         11,
         33
        ],
        [
         "OMURWA Ferdinand",
         "Kenya",
         "Athletics",
         "Kenya",
         4,
         4,
         2,
         10
        ],
        [
         "ONNEN Imke",
         "Germany",
         "Athletics",
         "Germany",
         10,
         11,
         16,
         37
        ],
        [
         "ONYEKWERE Chioma",
         "Nigeria",
         "Athletics",
         "Nigeria",
         0,
         1,
         1,
         2
        ],
        [
         "OOSTERWEGEL Emma",
         "Netherlands",
         "Athletics",
         "Netherlands",
         10,
         12,
         14,
         36
        ],
        [
         "OOSTERWEGEL Hanneke",
         "Netherlands",
         "Athletics",
         "Netherlands",
         10,
         12,
         14,
         36
        ],
        [
         "ORDONEZ Saul",
         "Spain",
         "Athletics",
         "Spain",
         3,
         8,
         6,
         17
        ],
        [
         "ORJI Keturah",
         "United States of America",
         "Athletics",
         "United States of America",
         39,
         41,
         33,
         113
        ],
        [
         "ORJUELA Angie",
         "Colombia",
         "Athletics",
         "Colombia",
         0,
         4,
         1,
         5
        ],
        [
         "ORTEGA Mauricio",
         "Colombia",
         "Athletics",
         "Colombia",
         0,
         4,
         1,
         5
        ],
        [
         "ORTEGA Orlando",
         "Spain",
         "Athletics",
         "Spain",
         3,
         8,
         6,
         17
        ],
        [
         "ORTUNO Valeria",
         "Mexico",
         "Athletics",
         "Mexico",
         0,
         0,
         4,
         4
        ],
        [
         "OSAKO Suguru",
         "Japan",
         "Athletics",
         "Japan",
         27,
         14,
         17,
         58
        ],
        [
         "OSAKUE Daisy",
         "Italy",
         "Athletics",
         "Italy",
         10,
         10,
         20,
         40
        ],
        [
         "OSIKA Shannon",
         "United States of America",
         "Athletics",
         "United States of America",
         39,
         41,
         33,
         113
        ],
        [
         "OSTERGAARD Louise",
         "Denmark",
         "Athletics",
         "Denmark",
         3,
         4,
         4,
         11
        ],
        [
         "OTSUKA Shohei",
         "Japan",
         "Athletics",
         "Japan",
         27,
         14,
         17,
         58
        ],
        [
         "OTTERDAHL Payton",
         "United States of America",
         "Athletics",
         "United States of America",
         39,
         41,
         33,
         113
        ],
        [
         "OUCENI Ludovic",
         "France",
         "Athletics",
         "France",
         10,
         12,
         11,
         33
        ],
        [
         "OVCHINNIKOVA Kristina",
         "Kazakhstan",
         "Athletics",
         "Kazakhstan",
         0,
         0,
         8,
         8
        ],
        [
         "OVCHINNIKOVA Mariya",
         "Kazakhstan",
         "Athletics",
         "Kazakhstan",
         0,
         0,
         8,
         8
        ],
        [
         "OZBILEN Kaan Kigen",
         "Turkey",
         "Athletics",
         "Turkey",
         2,
         2,
         9,
         13
        ],
        [
         "OZER Kayhan",
         "Turkey",
         "Athletics",
         "Turkey",
         2,
         2,
         9,
         13
        ],
        [
         "OZKAN Ertan",
         "Turkey",
         "Athletics",
         "Turkey",
         2,
         2,
         9,
         13
        ],
        [
         "PACHECO Juan",
         "Mexico",
         "Athletics",
         "Mexico",
         0,
         0,
         4,
         4
        ],
        [
         "PAHLITZSCH Karolina",
         "Germany",
         "Athletics",
         "Germany",
         10,
         11,
         16,
         37
        ],
        [
         "PALAMEIKA Madara",
         "Latvia",
         "Athletics",
         "Latvia",
         1,
         0,
         1,
         2
        ],
        [
         "PALMA Isaac",
         "Mexico",
         "Athletics",
         "Mexico",
         0,
         0,
         4,
         4
        ],
        [
         "PALMISANO Antonella",
         "Italy",
         "Athletics",
         "Italy",
         10,
         10,
         20,
         40
        ],
        [
         "PALOMEQUE Diego",
         "Colombia",
         "Athletics",
         "Colombia",
         0,
         4,
         1,
         5
        ],
        [
         "PALSYTE Airine",
         "Lithuania",
         "Athletics",
         "Lithuania",
         0,
         1,
         0,
         1
        ],
        [
         "PALUCH Paulina",
         "Poland",
         "Athletics",
         "Poland",
         4,
         5,
         5,
         14
        ],
        [
         "PANDI Naganathan",
         "India",
         "Athletics",
         "India",
         1,
         2,
         4,
         7
        ],
        [
         "PAPACHRISTOU Paraskevi",
         "Greece",
         "Athletics",
         "Greece",
         2,
         1,
         1,
         4
        ],
        [
         "PAPAMICHAIL Alexandros",
         "Greece",
         "Athletics",
         "Greece",
         2,
         1,
         1,
         4
        ],
        [
         "PARAKHONKA Vitali",
         "Belarus",
         "Athletics",
         "Belarus",
         1,
         3,
         3,
         7
        ],
        [
         "PARCHMENT Hansle",
         "Jamaica",
         "Athletics",
         "Jamaica",
         4,
         1,
         4,
         9
        ],
        [
         "PARE Maroussia",
         "France",
         "Athletics",
         "France",
         10,
         12,
         11,
         33
        ],
        [
         "PARLOV KOSTRO Matea",
         "Croatia",
         "Athletics",
         "Croatia",
         3,
         3,
         2,
         8
        ],
        [
         "PARNOVA Elizaveta",
         "Australia",
         "Athletics",
         "Australia",
         17,
         7,
         22,
         46
        ],
        [
         "PARTANEN Veli-Matti",
         "Finland",
         "Athletics",
         "Finland",
         0,
         0,
         2,
         2
        ],
        [
         "PASELA Anthony",
         "Botswana",
         "Athletics",
         "Botswana",
         0,
         0,
         1,
         1
        ],
        [
         "PASHLEY Ellie",
         "Australia",
         "Athletics",
         "Australia",
         17,
         7,
         22,
         46
        ],
        [
         "PATRICK Glory",
         "Nigeria",
         "Athletics",
         "Nigeria",
         0,
         1,
         1,
         2
        ],
        [
         "PATTA Lorenzo",
         "Italy",
         "Athletics",
         "Italy",
         10,
         10,
         20,
         40
        ],
        [
         "PATTERSON Eleanor",
         "Australia",
         "Athletics",
         "Australia",
         17,
         7,
         22,
         46
        ],
        [
         "PAULINA Hensley",
         "Netherlands",
         "Athletics",
         "Netherlands",
         10,
         12,
         14,
         36
        ],
        [
         "PAULINO Marileidy",
         "Dominican Republic",
         "Athletics",
         "Dominican Republic",
         0,
         3,
         2,
         5
        ],
        [
         "PAYTON Malaina",
         "United States of America",
         "Athletics",
         "United States of America",
         39,
         41,
         33,
         113
        ],
        [
         "PEDROSO Yadisleidis",
         "Italy",
         "Athletics",
         "Italy",
         10,
         10,
         20,
         40
        ],
        [
         "PEINADO Robeilys",
         "Venezuela",
         "Athletics",
         "Venezuela",
         1,
         3,
         0,
         4
        ],
        [
         "PELETEIRO Ana",
         "Spain",
         "Athletics",
         "Spain",
         3,
         8,
         6,
         17
        ],
        [
         "PELLAUD Rachel",
         "Switzerland",
         "Athletics",
         "Switzerland",
         3,
         4,
         6,
         13
        ],
        [
         "PEN FREITAS Marta",
         "Portugal",
         "Athletics",
         "Portugal",
         1,
         1,
         2,
         4
        ],
        [
         "PENG Jianhua",
         "People's Republic of China",
         "Athletics",
         "People's Republic of China",
         38,
         32,
         18,
         88
        ],
        [
         "PEREIRA Tiago",
         "Portugal",
         "Athletics",
         "Portugal",
         1,
         1,
         2,
         4
        ],
        [
         "PEREVOZNIKOV Serhiy",
         "Ukraine",
         "Athletics",
         "Ukraine",
         1,
         6,
         12,
         19
        ],
        [
         "PEREZ Leyanis",
         "Cuba",
         "Athletics",
         "Cuba",
         7,
         3,
         5,
         15
        ],
        [
         "PEREZ Maria Isabel",
         "Spain",
         "Athletics",
         "Spain",
         3,
         8,
         6,
         17
        ],
        [
         "PEREZ Maria",
         "Spain",
         "Athletics",
         "Spain",
         3,
         8,
         6,
         17
        ],
        [
         "PEREZ Marta",
         "Spain",
         "Athletics",
         "Spain",
         3,
         8,
         6,
         17
        ],
        [
         "PEREZ Paola",
         "Ecuador",
         "Athletics",
         "Ecuador",
         2,
         1,
         0,
         3
        ],
        [
         "PEREZ Yaime",
         "Cuba",
         "Athletics",
         "Cuba",
         7,
         3,
         5,
         15
        ],
        [
         "PERKOVIC Sandra",
         "Croatia",
         "Athletics",
         "Croatia",
         3,
         3,
         2,
         8
        ],
        [
         "PERLAZA Jhon Alejandro",
         "Colombia",
         "Athletics",
         "Colombia",
         0,
         4,
         1,
         5
        ],
        [
         "PESIRIDOU Elisavet",
         "Greece",
         "Athletics",
         "Greece",
         2,
         1,
         1,
         4
        ],
        [
         "PETERS Anderson",
         "Grenada",
         "Athletics",
         "Grenada",
         0,
         0,
         1,
         1
        ],
        [
         "PETERSEN Sara Slott",
         "Denmark",
         "Athletics",
         "Denmark",
         3,
         4,
         4,
         11
        ],
        [
         "PETERSSON Wictor",
         "Sweden",
         "Athletics",
         "Sweden",
         3,
         6,
         0,
         9
        ],
        [
         "PETRIVSKAYA Zalina",
         "Republic of Moldova",
         "Athletics",
         "Republic of Moldova",
         0,
         0,
         1,
         1
        ],
        [
         "PETROS Amanal",
         "Germany",
         "Athletics",
         "Germany",
         10,
         11,
         16,
         37
        ],
        [
         "PETROVA Gabriela",
         "Bulgaria",
         "Athletics",
         "Bulgaria",
         3,
         1,
         2,
         6
        ],
        [
         "PETRUCCIANI Ricky",
         "Switzerland",
         "Athletics",
         "Switzerland",
         3,
         4,
         6,
         13
        ],
        [
         "PETTERSSON Simon",
         "Sweden",
         "Athletics",
         "Sweden",
         3,
         6,
         0,
         9
        ],
        [
         "PFEIFFER Hendrik",
         "Germany",
         "Athletics",
         "Germany",
         10,
         11,
         16,
         37
        ],
        [
         "PHELUT Alexis",
         "France",
         "Athletics",
         "France",
         10,
         12,
         11,
         33
        ],
        [
         "PHILIP Asha",
         "Great Britain",
         "Athletics",
         "Great Britain",
         22,
         21,
         22,
         65
        ],
        [
         "PHORA Thapelo",
         "South Africa",
         "Athletics",
         "South Africa",
         1,
         2,
         0,
         3
        ],
        [
         "PIASECKI Jess",
         "Great Britain",
         "Athletics",
         "Great Britain",
         22,
         21,
         22,
         65
        ],
        [
         "PICHARDO Pedro",
         "Portugal",
         "Athletics",
         "Portugal",
         1,
         1,
         2,
         4
        ],
        [
         "PIDHORESKY Dayna",
         "Canada",
         "Athletics",
         "Canada",
         7,
         6,
         11,
         24
        ],
        [
         "PILLAY Lythe",
         "South Africa",
         "Athletics",
         "South Africa",
         1,
         2,
         0,
         3
        ],
        [
         "PINTADO Brian Daniel",
         "Ecuador",
         "Athletics",
         "Ecuador",
         2,
         1,
         0,
         3
        ],
        [
         "PINTO Tatjana",
         "Germany",
         "Athletics",
         "Germany",
         10,
         11,
         16,
         37
        ],
        [
         "PINZON Diego",
         "Colombia",
         "Athletics",
         "Colombia",
         0,
         4,
         1,
         5
        ],
        [
         "PIPI Ama",
         "Great Britain",
         "Athletics",
         "Great Britain",
         22,
         21,
         22,
         65
        ],
        [
         "PIRJAHAN Mahdi",
         "Islamic Republic of Iran",
         "Athletics",
         "Islamic Republic of Iran",
         3,
         2,
         2,
         7
        ],
        [
         "PISKUNOV Hlib",
         "Ukraine",
         "Athletics",
         "Ukraine",
         1,
         6,
         12,
         19
        ],
        [
         "POHLE Hagen",
         "Germany",
         "Athletics",
         "Germany",
         10,
         11,
         16,
         37
        ],
        [
         "POHORILKO Oleksandr",
         "Ukraine",
         "Athletics",
         "Ukraine",
         1,
         6,
         12,
         19
        ],
        [
         "POLAK Eleni-Klaoudia",
         "Greece",
         "Athletics",
         "Greece",
         2,
         1,
         1,
         4
        ],
        [
         "POLANCO RIJO Hillary Wanderson",
         "Italy",
         "Athletics",
         "Italy",
         10,
         10,
         20,
         40
        ],
        [
         "POLINARI Anna",
         "Italy",
         "Athletics",
         "Italy",
         10,
         10,
         20,
         40
        ],
        [
         "POLLOCK Paul",
         "Ireland",
         "Athletics",
         "Ireland",
         2,
         0,
         2,
         4
        ],
        [
         "PONTE FERRAZ Simone",
         "Brazil",
         "Athletics",
         "Brazil",
         7,
         6,
         8,
         21
        ],
        [
         "PONTVIANNE Jean-Marc",
         "France",
         "Athletics",
         "France",
         10,
         12,
         11,
         33
        ],
        [
         "PONZIO Nick",
         "Italy",
         "Athletics",
         "Italy",
         10,
         10,
         20,
         40
        ],
        [
         "POPOWICZ-DRAPALA Marika",
         "Poland",
         "Athletics",
         "Poland",
         4,
         5,
         5,
         14
        ],
        [
         "PORTER Chanice",
         "Jamaica",
         "Athletics",
         "Jamaica",
         4,
         1,
         4,
         9
        ],
        [
         "PORTER Tiffany",
         "Great Britain",
         "Athletics",
         "Great Britain",
         22,
         21,
         22,
         65
        ],
        [
         "POVEA Liadagmis",
         "Cuba",
         "Athletics",
         "Cuba",
         7,
         3,
         5,
         15
        ],
        [
         "POWER Nadia",
         "Ireland",
         "Athletics",
         "Ireland",
         2,
         0,
         2,
         4
        ],
        [
         "POZZI Andrew",
         "Great Britain",
         "Athletics",
         "Great Britain",
         22,
         21,
         22,
         65
        ],
        [
         "PRATT Aimee",
         "Great Britain",
         "Athletics",
         "Great Britain",
         22,
         21,
         22,
         65
        ],
        [
         "PRAUGHT-LEER Aisha",
         "Jamaica",
         "Athletics",
         "Jamaica",
         4,
         1,
         4,
         9
        ],
        [
         "PREIS Constantin",
         "Germany",
         "Athletics",
         "Germany",
         10,
         11,
         16,
         37
        ],
        [
         "PREISNER Ben",
         "Canada",
         "Athletics",
         "Canada",
         7,
         6,
         11,
         24
        ],
        [
         "PRESCOD Reece",
         "Great Britain",
         "Athletics",
         "Great Britain",
         22,
         21,
         22,
         65
        ],
        [
         "PRICE Madeline",
         "Canada",
         "Athletics",
         "Canada",
         7,
         6,
         11,
         24
        ],
        [
         "PRIYANKA .",
         "India",
         "Athletics",
         "India",
         1,
         2,
         4,
         7
        ],
        [
         "PROKOFYEVA Yeheniya",
         "Ukraine",
         "Athletics",
         "Ukraine",
         1,
         6,
         12,
         19
        ],
        [
         "PRONKIN Valeriy",
         "ROC",
         "Athletics",
         "ROC",
         20,
         28,
         23,
         71
        ],
        [
         "PROTSENKO Andriy",
         "Ukraine",
         "Athletics",
         "Ukraine",
         1,
         6,
         12,
         19
        ],
        [
         "PRUFER Clemens",
         "Germany",
         "Athletics",
         "Germany",
         10,
         11,
         16,
         37
        ],
        [
         "PRZYBYLKO Mateusz",
         "Germany",
         "Athletics",
         "Germany",
         10,
         11,
         16,
         37
        ],
        [
         "PUDENZ Kristin",
         "Germany",
         "Athletics",
         "Germany",
         10,
         11,
         16,
         37
        ],
        [
         "PULLI Kristian",
         "Finland",
         "Athletics",
         "Finland",
         0,
         0,
         2,
         2
        ],
        [
         "PUNIA Seema",
         "India",
         "Athletics",
         "India",
         1,
         2,
         4,
         7
        ],
        [
         "PURRIER ST. PIERRE Elinor",
         "United States of America",
         "Athletics",
         "United States of America",
         39,
         41,
         33,
         113
        ],
        [
         "PYROZHENKO-CHORNOMAZ Natalya",
         "Ukraine",
         "Athletics",
         "Ukraine",
         1,
         6,
         12,
         19
        ],
        [
         "QIEYANG Shijie",
         "People's Republic of China",
         "Athletics",
         "People's Republic of China",
         38,
         32,
         18,
         88
        ],
        [
         "QUINONEZ Alex",
         "Ecuador",
         "Athletics",
         "Ecuador",
         2,
         1,
         0,
         3
        ],
        [
         "RACHIK Yassine",
         "Italy",
         "Athletics",
         "Italy",
         10,
         10,
         20,
         40
        ],
        [
         "RADZIVIL Svetlana",
         "Uzbekistan",
         "Athletics",
         "Uzbekistan",
         3,
         0,
         2,
         5
        ],
        [
         "RAESS Jonas",
         "Switzerland",
         "Athletics",
         "Switzerland",
         3,
         4,
         6,
         13
        ],
        [
         "RAFFIN Melvin",
         "France",
         "Athletics",
         "France",
         10,
         12,
         11,
         33
        ],
        [
         "RAHUL .",
         "India",
         "Athletics",
         "India",
         1,
         2,
         4,
         7
        ],
        [
         "RAINHOLD Tomas Hilifa",
         "Namibia",
         "Athletics",
         "Namibia",
         0,
         1,
         0,
         1
        ],
        [
         "RAITANEN Topi",
         "Finland",
         "Athletics",
         "Finland",
         0,
         0,
         2,
         2
        ],
        [
         "RAJIV Arokia",
         "India",
         "Athletics",
         "India",
         1,
         2,
         4,
         7
        ],
        [
         "RAMIREZ LIMON Andrea Soraya",
         "Mexico",
         "Athletics",
         "Mexico",
         0,
         0,
         4,
         4
        ],
        [
         "RAMORWA Galaletsang",
         "South Africa",
         "Athletics",
         "South Africa",
         1,
         2,
         0,
         3
        ],
        [
         "RAMSDEN Matthew",
         "Australia",
         "Athletics",
         "Australia",
         17,
         7,
         22,
         46
        ],
        [
         "RAMSEY Jessica",
         "United States of America",
         "Athletics",
         "United States of America",
         39,
         41,
         33,
         113
        ],
        [
         "RANDAZZO Filippo",
         "Italy",
         "Athletics",
         "Italy",
         10,
         10,
         20,
         40
        ],
        [
         "RANI Annu",
         "India",
         "Athletics",
         "India",
         1,
         2,
         4,
         7
        ],
        [
         "RAROVSKAYA Anastasiya",
         "Belarus",
         "Athletics",
         "Belarus",
         1,
         3,
         3,
         7
        ],
        [
         "RASHCHUPKINA Viktoryia",
         "Belarus",
         "Athletics",
         "Belarus",
         1,
         3,
         3,
         7
        ],
        [
         "RATCLIFFE Julia",
         "New Zealand",
         "Athletics",
         "New Zealand",
         7,
         6,
         7,
         20
        ],
        [
         "RATOVA Aiman",
         "Kazakhstan",
         "Athletics",
         "Kazakhstan",
         0,
         0,
         8,
         8
        ],
        [
         "RAYNER Jack",
         "Australia",
         "Athletics",
         "Australia",
         17,
         7,
         22,
         46
        ],
        [
         "RE Davide",
         "Italy",
         "Athletics",
         "Italy",
         10,
         10,
         20,
         40
        ],
        [
         "REAIS William",
         "Switzerland",
         "Athletics",
         "Switzerland",
         3,
         4,
         6,
         13
        ],
        [
         "REDONDO MORA Laura",
         "Spain",
         "Athletics",
         "Spain",
         3,
         8,
         6,
         17
        ],
        [
         "REEKIE Jemma",
         "Great Britain",
         "Athletics",
         "Great Britain",
         22,
         21,
         22,
         65
        ],
        [
         "REESE Brittney",
         "United States of America",
         "Athletics",
         "United States of America",
         39,
         41,
         33,
         113
        ],
        [
         "REID Leon",
         "Ireland",
         "Athletics",
         "Ireland",
         2,
         0,
         2,
         4
        ],
        [
         "REINLE Cynthia",
         "Switzerland",
         "Athletics",
         "Switzerland",
         3,
         4,
         6,
         13
        ],
        [
         "RENE Marvin",
         "France",
         "Athletics",
         "France",
         10,
         12,
         11,
         33
        ],
        [
         "RENGERUK Lilian Kasait",
         "Kenya",
         "Athletics",
         "Kenya",
         4,
         4,
         2,
         10
        ],
        [
         "RETZIUS Lene Onsrud",
         "Norway",
         "Athletics",
         "Norway",
         4,
         2,
         2,
         8
        ],
        [
         "REUS Julian",
         "Germany",
         "Athletics",
         "Germany",
         10,
         11,
         16,
         37
        ],
        [
         "REW Quentin",
         "New Zealand",
         "Athletics",
         "New Zealand",
         7,
         6,
         7,
         20
        ],
        [
         "REZNICHENKO Darya",
         "Uzbekistan",
         "Athletics",
         "Uzbekistan",
         3,
         0,
         2,
         5
        ],
        [
         "RIBEIRO Sara Catarina",
         "Portugal",
         "Athletics",
         "Portugal",
         1,
         1,
         2,
         4
        ],
        [
         "RICHARDSSON Camilla",
         "Finland",
         "Athletics",
         "Finland",
         0,
         0,
         2,
         2
        ],
        [
         "RICKETTS Shanieka",
         "Jamaica",
         "Athletics",
         "Jamaica",
         4,
         1,
         4,
         9
        ],
        [
         "RILEY Jacob",
         "United States of America",
         "Athletics",
         "United States of America",
         39,
         41,
         33,
         113
        ],
        [
         "RINGER Richard",
         "Germany",
         "Athletics",
         "Germany",
         10,
         11,
         16,
         37
        ],
        [
         "RISELEY Jeffrey",
         "Australia",
         "Athletics",
         "Australia",
         17,
         7,
         22,
         46
        ],
        [
         "RIVASZ-TOTH Norbert",
         "Hungary",
         "Athletics",
         "Hungary",
         6,
         7,
         7,
         20
        ],
        [
         "ROBERT Benjamin",
         "France",
         "Athletics",
         "France",
         10,
         12,
         11,
         33
        ],
        [
         "ROBERT-MICHON Melina",
         "France",
         "Athletics",
         "France",
         10,
         12,
         11,
         33
        ],
        [
         "ROBERTS Daniel",
         "United States of America",
         "Athletics",
         "United States of America",
         39,
         41,
         33,
         113
        ],
        [
         "ROBERTSON Zane",
         "New Zealand",
         "Athletics",
         "New Zealand",
         7,
         6,
         7,
         20
        ],
        [
         "ROBINSON Brett",
         "Australia",
         "Athletics",
         "Australia",
         17,
         7,
         22,
         46
        ],
        [
         "ROBLES Carolina",
         "Spain",
         "Athletics",
         "Spain",
         3,
         8,
         6,
         17
        ],
        [
         "ROCHA de SENA Erica",
         "Brazil",
         "Athletics",
         "Brazil",
         7,
         6,
         8,
         21
        ],
        [
         "ROCHA Salome",
         "Portugal",
         "Athletics",
         "Portugal",
         1,
         1,
         2,
         4
        ],
        [
         "RODNEY Brendon",
         "Canada",
         "Athletics",
         "Canada",
         7,
         6,
         11,
         24
        ],
        [
         "RODNEY Meleni",
         "Grenada",
         "Athletics",
         "Grenada",
         0,
         0,
         1,
         1
        ],
        [
         "RODRIGUES Eduardo",
         "Brazil",
         "Athletics",
         "Brazil",
         7,
         6,
         8,
         21
        ],
        [
         "RODRIGUES Irina",
         "Portugal",
         "Athletics",
         "Portugal",
         1,
         1,
         2,
         4
        ],
        [
         "RODRIGUEZ Lucia",
         "Spain",
         "Athletics",
         "Spain",
         3,
         8,
         6,
         17
        ],
        [
         "RODRIGUEZ Rosa Andreina",
         "Venezuela",
         "Athletics",
         "Venezuela",
         1,
         3,
         0,
         4
        ],
        [
         "RODRIGUEZ Yorgelis",
         "Cuba",
         "Athletics",
         "Cuba",
         7,
         3,
         5,
         15
        ],
        [
         "ROE Martin",
         "Norway",
         "Athletics",
         "Norway",
         4,
         2,
         2,
         8
        ],
        [
         "ROGERS Camryn",
         "Canada",
         "Athletics",
         "Canada",
         7,
         6,
         11,
         24
        ],
        [
         "ROGERS Raevyn",
         "United States of America",
         "Athletics",
         "United States of America",
         39,
         41,
         33,
         113
        ],
        [
         "ROJAS Yulimar",
         "Venezuela",
         "Athletics",
         "Venezuela",
         1,
         3,
         0,
         4
        ],
        [
         "ROMANI Darlan",
         "Brazil",
         "Athletics",
         "Brazil",
         7,
         6,
         8,
         21
        ],
        [
         "ROMERO Natalia",
         "Spain",
         "Athletics",
         "Spain",
         3,
         8,
         6,
         17
        ],
        [
         "ROOS Fanny",
         "Sweden",
         "Athletics",
         "Sweden",
         3,
         6,
         0,
         9
        ],
        [
         "ROSA Vitoria Cristina",
         "Brazil",
         "Athletics",
         "Brazil",
         7,
         6,
         8,
         21
        ],
        [
         "ROTARU-KOTTMANN Alina",
         "Romania",
         "Athletics",
         "Romania",
         1,
         3,
         0,
         4
        ],
        [
         "ROTICH Ferguson Cheruiyot",
         "Kenya",
         "Athletics",
         "Kenya",
         4,
         4,
         2,
         10
        ],
        [
         "ROWDEN Daniel",
         "Great Britain",
         "Athletics",
         "Great Britain",
         22,
         21,
         22,
         65
        ],
        [
         "ROZMYS Michal",
         "Poland",
         "Athletics",
         "Poland",
         4,
         5,
         5,
         14
        ],
        [
         "RUBIE-RENSHAW Anneliese",
         "Australia",
         "Athletics",
         "Australia",
         17,
         7,
         22,
         46
        ],
        [
         "RUIZ Jorge",
         "Colombia",
         "Athletics",
         "Colombia",
         0,
         4,
         1,
         5
        ],
        [
         "RUMBENIEKS Arnis",
         "Latvia",
         "Athletics",
         "Latvia",
         1,
         0,
         1,
         2
        ],
        [
         "RUPP Galen",
         "United States of America",
         "Athletics",
         "United States of America",
         39,
         41,
         33,
         113
        ],
        [
         "RUSSELL Alonzo",
         "Bahamas",
         "Athletics",
         "Bahamas",
         2,
         0,
         0,
         2
        ],
        [
         "RUUSKANEN Antti",
         "Finland",
         "Athletics",
         "Finland",
         0,
         0,
         2,
         2
        ],
        [
         "RYPAKOVA Olga",
         "Kazakhstan",
         "Athletics",
         "Kazakhstan",
         0,
         0,
         8,
         8
        ],
        [
         "RYZHYKOVA Anna",
         "Ukraine",
         "Athletics",
         "Ukraine",
         1,
         6,
         12,
         19
        ],
        [
         "RZEZNICZAK Mateusz",
         "Poland",
         "Athletics",
         "Poland",
         4,
         5,
         5,
         14
        ],
        [
         "SABBATINI Gaia",
         "Italy",
         "Athletics",
         "Italy",
         10,
         10,
         20,
         40
        ],
        [
         "SABLE Avinash Mukund",
         "India",
         "Athletics",
         "India",
         1,
         2,
         4,
         7
        ],
        [
         "SACOOR Jonathan",
         "Belgium",
         "Athletics",
         "Belgium",
         3,
         1,
         3,
         7
        ],
        [
         "SADIKI Abdelatif",
         "Morocco",
         "Athletics",
         "Morocco",
         1,
         0,
         0,
         1
        ],
        [
         "SADULLAYEVA Safina",
         "Uzbekistan",
         "Athletics",
         "Uzbekistan",
         3,
         0,
         2,
         5
        ],
        [
         "SAFO-ANTWI Sean",
         "Ghana",
         "Athletics",
         "Ghana",
         0,
         0,
         1,
         1
        ],
        [
         "SAFRONOVA Olga",
         "Kazakhstan",
         "Athletics",
         "Kazakhstan",
         0,
         0,
         8,
         8
        ],
        [
         "SAGNIA Khaddi",
         "Sweden",
         "Athletics",
         "Sweden",
         3,
         6,
         0,
         9
        ],
        [
         "SAHLI Hamza",
         "Morocco",
         "Athletics",
         "Morocco",
         1,
         0,
         0,
         1
        ],
        [
         "SAHUTOGLU Tugce",
         "Turkey",
         "Athletics",
         "Turkey",
         2,
         2,
         9,
         13
        ],
        [
         "SAITO Ami",
         "Japan",
         "Athletics",
         "Japan",
         27,
         14,
         17,
         58
        ],
        [
         "SAKHARUK Mariia",
         "Ukraine",
         "Athletics",
         "Ukraine",
         1,
         6,
         12,
         19
        ],
        [
         "SALADUKHA Olha",
         "Ukraine",
         "Athletics",
         "Ukraine",
         1,
         6,
         12,
         19
        ],
        [
         "SALMINEN Senni",
         "Finland",
         "Athletics",
         "Finland",
         0,
         0,
         2,
         2
        ],
        [
         "SALMON Shiann",
         "Jamaica",
         "Athletics",
         "Jamaica",
         4,
         1,
         4,
         9
        ],
        [
         "SALPETER Lonah Chemtai",
         "Israel",
         "Athletics",
         "Israel",
         2,
         0,
         2,
         4
        ],
        [
         "SAMAAI Ruswahl",
         "South Africa",
         "Athletics",
         "South Africa",
         1,
         2,
         0,
         3
        ],
        [
         "SAMBA Abderrahman",
         "Qatar",
         "Athletics",
         "Qatar",
         2,
         0,
         1,
         3
        ],
        [
         "SAMBA-MAYELA Cyrena",
         "France",
         "Athletics",
         "France",
         10,
         12,
         11,
         33
        ],
        [
         "SAMUEL Jamile",
         "Netherlands",
         "Athletics",
         "Netherlands",
         10,
         12,
         14,
         36
        ],
        [
         "SAN MARTIN Carlos Andres",
         "Colombia",
         "Athletics",
         "Colombia",
         0,
         4,
         1,
         5
        ],
        [
         "SANCHEZ Ryan",
         "Puerto Rico",
         "Athletics",
         "Puerto Rico",
         1,
         0,
         0,
         1
        ],
        [
         "SANCHEZ Ursula Patricia",
         "Mexico",
         "Athletics",
         "Mexico",
         0,
         0,
         4,
         4
        ],
        [
         "SANCHEZ-ESCRIBANO Irene",
         "Spain",
         "Athletics",
         "Spain",
         3,
         8,
         6,
         17
        ],
        [
         "SANCHEZ-VALLADARES Pablo",
         "Spain",
         "Athletics",
         "Spain",
         3,
         8,
         6,
         17
        ],
        [
         "SANDERS Manuel",
         "Germany",
         "Athletics",
         "Germany",
         10,
         11,
         16,
         37
        ],
        [
         "SANI BROWN Abdul Hakim",
         "Japan",
         "Athletics",
         "Japan",
         27,
         14,
         17,
         58
        ],
        [
         "SANTANA MARIN Jose Luis",
         "Mexico",
         "Athletics",
         "Mexico",
         0,
         0,
         4,
         4
        ],
        [
         "SANTOS da SILVA Altobeli",
         "Brazil",
         "Athletics",
         "Brazil",
         7,
         6,
         8,
         21
        ],
        [
         "SANTOS Luguelin",
         "Dominican Republic",
         "Athletics",
         "Dominican Republic",
         0,
         3,
         2,
         5
        ],
        [
         "SANTOS Rosangela",
         "Brazil",
         "Athletics",
         "Brazil",
         7,
         6,
         8,
         21
        ],
        [
         "SARNA Angelika",
         "Poland",
         "Athletics",
         "Poland",
         4,
         5,
         5,
         14
        ],
        [
         "SARUNI Michael",
         "Kenya",
         "Athletics",
         "Kenya",
         4,
         4,
         2,
         10
        ],
        [
         "SASMA Ersu",
         "Turkey",
         "Athletics",
         "Turkey",
         2,
         2,
         9,
         13
        ],
        [
         "SATO Kentaro",
         "Japan",
         "Athletics",
         "Japan",
         27,
         14,
         17,
         58
        ],
        [
         "SAUNDERS Raven",
         "United States of America",
         "Athletics",
         "United States of America",
         39,
         41,
         33,
         113
        ],
        [
         "SAVINA Nina",
         "Belarus",
         "Athletics",
         "Belarus",
         1,
         3,
         3,
         7
        ],
        [
         "SAWE Mathew",
         "Kenya",
         "Athletics",
         "Kenya",
         4,
         4,
         2,
         10
        ],
        [
         "SAWYERS Jazmin",
         "Great Britain",
         "Athletics",
         "Great Britain",
         22,
         21,
         22,
         65
        ],
        [
         "SCANTLING Garrett",
         "United States of America",
         "Athletics",
         "United States of America",
         39,
         41,
         33,
         113
        ],
        [
         "SCARVELIS Stamatia",
         "Greece",
         "Athletics",
         "Greece",
         2,
         1,
         1,
         4
        ],
        [
         "SCHAFER Carolin",
         "Germany",
         "Athletics",
         "Germany",
         10,
         11,
         16,
         37
        ],
        [
         "SCHILDER Jessica",
         "Netherlands",
         "Athletics",
         "Netherlands",
         10,
         12,
         14,
         36
        ],
        [
         "SCHIPPERS Dafne",
         "Netherlands",
         "Athletics",
         "Netherlands",
         10,
         12,
         14,
         36
        ],
        [
         "SCHLEGEL Marvin",
         "Germany",
         "Athletics",
         "Germany",
         10,
         11,
         16,
         37
        ],
        [
         "SCHLUMPF Fabienne",
         "Switzerland",
         "Athletics",
         "Switzerland",
         3,
         4,
         6,
         13
        ],
        [
         "SCHMIDT Alica",
         "Germany",
         "Athletics",
         "Germany",
         10,
         11,
         16,
         37
        ],
        [
         "SCHNEIDER Rachel",
         "United States of America",
         "Athletics",
         "United States of America",
         39,
         41,
         33,
         113
        ],
        [
         "SCHONEBORN Deborah",
         "Germany",
         "Athletics",
         "Germany",
         10,
         11,
         16,
         37
        ],
        [
         "SCHONEBORN Rabea",
         "Germany",
         "Athletics",
         "Germany",
         10,
         11,
         16,
         37
        ],
        [
         "SCHOU-NIELSEN Frederik",
         "Denmark",
         "Athletics",
         "Denmark",
         3,
         4,
         4,
         11
        ],
        [
         "SCHULTE Marvin",
         "Germany",
         "Athletics",
         "Germany",
         10,
         11,
         16,
         37
        ],
        [
         "SCHWAB Corinna",
         "Germany",
         "Athletics",
         "Germany",
         10,
         11,
         16,
         37
        ],
        [
         "SCHWANDKE Tristan",
         "Germany",
         "Athletics",
         "Germany",
         10,
         11,
         16,
         37
        ],
        [
         "SCHWANITZ Christina",
         "Germany",
         "Athletics",
         "Germany",
         10,
         11,
         16,
         37
        ],
        [
         "SCHWEIZER Karissa",
         "United States of America",
         "Athletics",
         "United States of America",
         39,
         41,
         33,
         113
        ],
        [
         "SCLABAS Delia",
         "Switzerland",
         "Athletics",
         "Switzerland",
         3,
         4,
         6,
         13
        ],
        [
         "SCOTCH Leungo",
         "Botswana",
         "Athletics",
         "Botswana",
         0,
         0,
         1,
         1
        ],
        [
         "SCOTT Dominique",
         "South Africa",
         "Athletics",
         "South Africa",
         1,
         2,
         0,
         3
        ],
        [
         "SCOTT Donald",
         "United States of America",
         "Athletics",
         "United States of America",
         39,
         41,
         33,
         113
        ],
        [
         "SCOTT Marc",
         "Great Britain",
         "Athletics",
         "Great Britain",
         22,
         21,
         22,
         65
        ],
        [
         "SCOTTI Edoardo",
         "Italy",
         "Athletics",
         "Italy",
         10,
         10,
         20,
         40
        ],
        [
         "SCULLION Stephen",
         "Ireland",
         "Athletics",
         "Ireland",
         2,
         0,
         2,
         4
        ],
        [
         "SEAWARD Kevin",
         "Ireland",
         "Athletics",
         "Ireland",
         2,
         0,
         2,
         4
        ],
        [
         "SECCAFIEN Andrea",
         "Canada",
         "Athletics",
         "Canada",
         7,
         6,
         11,
         24
        ],
        [
         "SEDDON Zak",
         "Great Britain",
         "Athletics",
         "Great Britain",
         22,
         21,
         22,
         65
        ],
        [
         "SEDNEY Naomi",
         "Netherlands",
         "Athletics",
         "Netherlands",
         10,
         12,
         14,
         36
        ],
        [
         "SEDNEY Zoe",
         "Netherlands",
         "Athletics",
         "Netherlands",
         10,
         12,
         14,
         36
        ],
        [
         "SEIDEL Molly",
         "United States of America",
         "Athletics",
         "United States of America",
         39,
         41,
         33,
         113
        ],
        [
         "SEIFERT Bernhard",
         "Germany",
         "Athletics",
         "Germany",
         10,
         11,
         16,
         37
        ],
        [
         "SEILER Nathaniel",
         "Germany",
         "Athletics",
         "Germany",
         10,
         11,
         16,
         37
        ],
        [
         "SEKAR Dhanalakshmi",
         "India",
         "Athletics",
         "India",
         1,
         2,
         4,
         7
        ],
        [
         "SELMON Kenneth",
         "United States of America",
         "Athletics",
         "United States of America",
         39,
         41,
         33,
         113
        ],
        [
         "SEMBER Cindy",
         "Great Britain",
         "Athletics",
         "Great Britain",
         22,
         21,
         22,
         65
        ],
        [
         "SEMENOVA Nataliya",
         "Ukraine",
         "Athletics",
         "Ukraine",
         1,
         6,
         12,
         19
        ],
        [
         "SENE Alioune",
         "France",
         "Athletics",
         "France",
         10,
         12,
         11,
         33
        ],
        [
         "SENODUNCU Sahin",
         "Turkey",
         "Athletics",
         "Turkey",
         2,
         2,
         9,
         13
        ],
        [
         "SERKSNIENE Agne",
         "Lithuania",
         "Athletics",
         "Lithuania",
         0,
         1,
         0,
         1
        ],
        [
         "SEVILLE Oblique",
         "Jamaica",
         "Athletics",
         "Jamaica",
         4,
         1,
         4,
         9
        ],
        [
         "SEYMOUR Pedrya",
         "Bahamas",
         "Athletics",
         "Bahamas",
         2,
         0,
         0,
         2
        ],
        [
         "SHANAHAN Louise",
         "Ireland",
         "Athletics",
         "Ireland",
         2,
         0,
         2,
         4
        ],
        [
         "SHANGE Lebogang",
         "South Africa",
         "Athletics",
         "South Africa",
         1,
         2,
         0,
         3
        ],
        [
         "SHATIRISHVILI Sopo",
         "Georgia",
         "Athletics",
         "Georgia",
         2,
         5,
         1,
         8
        ],
        [
         "SHEIKO Georgiy",
         "Kazakhstan",
         "Athletics",
         "Kazakhstan",
         0,
         0,
         8,
         8
        ],
        [
         "SHEVCHUK Hanna",
         "Ukraine",
         "Athletics",
         "Ukraine",
         1,
         6,
         12,
         19
        ],
        [
         "SHI Liying",
         "People's Republic of China",
         "Athletics",
         "People's Republic of China",
         38,
         32,
         18,
         88
        ],
        [
         "SHIDA Leni",
         "Uganda",
         "Athletics",
         "Uganda",
         2,
         1,
         1,
         4
        ],
        [
         "SHIM Jungsub",
         "Republic of Korea",
         "Athletics",
         "Republic of Korea",
         6,
         4,
         10,
         20
        ],
        [
         "SHIOJIRI Kazuya",
         "Japan",
         "Athletics",
         "Japan",
         27,
         14,
         17,
         58
        ],
        [
         "SHIROYAMA Shoutarou",
         "Japan",
         "Athletics",
         "Japan",
         27,
         14,
         17,
         58
        ],
        [
         "SHKURENYOV Ilya",
         "ROC",
         "Athletics",
         "ROC",
         20,
         28,
         23,
         71
        ],
        [
         "SHUBENKOV Sergey",
         "ROC",
         "Athletics",
         "ROC",
         20,
         28,
         23,
         71
        ],
        [
         "SHUEY Michael",
         "United States of America",
         "Athletics",
         "United States of America",
         39,
         41,
         33,
         113
        ],
        [
         "SHUMIK Viktor",
         "Ukraine",
         "Athletics",
         "Ukraine",
         1,
         6,
         12,
         19
        ],
        [
         "SIBILIO Alessandro",
         "Italy",
         "Athletics",
         "Italy",
         10,
         10,
         20,
         40
        ],
        [
         "SIDOROVA Anzhelika",
         "ROC",
         "Athletics",
         "ROC",
         20,
         28,
         23,
         71
        ],
        [
         "SILVA MARINHO Tiffani",
         "Brazil",
         "Athletics",
         "Brazil",
         7,
         6,
         8,
         21
        ],
        [
         "SILVA Yarisley",
         "Cuba",
         "Athletics",
         "Cuba",
         7,
         3,
         5,
         15
        ],
        [
         "SIMBINE Akani",
         "South Africa",
         "Athletics",
         "South Africa",
         1,
         2,
         0,
         3
        ],
        [
         "SIME Abrham",
         "Ethiopia",
         "Athletics",
         "Ethiopia",
         1,
         1,
         2,
         4
        ],
        [
         "SIMIC Ana",
         "Croatia",
         "Athletics",
         "Croatia",
         3,
         3,
         2,
         8
        ],
        [
         "SIMOTWO Charles Cheboi",
         "Kenya",
         "Athletics",
         "Kenya",
         4,
         4,
         2,
         10
        ],
        [
         "SINANCEVIC Armin",
         "Serbia",
         "Athletics",
         "Serbia",
         3,
         1,
         5,
         9
        ],
        [
         "SINGH Gurpreet",
         "India",
         "Athletics",
         "India",
         1,
         2,
         4,
         7
        ],
        [
         "SINGH Shivpal",
         "India",
         "Athletics",
         "India",
         1,
         2,
         4,
         7
        ],
        [
         "SIRAGUSA Irene",
         "Italy",
         "Athletics",
         "Italy",
         10,
         10,
         20,
         40
        ],
        [
         "SISSON Emily",
         "United States of America",
         "Athletics",
         "United States of America",
         39,
         41,
         33,
         113
        ],
        [
         "SITKOVSKIY Oleksandr",
         "Ukraine",
         "Athletics",
         "Ukraine",
         1,
         6,
         12,
         19
        ],
        [
         "SKRYPAK Olga",
         "Ukraine",
         "Athletics",
         "Ukraine",
         1,
         6,
         12,
         19
        ],
        [
         "SKRZYSZOWSKA Pia",
         "Poland",
         "Athletics",
         "Poland",
         4,
         5,
         5,
         14
        ],
        [
         "SKVARTSOVA Viyaleta",
         "Belarus",
         "Athletics",
         "Belarus",
         1,
         3,
         3,
         7
        ],
        [
         "SKYDAN Hanna",
         "Azerbaijan",
         "Athletics",
         "Azerbaijan",
         0,
         3,
         4,
         7
        ],
        [
         "SMAILI Mostafa",
         "Morocco",
         "Athletics",
         "Morocco",
         1,
         0,
         0,
         1
        ],
        [
         "SMELLIE Gavin",
         "Canada",
         "Athletics",
         "Canada",
         7,
         6,
         11,
         24
        ],
        [
         "SMETS Fanny",
         "Belgium",
         "Athletics",
         "Belgium",
         3,
         1,
         3,
         7
        ],
        [
         "SMIDT Nick",
         "Netherlands",
         "Athletics",
         "Netherlands",
         10,
         12,
         14,
         36
        ],
        [
         "SMIKLE Traves",
         "Jamaica",
         "Athletics",
         "Jamaica",
         4,
         1,
         4,
         9
        ],
        [
         "SMOLONSKIS Ruslans",
         "Latvia",
         "Athletics",
         "Latvia",
         1,
         0,
         1,
         2
        ],
        [
         "SNOWDEN Katie",
         "Great Britain",
         "Athletics",
         "Great Britain",
         22,
         21,
         22,
         65
        ],
        [
         "SNYMAN Wayne",
         "South Africa",
         "Athletics",
         "South Africa",
         1,
         2,
         0,
         3
        ],
        [
         "SOARES Nubia",
         "Brazil",
         "Athletics",
         "Brazil",
         7,
         6,
         8,
         21
        ],
        [
         "SOBCHUK Olena",
         "Ukraine",
         "Athletics",
         "Ukraine",
         1,
         6,
         12,
         19
        ],
        [
         "SOBERA Robert",
         "Poland",
         "Athletics",
         "Poland",
         4,
         5,
         5,
         14
        ],
        [
         "SOLIS Jhon Alexander",
         "Colombia",
         "Athletics",
         "Colombia",
         0,
         4,
         1,
         5
        ],
        [
         "SOLOMON Steven",
         "Australia",
         "Athletics",
         "Australia",
         17,
         7,
         22,
         46
        ],
        [
         "SONG Jiayuan",
         "People's Republic of China",
         "Athletics",
         "People's Republic of China",
         38,
         32,
         18,
         88
        ],
        [
         "SORM Patrik",
         "Czech Republic",
         "Athletics",
         "Czech Republic",
         4,
         4,
         3,
         11
        ],
        [
         "SOTO Manuel Esteban",
         "Colombia",
         "Athletics",
         "Colombia",
         0,
         4,
         1,
         5
        ],
        [
         "SOTTILE Stefano",
         "Italy",
         "Athletics",
         "Italy",
         10,
         10,
         20,
         40
        ],
        [
         "SOUZA ALFANO MOURA Thiago Julio",
         "Brazil",
         "Athletics",
         "Brazil",
         7,
         6,
         8,
         21
        ],
        [
         "SPANOUDAKI-CHATZIRIGA Rafalia",
         "Greece",
         "Athletics",
         "Greece",
         2,
         1,
         1,
         4
        ],
        [
         "SPANOVIC Ivana",
         "Serbia",
         "Athletics",
         "Serbia",
         3,
         1,
         5,
         9
        ],
        [
         "SPOTAKOVA Barbora",
         "Czech Republic",
         "Athletics",
         "Czech Republic",
         4,
         4,
         3,
         11
        ],
        [
         "SPRUNGER Lea",
         "Switzerland",
         "Athletics",
         "Switzerland",
         3,
         4,
         6,
         13
        ],
        [
         "STAEHLI Julie-Anne",
         "Canada",
         "Athletics",
         "Canada",
         7,
         6,
         11,
         24
        ],
        [
         "STAFFORD Lucia",
         "Canada",
         "Athletics",
         "Canada",
         7,
         6,
         11,
         24
        ],
        [
         "STAHL Daniel",
         "Sweden",
         "Athletics",
         "Sweden",
         3,
         6,
         0,
         9
        ],
        [
         "STANCIU Daniela",
         "Romania",
         "Athletics",
         "Romania",
         1,
         3,
         0,
         4
        ],
        [
         "STANEK Tomas",
         "Czech Republic",
         "Athletics",
         "Czech Republic",
         4,
         4,
         3,
         11
        ],
        [
         "STANO Massimo",
         "Italy",
         "Athletics",
         "Italy",
         10,
         10,
         20,
         40
        ],
        [
         "STARC Brandon",
         "Australia",
         "Athletics",
         "Australia",
         17,
         7,
         22,
         46
        ],
        [
         "STECCHI Claudio Michel",
         "Italy",
         "Athletics",
         "Italy",
         10,
         10,
         20,
         40
        ],
        [
         "STEFANIDI Katerina",
         "Greece",
         "Athletics",
         "Greece",
         2,
         1,
         1,
         4
        ],
        [
         "STEINACKER Marike",
         "Germany",
         "Athletics",
         "Germany",
         10,
         11,
         16,
         37
        ],
        [
         "STEINRUCK Katharina",
         "Germany",
         "Athletics",
         "Germany",
         10,
         11,
         16,
         37
        ],
        [
         "STEVENS Dani",
         "Australia",
         "Athletics",
         "Australia",
         17,
         7,
         22,
         46
        ],
        [
         "STEVENS Robyn",
         "United States of America",
         "Athletics",
         "United States of America",
         39,
         41,
         33,
         113
        ],
        [
         "STEWART Trevor",
         "United States of America",
         "Athletics",
         "United States of America",
         39,
         41,
         33,
         113
        ],
        [
         "STEWARTOVA Moira",
         "Czech Republic",
         "Athletics",
         "Czech Republic",
         4,
         4,
         3,
         11
        ],
        [
         "STEYN Gerda",
         "South Africa",
         "Athletics",
         "South Africa",
         1,
         2,
         0,
         3
        ],
        [
         "STOJ Bartlomiej",
         "Poland",
         "Athletics",
         "Poland",
         4,
         5,
         5,
         14
        ],
        [
         "STOJOSKI Jovan",
         "North Macedonia",
         "Athletics",
         "North Macedonia",
         0,
         1,
         0,
         1
        ],
        [
         "STRACHAN Anthonique",
         "Bahamas",
         "Athletics",
         "Bahamas",
         2,
         0,
         0,
         2
        ],
        [
         "STRAHL Martina",
         "Switzerland",
         "Athletics",
         "Switzerland",
         3,
         4,
         6,
         13
        ],
        [
         "STREBKOVA Nataliya",
         "Ukraine",
         "Athletics",
         "Ukraine",
         1,
         6,
         12,
         19
        ],
        [
         "STUNES ISENE Ola",
         "Norway",
         "Athletics",
         "Norway",
         4,
         2,
         2,
         8
        ],
        [
         "SU Bingtian",
         "People's Republic of China",
         "Athletics",
         "People's Republic of China",
         38,
         32,
         18,
         88
        ],
        [
         "SU Guoxiong",
         "People's Republic of China",
         "Athletics",
         "People's Republic of China",
         38,
         32,
         18,
         88
        ],
        [
         "SUAREZ Gabriela Anahi",
         "Ecuador",
         "Athletics",
         "Ecuador",
         2,
         1,
         0,
         3
        ],
        [
         "SUAREZ Jeison Alexander",
         "Colombia",
         "Athletics",
         "Colombia",
         0,
         4,
         1,
         5
        ],
        [
         "SUI Gaofei",
         "People's Republic of China",
         "Athletics",
         "People's Republic of China",
         38,
         32,
         18,
         88
        ],
        [
         "SULEK Adrianna",
         "Poland",
         "Athletics",
         "Poland",
         4,
         5,
         5,
         14
        ],
        [
         "SUM Eunice Jepkoech",
         "Kenya",
         "Athletics",
         "Kenya",
         4,
         4,
         2,
         10
        ],
        [
         "SUNDSTROM Simon",
         "Sweden",
         "Athletics",
         "Sweden",
         3,
         6,
         0,
         9
        ],
        [
         "SUTEJ Tina",
         "Slovenia",
         "Athletics",
         "Slovenia",
         3,
         1,
         1,
         5
        ],
        [
         "SUWARA Wiktor",
         "Poland",
         "Athletics",
         "Poland",
         4,
         5,
         5,
         14
        ],
        [
         "SUZUKI Aoto",
         "Japan",
         "Athletics",
         "Japan",
         27,
         14,
         17,
         58
        ],
        [
         "SUZUKI Ayuko",
         "Japan",
         "Athletics",
         "Japan",
         27,
         14,
         17,
         58
        ],
        [
         "SWAN Kyle",
         "Australia",
         "Athletics",
         "Australia",
         17,
         7,
         22,
         46
        ],
        [
         "SWIETY-ERSETIC Justyna",
         "Poland",
         "Athletics",
         "Poland",
         4,
         5,
         5,
         14
        ],
        [
         "SWOBODA Ewa",
         "Poland",
         "Athletics",
         "Poland",
         4,
         5,
         5,
         14
        ],
        [
         "SYKORA Jiri",
         "Czech Republic",
         "Athletics",
         "Czech Republic",
         4,
         4,
         3,
         11
        ],
        [
         "SYLLA Sounkamba",
         "France",
         "Athletics",
         "France",
         10,
         12,
         11,
         33
        ],
        [
         "SZILAGYI Reka",
         "Hungary",
         "Athletics",
         "Hungary",
         6,
         7,
         7,
         20
        ],
        [
         "SZOGI Istvan",
         "Hungary",
         "Athletics",
         "Hungary",
         6,
         7,
         7,
         20
        ],
        [
         "SZUCS Valdo",
         "Hungary",
         "Athletics",
         "Hungary",
         6,
         7,
         7,
         20
        ],
        [
         "TA LOU Marie-Josee",
         "Côte d'Ivoire",
         "Athletics",
         "Côte d'Ivoire",
         0,
         0,
         1,
         1
        ],
        [
         "TABAKAUCORO Ratu Banuve",
         "Fiji",
         "Athletics",
         "Fiji",
         1,
         0,
         1,
         2
        ],
        [
         "TADA Shuhei",
         "Japan",
         "Athletics",
         "Japan",
         27,
         14,
         17,
         58
        ],
        [
         "TAFTIAN Hassan",
         "Islamic Republic of Iran",
         "Athletics",
         "Islamic Republic of Iran",
         3,
         2,
         2,
         7
        ],
        [
         "TAKAHASHI Eiki",
         "Japan",
         "Athletics",
         "Japan",
         27,
         14,
         17,
         58
        ],
        [
         "TAKAYAMA Shunya",
         "Japan",
         "Athletics",
         "Japan",
         27,
         14,
         17,
         58
        ],
        [
         "TAKELE Bikila Tadese",
         "Ethiopia",
         "Athletics",
         "Ethiopia",
         1,
         1,
         2,
         4
        ],
        [
         "TALBI Zouhair",
         "Morocco",
         "Athletics",
         "Morocco",
         1,
         0,
         0,
         1
        ],
        [
         "TAMBERI Gianmarco",
         "Italy",
         "Athletics",
         "Italy",
         10,
         10,
         20,
         40
        ],
        [
         "TANAKA Nozomi",
         "Japan",
         "Athletics",
         "Japan",
         27,
         14,
         17,
         58
        ],
        [
         "TANG Xingqiang",
         "People's Republic of China",
         "Athletics",
         "People's Republic of China",
         38,
         32,
         18,
         88
        ],
        [
         "TANNER Samuel",
         "New Zealand",
         "Athletics",
         "New Zealand",
         7,
         6,
         7,
         20
        ],
        [
         "TAPPER Megan",
         "Jamaica",
         "Athletics",
         "Jamaica",
         4,
         1,
         4,
         9
        ],
        [
         "TAVERNIER Alexandra",
         "France",
         "Athletics",
         "France",
         10,
         12,
         11,
         33
        ],
        [
         "TAYE Ejgayehu",
         "Ethiopia",
         "Athletics",
         "Ethiopia",
         1,
         1,
         2,
         4
        ],
        [
         "TAYLOR Christopher",
         "Jamaica",
         "Athletics",
         "Jamaica",
         4,
         1,
         4,
         9
        ],
        [
         "TEARE Cooper",
         "United States of America",
         "Athletics",
         "United States of America",
         39,
         41,
         33,
         113
        ],
        [
         "TEFERI Maru",
         "Israel",
         "Athletics",
         "Israel",
         2,
         0,
         2,
         4
        ],
        [
         "TEFERI Selamawit",
         "Israel",
         "Athletics",
         "Israel",
         2,
         0,
         2,
         4
        ],
        [
         "TEFERI Senbere",
         "Ethiopia",
         "Athletics",
         "Ethiopia",
         1,
         1,
         2,
         4
        ],
        [
         "TEHUPEIORY Alvin",
         "Indonesia",
         "Athletics",
         "Indonesia",
         1,
         1,
         3,
         5
        ],
        [
         "TEKDAL Ayse",
         "Turkey",
         "Athletics",
         "Turkey",
         2,
         2,
         9,
         13
        ],
        [
         "TELES Marcio",
         "Brazil",
         "Athletics",
         "Brazil",
         7,
         6,
         8,
         21
        ],
        [
         "TENORIO Angela Gabriela",
         "Ecuador",
         "Athletics",
         "Ecuador",
         2,
         1,
         0,
         3
        ],
        [
         "TENTOGLOU Miltiadis",
         "Greece",
         "Athletics",
         "Greece",
         2,
         1,
         1,
         4
        ],
        [
         "TERADA Asuka",
         "Japan",
         "Athletics",
         "Japan",
         27,
         14,
         17,
         58
        ],
        [
         "TERLYUKEVICH Anna",
         "Belarus",
         "Athletics",
         "Belarus",
         1,
         3,
         3,
         7
        ],
        [
         "TERVO Krista",
         "Finland",
         "Athletics",
         "Finland",
         0,
         0,
         2,
         2
        ],
        [
         "TESAR Jan",
         "Czech Republic",
         "Athletics",
         "Czech Republic",
         4,
         4,
         3,
         11
        ],
        [
         "THEBE Baboloki",
         "Botswana",
         "Athletics",
         "Botswana",
         0,
         0,
         1,
         1
        ],
        [
         "THIAM Nafissatou",
         "Belgium",
         "Athletics",
         "Belgium",
         3,
         1,
         3,
         7
        ],
        [
         "THOMAS Damion",
         "Jamaica",
         "Athletics",
         "Jamaica",
         4,
         1,
         4,
         9
        ],
        [
         "THOMAS Donald",
         "Bahamas",
         "Athletics",
         "Bahamas",
         2,
         0,
         0,
         2
        ],
        [
         "THOMAS Gabrielle",
         "United States of America",
         "Athletics",
         "United States of America",
         39,
         41,
         33,
         113
        ],
        [
         "THOMAS-DODD Danniel",
         "Jamaica",
         "Athletics",
         "Jamaica",
         4,
         1,
         4,
         9
        ],
        [
         "THOMPSON Chris",
         "Great Britain",
         "Athletics",
         "Great Britain",
         22,
         21,
         22,
         65
        ],
        [
         "THOMPSON Curtis",
         "United States of America",
         "Athletics",
         "United States of America",
         39,
         41,
         33,
         113
        ],
        [
         "THOMPSON Lee",
         "Great Britain",
         "Athletics",
         "Great Britain",
         22,
         21,
         22,
         65
        ],
        [
         "THOMPSON Yanique",
         "Jamaica",
         "Athletics",
         "Jamaica",
         4,
         1,
         4,
         9
        ],
        [
         "THOMPSON-HERAH Elaine",
         "Jamaica",
         "Athletics",
         "Jamaica",
         4,
         1,
         4,
         9
        ],
        [
         "TIERNAN Patrick",
         "Australia",
         "Athletics",
         "Australia",
         17,
         7,
         22,
         46
        ],
        [
         "TIKHON Ivan",
         "Belarus",
         "Athletics",
         "Belarus",
         1,
         3,
         3,
         7
        ],
        [
         "TILGA Karel",
         "Estonia",
         "Athletics",
         "Estonia",
         1,
         0,
         1,
         2
        ],
        [
         "TINDOUFT Mohamed",
         "Morocco",
         "Athletics",
         "Morocco",
         1,
         0,
         0,
         1
        ],
        [
         "TINGAY Declan",
         "Australia",
         "Athletics",
         "Australia",
         17,
         7,
         22,
         46
        ],
        [
         "TIROP Agnes Jebet",
         "Kenya",
         "Athletics",
         "Kenya",
         4,
         4,
         2,
         10
        ],
        [
         "TIYOURI Maor",
         "Israel",
         "Athletics",
         "Israel",
         2,
         0,
         2,
         4
        ],
        [
         "TKACHUK Viktoriya",
         "Ukraine",
         "Athletics",
         "Ukraine",
         1,
         6,
         12,
         19
        ],
        [
         "TOADER Andrei Rares",
         "Romania",
         "Athletics",
         "Romania",
         1,
         3,
         0,
         4
        ],
        [
         "TOBE Naoto",
         "Japan",
         "Athletics",
         "Japan",
         27,
         14,
         17,
         58
        ],
        [
         "TOIMIL Maria Belen",
         "Spain",
         "Athletics",
         "Spain",
         3,
         8,
         6,
         17
        ],
        [
         "TOLJ Marija",
         "Croatia",
         "Athletics",
         "Croatia",
         3,
         3,
         2,
         8
        ],
        [
         "TOM Noah Nirmal",
         "India",
         "Athletics",
         "India",
         1,
         2,
         4,
         7
        ],
        [
         "TOMALA Dawid",
         "Poland",
         "Athletics",
         "Poland",
         4,
         5,
         5,
         14
        ],
        [
         "TOMASEVIC Dragana",
         "Serbia",
         "Athletics",
         "Serbia",
         3,
         1,
         5,
         9
        ],
        [
         "TOOR Tajinderpal Singh",
         "India",
         "Athletics",
         "India",
         1,
         2,
         4,
         7
        ],
        [
         "TORRES Daniela",
         "Mexico",
         "Athletics",
         "Mexico",
         0,
         0,
         4,
         4
        ],
        [
         "TORRIJOS Pablo",
         "Spain",
         "Athletics",
         "Spain",
         3,
         8,
         6,
         17
        ],
        [
         "TORTU Filippo",
         "Italy",
         "Athletics",
         "Italy",
         10,
         10,
         20,
         40
        ],
        [
         "TOTH Lili Anna",
         "Hungary",
         "Athletics",
         "Hungary",
         6,
         7,
         7,
         20
        ],
        [
         "TOTH Matej",
         "Slovakia",
         "Athletics",
         "Slovakia",
         1,
         2,
         1,
         4
        ],
        [
         "TOUATI Mohamed",
         "Tunisia",
         "Athletics",
         "Tunisia",
         1,
         1,
         0,
         2
        ],
        [
         "TOYODA Masaki",
         "Japan",
         "Athletics",
         "Japan",
         27,
         14,
         17,
         58
        ],
        [
         "TRABER Gregor",
         "Germany",
         "Athletics",
         "Germany",
         10,
         11,
         16,
         37
        ],
        [
         "TRACEY Tyquendo",
         "Jamaica",
         "Athletics",
         "Jamaica",
         4,
         1,
         4,
         9
        ],
        [
         "TRAPLETTI Valentina",
         "Italy",
         "Athletics",
         "Italy",
         10,
         10,
         20,
         40
        ],
        [
         "TREVISAN Giancarla",
         "Italy",
         "Athletics",
         "Italy",
         10,
         10,
         20,
         40
        ],
        [
         "TRIPPAS Edward",
         "Australia",
         "Athletics",
         "Australia",
         17,
         7,
         22,
         46
        ],
        [
         "TROST Alessia",
         "Italy",
         "Athletics",
         "Italy",
         10,
         10,
         20,
         40
        ],
        [
         "TROST Katharina",
         "Germany",
         "Athletics",
         "Germany",
         10,
         11,
         16,
         37
        ],
        [
         "TRUSKAUSKAS Gediminas",
         "Lithuania",
         "Athletics",
         "Lithuania",
         0,
         1,
         0,
         1
        ],
        [
         "TSEGAY Gudaf",
         "Ethiopia",
         "Athletics",
         "Ethiopia",
         1,
         1,
         2,
         4
        ],
        [
         "TSEVEENRAVDAN Byambajav",
         "Mongolia",
         "Athletics",
         "Mongolia",
         0,
         1,
         3,
         4
        ],
        [
         "TSIAMIS Dimitrios",
         "Greece",
         "Athletics",
         "Greece",
         2,
         1,
         1,
         4
        ],
        [
         "TSIMANOUSKAYA Krystsina",
         "Belarus",
         "Athletics",
         "Belarus",
         1,
         3,
         3,
         7
        ],
        [
         "TSINOPOULOU Panagiota",
         "Greece",
         "Athletics",
         "Greece",
         2,
         1,
         1,
         4
        ],
        [
         "TSUHA Hibiki",
         "Japan",
         "Athletics",
         "Japan",
         27,
         14,
         17,
         58
        ],
        [
         "TSURUTA Remi",
         "Japan",
         "Athletics",
         "Japan",
         27,
         14,
         17,
         58
        ],
        [
         "TUAL Gabriel",
         "France",
         "Athletics",
         "France",
         10,
         12,
         11,
         33
        ],
        [
         "TUEI Emily Cherotich",
         "Kenya",
         "Athletics",
         "Kenya",
         4,
         4,
         2,
         10
        ],
        [
         "TUGSUZ Eda",
         "Turkey",
         "Athletics",
         "Turkey",
         2,
         2,
         9,
         13
        ],
        [
         "TULIAMUK Aliphine Chepkerker",
         "United States of America",
         "Athletics",
         "United States of America",
         39,
         41,
         33,
         113
        ],
        [
         "TUNTIVATE Kieran",
         "Thailand",
         "Athletics",
         "Thailand",
         1,
         0,
         1,
         2
        ],
        [
         "TUR Marc",
         "Spain",
         "Athletics",
         "Spain",
         3,
         8,
         6,
         17
        ],
        [
         "TURNER Jessica",
         "Great Britain",
         "Athletics",
         "Great Britain",
         22,
         21,
         22,
         65
        ],
        [
         "TWELL Stephanie",
         "Great Britain",
         "Athletics",
         "Great Britain",
         22,
         21,
         22,
         65
        ],
        [
         "UGEN Lorraine",
         "Great Britain",
         "Athletics",
         "Great Britain",
         22,
         21,
         22,
         65
        ],
        [
         "UIBO Maicel",
         "Estonia",
         "Athletics",
         "Estonia",
         1,
         0,
         1,
         2
        ],
        [
         "UJAH Chijindu",
         "Great Britain",
         "Athletics",
         "Great Britain",
         22,
         21,
         22,
         65
        ],
        [
         "UKO Imaobong Nse",
         "Nigeria",
         "Athletics",
         "Nigeria",
         0,
         1,
         1,
         2
        ],
        [
         "ULAD Adbi Hakin",
         "Denmark",
         "Athletics",
         "Denmark",
         3,
         4,
         4,
         11
        ],
        [
         "URABE Ran",
         "Japan",
         "Athletics",
         "Japan",
         27,
         14,
         17,
         58
        ],
        [
         "URADNIK Miroslav",
         "Slovakia",
         "Athletics",
         "Slovakia",
         1,
         2,
         1,
         4
        ],
        [
         "URENA Jorge",
         "Spain",
         "Athletics",
         "Spain",
         3,
         8,
         6,
         17
        ],
        [
         "URRUTIA Yosiris",
         "Colombia",
         "Athletics",
         "Colombia",
         0,
         4,
         1,
         5
        ],
        [
         "USORO Ruth",
         "Nigeria",
         "Athletics",
         "Nigeria",
         0,
         1,
         1,
         2
        ],
        [
         "UYAR Oguz",
         "Turkey",
         "Athletics",
         "Turkey",
         2,
         2,
         9,
         13
        ],
        [
         "VADLEJCH Jakub",
         "Czech Republic",
         "Athletics",
         "Czech Republic",
         4,
         4,
         3,
         11
        ],
        [
         "VAILLANT Ludvy",
         "France",
         "Athletics",
         "France",
         10,
         12,
         11,
         33
        ],
        [
         "VAISMAN Diana",
         "Israel",
         "Athletics",
         "Israel",
         2,
         0,
         2,
         4
        ],
        [
         "VALETTE Laura",
         "France",
         "Athletics",
         "France",
         10,
         12,
         11,
         33
        ],
        [
         "VALLORTIGARA Elena",
         "Italy",
         "Athletics",
         "Italy",
         10,
         10,
         20,
         40
        ],
        [
         "van BUSKIRK Kate",
         "Canada",
         "Athletics",
         "Canada",
         7,
         6,
         11,
         24
        ],
        [
         "van de WIEL Anne",
         "Netherlands",
         "Athletics",
         "Netherlands",
         10,
         12,
         14,
         36
        ],
        [
         "van den BROECK Naomi",
         "Belgium",
         "Athletics",
         "Belgium",
         3,
         1,
         3,
         7
        ],
        [
         "van der PLAETSEN Thomas",
         "Belgium",
         "Athletics",
         "Belgium",
         3,
         1,
         3,
         7
        ],
        [
         "van der REIJKEN Irene",
         "Netherlands",
         "Athletics",
         "Netherlands",
         10,
         12,
         14,
         36
        ],
        [
         "van DIEPEN Tony",
         "Netherlands",
         "Athletics",
         "Netherlands",
         10,
         12,
         14,
         36
        ],
        [
         "van DYK Jo Ane",
         "South Africa",
         "Athletics",
         "South Africa",
         1,
         2,
         0,
         3
        ],
        [
         "van ES Diane",
         "Netherlands",
         "Athletics",
         "Netherlands",
         10,
         12,
         14,
         36
        ],
        [
         "van GOOL Joris",
         "Netherlands",
         "Athletics",
         "Netherlands",
         10,
         12,
         14,
         36
        ],
        [
         "van HUNENSTIJN Marije",
         "Netherlands",
         "Athletics",
         "Netherlands",
         10,
         12,
         14,
         36
        ],
        [
         "van KLINKEN Jorinde",
         "Netherlands",
         "Athletics",
         "Netherlands",
         10,
         12,
         14,
         36
        ],
        [
         "van NIEKERK Wayde",
         "South Africa",
         "Athletics",
         "South Africa",
         1,
         2,
         0,
         3
        ],
        [
         "van NUNEN Bart",
         "Netherlands",
         "Athletics",
         "Netherlands",
         10,
         12,
         14,
         36
        ],
        [
         "van ROOYEN Jason",
         "South Africa",
         "Athletics",
         "South Africa",
         1,
         2,
         0,
         3
        ],
        [
         "van ROOYEN Rocco",
         "South Africa",
         "Athletics",
         "South Africa",
         1,
         2,
         0,
         3
        ],
        [
         "van VLIET Leonie",
         "Netherlands",
         "Athletics",
         "Netherlands",
         10,
         12,
         14,
         36
        ],
        [
         "van WYK Chederick",
         "South Africa",
         "Athletics",
         "South Africa",
         1,
         2,
         0,
         3
        ],
        [
         "van ZYL Irvette",
         "South Africa",
         "Athletics",
         "South Africa",
         1,
         2,
         0,
         3
        ],
        [
         "VANDERBEMDEN Robin",
         "Belgium",
         "Athletics",
         "Belgium",
         3,
         1,
         3,
         7
        ],
        [
         "VANDERELST Elise",
         "Belgium",
         "Athletics",
         "Belgium",
         3,
         1,
         3,
         7
        ],
        [
         "VASILCHANKA Yury",
         "Belarus",
         "Athletics",
         "Belarus",
         1,
         3,
         3,
         7
        ],
        [
         "VASILIOU Irini",
         "Greece",
         "Athletics",
         "Greece",
         2,
         1,
         1,
         4
        ],
        [
         "VAZQUEZ Wesley",
         "Puerto Rico",
         "Athletics",
         "Puerto Rico",
         1,
         0,
         0,
         1
        ],
        [
         "VEERAMANI Revathi",
         "India",
         "Athletics",
         "India",
         1,
         2,
         4,
         7
        ],
        [
         "VEGA Jesus Tadeo",
         "Mexico",
         "Athletics",
         "Mexico",
         0,
         0,
         4,
         4
        ],
        [
         "VEIGA Evelise",
         "Portugal",
         "Athletics",
         "Portugal",
         1,
         1,
         2,
         4
        ],
        [
         "VEITIA Lisneidy",
         "Cuba",
         "Athletics",
         "Cuba",
         7,
         3,
         5,
         15
        ],
        [
         "VELAZCO Davisleydi",
         "Cuba",
         "Athletics",
         "Cuba",
         7,
         3,
         5,
         15
        ],
        [
         "VELVERE Liga",
         "Latvia",
         "Athletics",
         "Latvia",
         1,
         0,
         1,
         2
        ],
        [
         "VENKATESAN Subha",
         "India",
         "Athletics",
         "India",
         1,
         2,
         4,
         7
        ],
        [
         "VENYERCSAN Bence",
         "Hungary",
         "Athletics",
         "Hungary",
         6,
         7,
         7,
         20
        ],
        [
         "VERBRUGGEN Hanne",
         "Belgium",
         "Athletics",
         "Belgium",
         3,
         1,
         3,
         7
        ],
        [
         "VERVAET Imke",
         "Belgium",
         "Athletics",
         "Belgium",
         3,
         1,
         3,
         7
        ],
        [
         "VESELY Vitezslav",
         "Czech Republic",
         "Athletics",
         "Czech Republic",
         4,
         4,
         3,
         11
        ],
        [
         "VETTER Anouk",
         "Netherlands",
         "Athletics",
         "Netherlands",
         10,
         12,
         14,
         36
        ],
        [
         "VETTER Johannes",
         "Germany",
         "Athletics",
         "Germany",
         10,
         11,
         16,
         37
        ],
        [
         "VICAUT Jimmy",
         "France",
         "Athletics",
         "France",
         10,
         12,
         11,
         33
        ],
        [
         "VICENTE Maria",
         "Spain",
         "Athletics",
         "Spain",
         3,
         8,
         6,
         17
        ],
        [
         "VICTOR Lindon",
         "Grenada",
         "Athletics",
         "Grenada",
         0,
         0,
         1,
         1
        ],
        [
         "VIDES Jorge",
         "Brazil",
         "Athletics",
         "Brazil",
         7,
         6,
         8,
         21
        ],
        [
         "VIDTS Noor",
         "Belgium",
         "Athletics",
         "Belgium",
         3,
         1,
         3,
         7
        ],
        [
         "VIEIRA Joao",
         "Portugal",
         "Athletics",
         "Portugal",
         1,
         1,
         2,
         4
        ],
        [
         "VILAR Lucas",
         "Brazil",
         "Athletics",
         "Brazil",
         7,
         6,
         8,
         21
        ],
        [
         "VILLALBA Virginia Elizabeth",
         "Ecuador",
         "Athletics",
         "Ecuador",
         2,
         1,
         0,
         3
        ],
        [
         "VILLANUEVA FLORES Claudio Paulino",
         "Ecuador",
         "Athletics",
         "Ecuador",
         2,
         1,
         0,
         3
        ],
        [
         "VIRBALYTE Brigita",
         "Lithuania",
         "Athletics",
         "Lithuania",
         0,
         1,
         0,
         1
        ],
        [
         "VISSER Nadine",
         "Netherlands",
         "Athletics",
         "Netherlands",
         10,
         12,
         14,
         36
        ],
        [
         "VITA Claudine",
         "Germany",
         "Athletics",
         "Germany",
         10,
         11,
         16,
         37
        ],
        [
         "VITORINO de CARVALHO Tabata",
         "Brazil",
         "Athletics",
         "Brazil",
         7,
         6,
         8,
         21
        ],
        [
         "VLOON Menno",
         "Netherlands",
         "Athletics",
         "Netherlands",
         10,
         12,
         14,
         36
        ],
        [
         "VOLKO Jan",
         "Slovakia",
         "Athletics",
         "Slovakia",
         1,
         2,
         1,
         4
        ],
        [
         "VONDROVA Lada",
         "Czech Republic",
         "Athletics",
         "Czech Republic",
         4,
         4,
         3,
         11
        ],
        [
         "VORONINA Ekaterina",
         "Uzbekistan",
         "Athletics",
         "Uzbekistan",
         3,
         0,
         2,
         5
        ],
        [
         "VRABCOVA NYVLTOVA Eva",
         "Czech Republic",
         "Athletics",
         "Czech Republic",
         4,
         4,
         3,
         11
        ],
        [
         "VRZALOVA Simona",
         "Czech Republic",
         "Athletics",
         "Czech Republic",
         4,
         4,
         3,
         11
        ],
        [
         "VUCENOVIC Marija",
         "Serbia",
         "Athletics",
         "Serbia",
         3,
         1,
         5,
         9
        ],
        [
         "WAGNER-GYURKES Viktoria",
         "Hungary",
         "Athletics",
         "Hungary",
         6,
         7,
         7,
         20
        ],
        [
         "WALCOTT-NOLAN Revee",
         "Great Britain",
         "Athletics",
         "Great Britain",
         22,
         21,
         22,
         65
        ],
        [
         "WALE Getnet",
         "Ethiopia",
         "Athletics",
         "Ethiopia",
         1,
         1,
         2,
         4
        ],
        [
         "WALLI Susanne",
         "Austria",
         "Athletics",
         "Austria",
         1,
         1,
         5,
         7
        ],
        [
         "WALSH Julian Jrummi",
         "Japan",
         "Athletics",
         "Japan",
         27,
         14,
         17,
         58
        ],
        [
         "WALSH Tomas",
         "New Zealand",
         "Athletics",
         "New Zealand",
         7,
         6,
         7,
         20
        ],
        [
         "WANDERS Julien",
         "Switzerland",
         "Athletics",
         "Switzerland",
         3,
         4,
         6,
         13
        ],
        [
         "WANG Chunyu",
         "People's Republic of China",
         "Athletics",
         "People's Republic of China",
         38,
         32,
         18,
         88
        ],
        [
         "WANG Kaihua",
         "People's Republic of China",
         "Athletics",
         "People's Republic of China",
         38,
         32,
         18,
         88
        ],
        [
         "WANG Qin",
         "People's Republic of China",
         "Athletics",
         "People's Republic of China",
         38,
         32,
         18,
         88
        ],
        [
         "WANG Rui",
         "People's Republic of China",
         "Athletics",
         "People's Republic of China",
         38,
         32,
         18,
         88
        ],
        [
         "WANG Yu",
         "People's Republic of China",
         "Athletics",
         "People's Republic of China",
         38,
         32,
         18,
         88
        ],
        [
         "WANG Zheng",
         "People's Republic of China",
         "Athletics",
         "People's Republic of China",
         38,
         32,
         18,
         88
        ],
        [
         "WARDENBURG Nout",
         "Netherlands",
         "Athletics",
         "Netherlands",
         10,
         12,
         14,
         36
        ],
        [
         "WARHOLM Karsten",
         "Norway",
         "Athletics",
         "Norway",
         4,
         2,
         2,
         8
        ],
        [
         "WARNER Damian",
         "Canada",
         "Athletics",
         "Canada",
         7,
         6,
         11,
         24
        ],
        [
         "WATRIN Julien",
         "Belgium",
         "Athletics",
         "Belgium",
         3,
         1,
         3,
         7
        ],
        [
         "WATSON Sage",
         "Canada",
         "Athletics",
         "Canada",
         7,
         6,
         11,
         24
        ],
        [
         "WAYMENT Courtney",
         "United States of America",
         "Athletics",
         "United States of America",
         39,
         41,
         33,
         113
        ],
        [
         "WEBER Julian",
         "Germany",
         "Athletics",
         "Germany",
         10,
         11,
         16,
         37
        ],
        [
         "WEI Yongli",
         "People's Republic of China",
         "Athletics",
         "People's Republic of China",
         38,
         32,
         18,
         88
        ],
        [
         "WEIGHTMAN Lisa",
         "Australia",
         "Athletics",
         "Australia",
         17,
         7,
         22,
         46
        ],
        [
         "WEIR Jillian",
         "Canada",
         "Athletics",
         "Canada",
         7,
         6,
         11,
         24
        ],
        [
         "WEIR Zane",
         "Italy",
         "Athletics",
         "Italy",
         10,
         10,
         20,
         40
        ],
        [
         "WEISSHAIDINGER Lukas",
         "Austria",
         "Athletics",
         "Austria",
         1,
         1,
         5,
         7
        ],
        [
         "WELTEJI Diribe",
         "Ethiopia",
         "Athletics",
         "Ethiopia",
         1,
         1,
         2,
         4
        ],
        [
         "WESCHE Maddison-Lee",
         "New Zealand",
         "Athletics",
         "New Zealand",
         7,
         6,
         7,
         20
        ],
        [
         "WESSOLLY Jessica-Bianca",
         "Germany",
         "Athletics",
         "Germany",
         10,
         11,
         16,
         37
        ],
        [
         "WHITNEY Kaylin",
         "United States of America",
         "Athletics",
         "United States of America",
         39,
         41,
         33,
         113
        ],
        [
         "WHYTE Ronda",
         "Jamaica",
         "Athletics",
         "Jamaica",
         4,
         1,
         4,
         9
        ],
        [
         "WICKI Silvan",
         "Switzerland",
         "Athletics",
         "Switzerland",
         3,
         4,
         6,
         13
        ],
        [
         "WIELGOSZ Anna",
         "Poland",
         "Athletics",
         "Poland",
         4,
         5,
         5,
         14
        ],
        [
         "WIESIOLEK Pawel",
         "Poland",
         "Athletics",
         "Poland",
         4,
         5,
         5,
         14
        ],
        [
         "WIGHTMAN Jake",
         "Great Britain",
         "Athletics",
         "Great Britain",
         22,
         21,
         22,
         65
        ],
        [
         "WIKSTROM Carolina",
         "Sweden",
         "Athletics",
         "Sweden",
         3,
         6,
         0,
         9
        ],
        [
         "WILKINSON Callum",
         "Great Britain",
         "Athletics",
         "Great Britain",
         22,
         21,
         22,
         65
        ],
        [
         "WILLIAMS Benjamin",
         "Great Britain",
         "Athletics",
         "Great Britain",
         22,
         21,
         22,
         65
        ],
        [
         "WILLIAMS Briana",
         "Jamaica",
         "Athletics",
         "Jamaica",
         4,
         1,
         4,
         9
        ],
        [
         "WILLIAMS Danielle",
         "Jamaica",
         "Athletics",
         "Jamaica",
         4,
         1,
         4,
         9
        ],
        [
         "WILLIAMS Hannah",
         "Great Britain",
         "Athletics",
         "Great Britain",
         22,
         21,
         22,
         65
        ],
        [
         "WILLIAMS Jodie",
         "Great Britain",
         "Athletics",
         "Great Britain",
         22,
         21,
         22,
         65
        ],
        [
         "WILLIAMS Kendell",
         "United States of America",
         "Athletics",
         "United States of America",
         39,
         41,
         33,
         113
        ],
        [
         "WILLIAMS Kimberly",
         "Jamaica",
         "Athletics",
         "Jamaica",
         4,
         1,
         4,
         9
        ],
        [
         "WILLIAMS Micah",
         "United States of America",
         "Athletics",
         "United States of America",
         39,
         41,
         33,
         113
        ],
        [
         "WILLIAMS Stacey Ann",
         "Jamaica",
         "Athletics",
         "Jamaica",
         4,
         1,
         4,
         9
        ],
        [
         "WILLIS Nick",
         "New Zealand",
         "Athletics",
         "New Zealand",
         7,
         6,
         7,
         20
        ],
        [
         "WILSON Ajee",
         "United States of America",
         "Athletics",
         "United States of America",
         39,
         41,
         33,
         113
        ],
        [
         "WILSON Alex",
         "Switzerland",
         "Athletics",
         "Switzerland",
         3,
         4,
         6,
         13
        ],
        [
         "WILSON Jamal",
         "Bahamas",
         "Athletics",
         "Bahamas",
         2,
         0,
         0,
         2
        ],
        [
         "WINGER Kara",
         "United States of America",
         "Athletics",
         "United States of America",
         39,
         41,
         33,
         113
        ],
        [
         "WINKCUP Georgia",
         "Australia",
         "Athletics",
         "Australia",
         17,
         7,
         22,
         46
        ],
        [
         "WINKLER Rudy",
         "United States of America",
         "Athletics",
         "United States of America",
         39,
         41,
         33,
         113
        ],
        [
         "WLODARCZYK Anita",
         "Poland",
         "Athletics",
         "Poland",
         4,
         5,
         5,
         14
        ],
        [
         "WODAK Natasha",
         "Canada",
         "Athletics",
         "Canada",
         7,
         6,
         11,
         24
        ],
        [
         "WOJCIECHOWSKI Pawel",
         "Poland",
         "Athletics",
         "Poland",
         4,
         5,
         5,
         14
        ],
        [
         "WOLE Agrie",
         "Ethiopia",
         "Athletics",
         "Ethiopia",
         1,
         1,
         2,
         4
        ],
        [
         "WONDEMAGEGN Zerfe",
         "Ethiopia",
         "Athletics",
         "Ethiopia",
         1,
         1,
         2,
         4
        ],
        [
         "WOODFINE Tristan",
         "Canada",
         "Athletics",
         "Canada",
         7,
         6,
         11,
         24
        ],
        [
         "WORKU Fantu",
         "Ethiopia",
         "Athletics",
         "Ethiopia",
         1,
         1,
         2,
         4
        ],
        [
         "WORKUHA GETACHEW Wold Eamanuel",
         "Ethiopia",
         "Athletics",
         "Ethiopia",
         1,
         1,
         2,
         4
        ],
        [
         "WRIGHT Alex",
         "Ireland",
         "Athletics",
         "Ireland",
         2,
         0,
         2,
         4
        ],
        [
         "WRIGHT Chad",
         "Jamaica",
         "Athletics",
         "Jamaica",
         4,
         1,
         4,
         9
        ],
        [
         "WROBEL David",
         "Germany",
         "Athletics",
         "Germany",
         10,
         11,
         16,
         37
        ],
        [
         "WU Ruiting",
         "People's Republic of China",
         "Athletics",
         "People's Republic of China",
         38,
         32,
         18,
         88
        ],
        [
         "WU Zhiqiang",
         "People's Republic of China",
         "Athletics",
         "People's Republic of China",
         38,
         32,
         18,
         88
        ],
        [
         "XIE Wenjun",
         "People's Republic of China",
         "Athletics",
         "People's Republic of China",
         38,
         32,
         18,
         88
        ],
        [
         "XIE Zhenye",
         "People's Republic of China",
         "Athletics",
         "People's Republic of China",
         38,
         32,
         18,
         88
        ],
        [
         "XU Huiqin",
         "People's Republic of China",
         "Athletics",
         "People's Republic of China",
         38,
         32,
         18,
         88
        ],
        [
         "XU Shuangshuang",
         "People's Republic of China",
         "Athletics",
         "People's Republic of China",
         38,
         32,
         18,
         88
        ],
        [
         "YAHIYA Muhammed Anas",
         "India",
         "Athletics",
         "India",
         1,
         2,
         4,
         7
        ],
        [
         "YAMAGATA Ryota",
         "Japan",
         "Athletics",
         "Japan",
         27,
         14,
         17,
         58
        ],
        [
         "YAMAGUCHI Kosei",
         "Japan",
         "Athletics",
         "Japan",
         27,
         14,
         17,
         58
        ],
        [
         "YAMAMOTO Seito",
         "Japan",
         "Athletics",
         "Japan",
         27,
         14,
         17,
         58
        ],
        [
         "YAMANAKA Yuno",
         "Japan",
         "Athletics",
         "Japan",
         27,
         14,
         17,
         58
        ],
        [
         "YAMASHITA Jun",
         "Japan",
         "Athletics",
         "Japan",
         27,
         14,
         17,
         58
        ],
        [
         "YAMAUCHI Hiromu",
         "Japan",
         "Athletics",
         "Japan",
         27,
         14,
         17,
         58
        ],
        [
         "YAN Haibin",
         "People's Republic of China",
         "Athletics",
         "People's Republic of China",
         38,
         32,
         18,
         88
        ],
        [
         "YANAGITA Hiroki",
         "Japan",
         "Athletics",
         "Japan",
         27,
         14,
         17,
         58
        ],
        [
         "YANG Chun-Han",
         "Chinese Taipei",
         "Athletics",
         "Chinese Taipei",
         2,
         4,
         6,
         12
        ],
        [
         "YANG Jiayu",
         "People's Republic of China",
         "Athletics",
         "People's Republic of China",
         38,
         32,
         18,
         88
        ],
        [
         "YAVI Winfred Mutile",
         "Bahrain",
         "Athletics",
         "Bahrain",
         0,
         1,
         0,
         1
        ],
        [
         "YEARGIN Nicole",
         "Great Britain",
         "Athletics",
         "Great Britain",
         22,
         21,
         22,
         65
        ],
        [
         "YEBOAH Emmanuel",
         "Ghana",
         "Athletics",
         "Ghana",
         0,
         0,
         1,
         1
        ],
        [
         "YEE Regan",
         "Canada",
         "Athletics",
         "Canada",
         7,
         6,
         11,
         24
        ],
        [
         "YEGO Julius",
         "Kenya",
         "Athletics",
         "Kenya",
         4,
         4,
         2,
         10
        ],
        [
         "YIMER Zeineba",
         "Ethiopia",
         "Athletics",
         "Ethiopia",
         1,
         1,
         2,
         4
        ],
        [
         "YOUNG Alex",
         "United States of America",
         "Athletics",
         "United States of America",
         39,
         41,
         33,
         113
        ],
        [
         "YOUNG Charokee",
         "Jamaica",
         "Athletics",
         "Jamaica",
         4,
         1,
         4,
         9
        ],
        [
         "ZABUZHENKO Eduard",
         "Ukraine",
         "Athletics",
         "Ukraine",
         1,
         6,
         12,
         19
        ],
        [
         "ZAGAINOVA Diana",
         "Lithuania",
         "Athletics",
         "Lithuania",
         0,
         1,
         0,
         1
        ],
        [
         "ZAGRE Anne",
         "Belgium",
         "Athletics",
         "Belgium",
         3,
         1,
         3,
         7
        ],
        [
         "ZAHI Carolle",
         "France",
         "Athletics",
         "France",
         10,
         12,
         11,
         33
        ],
        [
         "ZAKALNYTSKYY Maryan",
         "Ukraine",
         "Athletics",
         "Ukraine",
         1,
         6,
         12,
         19
        ],
        [
         "ZALEWSKI Karol",
         "Poland",
         "Athletics",
         "Poland",
         4,
         5,
         5,
         14
        ],
        [
         "ZAMBRANO Anthony Jose",
         "Colombia",
         "Athletics",
         "Colombia",
         0,
         4,
         1,
         5
        ],
        [
         "ZANGO Hugues Fabrice",
         "Burkina Faso",
         "Athletics",
         "Burkina Faso",
         0,
         0,
         1,
         1
        ],
        [
         "ZAPLETALOVA Emma",
         "Slovakia",
         "Athletics",
         "Slovakia",
         1,
         2,
         1,
         4
        ],
        [
         "ZAYAS Luis Enrique",
         "Cuba",
         "Athletics",
         "Cuba",
         7,
         3,
         5,
         15
        ],
        [
         "ZAZINI Sokwakhana",
         "South Africa",
         "Athletics",
         "South Africa",
         1,
         2,
         0,
         3
        ],
        [
         "ZDZIEBLO Katarzyna",
         "Poland",
         "Athletics",
         "Poland",
         4,
         5,
         5,
         14
        ],
        [
         "ZELEKE Samuel",
         "Ethiopia",
         "Athletics",
         "Ethiopia",
         1,
         1,
         2,
         4
        ],
        [
         "ZERNIKEL Oleg",
         "Germany",
         "Athletics",
         "Germany",
         10,
         11,
         16,
         37
        ],
        [
         "ZEZE Meba Mickael",
         "France",
         "Athletics",
         "France",
         10,
         12,
         11,
         33
        ],
        [
         "ZEZE Ryan",
         "France",
         "Athletics",
         "France",
         10,
         12,
         11,
         33
        ],
        [
         "ZHANG Deshun",
         "People's Republic of China",
         "Athletics",
         "People's Republic of China",
         38,
         32,
         18,
         88
        ],
        [
         "ZHANG Jun",
         "People's Republic of China",
         "Athletics",
         "People's Republic of China",
         38,
         32,
         18,
         88
        ],
        [
         "ZHANG Linru",
         "People's Republic of China",
         "Athletics",
         "People's Republic of China",
         38,
         32,
         18,
         88
        ],
        [
         "ZHANG Yaoguang",
         "People's Republic of China",
         "Athletics",
         "People's Republic of China",
         38,
         32,
         18,
         88
        ],
        [
         "ZHENG Ninali",
         "People's Republic of China",
         "Athletics",
         "People's Republic of China",
         38,
         32,
         18,
         88
        ],
        [
         "ZHODZIK Maryia",
         "Belarus",
         "Athletics",
         "Belarus",
         1,
         3,
         3,
         7
        ],
        [
         "ZHU Yaming",
         "People's Republic of China",
         "Athletics",
         "People's Republic of China",
         38,
         32,
         18,
         88
        ],
        [
         "ZHUK Iryna",
         "Belarus",
         "Athletics",
         "Belarus",
         1,
         3,
         3,
         7
        ],
        [
         "ZHUK Vitaliy",
         "Belarus",
         "Athletics",
         "Belarus",
         1,
         3,
         3,
         7
        ],
        [
         "ZIEMEK Zachery",
         "United States of America",
         "Athletics",
         "United States of America",
         39,
         41,
         33,
         113
        ],
        [
         "ZIUKAS Marius",
         "Lithuania",
         "Athletics",
         "Lithuania",
         0,
         1,
         0,
         1
        ],
        [
         "ZOGHLAMI Ala",
         "Italy",
         "Athletics",
         "Italy",
         10,
         10,
         20,
         40
        ],
        [
         "ZOGHLAMI Osama",
         "Italy",
         "Athletics",
         "Italy",
         10,
         10,
         20,
         40
        ],
        [
         "ZOHRI Lalu Muhammad",
         "Indonesia",
         "Athletics",
         "Indonesia",
         1,
         1,
         3,
         5
        ]
       ],
       "datasetInfos": [],
       "dbfsResultPath": null,
       "isJsonSchema": true,
       "metadata": {},
       "overflow": false,
       "plotOptions": {
        "customPlotOptions": {},
        "displayType": "table",
        "pivotAggregation": null,
        "pivotColumns": null,
        "xColumns": null,
        "yColumns": null
       },
       "removedWidgets": [],
       "schema": [
        {
         "metadata": "{}",
         "name": "Name",
         "type": "\"string\""
        },
        {
         "metadata": "{}",
         "name": "NOC",
         "type": "\"string\""
        },
        {
         "metadata": "{}",
         "name": "Discipline",
         "type": "\"string\""
        },
        {
         "metadata": "{}",
         "name": "Team/NOC",
         "type": "\"string\""
        },
        {
         "metadata": "{}",
         "name": "TotalGold",
         "type": "\"long\""
        },
        {
         "metadata": "{}",
         "name": "TotalSilver",
         "type": "\"long\""
        },
        {
         "metadata": "{}",
         "name": "TotalBronze",
         "type": "\"long\""
        },
        {
         "metadata": "{}",
         "name": "TotalMedals",
         "type": "\"long\""
        }
       ],
       "type": "table"
      }
     },
     "output_type": "display_data"
    },
    {
     "output_type": "display_data",
     "data": {
      "text/html": [
       "<style scoped>\n",
       "  .table-result-container {\n",
       "    max-height: 300px;\n",
       "    overflow: auto;\n",
       "  }\n",
       "  table, th, td {\n",
       "    border: 1px solid black;\n",
       "    border-collapse: collapse;\n",
       "  }\n",
       "  th, td {\n",
       "    padding: 5px;\n",
       "  }\n",
       "  th {\n",
       "    text-align: left;\n",
       "  }\n",
       "</style><div class='table-result-container'><table class='table-result'><thead style='background-color: white'><tr><th>Team/NOC</th><th>TotalGold</th><th>TotalSilver</th><th>TotalBronze</th><th>TotalMedals</th></tr></thead><tbody><tr><td>Côte d'Ivoire</td><td>0</td><td>0</td><td>1</td><td>1</td></tr><tr><td>Islamic Republic of Iran</td><td>3</td><td>2</td><td>2</td><td>7</td></tr><tr><td>Chinese Taipei</td><td>2</td><td>4</td><td>6</td><td>12</td></tr><tr><td>Sweden</td><td>3</td><td>6</td><td>0</td><td>9</td></tr><tr><td>Republic of Korea</td><td>6</td><td>4</td><td>10</td><td>20</td></tr><tr><td>Philippines</td><td>1</td><td>2</td><td>1</td><td>4</td></tr><tr><td>Malaysia</td><td>0</td><td>1</td><td>1</td><td>2</td></tr><tr><td>Fiji</td><td>1</td><td>0</td><td>1</td><td>2</td></tr><tr><td>Turkey</td><td>2</td><td>2</td><td>9</td><td>13</td></tr><tr><td>Germany</td><td>10</td><td>11</td><td>16</td><td>37</td></tr><tr><td>Jordan</td><td>0</td><td>1</td><td>1</td><td>2</td></tr><tr><td>France</td><td>10</td><td>12</td><td>11</td><td>33</td></tr><tr><td>Greece</td><td>2</td><td>1</td><td>1</td><td>4</td></tr><tr><td>Kosovo</td><td>2</td><td>0</td><td>0</td><td>2</td></tr><tr><td>Slovakia</td><td>1</td><td>2</td><td>1</td><td>4</td></tr><tr><td>Hong Kong, China</td><td>1</td><td>2</td><td>3</td><td>6</td></tr><tr><td>Argentina</td><td>0</td><td>1</td><td>2</td><td>3</td></tr><tr><td>Belgium</td><td>3</td><td>1</td><td>3</td><td>7</td></tr><tr><td>Great Britain</td><td>22</td><td>21</td><td>22</td><td>65</td></tr><tr><td>San Marino</td><td>0</td><td>1</td><td>2</td><td>3</td></tr><tr><td>Ecuador</td><td>2</td><td>1</td><td>0</td><td>3</td></tr><tr><td>Qatar</td><td>2</td><td>0</td><td>1</td><td>3</td></tr><tr><td>Finland</td><td>0</td><td>0</td><td>2</td><td>2</td></tr><tr><td>Ghana</td><td>0</td><td>0</td><td>1</td><td>1</td></tr><tr><td>Bahamas</td><td>2</td><td>0</td><td>0</td><td>2</td></tr><tr><td>India</td><td>1</td><td>2</td><td>4</td><td>7</td></tr><tr><td>Belarus</td><td>1</td><td>3</td><td>3</td><td>7</td></tr><tr><td>Kuwait</td><td>0</td><td>0</td><td>1</td><td>1</td></tr><tr><td>Puerto Rico</td><td>1</td><td>0</td><td>0</td><td>1</td></tr><tr><td>Croatia</td><td>3</td><td>3</td><td>2</td><td>8</td></tr><tr><td>Nigeria</td><td>0</td><td>1</td><td>1</td><td>2</td></tr><tr><td>Italy</td><td>10</td><td>10</td><td>20</td><td>40</td></tr><tr><td>Lithuania</td><td>0</td><td>1</td><td>0</td><td>1</td></tr><tr><td>Norway</td><td>4</td><td>2</td><td>2</td><td>8</td></tr><tr><td>Turkmenistan</td><td>0</td><td>1</td><td>0</td><td>1</td></tr><tr><td>Spain</td><td>3</td><td>8</td><td>6</td><td>17</td></tr><tr><td>Cuba</td><td>7</td><td>3</td><td>5</td><td>15</td></tr><tr><td>Denmark</td><td>3</td><td>4</td><td>4</td><td>11</td></tr><tr><td>Ireland</td><td>2</td><td>0</td><td>2</td><td>4</td></tr><tr><td>Thailand</td><td>1</td><td>0</td><td>1</td><td>2</td></tr><tr><td>Morocco</td><td>1</td><td>0</td><td>0</td><td>1</td></tr><tr><td>Ukraine</td><td>1</td><td>6</td><td>12</td><td>19</td></tr><tr><td>Venezuela</td><td>1</td><td>3</td><td>0</td><td>4</td></tr><tr><td>Israel</td><td>2</td><td>0</td><td>2</td><td>4</td></tr><tr><td>United States of America</td><td>39</td><td>41</td><td>33</td><td>113</td></tr><tr><td>Mexico</td><td>0</td><td>0</td><td>4</td><td>4</td></tr><tr><td>Georgia</td><td>2</td><td>5</td><td>1</td><td>8</td></tr><tr><td>Estonia</td><td>1</td><td>0</td><td>1</td><td>2</td></tr><tr><td>Indonesia</td><td>1</td><td>1</td><td>3</td><td>5</td></tr><tr><td>Mongolia</td><td>0</td><td>1</td><td>3</td><td>4</td></tr><tr><td>Azerbaijan</td><td>0</td><td>3</td><td>4</td><td>7</td></tr><tr><td>Grenada</td><td>0</td><td>0</td><td>1</td><td>1</td></tr><tr><td>Armenia</td><td>0</td><td>2</td><td>2</td><td>4</td></tr><tr><td>Tunisia</td><td>1</td><td>1</td><td>0</td><td>2</td></tr><tr><td>Saudi Arabia</td><td>0</td><td>1</td><td>0</td><td>1</td></tr><tr><td>Uganda</td><td>2</td><td>1</td><td>1</td><td>4</td></tr><tr><td>Namibia</td><td>0</td><td>1</td><td>0</td><td>1</td></tr><tr><td>Switzerland</td><td>3</td><td>4</td><td>6</td><td>13</td></tr><tr><td>Ethiopia</td><td>1</td><td>1</td><td>2</td><td>4</td></tr><tr><td>Jamaica</td><td>4</td><td>1</td><td>4</td><td>9</td></tr><tr><td>Latvia</td><td>1</td><td>0</td><td>1</td><td>2</td></tr><tr><td>Canada</td><td>7</td><td>6</td><td>11</td><td>24</td></tr><tr><td>Uzbekistan</td><td>3</td><td>0</td><td>2</td><td>5</td></tr><tr><td>Kyrgyzstan</td><td>0</td><td>2</td><td>1</td><td>3</td></tr><tr><td>North Macedonia</td><td>0</td><td>1</td><td>0</td><td>1</td></tr><tr><td>Czech Republic</td><td>4</td><td>4</td><td>3</td><td>11</td></tr><tr><td>Brazil</td><td>7</td><td>6</td><td>8</td><td>21</td></tr><tr><td>Kenya</td><td>4</td><td>4</td><td>2</td><td>10</td></tr><tr><td>Slovenia</td><td>3</td><td>1</td><td>1</td><td>5</td></tr><tr><td>Dominican Republic</td><td>0</td><td>3</td><td>2</td><td>5</td></tr><tr><td>Japan</td><td>27</td><td>14</td><td>17</td><td>58</td></tr><tr><td>Botswana</td><td>0</td><td>0</td><td>1</td><td>1</td></tr><tr><td>New Zealand</td><td>7</td><td>6</td><td>7</td><td>20</td></tr><tr><td>Poland</td><td>4</td><td>5</td><td>5</td><td>14</td></tr><tr><td>Portugal</td><td>1</td><td>1</td><td>2</td><td>4</td></tr><tr><td>Republic of Moldova</td><td>0</td><td>0</td><td>1</td><td>1</td></tr><tr><td>Australia</td><td>17</td><td>7</td><td>22</td><td>46</td></tr><tr><td>People's Republic of China</td><td>38</td><td>32</td><td>18</td><td>88</td></tr><tr><td>Romania</td><td>1</td><td>3</td><td>0</td><td>4</td></tr><tr><td>Bulgaria</td><td>3</td><td>1</td><td>2</td><td>6</td></tr><tr><td>Austria</td><td>1</td><td>1</td><td>5</td><td>7</td></tr><tr><td>Egypt</td><td>1</td><td>1</td><td>4</td><td>6</td></tr><tr><td>Kazakhstan</td><td>0</td><td>0</td><td>8</td><td>8</td></tr><tr><td>Serbia</td><td>3</td><td>1</td><td>5</td><td>9</td></tr><tr><td>South Africa</td><td>1</td><td>2</td><td>0</td><td>3</td></tr><tr><td>Burkina Faso</td><td>0</td><td>0</td><td>1</td><td>1</td></tr><tr><td>Bermuda</td><td>1</td><td>0</td><td>0</td><td>1</td></tr><tr><td>Bahrain</td><td>0</td><td>1</td><td>0</td><td>1</td></tr><tr><td>ROC</td><td>20</td><td>28</td><td>23</td><td>71</td></tr><tr><td>Colombia</td><td>0</td><td>4</td><td>1</td><td>5</td></tr><tr><td>Hungary</td><td>6</td><td>7</td><td>7</td><td>20</td></tr><tr><td>Syrian Arab Republic</td><td>0</td><td>0</td><td>1</td><td>1</td></tr><tr><td>Netherlands</td><td>10</td><td>12</td><td>14</td><td>36</td></tr></tbody></table></div>"
      ]
     },
     "metadata": {
      "application/vnd.databricks.v1+output": {
       "addedWidgets": {},
       "aggData": [],
       "aggError": "",
       "aggOverflow": false,
       "aggSchema": [],
       "aggSeriesLimitReached": false,
       "aggType": "",
       "arguments": {},
       "columnCustomDisplayInfos": {},
       "data": [
        [
         "Côte d'Ivoire",
         0,
         0,
         1,
         1
        ],
        [
         "Islamic Republic of Iran",
         3,
         2,
         2,
         7
        ],
        [
         "Chinese Taipei",
         2,
         4,
         6,
         12
        ],
        [
         "Sweden",
         3,
         6,
         0,
         9
        ],
        [
         "Republic of Korea",
         6,
         4,
         10,
         20
        ],
        [
         "Philippines",
         1,
         2,
         1,
         4
        ],
        [
         "Malaysia",
         0,
         1,
         1,
         2
        ],
        [
         "Fiji",
         1,
         0,
         1,
         2
        ],
        [
         "Turkey",
         2,
         2,
         9,
         13
        ],
        [
         "Germany",
         10,
         11,
         16,
         37
        ],
        [
         "Jordan",
         0,
         1,
         1,
         2
        ],
        [
         "France",
         10,
         12,
         11,
         33
        ],
        [
         "Greece",
         2,
         1,
         1,
         4
        ],
        [
         "Kosovo",
         2,
         0,
         0,
         2
        ],
        [
         "Slovakia",
         1,
         2,
         1,
         4
        ],
        [
         "Hong Kong, China",
         1,
         2,
         3,
         6
        ],
        [
         "Argentina",
         0,
         1,
         2,
         3
        ],
        [
         "Belgium",
         3,
         1,
         3,
         7
        ],
        [
         "Great Britain",
         22,
         21,
         22,
         65
        ],
        [
         "San Marino",
         0,
         1,
         2,
         3
        ],
        [
         "Ecuador",
         2,
         1,
         0,
         3
        ],
        [
         "Qatar",
         2,
         0,
         1,
         3
        ],
        [
         "Finland",
         0,
         0,
         2,
         2
        ],
        [
         "Ghana",
         0,
         0,
         1,
         1
        ],
        [
         "Bahamas",
         2,
         0,
         0,
         2
        ],
        [
         "India",
         1,
         2,
         4,
         7
        ],
        [
         "Belarus",
         1,
         3,
         3,
         7
        ],
        [
         "Kuwait",
         0,
         0,
         1,
         1
        ],
        [
         "Puerto Rico",
         1,
         0,
         0,
         1
        ],
        [
         "Croatia",
         3,
         3,
         2,
         8
        ],
        [
         "Nigeria",
         0,
         1,
         1,
         2
        ],
        [
         "Italy",
         10,
         10,
         20,
         40
        ],
        [
         "Lithuania",
         0,
         1,
         0,
         1
        ],
        [
         "Norway",
         4,
         2,
         2,
         8
        ],
        [
         "Turkmenistan",
         0,
         1,
         0,
         1
        ],
        [
         "Spain",
         3,
         8,
         6,
         17
        ],
        [
         "Cuba",
         7,
         3,
         5,
         15
        ],
        [
         "Denmark",
         3,
         4,
         4,
         11
        ],
        [
         "Ireland",
         2,
         0,
         2,
         4
        ],
        [
         "Thailand",
         1,
         0,
         1,
         2
        ],
        [
         "Morocco",
         1,
         0,
         0,
         1
        ],
        [
         "Ukraine",
         1,
         6,
         12,
         19
        ],
        [
         "Venezuela",
         1,
         3,
         0,
         4
        ],
        [
         "Israel",
         2,
         0,
         2,
         4
        ],
        [
         "United States of America",
         39,
         41,
         33,
         113
        ],
        [
         "Mexico",
         0,
         0,
         4,
         4
        ],
        [
         "Georgia",
         2,
         5,
         1,
         8
        ],
        [
         "Estonia",
         1,
         0,
         1,
         2
        ],
        [
         "Indonesia",
         1,
         1,
         3,
         5
        ],
        [
         "Mongolia",
         0,
         1,
         3,
         4
        ],
        [
         "Azerbaijan",
         0,
         3,
         4,
         7
        ],
        [
         "Grenada",
         0,
         0,
         1,
         1
        ],
        [
         "Armenia",
         0,
         2,
         2,
         4
        ],
        [
         "Tunisia",
         1,
         1,
         0,
         2
        ],
        [
         "Saudi Arabia",
         0,
         1,
         0,
         1
        ],
        [
         "Uganda",
         2,
         1,
         1,
         4
        ],
        [
         "Namibia",
         0,
         1,
         0,
         1
        ],
        [
         "Switzerland",
         3,
         4,
         6,
         13
        ],
        [
         "Ethiopia",
         1,
         1,
         2,
         4
        ],
        [
         "Jamaica",
         4,
         1,
         4,
         9
        ],
        [
         "Latvia",
         1,
         0,
         1,
         2
        ],
        [
         "Canada",
         7,
         6,
         11,
         24
        ],
        [
         "Uzbekistan",
         3,
         0,
         2,
         5
        ],
        [
         "Kyrgyzstan",
         0,
         2,
         1,
         3
        ],
        [
         "North Macedonia",
         0,
         1,
         0,
         1
        ],
        [
         "Czech Republic",
         4,
         4,
         3,
         11
        ],
        [
         "Brazil",
         7,
         6,
         8,
         21
        ],
        [
         "Kenya",
         4,
         4,
         2,
         10
        ],
        [
         "Slovenia",
         3,
         1,
         1,
         5
        ],
        [
         "Dominican Republic",
         0,
         3,
         2,
         5
        ],
        [
         "Japan",
         27,
         14,
         17,
         58
        ],
        [
         "Botswana",
         0,
         0,
         1,
         1
        ],
        [
         "New Zealand",
         7,
         6,
         7,
         20
        ],
        [
         "Poland",
         4,
         5,
         5,
         14
        ],
        [
         "Portugal",
         1,
         1,
         2,
         4
        ],
        [
         "Republic of Moldova",
         0,
         0,
         1,
         1
        ],
        [
         "Australia",
         17,
         7,
         22,
         46
        ],
        [
         "People's Republic of China",
         38,
         32,
         18,
         88
        ],
        [
         "Romania",
         1,
         3,
         0,
         4
        ],
        [
         "Bulgaria",
         3,
         1,
         2,
         6
        ],
        [
         "Austria",
         1,
         1,
         5,
         7
        ],
        [
         "Egypt",
         1,
         1,
         4,
         6
        ],
        [
         "Kazakhstan",
         0,
         0,
         8,
         8
        ],
        [
         "Serbia",
         3,
         1,
         5,
         9
        ],
        [
         "South Africa",
         1,
         2,
         0,
         3
        ],
        [
         "Burkina Faso",
         0,
         0,
         1,
         1
        ],
        [
         "Bermuda",
         1,
         0,
         0,
         1
        ],
        [
         "Bahrain",
         0,
         1,
         0,
         1
        ],
        [
         "ROC",
         20,
         28,
         23,
         71
        ],
        [
         "Colombia",
         0,
         4,
         1,
         5
        ],
        [
         "Hungary",
         6,
         7,
         7,
         20
        ],
        [
         "Syrian Arab Republic",
         0,
         0,
         1,
         1
        ],
        [
         "Netherlands",
         10,
         12,
         14,
         36
        ]
       ],
       "datasetInfos": [],
       "dbfsResultPath": null,
       "isJsonSchema": true,
       "metadata": {},
       "overflow": false,
       "plotOptions": {
        "customPlotOptions": {},
        "displayType": "table",
        "pivotAggregation": null,
        "pivotColumns": null,
        "xColumns": null,
        "yColumns": null
       },
       "removedWidgets": [],
       "schema": [
        {
         "metadata": "{}",
         "name": "Team/NOC",
         "type": "\"string\""
        },
        {
         "metadata": "{}",
         "name": "TotalGold",
         "type": "\"long\""
        },
        {
         "metadata": "{}",
         "name": "TotalSilver",
         "type": "\"long\""
        },
        {
         "metadata": "{}",
         "name": "TotalBronze",
         "type": "\"long\""
        },
        {
         "metadata": "{}",
         "name": "TotalMedals",
         "type": "\"long\""
        }
       ],
       "type": "table"
      }
     },
     "output_type": "display_data"
    }
   ],
   "source": [
    "display(athletes_medals_df)\n",
    "display(medal_counts_df)"
   ]
  }
 ],
 "metadata": {
  "application/vnd.databricks.v1+notebook": {
   "dashboards": [],
   "environmentMetadata": null,
   "language": "python",
   "notebookMetadata": {
    "mostRecentlyExecutedCommandWithImplicitDF": {
     "commandId": 2407546298862022,
     "dataframes": [
      "_sqldf"
     ]
    },
    "pythonIndentUnit": 4
   },
   "notebookName": "Untitled Notebook 2024-08-02 12:15:16",
   "widgets": {}
  }
 },
 "nbformat": 4,
 "nbformat_minor": 0
}
